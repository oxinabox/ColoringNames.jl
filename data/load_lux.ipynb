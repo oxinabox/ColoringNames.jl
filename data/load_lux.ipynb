{
 "cells": [
  {
   "cell_type": "code",
   "execution_count": null,
   "metadata": {
    "collapsed": true
   },
   "outputs": [],
   "source": []
  },
  {
   "cell_type": "code",
   "execution_count": 1,
   "metadata": {
    "collapsed": false
   },
   "outputs": [
    {
     "data": {
      "text/plain": [
       "\"./rugstk_v1/data/munroecorpus/train/\""
      ]
     },
     "execution_count": 1,
     "metadata": {},
     "output_type": "execute_result"
    }
   ],
   "source": []
  },
  {
   "cell_type": "code",
   "execution_count": 2,
   "metadata": {
    "collapsed": false
   },
   "outputs": [
    {
     "data": {
      "text/plain": [
       "Dict{Any,Any} with 829 entries:\n",
       "  \"lipstick\"       => \"lipstick\"\n",
       "  \"celery\"         => \"celery\"\n",
       "  \"darkishpurple\"  => \"darkish purple\"\n",
       "  \"palemagenta\"    => \"pale magenta\"\n",
       "  \"burntorange\"    => \"burnt orange\"\n",
       "  \"kermitgreen\"    => \"kermit green\"\n",
       "  \"peacockblue\"    => \"peacock blue\"\n",
       "  \"chocolate\"      => \"chocolate\"\n",
       "  \"ceruleanblue\"   => \"cerulean blue\"\n",
       "  \"milkchocolate\"  => \"milk chocolate\"\n",
       "  \"olivegreen\"     => \"olive green\"\n",
       "  \"brownorange\"    => \"brown-orange\"\n",
       "  \"lightturquoise\" => \"light turquoise\"\n",
       "  \"heliotrope\"     => \"heliotrope\"\n",
       "  \"dullblue\"       => \"dull blue\"\n",
       "  \"darksand\"       => \"dark sand\"\n",
       "  \"puce\"           => \"puce\"\n",
       "  \"pinkishgrey\"    => \"pinkish grey\"\n",
       "  \"paleviolet\"     => \"pale violet\"\n",
       "  \"pretty\"         => \"pretty\"\n",
       "  \"scarlet\"        => \"scarlet\"\n",
       "  \"pumpkin\"        => \"pumpkin\"\n",
       "  \"copper\"         => \"copper\"\n",
       "  \"verypalegreen\"  => \"very pale green\"\n",
       "  \"pale\"           => \"pale\"\n",
       "  ⋮                => ⋮"
      ]
     },
     "execution_count": 2,
     "metadata": {},
     "output_type": "execute_result"
    }
   ],
   "source": [
    "index_path = \"./rugstk_v1/data/munroecorpus/corpusindex.txt\"\n",
    "namemap = readcsv(index_path)\n",
    "namemap = Dict(zip(namemap[:,2], namemap[:,1]))"
   ]
  },
  {
   "cell_type": "code",
   "execution_count": 33,
   "metadata": {
    "collapsed": false
   },
   "outputs": [],
   "source": [
    "train_path = \"./rugstk_v1/data/munroecorpus/train/\"\n",
    "names = unique(first.(split.(readdir(train_path), [\".\"])))\n",
    "open(\"train.csv\", \"w\") do outfile\n",
    "    for name in names\n",
    "        pathname = joinpath(train_path, name) \n",
    "        for hsv_raw in zip(eachline.(pathname * \".\" .* [\"h_train\", \"s_train\", \"v_train\"])...)\n",
    "            hsv = strip.(collect(hsv_raw))\n",
    "            join(outfile, [namemap[name]; hsv], \"\\t\")\n",
    "            println(outfile)\n",
    "        end\n",
    "    end\n",
    "end"
   ]
  },
  {
   "cell_type": "code",
   "execution_count": 3,
   "metadata": {
    "collapsed": false
   },
   "outputs": [],
   "source": [
    "dev_path = \"./rugstk_v1/data/munroecorpus/5dev/\"\n",
    "dev_filenames = readdir(dev_path)\n",
    "open(\"dev.csv\", \"w\") do outfile\n",
    "    for filename in dev_filenames\n",
    "        name = split(filename, \".\") |> first\n",
    "        hsv = readcsv(joinpath(dev_path, filename))\n",
    "        for hsv_line in zip(hsv[:,1], hsv[:,2], hsv[:,3])\n",
    "            join(outfile, [namemap[name]; hsv_line...], \"\\t\")\n",
    "            println(outfile)\n",
    "        end\n",
    "    end\n",
    "end"
   ]
  },
  {
   "cell_type": "code",
   "execution_count": 8,
   "metadata": {
    "collapsed": false
   },
   "outputs": [],
   "source": [
    "using SwiftObjectStores"
   ]
  },
  {
   "cell_type": "code",
   "execution_count": 9,
   "metadata": {
    "collapsed": false
   },
   "outputs": [],
   "source": [
    "serv = SwiftService();"
   ]
  },
  {
   "cell_type": "code",
   "execution_count": 50,
   "metadata": {
    "collapsed": false
   },
   "outputs": [
    {
     "data": {
      "text/plain": [
       "Dict{Any,Any} with 10 entries:\n",
       "  \"response_dict\" => Dict{Any,Any}(Pair{Any,Any}(\"headers\",Dict{Any,Any}(Pair{A…\n",
       "  \"headers\"       => Dict{Any,Any}(Pair{Any,Any}(\"x-object-meta-mtime\",\"1484556…\n",
       "  \"status\"        => \"uploaded\"\n",
       "  \"large_object\"  => false\n",
       "  \"success\"       => true\n",
       "  \"object\"        => \"monroe/train.csv\"\n",
       "  \"container\"     => \"color\"\n",
       "  \"attempts\"      => 1\n",
       "  \"action\"        => \"upload_object\"\n",
       "  \"path\"          => \"train.csv\""
      ]
     },
     "execution_count": 50,
     "metadata": {},
     "output_type": "execute_result"
    }
   ],
   "source": [
    "put_file(serv, \"color\", \"monroe/train.csv\", \"train.csv\")"
   ]
  },
  {
   "cell_type": "code",
   "execution_count": 6,
   "metadata": {
    "collapsed": false
   },
   "outputs": [
    {
     "data": {
      "text/plain": [
       "Dict{Any,Any} with 10 entries:\n",
       "  \"response_dict\" => Dict{Any,Any}(Pair{Any,Any}(\"headers\",Dict{Any,Any}(Pair{A…\n",
       "  \"headers\"       => Dict{Any,Any}(Pair{Any,Any}(\"x-object-meta-mtime\",\"1486118…\n",
       "  \"status\"        => \"uploaded\"\n",
       "  \"large_object\"  => false\n",
       "  \"success\"       => true\n",
       "  \"object\"        => \"monroe/dev.csv\"\n",
       "  \"container\"     => \"color\"\n",
       "  \"attempts\"      => 1\n",
       "  \"action\"        => \"upload_object\"\n",
       "  \"path\"          => \"dev.csv\""
      ]
     },
     "execution_count": 6,
     "metadata": {},
     "output_type": "execute_result"
    }
   ],
   "source": [
    "put_file(serv, \"color\", \"monroe/dev.csv\", \"dev.csv\")"
   ]
  },
  {
   "cell_type": "code",
   "execution_count": 56,
   "metadata": {
    "collapsed": false
   },
   "outputs": [
    {
     "data": {
      "text/plain": [
       "Dict{Any,Any} with 10 entries:\n",
       "  \"response_dict\" => Dict{Any,Any}(Pair{Any,Any}(\"headers\",Dict{Any,Any}(Pair{A…\n",
       "  \"headers\"       => Dict{Any,Any}(Pair{Any,Any}(\"x-object-meta-mtime\",\"1484563…\n",
       "  \"status\"        => \"uploaded\"\n",
       "  \"large_object\"  => false\n",
       "  \"success\"       => true\n",
       "  \"object\"        => \"monroe/data_readme.txt\"\n",
       "  \"container\"     => \"color\"\n",
       "  \"attempts\"      => 1\n",
       "  \"action\"        => \"upload_object\"\n",
       "  \"path\"          => \"/dev/shm/tmpzWV5dB/lastswiftupload\""
      ]
     },
     "execution_count": 56,
     "metadata": {},
     "output_type": "execute_result"
    }
   ],
   "source": [
    "put_file(serv, \"color\", \"monroe/data_readme.txt\", IOBuffer(\"\"\"\n",
    "This is XKCD color data (https://blog.xkcd.com/2010/05/03/color-survey-results/)\n",
    "collected by Randall Munroe, in 2010.\n",
    "with the results from all the participants.\n",
    "\n",
    "With some filtering and spelling normalistation from \n",
    "Brian McMahan and Matthew Stone,\n",
    "\"A Bayesian Model of Grounded Color Semantics\", \n",
    "Transactions of the ACL, 2015. \n",
    "http://mcmahan.io/lux/\n",
    "\n",
    "With some minor data munging into nice shape, by Lyndon White in 2016.\n",
    "\"\"\"))"
   ]
  },
  {
   "cell_type": "code",
   "execution_count": 3,
   "metadata": {
    "collapsed": false
   },
   "outputs": [],
   "source": [
    "test_path = \"./rugstk_v1/data/munroecorpus/25test/\"\n",
    "test_filenames = readdir(test_path)\n",
    "open(\"test.csv\", \"w\") do outfile\n",
    "    for filename in test_filenames\n",
    "        name = split(filename, \".\") |> first\n",
    "        hsv = readcsv(joinpath(test_path, filename))\n",
    "        for hsv_line in zip(hsv[:,1], hsv[:,2], hsv[:,3])\n",
    "            join(outfile, [namemap[name]; hsv_line...], \"\\t\")\n",
    "            println(outfile)\n",
    "        end\n",
    "    end\n",
    "end"
   ]
  },
  {
   "cell_type": "code",
   "execution_count": 6,
   "metadata": {
    "collapsed": false
   },
   "outputs": [
    {
     "name": "stdout",
     "output_type": "stream",
     "text": [
      "yuck\t0.204828660436\t0.873469387755\t0.960784313725\n",
      "yuck\t0.135593220339\t0.682080924855\t0.678431372549\n",
      "yuck\t0.35864978903\t0.367441860465\t0.843137254902\n",
      "yuck\t0.00493827160494\t0.616438356164\t0.858823529412\n",
      "yuck\t0.796610169492\t0.59595959596\t0.776470588235\n",
      "yuck\t0.145259938838\t0.689873417722\t0.619607843137\n",
      "yuck\t0.121933621934\t0.995689655172\t0.909803921569\n",
      "yuck\t0.892676767677\t0.653465346535\t0.792156862745\n",
      "yuck\t0.173333333333\t0.62893081761\t0.623529411765\n",
      "yuck\t0.115257048093\t0.943661971831\t0.835294117647\n"
     ]
    }
   ],
   "source": [
    ";tail test.csv"
   ]
  },
  {
   "cell_type": "code",
   "execution_count": 10,
   "metadata": {
    "collapsed": false
   },
   "outputs": [
    {
     "data": {
      "text/plain": [
       "Dict{Any,Any} with 10 entries:\n",
       "  \"response_dict\" => Dict{Any,Any}(Pair{Any,Any}(\"headers\",Dict{Any,Any}(Pair{A…\n",
       "  \"headers\"       => Dict{Any,Any}(Pair{Any,Any}(\"x-object-meta-mtime\",\"1497948…\n",
       "  \"status\"        => \"uploaded\"\n",
       "  \"large_object\"  => false\n",
       "  \"success\"       => true\n",
       "  \"object\"        => \"monroe/test.csv\"\n",
       "  \"container\"     => \"color\"\n",
       "  \"attempts\"      => 1\n",
       "  \"action\"        => \"upload_object\"\n",
       "  \"path\"          => \"test.csv\""
      ]
     },
     "execution_count": 10,
     "metadata": {},
     "output_type": "execute_result"
    }
   ],
   "source": [
    "put_file(serv, \"color\", \"monroe/test.csv\", \"test.csv\")"
   ]
  },
  {
   "cell_type": "code",
   "execution_count": null,
   "metadata": {
    "collapsed": true
   },
   "outputs": [],
   "source": []
  }
 ],
 "metadata": {
  "kernelspec": {
   "display_name": "Julia 0.5.1",
   "language": "julia",
   "name": "julia-0.5"
  },
  "language_info": {
   "file_extension": ".jl",
   "mimetype": "application/julia",
   "name": "julia",
   "version": "0.5.1"
  }
 },
 "nbformat": 4,
 "nbformat_minor": 2
}
