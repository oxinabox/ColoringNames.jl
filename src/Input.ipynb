{
 "cells": [
  {
   "cell_type": "code",
   "execution_count": 10,
   "metadata": {
    "collapsed": false
   },
   "outputs": [],
   "source": [
    "using MLDataUtils\n",
    "using SwiftObjectStores\n",
    "using Iterators\n",
    "using MappedArrays"
   ]
  },
  {
   "cell_type": "code",
   "execution_count": 2,
   "metadata": {
    "collapsed": false,
    "scrolled": false
   },
   "outputs": [
    {
     "data": {
      "text/plain": [
       "1523108×4 Array{Any,2}:\n",
       " \"acid green\"  0.344113  0.855319  0.921569\n",
       " \"acid green\"  0.281905  0.744681  0.921569\n",
       " \"acid green\"  0.347551  0.921397  0.898039\n",
       " \"acid green\"  0.311209  0.900398  0.984314\n",
       " \"acid green\"  0.312085  0.992095  0.992157\n",
       " \"acid green\"  0.22766   0.987395  0.933333\n",
       " \"acid green\"  0.288462  0.466368  0.87451 \n",
       " \"acid green\"  0.276936  0.804878  0.964706\n",
       " \"acid green\"  0.325359  0.95      0.862745\n",
       " \"acid green\"  0.385201  0.971774  0.972549\n",
       " \"acid green\"  0.212885  0.955823  0.976471\n",
       " \"acid green\"  0.346405  0.6       1.0     \n",
       " \"acid green\"  0.238397  0.42246   0.733333\n",
       " ⋮                                         \n",
       " \"yuck\"        0.1621    0.421965  0.678431\n",
       " \"yuck\"        0.153333  0.722543  0.678431\n",
       " \"yuck\"        0.201754  0.256757  0.580392\n",
       " \"yuck\"        0.264463  0.620513  0.764706\n",
       " \"yuck\"        0.144608  0.790698  0.67451 \n",
       " \"yuck\"        0.178125  0.97561   0.643137\n",
       " \"yuck\"        0.166667  0.350962  0.815686\n",
       " \"yuck\"        0.174603  0.640244  0.643137\n",
       " \"yuck\"        0.587607  0.397959  0.768627\n",
       " \"yuck\"        0.774242  0.973451  0.443137\n",
       " \"yuck\"        0.376894  0.768559  0.898039\n",
       " \"yuck\"        0.179104  0.41358   0.635294"
      ]
     },
     "execution_count": 2,
     "metadata": {},
     "output_type": "execute_result"
    }
   ],
   "source": [
    "serv=SwiftService()\n",
    "train = get_file(serv, \"color\", \"monroe/train.csv\") do fh\n",
    "    readdlm(fh,'\\t')\n",
    "end"
   ]
  },
  {
   "cell_type": "code",
   "execution_count": 3,
   "metadata": {
    "collapsed": false
   },
   "outputs": [],
   "source": []
  },
  {
   "cell_type": "code",
   "execution_count": 7,
   "metadata": {
    "collapsed": false
   },
   "outputs": [],
   "source": [
    "tokenizer = morpheme_tokenizer(\"../data/replacement_rules.csv\")\n",
    "descs = map(tokenizer, train[:,1]);"
   ]
  },
  {
   "cell_type": "code",
   "execution_count": 9,
   "metadata": {
    "collapsed": false
   },
   "outputs": [
    {
     "name": "stdout",
     "output_type": "stream",
     "text": [
      "\u001b[1m\u001b[37mTest Summary: | \u001b[0m\u001b[1m\u001b[32mPass  \u001b[0m\u001b[1m\u001b[34mTotal\u001b[0m\n",
      "  Tokenize    | \u001b[1m\u001b[32m   3  \u001b[0m\u001b[1m\u001b[34m    3\u001b[0m\n"
     ]
    },
    {
     "data": {
      "text/plain": [
       "Base.Test.DefaultTestSet(\"Tokenize\",Any[\u001b[1m\u001b[32mTest Passed\n",
       "\u001b[0m  Expression: tokenizer(\"a b\") == [\"a\",\"b\"]\n",
       "   Evaluated: SubString{String}[\"a\",\"b\"] == String[\"a\",\"b\"],\u001b[1m\u001b[32mTest Passed\n",
       "\u001b[0m  Expression: tokenizer(\"bluish red\") == [\"blue\",\"ish\",\"red\"]\n",
       "   Evaluated: SubString{String}[\"blue\",\"ish\",\"red\"] == String[\"blue\",\"ish\",\"red\"],\u001b[1m\u001b[32mTest Passed\n",
       "\u001b[0m  Expression: tokenizer(\"red-green\") == [\"red\",\"-\",\"green\"]\n",
       "   Evaluated: SubString{String}[\"red\",\"-\",\"green\"] == String[\"red\",\"-\",\"green\"]],false)"
      ]
     },
     "execution_count": 9,
     "metadata": {},
     "output_type": "execute_result"
    }
   ],
   "source": [
    "using Base.Test\n",
    "\n",
    "@testset \"Tokenize\" begin\n",
    "    rules = ObsView(readcsv(IOBuffer(\n",
    "            \"\"\"blueish,blue ish\n",
    "            bluish,blue ish\n",
    "            -, - \n",
    "            purplish,purple ish\"\"\")) , ObsDim.First())\n",
    "    \n",
    "    tokenizer = morpheme_tokenizer(rules)\n",
    "    \n",
    "    @test tokenizer(\"a b\") == [\"a\", \"b\"]\n",
    "    @test tokenizer(\"bluish red\") == [\"blue\", \"ish\",\"red\"]\n",
    "    @test tokenizer(\"red-green\") == [\"red\", \"-\",\"green\"]\n",
    "end\n"
   ]
  },
  {
   "cell_type": "code",
   "execution_count": null,
   "metadata": {
    "collapsed": false
   },
   "outputs": [],
   "source": [
    "for (a,b) in [[1,2], [3,4]]\n",
    "    @show a+b\n",
    "end"
   ]
  },
  {
   "cell_type": "code",
   "execution_count": null,
   "metadata": {
    "collapsed": false
   },
   "outputs": [],
   "source": [
    "[[1,2], [3,4]]"
   ]
  },
  {
   "cell_type": "code",
   "execution_count": null,
   "metadata": {
    "collapsed": false
   },
   "outputs": [],
   "source": [
    "view"
   ]
  },
  {
   "cell_type": "code",
   "execution_count": null,
   "metadata": {
    "collapsed": true
   },
   "outputs": [],
   "source": []
  }
 ],
 "metadata": {
  "kernelspec": {
   "display_name": "Julia 0.5.1-pre",
   "language": "julia",
   "name": "julia-0.5"
  },
  "language_info": {
   "file_extension": ".jl",
   "mimetype": "application/julia",
   "name": "julia",
   "version": "0.5.1"
  }
 },
 "nbformat": 4,
 "nbformat_minor": 2
}
