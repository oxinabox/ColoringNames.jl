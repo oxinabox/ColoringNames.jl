{
 "cells": [
  {
   "cell_type": "code",
   "execution_count": null,
   "metadata": {
    "collapsed": false
   },
   "outputs": [],
   "source": [
    "using SwiftObjectStores\n",
    "using ColoringNames\n",
    "using TensorFlow\n",
    "using Distributions\n",
    "using MLDataUtils\n",
    "using Iterators\n",
    "using MLLabelUtils\n",
    "using StaticArrays\n",
    "using Juno\n",
    "using StatsBase\n",
    "\n"
   ]
  },
  {
   "cell_type": "code",
   "execution_count": null,
   "metadata": {
    "collapsed": false
   },
   "outputs": [],
   "source": [
    "\n",
    "const serv=SwiftService()\n",
    "\n",
    "const valid_raw = get_file(fh->readdlm(fh,'\\t'), serv, \"color\", \"monroe/dev.csv\")\n",
    "const valid_hsv, valid_terms_padded, encoding = prepare_data(valid_raw; do_demacate=false)\n",
    "\n",
    "const train_raw = valid_raw\n",
    "const train_terms_padded = valid_terms_padded\n",
    "const train_hsv = valid_hsv\n",
    "\n",
    "#const train_raw = get_file(fh->readdlm(fh,'\\t'), serv, \"color\", \"monroe/train.csv\")\n",
    "#const train_hsv, train_terms_padded, encoding = prepare_data(train_raw; do_demacate=false)\n"
   ]
  },
  {
   "cell_type": "code",
   "execution_count": null,
   "metadata": {
    "collapsed": false
   },
   "outputs": [],
   "source": [
    "\n",
    "include(\"term2col.jl\")\n"
   ]
  },
  {
   "cell_type": "code",
   "execution_count": null,
   "metadata": {
    "collapsed": false
   },
   "outputs": [],
   "source": [
    "\n",
    "const batch_size = 64_000\n",
    "n_steps=size(valid_terms_padded,1)-1\n",
    "n_classes = nlabel(encoding)+1\n",
    "sess = terms_to_color_network(n_classes, n_steps;\n",
    "        hidden_layer_size = 64,\n",
    "        embedding_dim = 4,\n",
    "        batch_size=batch_size;\n",
    "        )\n",
    "ss = sess.graph\n",
    "run(sess, ss[\"terms_emb\"], Dict(ss[\"terms\"]=>valid_terms_padded))\n"
   ]
  },
  {
   "cell_type": "code",
   "execution_count": null,
   "metadata": {
    "collapsed": false
   },
   "outputs": [],
   "source": [
    "\n",
    "############################\n",
    "train_from_cols!(sess, t, train_terms_padded, train_hsv; epochs=50)\n",
    "\n",
    "(hsv,terms) = eachbatch(\n",
    "    shuffleobs((train_hsv, train_terms_padded), obsdim=od);\n",
    "    size=batch_size,\n",
    "    obsdim=od) |> first\n"
   ]
  },
  {
   "cell_type": "code",
   "execution_count": null,
   "metadata": {
    "collapsed": true
   },
   "outputs": [],
   "source": []
  }
 ],
 "metadata": {
  "kernelspec": {
   "display_name": "Julia 0.5.0",
   "language": "julia",
   "name": "julia-0.5"
  },
  "language_info": {
   "file_extension": ".jl",
   "mimetype": "application/julia",
   "name": "julia",
   "version": "0.5.0"
  }
 },
 "nbformat": 4,
 "nbformat_minor": 0
}
