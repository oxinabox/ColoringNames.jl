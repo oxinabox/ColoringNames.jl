{
 "cells": [
  {
   "cell_type": "code",
   "execution_count": 1,
   "metadata": {
    "collapsed": false,
    "deletable": true,
    "editable": true
   },
   "outputs": [],
   "source": [
    "using TensorFlow\n",
    "using Distributions\n",
    "using MLDataUtils\n",
    "using SwiftObjectStores\n",
    "using Iterators\n",
    "using ColoringNames\n",
    "using MLLabelUtils\n",
    "using StaticArrays\n",
    "using Base.Test\n",
    "using ProgressMeter\n",
    "using Memoize\n",
    "using StatsBase"
   ]
  },
  {
   "cell_type": "code",
   "execution_count": 2,
   "metadata": {
    "collapsed": false,
    "deletable": true,
    "editable": true,
    "scrolled": true
   },
   "outputs": [
    {
     "data": {
      "text/plain": [
       "108545×4 Array{Any,2}:\n",
       " \"acid green\"  0.328092   0.665272  0.937255\n",
       " \"acid green\"  0.241007   0.712821  0.764706\n",
       " \"acid green\"  0.274707   0.780392  1.0     \n",
       " \"acid green\"  0.353462   0.896104  0.905882\n",
       " \"acid green\"  0.223856   0.846473  0.945098\n",
       " \"acid green\"  0.219101   0.700787  0.996078\n",
       " \"acid green\"  0.20546    0.954733  0.952941\n",
       " \"acid green\"  0.184783   0.987124  0.913725\n",
       " \"acid green\"  0.204225   0.883817  0.945098\n",
       " \"acid green\"  0.253876   0.830918  0.811765\n",
       " \"acid green\"  0.299065   0.968326  0.866667\n",
       " \"acid green\"  0.298712   0.936652  0.866667\n",
       " \"acid green\"  0.287597   0.968468  0.870588\n",
       " ⋮                                          \n",
       " \"yuck\"        0.142694   0.67907   0.843137\n",
       " \"yuck\"        0.146505   0.751515  0.647059\n",
       " \"yuck\"        0.133333   0.9       0.392157\n",
       " \"yuck\"        0.212598   0.557018  0.894118\n",
       " \"yuck\"        0.224886   0.672811  0.85098 \n",
       " \"yuck\"        0.246124   0.597222  0.564706\n",
       " \"yuck\"        0.193157   0.782383  0.756863\n",
       " \"yuck\"        0.0766284  0.462766  0.737255\n",
       " \"yuck\"        0.0460526  0.449704  0.662745\n",
       " \"yuck\"        0.143478   0.688623  0.654902\n",
       " \"yuck\"        0.0540541  0.308333  0.941176\n",
       " \"yuck\"        0.125874   0.590909  0.94902 "
      ]
     },
     "execution_count": 2,
     "metadata": {},
     "output_type": "execute_result"
    }
   ],
   "source": [
    "const serv=SwiftService()\n",
    "#const train_raw = get_file(fh->readdlm(fh,'\\t'), serv, \"color\", \"monroe/train.csv\")\n",
    "const valid_raw = get_file(fh->readdlm(fh,'\\t'), serv, \"color\", \"monroe/dev.csv\")"
   ]
  },
  {
   "cell_type": "code",
   "execution_count": 3,
   "metadata": {
    "collapsed": false,
    "deletable": true,
    "editable": true
   },
   "outputs": [
    {
     "name": "stderr",
     "output_type": "stream",
     "text": [
      "\u001b[1m\u001b[31mWARNING: symbol is deprecated, use Symbol instead.\u001b[0m\n",
      " in depwarn(::String, ::Symbol) at ./deprecated.jl:64\n",
      " in symbol(::String, ::Vararg{String,N}) at ./deprecated.jl:30\n",
      " in @memoize(::Expr, ::Vararg{Expr,N}) at /home/uniwa/students2/students/20361362/linux/.julia/v0.5/Memoize/src/Memoize.jl:14\n",
      " in include_string(::String, ::String) at ./loading.jl:441\n",
      " in execute_request(::ZMQ.Socket, ::IJulia.Msg) at /home/uniwa/students2/students/20361362/linux/.julia/v0.5/IJulia/src/execute_request.jl:157\n",
      " in eventloop(::ZMQ.Socket) at /home/uniwa/students2/students/20361362/linux/.julia/v0.5/IJulia/src/eventloop.jl:8\n",
      " in (::IJulia.##13#19)() at ./task.jl:360\n",
      "while loading In[3], in expression starting on line 2\n"
     ]
    },
    {
     "data": {
      "text/plain": [
       "\u001b[1m\u001b[32mTest Passed\n",
       "\u001b[0m  Expression: demarcate([\"a\",\"b\",\"c\"]) == [\"<S>\",\"a\",\"b\",\"c\",\"</S>\"]\n",
       "   Evaluated: String[\"<S>\",\"a\",\"b\",\"c\",\"</S>\"] == String[\"<S>\",\"a\",\"b\",\"c\",\"</S>\"]"
      ]
     },
     "execution_count": 3,
     "metadata": {},
     "output_type": "execute_result"
    }
   ],
   "source": [
    "const tokenize = morpheme_tokenizer(\"../data/replacement_rules.csv\")\n",
    "@memoize demarcate(tokens, starter=\"<S>\", ender=\"</S>\") = [starter; tokens; ender]\n",
    "\n",
    "@test demarcate([\"a\", \"b\", \"c\"]) == [\"<S>\", \"a\", \"b\", \"c\", \"</S>\"]"
   ]
  },
  {
   "cell_type": "code",
   "execution_count": 4,
   "metadata": {
    "collapsed": false,
    "deletable": true,
    "editable": true
   },
   "outputs": [
    {
     "data": {
      "text/plain": [
       "(MLDataUtils.ObsDim.Constant{1}(),MLDataUtils.ObsDim.Last())"
      ]
     },
     "execution_count": 4,
     "metadata": {},
     "output_type": "execute_result"
    }
   ],
   "source": [
    "const od =(MLDataUtils.ObsDim.First(), MLDataUtils.ObsDim.Last())"
   ]
  },
  {
   "cell_type": "code",
   "execution_count": 5,
   "metadata": {
    "collapsed": false,
    "deletable": true,
    "editable": true
   },
   "outputs": [
    {
     "data": {
      "text/plain": [
       "prepare_data (generic function with 2 methods)"
      ]
     },
     "execution_count": 5,
     "metadata": {},
     "output_type": "execute_result"
    }
   ],
   "source": [
    "function prepare_data(raw, encoding_=nothing)\n",
    "    labels = convert(Vector{String}, raw[:,1]);\n",
    "    hsv_data = convert(Matrix{Float64}, raw[:,2:end]);\n",
    "    tokenized_labels = demarcate.(tokenize.(labels))\n",
    "    local encoding\n",
    "    if encoding_===nothing\n",
    "        all_tokens = reduce(union, tokenized_labels)\n",
    "        encoding = labelenc(all_tokens)\n",
    "    else\n",
    "        encoding = encoding_\n",
    "    end\n",
    "    \n",
    "    label_inds = map(toks->label2ind.(toks, Scalar(encoding)), tokenized_labels)\n",
    "    rpad_to_matrix(label_inds), hsv_data, encoding\n",
    "end\n"
   ]
  },
  {
   "cell_type": "code",
   "execution_count": 6,
   "metadata": {
    "collapsed": false,
    "deletable": true,
    "editable": true,
    "scrolled": true
   },
   "outputs": [
    {
     "data": {
      "text/plain": [
       "(\n",
       "[1 1 … 1 1; 2 2 … 313 313; … ; 0 0 … 0 0; 0 0 … 0 0],\n",
       "\n",
       "[0.328092 0.665272 0.937255; 0.241007 0.712821 0.764706; … ; 0.0540541 0.308333 0.941176; 0.125874 0.590909 0.94902],\n",
       "\n",
       "MLLabelUtils.LabelEnc.NativeLabels{String,313}(String[\"<S>\",\"acid\",\"green\",\"</S>\",\"adobe\",\"algae\",\"almost\",\"black\",\"amber\",\"amethyst\"  …  \"vivid\",\"vomit\",\"warm\",\"watermelon\",\"weird\",\"wheat\",\"wine\",\"wintergreen\",\"wisteria\",\"yuck\"],Dict(\"russet\"=>257,\"celery\"=>88,\"lipstick\"=>201,\"dull\"=>141,\"chocolate\"=>95,\"sepia\"=>265,\"fern\"=>154,\"sickly\"=>269,\"y\"=>46,\"heliotrope\"=>175…)))"
      ]
     },
     "execution_count": 6,
     "metadata": {},
     "output_type": "execute_result"
    }
   ],
   "source": [
    "const valid_terms_padded, valid_hsv, encoding = prepare_data(valid_raw)\n",
    "#const train_terms_padded, train_hsv,  encoding = prepare_data(train_raw, encoding)"
   ]
  },
  {
   "cell_type": "code",
   "execution_count": 7,
   "metadata": {
    "collapsed": false,
    "deletable": true,
    "editable": true
   },
   "outputs": [
    {
     "data": {
      "text/plain": [
       "apply_mask (generic function with 1 method)"
      ]
     },
     "execution_count": 7,
     "metadata": {},
     "output_type": "execute_result"
    }
   ],
   "source": [
    "get_mask(V, dtype=Float32)=cast(V, Bool)\n",
    "apply_mask(V, mask) = gather_nd(V, find(mask))\n",
    "#V.*tile(expand_dims(mask, 1), [1, get_shape(V,2)])"
   ]
  },
  {
   "cell_type": "code",
   "execution_count": 8,
   "metadata": {
    "collapsed": false,
    "deletable": true,
    "editable": true,
    "scrolled": true
   },
   "outputs": [
    {
     "data": {
      "text/plain": [
       "color_to_terms_network (generic function with 1 method)"
      ]
     },
     "execution_count": 8,
     "metadata": {},
     "output_type": "execute_result"
    }
   ],
   "source": [
    "#DEFINITION\n",
    "function color_to_terms_network(n_classes, n_steps;\n",
    "        batch_size = 128,\n",
    "        learning_rate = 0.05,\n",
    "        hidden_layer_size = 256,\n",
    "        embedding_dim = 16\n",
    "    )\n",
    "    n_input = 3 # HSV\n",
    "    \n",
    "        \n",
    "    ###################################\n",
    "    sess = Session(Graph())\n",
    "    tensor_vars = @names_from begin\n",
    "        X_hsv = placeholder(Float32, shape=[batch_size, n_input]; name=\"X_HSVs\")\n",
    "        Term_obs_s = placeholder(Int32, shape=[n_steps+1, batch_size]; name=\"Term_obs_s\")\n",
    "        \n",
    "        EmbeddingTable = get_variable(\"TokenEmbeddings3\",  [n_classes, embedding_dim], Float32; initializer=Normal(0, .1))\n",
    "\n",
    "        \n",
    "        #Mangle Terms into shape\n",
    "        Term_obs_s_out = slice(Term_obs_s, [1,0], [-1,-1]) #Don't want first input \"<S>\" #0based\n",
    "        TT = reshape(Term_obs_s_out, [n_steps*batch_size]; name=\"Stack_Term_obs_s\")\n",
    "        \n",
    "        Term_obs_s_ins = unpack(Term_obs_s+1)[1:end-1]#Don't want last input \"</S>\" (or padding character often but we will handle that seperately)\n",
    "        Tes = gather.(Scalar(EmbeddingTable), Term_obs_s_ins)\n",
    "        \n",
    "        @show get_shape.(Tes)\n",
    "\n",
    "\n",
    "        #Mangle colors into shape\n",
    "        X_h, X_s, X_v = unpack(X_hsv; axis=2)\n",
    "        X_h = reshape(X_h, [batch_size])     \n",
    "        X_hr = X_h.*2π\n",
    "        X_col = pack((sin(X_hr), cos(X_hr), X_s-0.5, X_v-0.5); axis=2) #Smooth hue by breaking into cos and sin, and zero mean everything else1       \n",
    "        Xs = [concat(2, [X_col, T]; name=\"Xs$ii\") for (ii,T) in enumerate(Tes)]#Pair color input at each step with previous term\n",
    "        \n",
    "\n",
    "        Hs, states = nn.rnn(nn.rnn_cell.LSTMCell(hidden_layer_size), Xs; dtype=Float32)#, sequence_length=n_steps);\n",
    "        W1 = get_variable(\"weights2\", [hidden_layer_size, n_classes], Float32;  initializer=Normal(0, .1))\n",
    "        B1 = get_variable(\"bias2\", [n_classes], Float32;  initializer=Normal(0, .1))\n",
    "        Ls =  [H*W1+B1 for H in Hs]\n",
    "\n",
    "\n",
    "        LL = concat(1, Ls; name=\"Stack_Logits\")\n",
    "\n",
    "        mask = get_mask(TT)\n",
    "        TT_masked = apply_mask(TT, mask)\n",
    "        LL_masked = apply_mask(LL, mask)\n",
    "        @show get_shape(find(mask))\n",
    "        costs = nn.sparse_softmax_cross_entropy_with_logits(LL_masked, TT_masked+1)\n",
    "        cost = reduce_mean(-costs) #cross entropy\n",
    "        optimizer = train.minimize(train.AdamOptimizer(learning_rate), cost)\n",
    "        \n",
    "        \n",
    "        Term_preds_onehots = nn.softmax(LL; name=\"Term_preds_onehots\")\n",
    "        Term_preds_s = reshape(indmax(Term_preds_onehots, 2)+1, [n_steps, batch_size]) #TODO: this messes up zero entries, not that it matters\n",
    "\n",
    "        #costs  = reduce_sum(Term_obs_onehots.*Term_preds_onehots_log, reduction_indices=[1])\n",
    "        \n",
    "        \n",
    "    end\n",
    "    ########## GET it running\n",
    "    \n",
    "    run(sess, initialize_all_variables())\n",
    "    \n",
    "    return sess, tensor_vars \n",
    "end"
   ]
  },
  {
   "cell_type": "code",
   "execution_count": 9,
   "metadata": {
    "collapsed": false,
    "deletable": true,
    "editable": true,
    "scrolled": false
   },
   "outputs": [
    {
     "name": "stdout",
     "output_type": "stream",
     "text": [
      "get_shape.(Tes) = TensorFlow.ShapeInference.TensorShape[TensorShape[512, 16],TensorShape[512, 16],TensorShape[512, 16],TensorShape[512, 16],TensorShape[512, 16]]\n",
      "get_shape(find(mask)) = "
     ]
    },
    {
     "name": "stderr",
     "output_type": "stream",
     "text": [
      "2017-02-23 14:58:43.660849: W tensorflow/core/platform/cpu_feature_guard.cc:45] The TensorFlow library wasn't compiled to use SSE4.2 instructions, but these are available on your machine and could speed up CPU computations.\n",
      "2017-02-23 14:58:43.660880: W tensorflow/core/platform/cpu_feature_guard.cc:45] The TensorFlow library wasn't compiled to use AVX instructions, but these are available on your machine and could speed up CPU computations.\n",
      "2017-02-23 14:58:43.660884: W tensorflow/core/platform/cpu_feature_guard.cc:45] The TensorFlow library wasn't compiled to use AVX2 instructions, but these are available on your machine and could speed up CPU computations.\n",
      "2017-02-23 14:58:43.660887: W tensorflow/core/platform/cpu_feature_guard.cc:45] The TensorFlow library wasn't compiled to use FMA instructions, but these are available on your machine and could speed up CPU computations.\n"
     ]
    },
    {
     "name": "stdout",
     "output_type": "stream",
     "text": [
      "TensorShape[?]\n"
     ]
    },
    {
     "ename": "LoadError",
     "evalue": "On worker 2:\nPython error: Input 'shape' of 'ScatterNd' Op has type int32 that does not match type int64 of argument 'indices'.\n in py_gradients at /home/uniwa/students2/students/20361362/linux/.julia/v0.5/TensorFlow/src/py.jl:38\n in #17 at /home/uniwa/students2/students/20361362/linux/.julia/v0.5/TensorFlow/src/core.jl:1047\n in #625 at ./multi.jl:1421\n in run_work_thunk at ./multi.jl:1001\n in macro expansion at ./multi.jl:1421 [inlined]\n in #624 at ./event.jl:68",
     "output_type": "error",
     "traceback": [
      "On worker 2:\nPython error: Input 'shape' of 'ScatterNd' Op has type int32 that does not match type int64 of argument 'indices'.\n in py_gradients at /home/uniwa/students2/students/20361362/linux/.julia/v0.5/TensorFlow/src/py.jl:38\n in #17 at /home/uniwa/students2/students/20361362/linux/.julia/v0.5/TensorFlow/src/core.jl:1047\n in #625 at ./multi.jl:1421\n in run_work_thunk at ./multi.jl:1001\n in macro expansion at ./multi.jl:1421 [inlined]\n in #624 at ./event.jl:68",
      "",
      " in #remotecall_fetch#606(::Array{Any,1}, ::Function, ::Function, ::Base.Worker) at ./multi.jl:1070",
      " in remotecall_fetch(::Function, ::Base.Worker) at ./multi.jl:1062",
      " in #remotecall_fetch#609(::Array{Any,1}, ::Function, ::Function, ::Int64) at ./multi.jl:1080",
      " in remotecall_fetch(::Function, ::Int64) at ./multi.jl:1080",
      " in eval(::Module, ::Any) at ./boot.jl:234",
      " in gradients(::TensorFlow.Tensor, ::Array{Any,1}) at /home/uniwa/students2/students/20361362/linux/.julia/v0.5/TensorFlow/src/core.jl:1045",
      " in compute_gradients(::TensorFlow.train.AdamOptimizer, ::TensorFlow.Tensor, ::Void) at /home/uniwa/students2/students/20361362/linux/.julia/v0.5/TensorFlow/src/train.jl:47",
      " in #minimize#1(::Void, ::Void, ::String, ::Function, ::TensorFlow.train.AdamOptimizer, ::TensorFlow.Tensor) at /home/uniwa/students2/students/20361362/linux/.julia/v0.5/TensorFlow/src/train.jl:39",
      " in macro expansion at ./In[8]:52 [inlined]",
      " in macro expansion at /home/uniwa/students2/students/20361362/linux/.julia/v0.5/ColoringNames/src/util.jl:63 [inlined]",
      " in #color_to_terms_network#8(::Int64, ::Float64, ::Int64, ::Int64, ::Function, ::Int64, ::Int64) at ./In[8]:13",
      " in (::#kw##color_to_terms_network)(::Array{Any,1}, ::#color_to_terms_network, ::Int64, ::Int64) at ./<missing>:0"
     ]
    }
   ],
   "source": [
    "const batch_size = 128*4\n",
    "n_steps=size(valid_terms_padded,1)-1\n",
    "n_classes = nlabel(encoding)+1\n",
    "#sess, t = \n",
    "et=color_to_terms_network(n_classes, n_steps;\n",
    "        learning_rate = 0.05,\n",
    "        hidden_layer_size = 32,\n",
    "        embedding_dim = 16,\n",
    "        batch_size=batch_size\n",
    "    )"
   ]
  },
  {
   "cell_type": "code",
   "execution_count": null,
   "metadata": {
    "collapsed": false,
    "deletable": true,
    "editable": true
   },
   "outputs": [],
   "source": []
  },
  {
   "cell_type": "code",
   "execution_count": null,
   "metadata": {
    "collapsed": false,
    "deletable": true,
    "editable": true
   },
   "outputs": [],
   "source": [
    "function train_from_terms!(sess, t::Associative{Symbol}, train_terms_padded, train_hsv; epochs=3)\n",
    "    batchs = eachbatch(shuffleobs((train_hsv, train_terms_padded); obsdim=od); size=batch_size, obsdim=od)\n",
    "    local cost_o\n",
    "    for ii in 1:epochs\n",
    "        @show ii\n",
    "        @showprogress for (hsv,terms) in batchs\n",
    "            Term_preds_s_o, TT_s_o, cost_o, optimizer_o = run(sess,\n",
    "                [t[:Term_preds_s], t[:TT], t[:cost], t[:optimizer]], \n",
    "            Dict(t[:X_hsv]=>hsv, t[:Term_obs_s]=>terms))\n",
    "        end\n",
    "    end\n",
    "    @show cost_o\n",
    "end\n",
    "#obs,pred, oo, pp = run(sess, [Term_obs_onehots, Term_preds_onehots, Term_obs_s_out, Term_preds_s], Dict(X_hsv=>hsv_data, Term_obs_s=>padded_labels))\n",
    "train_from_terms!(sess, t, train_terms_padded, train_hsv; epochs=3)"
   ]
  },
  {
   "cell_type": "code",
   "execution_count": null,
   "metadata": {
    "collapsed": false,
    "deletable": true,
    "editable": true
   },
   "outputs": [],
   "source": [
    "\"A quick hack to calculate accuracy\"\n",
    "function masked_acc(obs, pred)\n",
    "    obs = obs[2:end,:] #skip start token\n",
    "    @assert(size(obs)==size(pred), \"$(size(obs)) != $(size(pred))\")\n",
    "    mpred = sign(obs).*pred\n",
    "    mean(pp==oo for (pp,oo) in eachobs((mpred, obs)))\n",
    "end"
   ]
  },
  {
   "cell_type": "code",
   "execution_count": null,
   "metadata": {
    "collapsed": false,
    "deletable": true,
    "editable": true
   },
   "outputs": [],
   "source": [
    "\"A quick hack to calculate perplexity\"\n",
    "function masked_perp(obs, preds_onehots_log)\n",
    "    obs = obs[2:end,:] #skip start token\n",
    "    pred_lp=reshape(preds_onehots_log, (batch_size, n_steps, n_classes))\n",
    "    expon = 0.0\n",
    "    for (o_indexes, log_probs) in eachobs((obs, pred_lp),\n",
    "        obsdim=(MLDataUtils.ObsDim.Last(), MLDataUtils.ObsDim.First()))\n",
    "        content_o_indexes = rstrip(o_indexes)[end-1] #strip padding and end token\n",
    "        expon += sum(log_probs[step, ii] for (step,ii) in enumerate(content_o_indexes))\n",
    "        # Each probability is conditional on all of the ealier. \n",
    "        # Their product is the competely correct (*without* Markov assumption)\n",
    "        # probability estimate for the whole\n",
    "        # Adding the Logs is thus a correct log-prob for the whole\n",
    "    end\n",
    "    exp(-expon/batch_size)\n",
    "end"
   ]
  },
  {
   "cell_type": "code",
   "execution_count": null,
   "metadata": {
    "collapsed": false,
    "deletable": true,
    "editable": true,
    "scrolled": true
   },
   "outputs": [],
   "source": [
    "\"\"\"\n",
    "This evaluation function does not take into account the non-knowing of term t-1.\n",
    "This is legal for calculating perplexity\n",
    "\"\"\"\n",
    "function rough_evalute(sess, t::Associative{Symbol}, test_terms_padded, test_hsv)\n",
    "    batchs = eachbatch((test_hsv, test_terms_padded); size=batch_size, obsdim=od)\n",
    "    cost_total = 0.0\n",
    "    acc_total = 0.0\n",
    "    perps = Float64[]\n",
    "    preds_o = Matrix{Float64}(size(test_terms_padded,1)-1,0)\n",
    "    @showprogress for (hsv,terms) in batchs\n",
    "        preds, preds_lp, cost_o = run(sess,\n",
    "        [t[:Term_preds_s], t[:Term_preds_onehots_log], t[:cost]], \n",
    "        Dict(t[:X_hsv]=>hsv, t[:Term_obs_s]=>terms))\n",
    "        \n",
    "        preds_o = [preds_o preds]\n",
    "        \n",
    "        push!(perps, masked_perp(terms, preds_lp))\n",
    "        acc_total += masked_acc(terms, preds)\n",
    "        cost_total += cost_o\n",
    "    end\n",
    "\n",
    "    (cost_total/length(batchs),\n",
    "    acc_total/length(batchs),\n",
    "    geomean(perps),\n",
    "    preds_o)\n",
    "end\n",
    "cost, acc, perp, preds_o = rough_evalute(sess, t, valid_terms_padded, valid_hsv)"
   ]
  },
  {
   "cell_type": "code",
   "execution_count": null,
   "metadata": {
    "collapsed": false,
    "deletable": true,
    "editable": true
   },
   "outputs": [],
   "source": [
    "[Pair(a,ind2label(b,encoding)) for (a,b) in sort(reverse.(collect(countmap(train_terms_padded[2,:]))), rev=true)[2:end]]"
   ]
  },
  {
   "cell_type": "code",
   "execution_count": null,
   "metadata": {
    "collapsed": false,
    "deletable": true,
    "editable": true
   },
   "outputs": [],
   "source": [
    "collect(enumerate(ind2label.(2:50, encoding)))"
   ]
  },
  {
   "cell_type": "code",
   "execution_count": null,
   "metadata": {
    "collapsed": false,
    "deletable": true,
    "editable": true
   },
   "outputs": [],
   "source": [
    "unique_cols = first.(unique(last, enumerate(eachobs(preds_o))))\n",
    "pls = ind2label.(Int.(preds_o[:,unique_cols]), encoding)'\n",
    "\n",
    "ols_coded=valid_terms_padded\n",
    "ols_coded[ols_coded.==0]=1\n",
    "ols = ind2label.(Int.(ols_coded[2:end, unique_cols]), encoding)'\n",
    "\n",
    "join(mapslices(x->join(x,\" \") , [ols fill(\"->\", size(unique_cols,1)) pls], 2), \"\\n\") |> print"
   ]
  },
  {
   "cell_type": "code",
   "execution_count": null,
   "metadata": {
    "collapsed": false,
    "deletable": true,
    "editable": true,
    "scrolled": true
   },
   "outputs": [],
   "source": [
    "methods(ind2label)"
   ]
  },
  {
   "cell_type": "code",
   "execution_count": null,
   "metadata": {
    "collapsed": false,
    "deletable": true,
    "editable": true
   },
   "outputs": [],
   "source": []
  },
  {
   "cell_type": "code",
   "execution_count": null,
   "metadata": {
    "collapsed": false,
    "deletable": true,
    "editable": true
   },
   "outputs": [],
   "source": [
    "@testset \"masks\" begin\n",
    "    mask_sess = Session(Graph())\n",
    "    a_val = (\n",
    "    [2.  5  8  9  2\n",
    "     3.  6  4  4  9\n",
    "     4.  7  3  2  4\n",
    "     1.  4  2  4  4]\n",
    "    )\n",
    "    A=constant(a_val)\n",
    "    M = constant([1, 0, 2, 4])\n",
    "    @show masked = run(mask_sess, squeeze(find(get_mask(M)), [2]))\n",
    "    @show masked = run(mask_sess, gather_nd(A, [1 3 4]')) \n",
    "    @show masked = run(mask_sess, gather_nd(A, find(get_mask(M)))) \n",
    "    \n",
    "    \n",
    "    masked = run(mask_sess, apply_mask(A, get_mask(M)))\n",
    "    \n",
    "    @test all(masked[1,:] .== a_val[1,:])\n",
    "    @test all(masked[2:3,:] .== a_val[3:4,:])\n",
    "end;"
   ]
  },
  {
   "cell_type": "code",
   "execution_count": null,
   "metadata": {
    "collapsed": false,
    "deletable": true,
    "editable": true
   },
   "outputs": [],
   "source": [
    "##MASK test code\n",
    "#TODO \n",
    "if test_it \n",
    "        @assert isa(run(sess, cost, Dict(X_hsv=>hsv_data, Term_obs_s=>padded_labels)), Number )\n",
    "        ## MASK TEST######################\n",
    "        ll, ll2 = run(sess, [ LL_masked, \n",
    "            reshape(tile(expand_dims(get_mask(Term_obs_s_out),2),[1,1,8]).*concat(0, expand_dims.(Ls, Scalar(0))), [batch_size*n_steps, n_classes])\n",
    "        ], Dict(X_hsv=>hsv_data, Term_obs_s=>padded_labels))\n",
    "        @assert ll ≈ ll2\n",
    "    end"
   ]
  },
  {
   "cell_type": "code",
   "execution_count": null,
   "metadata": {
    "collapsed": false,
    "deletable": true,
    "editable": true
   },
   "outputs": [],
   "source": [
    "sess = Session(Graph())\n",
    "x = placeholder(Int64)\n",
    "run(sess, get(cast(x, Int32)), Dict(x=>2))"
   ]
  },
  {
   "cell_type": "code",
   "execution_count": null,
   "metadata": {
    "collapsed": false,
    "deletable": true,
    "editable": true
   },
   "outputs": [],
   "source": []
  },
  {
   "cell_type": "code",
   "execution_count": null,
   "metadata": {
    "collapsed": false,
    "deletable": true,
    "editable": true
   },
   "outputs": [],
   "source": []
  },
  {
   "cell_type": "code",
   "execution_count": null,
   "metadata": {
    "collapsed": true,
    "deletable": true,
    "editable": true
   },
   "outputs": [],
   "source": []
  }
 ],
 "metadata": {
  "kernelspec": {
   "display_name": "Julia 0.5.0",
   "language": "julia",
   "name": "julia-0.5"
  },
  "language_info": {
   "file_extension": ".jl",
   "mimetype": "application/julia",
   "name": "julia",
   "version": "0.5.0"
  }
 },
 "nbformat": 4,
 "nbformat_minor": 2
}
