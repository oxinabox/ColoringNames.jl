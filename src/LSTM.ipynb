{
 "cells": [
  {
   "cell_type": "code",
   "execution_count": 1,
   "metadata": {
    "collapsed": false,
    "deletable": true,
    "editable": true
   },
   "outputs": [
    {
     "data": {
      "text/plain": [
       "rough_evalute"
      ]
     },
     "execution_count": 1,
     "metadata": {},
     "output_type": "execute_result"
    }
   ],
   "source": [
    "include(\"LSTM.jl\")"
   ]
  },
  {
   "cell_type": "code",
   "execution_count": 2,
   "metadata": {
    "collapsed": false,
    "deletable": true,
    "editable": true
   },
   "outputs": [
    {
     "data": {
      "text/plain": [
       "(\n",
       "[1 1 … 1 1; 2 2 … 313 313; … ; 0 0 … 0 0; 0 0 … 0 0],\n",
       "\n",
       "[0.344113 0.855319 0.921569; 0.281905 0.744681 0.921569; … ; 0.376894 0.768559 0.898039; 0.179104 0.41358 0.635294],\n",
       "\n",
       "MLLabelUtils.LabelEnc.NativeLabels{String,313}(String[\"<S>\",\"acid\",\"green\",\"</S>\",\"adobe\",\"algae\",\"almost\",\"black\",\"amber\",\"amethyst\"  …  \"vivid\",\"vomit\",\"warm\",\"watermelon\",\"weird\",\"wheat\",\"wine\",\"wintergreen\",\"wisteria\",\"yuck\"],Dict(\"russet\"=>257,\"celery\"=>88,\"lipstick\"=>201,\"dull\"=>141,\"chocolate\"=>95,\"sepia\"=>265,\"fern\"=>154,\"sickly\"=>269,\"y\"=>46,\"heliotrope\"=>175…)))"
      ]
     },
     "execution_count": 2,
     "metadata": {},
     "output_type": "execute_result"
    }
   ],
   "source": [
    "const serv=SwiftService()\n",
    "const train_raw = get_file(fh->readdlm(fh,'\\t'), serv, \"color\", \"monroe/train.csv\")\n",
    "const valid_raw = get_file(fh->readdlm(fh,'\\t'), serv, \"color\", \"monroe/dev.csv\")\n",
    "\n",
    "const valid_terms_padded, valid_hsv, encoding = prepare_data(valid_raw)\n",
    "const train_terms_padded, train_hsv,  encoding = prepare_data(train_raw, encoding)"
   ]
  },
  {
   "cell_type": "code",
   "execution_count": 3,
   "metadata": {
    "collapsed": false
   },
   "outputs": [
    {
     "name": "stdout",
     "output_type": "stream",
     "text": [
      "get_shape.(Tes) = TensorFlow.ShapeInference.TensorShape[TensorShape[512, 16],TensorShape[512, 16],TensorShape[512, 16],TensorShape[512, 16],TensorShape[512, 16]]\n",
      "get_shape(find(mask)) = "
     ]
    },
    {
     "name": "stderr",
     "output_type": "stream",
     "text": [
      "2017-02-25 23:24:09.655437: I tensorflow/core/common_runtime/gpu/gpu_device.cc:887] Found device 0 with properties: \n",
      "name: Tesla K40c\n",
      "major: 3 minor: 5 memoryClockRate (GHz) 0.745\n",
      "pciBusID 0000:02:00.0\n",
      "Total memory: 11.17GiB\n",
      "Free memory: 11.10GiB\n",
      "2017-02-25 23:24:09.655463: I tensorflow/core/common_runtime/gpu/gpu_device.cc:908] DMA: 0 \n",
      "2017-02-25 23:24:09.655468: I tensorflow/core/common_runtime/gpu/gpu_device.cc:918] 0:   Y \n",
      "2017-02-25 23:24:09.655479: I tensorflow/core/common_runtime/gpu/gpu_device.cc:977] Creating TensorFlow device (/gpu:0) -> (device: 0, name: Tesla K40c, pci bus id: 0000:02:00.0)\n"
     ]
    },
    {
     "name": "stdout",
     "output_type": "stream",
     "text": [
      "TensorShape[?]\n",
      "cost = <Tensor reduce:1 shape=unknown dtype=Float32>\n"
     ]
    }
   ],
   "source": [
    "const batch_size = 128*4\n",
    "n_steps=size(valid_terms_padded,1)-1\n",
    "n_classes = nlabel(encoding)+1\n",
    "sess, t = color_to_terms_network(n_classes, n_steps;\n",
    "        learning_rate = 0.05,\n",
    "        hidden_layer_size = 32,\n",
    "        embedding_dim = 16,\n",
    "        batch_size=batch_size\n",
    ")"
   ]
  },
  {
   "cell_type": "code",
   "execution_count": 4,
   "metadata": {
    "collapsed": false
   },
   "outputs": [
    {
     "ename": "LoadError",
     "evalue": "UndefVarError: sess not defined",
     "output_type": "error",
     "traceback": [
      "UndefVarError: sess not defined",
      ""
     ]
    }
   ],
   "source": [
    "train_from_terms!(sess, t, train_terms_padded, train_hsv; epochs=3)"
   ]
  },
  {
   "cell_type": "code",
   "execution_count": null,
   "metadata": {
    "collapsed": true
   },
   "outputs": [],
   "source": []
  }
 ],
 "metadata": {
  "kernelspec": {
   "display_name": "Julia 0.5.0",
   "language": "julia",
   "name": "julia-0.5"
  },
  "language_info": {
   "file_extension": ".jl",
   "mimetype": "application/julia",
   "name": "julia",
   "version": "0.5.0"
  }
 },
 "nbformat": 4,
 "nbformat_minor": 2
}
