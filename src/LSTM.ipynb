{
 "cells": [
  {
   "cell_type": "code",
   "execution_count": 1,
   "metadata": {
    "collapsed": false
   },
   "outputs": [],
   "source": [
    "using TensorFlow\n",
    "using Distributions\n",
    "using MLDataUtils\n",
    "using SwiftObjectStores\n",
    "using Iterators\n",
    "using ColoringNames\n",
    "using MappedArrays\n",
    "using MLLabelUtils\n",
    "using StaticArrays\n",
    "using Base.Test\n",
    "using ProgressMeter\n",
    "using IJulia\n",
    "\n",
    "Base.one{S<:AbstractString}(::Type{S}) = \"\""
   ]
  },
  {
   "cell_type": "code",
   "execution_count": 2,
   "metadata": {
    "collapsed": false
   },
   "outputs": [
    {
     "data": {
      "text/plain": [
       "1523108×4 Array{Any,2}:\n",
       " \"acid green\"  0.344113  0.855319  0.921569\n",
       " \"acid green\"  0.281905  0.744681  0.921569\n",
       " \"acid green\"  0.347551  0.921397  0.898039\n",
       " \"acid green\"  0.311209  0.900398  0.984314\n",
       " \"acid green\"  0.312085  0.992095  0.992157\n",
       " \"acid green\"  0.22766   0.987395  0.933333\n",
       " \"acid green\"  0.288462  0.466368  0.87451 \n",
       " \"acid green\"  0.276936  0.804878  0.964706\n",
       " \"acid green\"  0.325359  0.95      0.862745\n",
       " \"acid green\"  0.385201  0.971774  0.972549\n",
       " \"acid green\"  0.212885  0.955823  0.976471\n",
       " \"acid green\"  0.346405  0.6       1.0     \n",
       " \"acid green\"  0.238397  0.42246   0.733333\n",
       " ⋮                                         \n",
       " \"yuck\"        0.1621    0.421965  0.678431\n",
       " \"yuck\"        0.153333  0.722543  0.678431\n",
       " \"yuck\"        0.201754  0.256757  0.580392\n",
       " \"yuck\"        0.264463  0.620513  0.764706\n",
       " \"yuck\"        0.144608  0.790698  0.67451 \n",
       " \"yuck\"        0.178125  0.97561   0.643137\n",
       " \"yuck\"        0.166667  0.350962  0.815686\n",
       " \"yuck\"        0.174603  0.640244  0.643137\n",
       " \"yuck\"        0.587607  0.397959  0.768627\n",
       " \"yuck\"        0.774242  0.973451  0.443137\n",
       " \"yuck\"        0.376894  0.768559  0.898039\n",
       " \"yuck\"        0.179104  0.41358   0.635294"
      ]
     },
     "execution_count": 2,
     "metadata": {},
     "output_type": "execute_result"
    }
   ],
   "source": [
    "serv=SwiftService()\n",
    "train_raw = get_file(serv, \"color\", \"monroe/train.csv\") do fh\n",
    "    readdlm(fh,'\\t')\n",
    "end"
   ]
  },
  {
   "cell_type": "code",
   "execution_count": 3,
   "metadata": {
    "collapsed": false
   },
   "outputs": [
    {
     "data": {
      "text/plain": [
       "\u001b[1m\u001b[32mTest Passed\n",
       "\u001b[0m  Expression: demarcate([\"a\",\"b\",\"c\"]) == [\"<S>\",\"a\",\"b\",\"c\",\"</S>\"]\n",
       "   Evaluated: String[\"<S>\",\"a\",\"b\",\"c\",\"</S>\"] == String[\"<S>\",\"a\",\"b\",\"c\",\"</S>\"]"
      ]
     },
     "execution_count": 3,
     "metadata": {},
     "output_type": "execute_result"
    }
   ],
   "source": [
    "tokenize = morpheme_tokenizer(\"../data/replacement_rules.csv\")\n",
    "demarcate(tokens) = [\"<S>\"; tokens; \"</S>\"]\n",
    "\n",
    "@test demarcate([\"a\", \"b\", \"c\"]) == [\"<S>\", \"a\", \"b\", \"c\", \"</S>\"]"
   ]
  },
  {
   "cell_type": "code",
   "execution_count": 4,
   "metadata": {
    "collapsed": false
   },
   "outputs": [
    {
     "data": {
      "text/plain": [
       "5×3 Array{Float64,2}:\n",
       " 0.246212  0.944206  0.913725\n",
       " 0.645189  0.785425  0.968627\n",
       " 0.174641  0.819608  1.0     \n",
       " 0.549107  0.89243   0.984314\n",
       " 0.439516  0.742515  0.654902"
      ]
     },
     "execution_count": 4,
     "metadata": {},
     "output_type": "execute_result"
    }
   ],
   "source": [
    "keep_inds = shuffle(1:size(train_raw, 1))[1:5]\n",
    "\n",
    "labels = convert(Vector{String}, train_raw[keep_inds,1]); #TODO use all data\n",
    "hsv_data = convert(Matrix{Float64}, train_raw[keep_inds,2:end]); #TODO use all data\n"
   ]
  },
  {
   "cell_type": "code",
   "execution_count": 5,
   "metadata": {
    "collapsed": false,
    "scrolled": true
   },
   "outputs": [
    {
     "data": {
      "text/plain": [
       "5-element Array{Array{Int64,1},1}:\n",
       " [1,2,3,4,5]\n",
       " [1,6,5]    \n",
       " [1,7,5]    \n",
       " [1,8,9,6,5]\n",
       " [1,10,4,5] "
      ]
     },
     "execution_count": 5,
     "metadata": {},
     "output_type": "execute_result"
    }
   ],
   "source": [
    "tokenised_labels = demarcate.(tokenize.(labels))\n",
    "all_tokens = reduce(union, tokenised_labels)\n",
    "encoding = labelenc(all_tokens)\n",
    "label_inds = map(x->label2ind.(x, Scalar(encoding)), tokenised_labels)"
   ]
  },
  {
   "cell_type": "code",
   "execution_count": 6,
   "metadata": {
    "collapsed": false,
    "scrolled": true
   },
   "outputs": [
    {
     "name": "stdout",
     "output_type": "stream",
     "text": [
      "\u001b[1m\u001b[37mTest Summary: | \u001b[0m\u001b[1m\u001b[32mPass  \u001b[0m\u001b[1m\u001b[34mTotal\u001b[0m\n"
     ]
    }
   ],
   "source": [
    "function Base.rpad{T}(xs::Vector{T}, n::Integer, p::T=zero(T))\n",
    "    sizehint!(xs, n)\n",
    "    while length(xs)<n\n",
    "        push!(xs, p)\n",
    "    end\n",
    "    xs\n",
    "end\n",
    "\n",
    "\"Creates a matrix where each column is one of the vectors from `xss`\"\n",
    "function rpad_to_matrix{T}(xss::Vector{Vector{T}}, n_rows::T=maximum(length.(xss)), p::T=zero(T))\n",
    "    n_cols = length(xss) \n",
    "    ret = fill(p, (n_rows, n_cols))\n",
    "    for (cc, xs) in enumerate(xss)\n",
    "        for (rr, x) in enumerate(xs)\n",
    "            @inbounds ret[rr, cc] = x\n",
    "        end\n",
    "    end\n",
    "    ret\n",
    "end\n",
    "\n",
    "@testset \"padding\" begin\n",
    "    @test rpad([1,2,3],5) == [1,2,3,0,0]\n",
    "    @test rpad([1,2,3],2) == [1,2,3]\n",
    "    @test rpad([1,2,3],5, 8 ) == [1,2,3,8,8]\n",
    "    \n",
    "    @test rpad_to_matrix([[1,2], [3],Int[],[2]])==[\n",
    "                                                    1 3 0 2\n",
    "                                                    2 0 0 0\n",
    "    ]\n",
    "end;"
   ]
  },
  {
   "cell_type": "code",
   "execution_count": 7,
   "metadata": {
    "collapsed": false
   },
   "outputs": [
    {
     "data": {
      "text/plain": [
       "5×5 Array{Int64,2}:\n",
       " 1  1  1  1   1\n",
       " 2  6  7  8  10\n",
       " 3  5  5  9   4\n",
       " 4  0  0  6   5\n",
       " 5  0  0  5   0"
      ]
     },
     "execution_count": 7,
     "metadata": {},
     "output_type": "execute_result"
    }
   ],
   "source": [
    "padded_labels = rpad_to_matrix(label_inds)"
   ]
  },
  {
   "cell_type": "code",
   "execution_count": null,
   "metadata": {
    "collapsed": false
   },
   "outputs": [],
   "source": []
  },
  {
   "cell_type": "code",
   "execution_count": null,
   "metadata": {
    "collapsed": true
   },
   "outputs": [],
   "source": []
  },
  {
   "cell_type": "code",
   "execution_count": 8,
   "metadata": {
    "collapsed": false
   },
   "outputs": [
    {
     "name": "stdout",
     "output_type": "stream",
     "text": [
      "\u001b[1m\u001b[37mTest Summary: | \u001b[0m\u001b[1m\u001b[32mPass  \u001b[0m"
     ]
    },
    {
     "name": "stderr",
     "output_type": "stream",
     "text": [
      "W tensorflow/core/platform/cpu_feature_guard.cc:45] The TensorFlow library wasn't compiled to use SSE4.2 instructions, but these are available on your machine and could speed up CPU computations.\n",
      "W tensorflow/core/platform/cpu_feature_guard.cc:45] The TensorFlow library wasn't compiled to use AVX instructions, but these are available on your machine and could speed up CPU computations.\n",
      "W tensorflow/core/platform/cpu_feature_guard.cc:45] The TensorFlow library wasn't compiled to use FMA instructions, but these are available on your machine and could speed up CPU computations.\n"
     ]
    },
    {
     "name": "stdout",
     "output_type": "stream",
     "text": [
      "\u001b[1m\u001b[34mTotal\u001b[0m\n",
      "  masks       | \u001b[1m\u001b[32m   3  \u001b[0m\u001b[1m\u001b[34m    3\u001b[0m\n"
     ]
    }
   ],
   "source": [
    "get_mask(V, dtype=Float32)=cast(cast(V, Bool),dtype)\n",
    "apply_mask(V, mask) = V.*tile(expand_dims(mask, 1), [1, get_shape(V,2)])\n",
    "\n",
    "@testset \"masks\" begin\n",
    "    mask_sess = Session(Graph())\n",
    "    a_val = (\n",
    "    [2.  5  8  9  2\n",
    "     3.  6  4  4  9\n",
    "     4.  7   3  2  4\n",
    "     1.  4  2  4  4]\n",
    "    )\n",
    "    A=constant(a_val)\n",
    "    M = constant([1, 0, 2, 4])\n",
    "    run(mask_sess, initialize_all_variables())\n",
    "    masked = run(mask_sess, apply_mask(A, get_mask(M, Float64)))\n",
    "    @test all(masked[2,:] .== 0)\n",
    "    @test all(masked[1,:] .== a_val[1,:])\n",
    "    @test all(masked[3:4,:] .== a_val[3:4,:])\n",
    "end;"
   ]
  },
  {
   "cell_type": "code",
   "execution_count": 9,
   "metadata": {
    "collapsed": false
   },
   "outputs": [
    {
     "name": "stdout",
     "output_type": "stream",
     "text": [
      "\u001b[1m\u001b[37mTest Summary: | \u001b[0m\u001b[1m\u001b[32mPass  \u001b[0m\u001b[1m\u001b[34mTotal\u001b[0m\n",
      "  names_from  | \u001b[1m\u001b[32m   3  \u001b[0m\u001b[1m\u001b[34m    3\u001b[0m\n"
     ]
    }
   ],
   "source": [
    "function names_candidates(blk::Expr) :: Vector{Symbol}\n",
    "    names_in_block = Vector{Symbol}()\n",
    "    for a in blk.args\n",
    "        typeof(a) <: Expr || continue\n",
    "        if a.head == :(=) && isa(a.args[1], Symbol)\n",
    "            push!(names_in_block, a.args[1])\n",
    "        else #Recurse, so we captured things in blocks or behind `const`\n",
    "            append!(names_in_block, names_candidates(a))\n",
    "        end\n",
    "    end\n",
    "    names_in_block\n",
    "end\n",
    "\n",
    "\"\"\"\n",
    "Captures the names in this scope into a dictionary, which it returns\n",
    "usage:\n",
    "```julia\n",
    "localnames = @names_from begin\n",
    "    x = 2\n",
    "    y = 3\n",
    "end\n",
    "@test localnames[:y] == 3\n",
    "```\n",
    "\"\"\"\n",
    "macro names_from(blk::Expr)\n",
    "    names_in_block = names_candidates(blk)\n",
    "    namemap = Expr(:call, :Dict, [Expr(:(=>), QuoteNode(nn), nn) for nn in names_in_block]...)\n",
    "    quote\n",
    "        begin\n",
    "            $(esc(blk))\n",
    "            $(namemap)\n",
    "            #$([((nn)) for nn in names_in_block])\n",
    "        end\n",
    "    end\n",
    "end\n",
    "   \n",
    "    \n",
    "@testset \"names_from\" begin\n",
    "    y_outer = [2,3,4]\n",
    "    localnames = @names_from begin\n",
    "        x = 2\n",
    "        x = 4\n",
    "        y = y_outer\n",
    "    end\n",
    "    \n",
    "    @test localnames[:x] == 4\n",
    "    @test localnames[:x] === x\n",
    "    @test localnames[:y] === y_outer\n",
    "end;\n",
    "\n",
    "\n"
   ]
  },
  {
   "cell_type": "code",
   "execution_count": null,
   "metadata": {
    "collapsed": true
   },
   "outputs": [],
   "source": []
  },
  {
   "cell_type": "code",
   "execution_count": 13,
   "metadata": {
    "collapsed": false,
    "scrolled": true
   },
   "outputs": [
    {
     "name": "stderr",
     "output_type": "stream",
     "text": [
      "WARNING: Method definition color_to_terms_network(Any) in module Main at In[10]:9 overwritten at In[13]:10.\n",
      "WARNING: Method definition #color_to_terms_network(Array{Any, 1}, Main.#color_to_terms_network, Any) in module Main overwritten.\n"
     ]
    },
    {
     "data": {
      "text/plain": [
       "color_to_terms_network (generic function with 1 method)"
      ]
     },
     "execution_count": 13,
     "metadata": {},
     "output_type": "execute_result"
    }
   ],
   "source": [
    "#DEFINITION\n",
    "function color_to_terms_network(padded_labels;\n",
    "        learning_rate = 0.05,\n",
    "        hidden_layer_size = 256,\n",
    "        embedding_dim = 16,\n",
    "        n_classes = length(unique(padded_labels)),\n",
    "        batch_size_=nothing,\n",
    "        test_it = true\n",
    "    )\n",
    "    n_input = 3 # HSV\n",
    "    \n",
    "    n_steps, full_batch_size = size(padded_labels)\n",
    "    n_steps-=1 #can remove one demarcation\n",
    "    batch_size = batch_size_ == nothing ? full_batch_size: batch_size_\n",
    "    \n",
    "    ###################################\n",
    "    sess = Session(Graph())\n",
    "    tensor_vars = @names_from begin\n",
    "        X_hsv = placeholder(Float32, shape=[batch_size, n_input]; name=\"X_HSVs\")\n",
    "        Term_obs_s = placeholder(Int32, shape=[n_steps+1, batch_size]; name=\"Term_obs_s\")\n",
    "\n",
    "        EmbeddingTable = get_variable(\"TokenEmbeddings\",  [n_classes, embedding_dim], Float32; initializer=Normal(0, .1))\n",
    "\n",
    "        #Mangle Terms into shape\n",
    "        Term_obs_s_out = slice(Term_obs_s, [1,0], [-1,-1]) #Don't want first input \"<S>\" #0based\n",
    "        Term_obs_s_ins = unpack(Term_obs_s+1)[1:end-1]#Don't want last input \"</S>\" (or padding character often but we will handle that seperately)\n",
    "        Term_obs_s_ins_r = reshape.(Term_obs_s_ins, Scalar(batch_size))\n",
    "        Tes = gather.(Scalar(EmbeddingTable), Term_obs_s_ins_r)\n",
    "\n",
    "        TT = reshape(Term_obs_s_out, [n_steps*batch_size]; name=\"Stack_Term_obs_s\")\n",
    "        Term_obs_onehots = one_hot(TT, n_classes)\n",
    "\n",
    "\n",
    "        #Mangle colots into shape\n",
    "        X_h, X_s, X_v = unpack(X_hsv; axis=2)\n",
    "        X_hr = X_h.*2π\n",
    "        X_col = pack((sin(X_hr), cos(X_hr), X_s-0.5, X_v-0.5)) #Smooth hue by breaking into cos and sin, and zero mean everything else\n",
    "        X_col = reshape(X_col, [batch_size, 4]; name = \"X_col\") #Force Shape Inference\n",
    "        Xs = [concat(1, (T, X_col); name=\"Xs$ii\") for (ii,T) in enumerate(Tes)]#Pair color input at each step with previous term #0base\n",
    "\n",
    "        Hs, states = nn.rnn(nn.rnn_cell.LSTMCell(hidden_layer_size), Xs; dtype=Float32)#, sequence_length=n_steps);\n",
    "        W1 = get_variable(\"weights1\", [hidden_layer_size, n_classes], Float32;  initializer=Normal(0, .1))\n",
    "        B1 = get_variable(\"bias1\", [n_classes], Float32;  initializer=Normal(0, .1))\n",
    "        Ls =  [H*W1+B1 for H in Hs]\n",
    "\n",
    "\n",
    "        LL = concat(0, Ls; name=\"Stack_Logits\") #Stack #0base\n",
    "        LL = reshape(LL, [batch_size*n_steps, n_classes]) #Force Shape Inference\n",
    "        LL_masked = apply_mask(LL, get_mask(TT))\n",
    "\n",
    "        Term_preds_onehots = nn.softmax(LL_masked; name=\"Term_preds_onehots\")\n",
    "        Term_preds_onehots_log = nn.log_softmax(LL_masked; name=\"Term_preds_onehots_log\")\n",
    "        Term_preds_s = reshape(indmax(Term_preds_onehots, 2)+1, [n_steps, batch_size]) #TODO: this messes up zero entries, not that it matters\n",
    "\n",
    "        costs  = reduce_sum(Term_obs_onehots.*Term_preds_onehots_log, reduction_indices=[1])\n",
    "        #costs = nn.sparse_softmax_cross_entropy_with_logits(LL, TT+1)\n",
    "        cost = reduce_mean(-costs) #cross entropy\n",
    "\n",
    "        optimizer = train.minimize(train.AdamOptimizer(learning_rate), cost)\n",
    "    end\n",
    "    ########## GET it running\n",
    "    run(sess, initialize_all_variables())\n",
    "    \n",
    "    if test_it \n",
    "        @assert isa(run(sess, cost, Dict(X_hsv=>hsv_data, Term_obs_s=>padded_labels)), Number )\n",
    "        ## MASK TEST######################\n",
    "        ll, ll2 = run(sess, [ LL_masked, \n",
    "            reshape(tile(expand_dims(get_mask(Term_obs_s_out),2),[1,1,n_classes]).*concat(0, expand_dims.(Ls, Scalar(0))), [batch_size*n_steps, n_classes])\n",
    "        ], Dict(X_hsv=>hsv_data, Term_obs_s=>padded_labels))\n",
    "        @assert ll ≈ ll2\n",
    "    end\n",
    "    \n",
    "    ###\n",
    "    return sess, tensor_vars \n",
    "end"
   ]
  },
  {
   "cell_type": "code",
   "execution_count": 14,
   "metadata": {
    "collapsed": false
   },
   "outputs": [
    {
     "data": {
      "text/plain": [
       "(Session(Ptr{Void} @0x00007f04c0f90830),Dict{Symbol,Any}(Pair{Symbol,Any}(:X_col,<Tensor X_col_2:1 shape=(5, 4) dtype=Float32>),Pair{Symbol,Any}(:Term_obs_onehots,<Tensor OneHot_2:1 shape=(20, 11) dtype=Float32>),Pair{Symbol,Any}(:Term_obs_s_ins,TensorFlow.Tensor[<Tensor Unpack_3:1 shape=unknown dtype=Int32>,<Tensor Unpack_3:2 shape=unknown dtype=Int32>,<Tensor Unpack_3:3 shape=unknown dtype=Int32>,<Tensor Unpack_3:4 shape=unknown dtype=Int32>]),Pair{Symbol,Any}(:Tes,TensorFlow.Tensor[<Tensor Gather_7:1 shape=(5, 16) dtype=Float32>,<Tensor Gather_8:1 shape=(5, 16) dtype=Float32>,<Tensor Gather_9:1 shape=(5, 16) dtype=Float32>,<Tensor Gather_10:1 shape=(5, 16) dtype=Float32>]),Pair{Symbol,Any}(:Term_preds_onehots,<Tensor Term_preds_onehots_2:1 shape=unknown dtype=Float32>),Pair{Symbol,Any}(:Xs,TensorFlow.Tensor[<Tensor Xs1_2:1 shape=(5, 20) dtype=Float32>,<Tensor Xs2_2:1 shape=(5, 20) dtype=Float32>,<Tensor Xs3_2:1 shape=(5, 20) dtype=Float32>,<Tensor Xs4_2:1 shape=(5, 20) dtype=Float32>]),Pair{Symbol,Any}(:W1,TensorFlow.Variable(<Operation 'weights1'>,<Operation 'weights1/Assign'>)),Pair{Symbol,Any}(:X_hsv,<Tensor X_HSVs_2:1 shape=(5, 3) dtype=Float32>),Pair{Symbol,Any}(:Term_obs_s,<Tensor Term_obs_s_2:1 shape=(5, 5) dtype=Int32>),Pair{Symbol,Any}(:optimizer,<Tensor NoOp_4:1 shape=unknown dtype=?>)…))"
      ]
     },
     "execution_count": 14,
     "metadata": {},
     "output_type": "execute_result"
    }
   ],
   "source": [
    "sess, t = color_to_terms_network(padded_labels;\n",
    "        learning_rate = 0.05,\n",
    "        hidden_layer_size = 256,\n",
    "        embedding_dim = 16,\n",
    "        n_classes = nlabel(encoding)+1,\n",
    "        batch_size_=nothing,\n",
    "        test_it = true\n",
    "    )            "
   ]
  },
  {
   "cell_type": "code",
   "execution_count": 15,
   "metadata": {
    "collapsed": false
   },
   "outputs": [
    {
     "name": "stdout",
     "output_type": "stream",
     "text": [
      "Progress: 100%|█████████████████████████████████████████| Time: 0:00:03\n",
      "cost_o = 0.00022174395f0\n"
     ]
    },
    {
     "data": {
      "text/plain": [
       "0.00022174395f0"
      ]
     },
     "execution_count": 15,
     "metadata": {},
     "output_type": "execute_result"
    }
   ],
   "source": [
    "#TRAINING\n",
    "global Term_preds_s_o\n",
    "global TT_s_o\n",
    "global cost_o\n",
    "global optimizer_o\n",
    "\n",
    "rounds = 50\n",
    "#p = Progress(rounds)\n",
    "@showprogress for i in 1:rounds\n",
    "    Term_preds_s_o, TT_s_o, cost_o, optimizer_o = run(sess,\n",
    "        [t[:Term_preds_s], t[:TT], t[:cost], t[:optimizer]], \n",
    "        Dict(t[:X_hsv]=>hsv_data, t[:Term_obs_s]=>padded_labels))\n",
    "    \n",
    "end\n",
    "\n",
    "@show cost_o\n",
    "#obs,pred, oo, pp = run(sess, [Term_obs_onehots, Term_preds_onehots, Term_obs_s_out, Term_preds_s], Dict(X_hsv=>hsv_data, Term_obs_s=>padded_labels))\n",
    "    "
   ]
  },
  {
   "cell_type": "code",
   "execution_count": 16,
   "metadata": {
    "collapsed": false
   },
   "outputs": [
    {
     "data": {
      "text/plain": [
       "4×5 Array{Int64,2}:\n",
       " 2  6  7  8  10\n",
       " 3  5  5  9   4\n",
       " 4  1  1  6   5\n",
       " 5  1  1  5   1"
      ]
     },
     "execution_count": 16,
     "metadata": {},
     "output_type": "execute_result"
    }
   ],
   "source": [
    "Term_preds_s_o"
   ]
  },
  {
   "cell_type": "code",
   "execution_count": 17,
   "metadata": {
    "collapsed": false
   },
   "outputs": [
    {
     "data": {
      "text/plain": [
       "4×5 Array{String,2}:\n",
       " \"baby\"   \"blue\"  \"yellow\"  \"robin's\"  \"sea\"  \n",
       " \"shit\"   \"</S>\"  \"</S>\"    \"egg\"      \"green\"\n",
       " \"green\"  \"<S>\"   \"<S>\"     \"blue\"     \"</S>\" \n",
       " \"</S>\"   \"<S>\"   \"<S>\"     \"</S>\"     \"<S>\"  "
      ]
     },
     "execution_count": 17,
     "metadata": {},
     "output_type": "execute_result"
    }
   ],
   "source": [
    "ind2label.(ans, Scalar(encoding))"
   ]
  },
  {
   "cell_type": "code",
   "execution_count": null,
   "metadata": {
    "collapsed": false
   },
   "outputs": [],
   "source": []
  },
  {
   "cell_type": "code",
   "execution_count": null,
   "metadata": {
    "collapsed": false
   },
   "outputs": [],
   "source": []
  },
  {
   "cell_type": "code",
   "execution_count": null,
   "metadata": {
    "collapsed": false
   },
   "outputs": [],
   "source": [
    "##MASK test code\n",
    "#TODO \n",
    "if test_it \n",
    "        @assert isa(run(sess, cost, Dict(X_hsv=>hsv_data, Term_obs_s=>padded_labels)), Number )\n",
    "        ## MASK TEST######################\n",
    "        ll, ll2 = run(sess, [ LL_masked, \n",
    "            reshape(tile(expand_dims(get_mask(Term_obs_s_out),2),[1,1,8]).*concat(0, expand_dims.(Ls, Scalar(0))), [batch_size*n_steps, n_classes])\n",
    "        ], Dict(X_hsv=>hsv_data, Term_obs_s=>padded_labels))\n",
    "        @assert ll ≈ ll2\n",
    "    end"
   ]
  },
  {
   "cell_type": "code",
   "execution_count": null,
   "metadata": {
    "collapsed": false
   },
   "outputs": [],
   "source": [
    "rank(X_col)"
   ]
  },
  {
   "cell_type": "code",
   "execution_count": null,
   "metadata": {
    "collapsed": false
   },
   "outputs": [],
   "source": []
  },
  {
   "cell_type": "code",
   "execution_count": null,
   "metadata": {
    "collapsed": true
   },
   "outputs": [],
   "source": []
  },
  {
   "cell_type": "code",
   "execution_count": null,
   "metadata": {
    "collapsed": false
   },
   "outputs": [],
   "source": [
    "function dict2type(vars::Associative{Symbol})\n",
    "     \n",
    "end\n",
    "\"\"\"Take dictionary of named value, and brings each of them into scope with the indicated names\"\"\"\n",
    "macro with_vars(vars, body)\n",
    "    varsdec = Expr(:block, (Expr(:(=), name, :($(esc(vars))[$(name)]) for (name) in vars)...)\n",
    "    quote \n",
    "        $varsdec\n",
    "        $esc(body)\n",
    "    end\n",
    "end\n",
    "\n",
    "@testset \"bring_into_scope\" begin\n",
    "    vartab = Dict(:x2=>2, :y2=>30)\n",
    "    @with_vars vartab begin\n",
    "        @test y2==30\n",
    "        @test x2==2\n",
    "    end\n",
    "    function test_inside_fun()\n",
    "        vartab\n",
    "        @eval :(esc(into_scope(Dict(:x4=>2000, :y4=>300))))\n",
    "        @test y4==300\n",
    "        @test x4==2000\n",
    "    end\n",
    "    test_inside_fun()\n",
    "    @test y4==30\n",
    "    @test x4==2\n",
    "end\n",
    "\n",
    "\n"
   ]
  }
 ],
 "metadata": {
  "kernelspec": {
   "display_name": "Julia 0.5.1-pre",
   "language": "julia",
   "name": "julia-0.5"
  },
  "language_info": {
   "file_extension": ".jl",
   "mimetype": "application/julia",
   "name": "julia",
   "version": "0.5.1"
  }
 },
 "nbformat": 4,
 "nbformat_minor": 2
}
