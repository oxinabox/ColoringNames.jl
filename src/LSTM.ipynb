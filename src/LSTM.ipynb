{
 "cells": [
  {
   "cell_type": "code",
   "execution_count": 1,
   "metadata": {
    "collapsed": false
   },
   "outputs": [],
   "source": [
    "using TensorFlow\n",
    "using Distributions\n",
    "using MLDataUtils\n",
    "using SwiftObjectStores\n",
    "using Iterators\n",
    "using ColoringNames\n",
    "using MappedArrays\n",
    "using MLLabelUtils\n",
    "using StaticArrays\n",
    "using Base.Test\n",
    "using ProgressMeter\n",
    "using IJulia\n",
    "\n",
    "Base.one{S<:AbstractString}(::Type{S}) = \"\""
   ]
  },
  {
   "cell_type": "code",
   "execution_count": 2,
   "metadata": {
    "collapsed": false
   },
   "outputs": [
    {
     "data": {
      "text/plain": [
       "1523108×4 Array{Any,2}:\n",
       " \"acid green\"  0.344113  0.855319  0.921569\n",
       " \"acid green\"  0.281905  0.744681  0.921569\n",
       " \"acid green\"  0.347551  0.921397  0.898039\n",
       " \"acid green\"  0.311209  0.900398  0.984314\n",
       " \"acid green\"  0.312085  0.992095  0.992157\n",
       " \"acid green\"  0.22766   0.987395  0.933333\n",
       " \"acid green\"  0.288462  0.466368  0.87451 \n",
       " \"acid green\"  0.276936  0.804878  0.964706\n",
       " \"acid green\"  0.325359  0.95      0.862745\n",
       " \"acid green\"  0.385201  0.971774  0.972549\n",
       " \"acid green\"  0.212885  0.955823  0.976471\n",
       " \"acid green\"  0.346405  0.6       1.0     \n",
       " \"acid green\"  0.238397  0.42246   0.733333\n",
       " ⋮                                         \n",
       " \"yuck\"        0.1621    0.421965  0.678431\n",
       " \"yuck\"        0.153333  0.722543  0.678431\n",
       " \"yuck\"        0.201754  0.256757  0.580392\n",
       " \"yuck\"        0.264463  0.620513  0.764706\n",
       " \"yuck\"        0.144608  0.790698  0.67451 \n",
       " \"yuck\"        0.178125  0.97561   0.643137\n",
       " \"yuck\"        0.166667  0.350962  0.815686\n",
       " \"yuck\"        0.174603  0.640244  0.643137\n",
       " \"yuck\"        0.587607  0.397959  0.768627\n",
       " \"yuck\"        0.774242  0.973451  0.443137\n",
       " \"yuck\"        0.376894  0.768559  0.898039\n",
       " \"yuck\"        0.179104  0.41358   0.635294"
      ]
     },
     "execution_count": 2,
     "metadata": {},
     "output_type": "execute_result"
    }
   ],
   "source": [
    "serv=SwiftService()\n",
    "train_raw = get_file(serv, \"color\", \"monroe/train.csv\") do fh\n",
    "    readdlm(fh,'\\t')\n",
    "end"
   ]
  },
  {
   "cell_type": "code",
   "execution_count": 3,
   "metadata": {
    "collapsed": false
   },
   "outputs": [
    {
     "data": {
      "text/plain": [
       "\u001b[1m\u001b[32mTest Passed\n",
       "\u001b[0m  Expression: demarcate([\"a\",\"b\",\"c\"]) == [\"<S>\",\"a\",\"b\",\"c\",\"</S>\"]\n",
       "   Evaluated: String[\"<S>\",\"a\",\"b\",\"c\",\"</S>\"] == String[\"<S>\",\"a\",\"b\",\"c\",\"</S>\"]"
      ]
     },
     "execution_count": 3,
     "metadata": {},
     "output_type": "execute_result"
    }
   ],
   "source": [
    "tokenize = morpheme_tokenizer(\"../data/replacement_rules.csv\")\n",
    "demarcate(tokens) = [\"<S>\"; tokens; \"</S>\"]\n",
    "\n",
    "@test demarcate([\"a\", \"b\", \"c\"]) == [\"<S>\", \"a\", \"b\", \"c\", \"</S>\"]"
   ]
  },
  {
   "cell_type": "code",
   "execution_count": 4,
   "metadata": {
    "collapsed": false
   },
   "outputs": [
    {
     "data": {
      "text/plain": [
       "5×3 Array{Float64,2}:\n",
       " 0.00793651  0.832599  0.890196\n",
       " 0.220044    0.676991  0.886275\n",
       " 0.488774    0.807531  0.937255\n",
       " 0.411523    0.344681  0.921569\n",
       " 0.176236    0.863636  0.94902 "
      ]
     },
     "execution_count": 4,
     "metadata": {},
     "output_type": "execute_result"
    }
   ],
   "source": [
    "keep_inds = shuffle(1:size(train_raw, 1))[1:5]\n",
    "\n",
    "labels = convert(Vector{String}, train_raw[keep_inds,1]); #TODO use all data\n",
    "hsv_data = convert(Matrix{Float64}, train_raw[keep_inds,2:end]); #TODO use all data\n"
   ]
  },
  {
   "cell_type": "code",
   "execution_count": 5,
   "metadata": {
    "collapsed": false,
    "scrolled": true
   },
   "outputs": [
    {
     "data": {
      "text/plain": [
       "5-element Array{Array{Int64,1},1}:\n",
       " [1,2,3]  \n",
       " [1,4,5,3]\n",
       " [1,4,6,3]\n",
       " [1,6,3]  \n",
       " [1,7,3]  "
      ]
     },
     "execution_count": 5,
     "metadata": {},
     "output_type": "execute_result"
    }
   ],
   "source": [
    "tokenised_labels = demarcate.(tokenize.(labels))\n",
    "all_tokens = reduce(union, tokenised_labels)\n",
    "encoding = labelenc(all_tokens)\n",
    "label_inds = map(x->label2ind.(x, Scalar(encoding)), tokenised_labels)"
   ]
  },
  {
   "cell_type": "code",
   "execution_count": 6,
   "metadata": {
    "collapsed": false,
    "scrolled": true
   },
   "outputs": [
    {
     "name": "stdout",
     "output_type": "stream",
     "text": [
      "\u001b[1m\u001b[37mTest Summary: | \u001b[0m\u001b[1m\u001b[32mPass  \u001b[0m\u001b[1m\u001b[34mTotal\u001b[0m\n"
     ]
    }
   ],
   "source": [
    "function Base.rpad{T}(xs::Vector{T}, n::Integer, p::T=zero(T))\n",
    "    sizehint!(xs, n)\n",
    "    while length(xs)<n\n",
    "        push!(xs, p)\n",
    "    end\n",
    "    xs\n",
    "end\n",
    "\n",
    "\"Creates a matrix where each column is one of the vectors from `xss`\"\n",
    "function rpad_to_matrix{T}(xss::Vector{Vector{T}}, n_rows::T=maximum(length.(xss)), p::T=zero(T))\n",
    "    n_cols = length(xss) \n",
    "    ret = fill(p, (n_rows, n_cols))\n",
    "    for (cc, xs) in enumerate(xss)\n",
    "        for (rr, x) in enumerate(xs)\n",
    "            @inbounds ret[rr, cc] = x\n",
    "        end\n",
    "    end\n",
    "    ret\n",
    "end\n",
    "\n",
    "@testset \"padding\" begin\n",
    "    @test rpad([1,2,3],5) == [1,2,3,0,0]\n",
    "    @test rpad([1,2,3],2) == [1,2,3]\n",
    "    @test rpad([1,2,3],5, 8 ) == [1,2,3,8,8]\n",
    "    \n",
    "    @test rpad_to_matrix([[1,2], [3],Int[],[2]])==[\n",
    "                                                    1 3 0 2\n",
    "                                                    2 0 0 0\n",
    "    ]\n",
    "end;"
   ]
  },
  {
   "cell_type": "code",
   "execution_count": 7,
   "metadata": {
    "collapsed": false
   },
   "outputs": [
    {
     "data": {
      "text/plain": [
       "4×5 Array{Int64,2}:\n",
       " 1  1  1  1  1\n",
       " 2  4  4  6  7\n",
       " 3  5  6  3  3\n",
       " 0  3  3  0  0"
      ]
     },
     "execution_count": 7,
     "metadata": {},
     "output_type": "execute_result"
    }
   ],
   "source": [
    "padded_labels = rpad_to_matrix(label_inds)"
   ]
  },
  {
   "cell_type": "code",
   "execution_count": 8,
   "metadata": {
    "collapsed": false
   },
   "outputs": [
    {
     "name": "stdout",
     "output_type": "stream",
     "text": [
      "(n_steps,batch_size) = size(padded_labels) = (4,5)\n"
     ]
    }
   ],
   "source": [
    "learning_rate = 0.05\n",
    "n_input = 3 # HSV\n",
    "@show n_steps, batch_size = size(padded_labels)\n",
    "n_steps-=1 #can remove one demarcation\n",
    "hidden_layer_size = 256\n",
    "embedding_dim = 16\n",
    "n_classes = nlabel(encoding)+1"
   ]
  },
  {
   "cell_type": "code",
   "execution_count": null,
   "metadata": {
    "collapsed": false
   },
   "outputs": [],
   "source": []
  },
  {
   "cell_type": "code",
   "execution_count": null,
   "metadata": {
    "collapsed": true
   },
   "outputs": [],
   "source": []
  },
  {
   "cell_type": "code",
   "execution_count": 9,
   "metadata": {
    "collapsed": false
   },
   "outputs": [
    {
     "name": "stdout",
     "output_type": "stream",
     "text": [
      "\u001b[1m\u001b[37mTest Summary: | \u001b[0m\u001b[1m\u001b[32mPass  \u001b[0m"
     ]
    },
    {
     "name": "stderr",
     "output_type": "stream",
     "text": [
      "W tensorflow/core/platform/cpu_feature_guard.cc:45] The TensorFlow library wasn't compiled to use SSE4.2 instructions, but these are available on your machine and could speed up CPU computations.\n",
      "W tensorflow/core/platform/cpu_feature_guard.cc:45] The TensorFlow library wasn't compiled to use AVX instructions, but these are available on your machine and could speed up CPU computations.\n",
      "W tensorflow/core/platform/cpu_feature_guard.cc:45] The TensorFlow library wasn't compiled to use FMA instructions, but these are available on your machine and could speed up CPU computations.\n"
     ]
    },
    {
     "name": "stdout",
     "output_type": "stream",
     "text": [
      "\u001b[1m\u001b[34mTotal\u001b[0m\n",
      "  masks       | \u001b[1m\u001b[32m   3  \u001b[0m\u001b[1m\u001b[34m    3\u001b[0m\n"
     ]
    }
   ],
   "source": [
    "get_mask(V, dtype=Float32)=cast(cast(V, Bool),dtype)\n",
    "apply_mask(V, mask) = V.*tile(expand_dims(mask, 1), [1, get_shape(V,2)])\n",
    "\n",
    "@testset \"masks\" begin\n",
    "    mask_sess = Session(Graph())\n",
    "    a_val = (\n",
    "    [2.  5  8  9  2\n",
    "     3.  6  4  4  9\n",
    "     4.  7   3  2  4\n",
    "     1.  4  2  4  4]\n",
    "    )\n",
    "    A=constant(a_val)\n",
    "    M = constant([1, 0, 2, 4])\n",
    "    run(mask_sess, initialize_all_variables())\n",
    "    masked = run(mask_sess, apply_mask(A, get_mask(M, Float64)))\n",
    "    @test all(masked[2,:] .== 0)\n",
    "    @test all(masked[1,:] .== a_val[1,:])\n",
    "    @test all(masked[3:4,:] .== a_val[3:4,:])\n",
    "end;"
   ]
  },
  {
   "cell_type": "code",
   "execution_count": 97,
   "metadata": {
    "collapsed": false,
    "scrolled": true
   },
   "outputs": [
    {
     "data": {
      "text/plain": [
       "3.1400099f0"
      ]
     },
     "execution_count": 97,
     "metadata": {},
     "output_type": "execute_result"
    }
   ],
   "source": [
    "sess = Session(Graph())\n",
    "X_hsv = placeholder(Float32, shape=[batch_size, n_input]; name=\"X_HSVs\")\n",
    "Term_obs_s = placeholder(Int32, shape=[n_steps+1, batch_size]; name=\"Term_obs_s\")\n",
    "\n",
    "EmbeddingTable = get_variable(\"TokenEmbeddings\",  [n_classes, embedding_dim], Float32; initializer=Normal(0, .1))\n",
    "\n",
    "#Mangle Terms into shape\n",
    "Term_obs_s_out = slice(Term_obs_s, [1,0], [-1,-1]) #Don't want first input \"<S>\" #0based\n",
    "Term_obs_s_ins = unpack(Term_obs_s+1)[1:end-1]#Don't want last input \"</S>\" (or padding character often but we will handle that seperately)\n",
    "Term_obs_s_ins_r = reshape.(Term_obs_s_ins, Scalar(batch_size))\n",
    "Tes = gather.(Scalar(EmbeddingTable), Term_obs_s_ins_r)\n",
    "    \n",
    "TT = reshape(Term_obs_s_out, [n_steps*batch_size]; name=\"Stack_Term_obs_s\")\n",
    "Term_obs_onehots = one_hot(TT, n_classes)\n",
    "\n",
    "\n",
    "#Mangle colots into shape\n",
    "X_h, X_s, X_v = unpack(X_hsv; axis=2)\n",
    "X_hr = X_h.*2π\n",
    "X_col = pack((sin(X_hr), cos(X_hr), X_s-0.5, X_v-0.5)) #Smooth hue by breaking into cos and sin, and zero mean everything else\n",
    "X_col = reshape(X_col, [batch_size, 4]; name = \"X_col\") #Force Shape Inference\n",
    "Xs = [concat(1, (T, X_col); name=\"Xs$ii\") for (ii,T) in enumerate(Tes)]#Pair color input at each step with previous term #0base\n",
    "\n",
    "Hs, states = nn.rnn(nn.rnn_cell.LSTMCell(hidden_layer_size), Xs; dtype=Float32)#, sequence_length=n_steps);\n",
    "W1 = get_variable(\"weights1\", [hidden_layer_size, n_classes], Float32;  initializer=Normal(0, .1))\n",
    "B1 = get_variable(\"bias1\", [n_classes], Float32;  initializer=Normal(0, .1))\n",
    "Ls =  [H*W1+B1 for H in Hs]\n",
    "\n",
    "\n",
    "LL = concat(0, Ls; name=\"Stack_Logits\") #Stack #0base\n",
    "LL = reshape(LL, [batch_size*n_steps, n_classes]) #Force Shape Inference\n",
    "LL_masked = apply_mask(LL, get_mask(TT))\n",
    "\n",
    "Term_preds_onehots = nn.softmax(LL_masked; name=\"Term_preds_onehots\")\n",
    "Term_preds_onehots_log = nn.log_softmax(LL_masked; name=\"Term_preds_onehots_log\")\n",
    "Term_preds_s = indmax(Term_preds_onehots, 2)\n",
    "\n",
    "\n",
    "costs  = reduce_sum(Term_obs_onehots.*Term_preds_onehots_log, reduction_indices=[1])\n",
    "\n",
    "#costs = nn.sparse_softmax_cross_entropy_with_logits(LL, TT+1)\n",
    "cost = reduce_mean(-costs) #cross entropy\n",
    "\n",
    "optimizer = train.minimize(train.AdamOptimizer(learning_rate), cost)\n",
    "\n",
    "run(sess, initialize_all_variables())\n",
    "run(sess, cost, Dict(X_hsv=>hsv_data, Term_obs_s=>padded_labels))\n"
   ]
  },
  {
   "cell_type": "code",
   "execution_count": 100,
   "metadata": {
    "collapsed": false
   },
   "outputs": [
    {
     "name": "stdout",
     "output_type": "stream",
     "text": [
      "Progress: 100%|█████████████████████████████████████████| Time: 0:00:01\n",
      "cost_o = 0.0002957467f0\n"
     ]
    },
    {
     "data": {
      "text/plain": [
       "4-element Array{Array,1}:\n",
       " Float32[0.0 1.0 … 0.0 0.0; 0.0 0.0 … 0.0 0.0; … ; 0.0 0.0 … 0.0 0.0; 0.0 0.0 … 0.0 0.0]                                                                           \n",
       " Float32[2.68795f-20 0.999708 … 0.000292125 3.32278f-20; 3.83931f-15 8.87451f-7 … 1.66134f-5 1.13468f-15; … ; 0.125 0.125 … 0.125 0.125; 0.125 0.125 … 0.125 0.125]\n",
       " Int32[2 4 … 6 7; 3 5 … 3 3; 0 3 … 0 0]                                                                                                                            \n",
       " [1,3,3,5,6,2,4,5,2,2,0,2,2,0,0]                                                                                                                                   "
      ]
     },
     "execution_count": 100,
     "metadata": {},
     "output_type": "execute_result"
    }
   ],
   "source": [
    "global Term_preds_s_o\n",
    "global TT_s_o\n",
    "global cost_o\n",
    "global optimizer_o\n",
    "\n",
    "rounds = 50\n",
    "#p = Progress(rounds)\n",
    "@showprogress for i in 1:rounds\n",
    "    Term_preds_s_o, TT_s_o, cost_o, optimizer_o = run(sess,\n",
    "        [Term_preds_s, TT, cost, optimizer], \n",
    "        Dict(X_hsv=>hsv_data, Term_obs_s=>padded_labels))\n",
    "    \n",
    "end\n",
    "\n",
    "@show cost_o\n",
    "obs,pred, oo, pp = run(sess, [Term_obs_onehots, Term_preds_onehots, Term_obs_s_out, Term_preds_s], Dict(X_hsv=>hsv_data, Term_obs_s=>padded_labels))\n",
    "    "
   ]
  },
  {
   "cell_type": "code",
   "execution_count": 102,
   "metadata": {
    "collapsed": false
   },
   "outputs": [
    {
     "data": {
      "text/plain": [
       "15×8 Array{Float32,2}:\n",
       " 0.0  1.0  0.0  0.0  0.0  0.0  0.0  0.0\n",
       " 0.0  0.0  0.0  1.0  0.0  0.0  0.0  0.0\n",
       " 0.0  0.0  0.0  1.0  0.0  0.0  0.0  0.0\n",
       " 0.0  0.0  0.0  0.0  0.0  1.0  0.0  0.0\n",
       " 0.0  0.0  0.0  0.0  0.0  0.0  1.0  0.0\n",
       " 0.0  0.0  1.0  0.0  0.0  0.0  0.0  0.0\n",
       " 0.0  0.0  0.0  0.0  1.0  0.0  0.0  0.0\n",
       " 0.0  0.0  0.0  0.0  0.0  1.0  0.0  0.0\n",
       " 0.0  0.0  1.0  0.0  0.0  0.0  0.0  0.0\n",
       " 0.0  0.0  1.0  0.0  0.0  0.0  0.0  0.0\n",
       " 0.0  0.0  0.0  0.0  0.0  0.0  0.0  0.0\n",
       " 0.0  0.0  1.0  0.0  0.0  0.0  0.0  0.0\n",
       " 0.0  0.0  1.0  0.0  0.0  0.0  0.0  0.0\n",
       " 0.0  0.0  0.0  0.0  0.0  0.0  0.0  0.0\n",
       " 0.0  0.0  0.0  0.0  0.0  0.0  0.0  0.0"
      ]
     },
     "execution_count": 102,
     "metadata": {},
     "output_type": "execute_result"
    }
   ],
   "source": [
    "obs"
   ]
  },
  {
   "cell_type": "code",
   "execution_count": 104,
   "metadata": {
    "collapsed": false
   },
   "outputs": [
    {
     "data": {
      "text/plain": [
       "3×5 Array{Int32,2}:\n",
       " 2  4  4  6  7\n",
       " 3  5  6  3  3\n",
       " 0  3  3  0  0"
      ]
     },
     "execution_count": 104,
     "metadata": {},
     "output_type": "execute_result"
    }
   ],
   "source": [
    "oo"
   ]
  },
  {
   "cell_type": "code",
   "execution_count": 112,
   "metadata": {
    "collapsed": false
   },
   "outputs": [
    {
     "data": {
      "text/plain": [
       "3×5 Array{Int64,2}:\n",
       " 2  4  4  6  7\n",
       " 3  5  6  3  3\n",
       " 1  3  3  1  1"
      ]
     },
     "execution_count": 112,
     "metadata": {},
     "output_type": "execute_result"
    }
   ],
   "source": [
    "reshape(mapslices(indmax,pred,2), (5,3))'"
   ]
  },
  {
   "cell_type": "code",
   "execution_count": 113,
   "metadata": {
    "collapsed": false
   },
   "outputs": [
    {
     "data": {
      "text/plain": [
       "3×5 Array{String,2}:\n",
       " \"terracotta\"  \"light\"  \"light\"  \"teal\"  \"yellow\"\n",
       " \"</S>\"        \"green\"  \"teal\"   \"</S>\"  \"</S>\"  \n",
       " \"<S>\"         \"</S>\"   \"</S>\"   \"<S>\"   \"<S>\"   "
      ]
     },
     "execution_count": 113,
     "metadata": {},
     "output_type": "execute_result"
    }
   ],
   "source": [
    "ind2label.(ans, Scalar(encoding))"
   ]
  },
  {
   "cell_type": "code",
   "execution_count": 101,
   "metadata": {
    "collapsed": false
   },
   "outputs": [
    {
     "data": {
      "text/plain": [
       "12-element Array{String,1}:\n",
       " \"<S>\"       \n",
       " \"</S>\"      \n",
       " \"</S>\"      \n",
       " \"green\"     \n",
       " \"teal\"      \n",
       " \"terracotta\"\n",
       " \"light\"     \n",
       " \"green\"     \n",
       " \"terracotta\"\n",
       " \"terracotta\"\n",
       " \"terracotta\"\n",
       " \"terracotta\""
      ]
     },
     "execution_count": 101,
     "metadata": {},
     "output_type": "execute_result"
    }
   ],
   "source": [
    "ind2label.(filter(x->x>0, Term_preds_s_o), Scalar(encoding))"
   ]
  },
  {
   "cell_type": "code",
   "execution_count": 39,
   "metadata": {
    "collapsed": false
   },
   "outputs": [
    {
     "data": {
      "text/plain": [
       "\u001b[1m\u001b[32mTest Passed\n",
       "\u001b[0m  Expression: ll ≈ ll2\n",
       "   Evaluated: Float32[0.0960852 0.0510797 … 0.0918193 0.129112; 0.0922533 0.0635156 … 0.0912102 0.133232; … ; 0.0 0.0 … 0.0 0.0; 0.0 0.0 … 0.0 0.0] isapprox Float32[0.0960852 0.0510797 … 0.0918193 0.129112; 0.0922533 0.0635156 … 0.0912102 0.133232; … ; 0.0 0.0 … 0.0 0.0; 0.0 0.0 … 0.0 0.0]"
      ]
     },
     "execution_count": 39,
     "metadata": {},
     "output_type": "execute_result"
    }
   ],
   "source": [
    "## MASK TEST######################\n",
    "ll, ll2 = run(sess, [ LL_masked, \n",
    "    reshape(tile(expand_dims(get_mask(Term_obs_s_out),2),[1,1,8]).*concat(0, expand_dims.(Ls, Scalar(0))), [batch_size*n_steps, n_classes])\n",
    "]\n",
    ", Dict(X_hsv=>hsv_data, Term_obs_s=>padded_labels))\n",
    "@test ll ≈ ll2"
   ]
  },
  {
   "cell_type": "code",
   "execution_count": null,
   "metadata": {
    "collapsed": false
   },
   "outputs": [],
   "source": []
  },
  {
   "cell_type": "code",
   "execution_count": null,
   "metadata": {
    "collapsed": false
   },
   "outputs": [],
   "source": [
    "methods(nn.sparse_softmax_cross_entropy_with_logits)"
   ]
  },
  {
   "cell_type": "code",
   "execution_count": null,
   "metadata": {
    "collapsed": false
   },
   "outputs": [],
   "source": []
  },
  {
   "cell_type": "code",
   "execution_count": null,
   "metadata": {
    "collapsed": false
   },
   "outputs": [],
   "source": []
  },
  {
   "cell_type": "code",
   "execution_count": null,
   "metadata": {
    "collapsed": true
   },
   "outputs": [],
   "source": []
  }
 ],
 "metadata": {
  "kernelspec": {
   "display_name": "Julia 0.5.1-pre",
   "language": "julia",
   "name": "julia-0.5"
  },
  "language_info": {
   "file_extension": ".jl",
   "mimetype": "application/julia",
   "name": "julia",
   "version": "0.5.1"
  }
 },
 "nbformat": 4,
 "nbformat_minor": 2
}
