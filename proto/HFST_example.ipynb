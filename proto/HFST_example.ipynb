{
 "cells": [
  {
   "cell_type": "code",
   "execution_count": 2,
   "metadata": {
    "collapsed": true
   },
   "outputs": [],
   "source": [
    "using SwiftObjectStores\n",
    "using Iterators\n",
    "using Base.Test"
   ]
  },
  {
   "cell_type": "code",
   "execution_count": 3,
   "metadata": {
    "collapsed": false
   },
   "outputs": [
    {
     "name": "stdout",
     "output_type": "stream",
     "text": [
      "Test Summary: | Pass  Total\n",
      "  asfile      |    6      6\n"
     ]
    }
   ],
   "source": [
    "\"\"\"\n",
    "Save the contents into a temporary \n",
    "Takes a Scope to track which files are created\n",
    "when the scope is closed, will delete the tmpfiles\"\"\"\n",
    "function asfile(scope::Vector, contents)\n",
    "    fname, fh = mktemp() \n",
    "    print(fh, contents)\n",
    "    close(fh)\n",
    "    push!(scope, fname)\n",
    "    fname\n",
    "end\n",
    "\n",
    "\"\"\"Holds a scope for deleting the tmp files, created within, using `asfile`\n",
    "Use a do block.\n",
    "\"\"\"\n",
    "function withscope(func)\n",
    "    files = String[]\n",
    "    func(files)\n",
    "    rm.(files)\n",
    "end\n",
    "\n",
    "###### Test that is works right\n",
    "@testset \"asfile\" begin\n",
    "    fname1 = \"\"\n",
    "    fname2 = \"\"\n",
    "    withscope() do scope\n",
    "        fname1 = asfile(scope, \"hi ho\")\n",
    "        @test readstring(`cat $fname1`) == \"hi ho\"\n",
    "        \n",
    "        fname2 = asfile(scope, \"li lo\")\n",
    "        @test readstring(`cat $fname2`) == \"li lo\"\n",
    "        \n",
    "        @test isfile(fname1)\n",
    "        @test isfile(fname2)\n",
    "    end\n",
    "    @test !isfile(fname1)\n",
    "    @test !isfile(fname2)\n",
    "end;"
   ]
  },
  {
   "cell_type": "code",
   "execution_count": 78,
   "metadata": {
    "collapsed": false
   },
   "outputs": [
    {
     "data": {
      "text/plain": [
       "829-element Array{Any,1}:\n",
       " \"acid green\"      \n",
       " \"adobe\"           \n",
       " \"algae green\"     \n",
       " \"algae\"           \n",
       " \"almost black\"    \n",
       " \"amber\"           \n",
       " \"amethyst\"        \n",
       " \"apple green\"     \n",
       " \"apple\"           \n",
       " \"apricot\"         \n",
       " \"aqua blue\"       \n",
       " \"aqua green\"      \n",
       " \"aqua\"            \n",
       " ⋮                 \n",
       " \"wisteria\"        \n",
       " \"yellow-brown\"    \n",
       " \"yellow-green\"    \n",
       " \"yellow\"          \n",
       " \"yellowish brown\" \n",
       " \"yellowish green\" \n",
       " \"yellowish\"       \n",
       " \"yellowish orange\"\n",
       " \"yellow ochre\"    \n",
       " \"yellow-orange\"   \n",
       " \"yellow tan\"      \n",
       " \"yuck\"            "
      ]
     },
     "execution_count": 78,
     "metadata": {},
     "output_type": "execute_result"
    }
   ],
   "source": [
    "serv=SwiftService()\n",
    "train = get_file(serv, \"color\", \"monroe/train.csv\") do fh\n",
    "    readdlm(fh,'\\t')\n",
    "end\n",
    "\n",
    "descs = unique(train[:,1])"
   ]
  },
  {
   "cell_type": "code",
   "execution_count": 79,
   "metadata": {
    "collapsed": false
   },
   "outputs": [
    {
     "name": "stdout",
     "output_type": "stream",
     "text": [
      "blueish = 684\n",
      "bluish = 3612\n"
     ]
    },
    {
     "data": {
      "text/plain": [
       "3612"
      ]
     },
     "execution_count": 79,
     "metadata": {},
     "output_type": "execute_result"
    }
   ],
   "source": [
    "blueish=0\n",
    "bluish=0\n",
    "for term in train[:,1]\n",
    "    if contains(term, \"bluish\")\n",
    "        bluish+=1\n",
    "    end\n",
    "    if contains(term, \"blueish\")\n",
    "        blueish+=1\n",
    "    end\n",
    "end\n",
    "@show blueish\n",
    "@show bluish"
   ]
  },
  {
   "cell_type": "code",
   "execution_count": 82,
   "metadata": {
    "collapsed": false
   },
   "outputs": [
    {
     "data": {
      "text/plain": [
       "0.840782122905028"
      ]
     },
     "execution_count": 82,
     "metadata": {},
     "output_type": "execute_result"
    }
   ],
   "source": []
  },
  {
   "cell_type": "code",
   "execution_count": null,
   "metadata": {
    "collapsed": true
   },
   "outputs": [],
   "source": []
  },
  {
   "cell_type": "code",
   "execution_count": 93,
   "metadata": {
    "collapsed": false
   },
   "outputs": [
    {
     "name": "stdout",
     "output_type": "stream",
     "text": [
      "almost\n"
     ]
    }
   ],
   "source": [
    "terms = unique(vcat(split.(descs)...) )\n",
    "\n",
    "for term in terms\n",
    "    if contains(term, \"almost\")\n",
    "        println(term)\n",
    "    end\n",
    "end"
   ]
  },
  {
   "cell_type": "code",
   "execution_count": 4,
   "metadata": {
    "collapsed": false
   },
   "outputs": [
    {
     "data": {
      "text/plain": [
       "display_svg (generic function with 1 method)"
      ]
     },
     "execution_count": 4,
     "metadata": {},
     "output_type": "execute_result"
    }
   ],
   "source": []
  },
  {
   "cell_type": "code",
   "execution_count": 121,
   "metadata": {
    "collapsed": false
   },
   "outputs": [
    {
     "name": "stderr",
     "output_type": "stream",
     "text": [
      "WARNING: Method definition display_svg(Any) in module Main at In[119]:7 overwritten at In[121]:8.\n"
     ]
    },
    {
     "data": {
      "text/plain": [
       "display_svg (generic function with 1 method)"
      ]
     },
     "execution_count": 121,
     "metadata": {},
     "output_type": "execute_result"
    }
   ],
   "source": [
    "draw = pipeline(\n",
    "    `hfst-fst2fst -b --openfst-tropical`,\n",
    "    `fstdraw --portrait`,\n",
    "    `sed \"s/@_EPSILON_SYMBOL_@/<>/\"`,\n",
    "    `sed \"s/@_IDENTITY_SYMBOL_@/@ID@/\"`,\n",
    "    `sed \"s/@_IDENTITY_SYMBOL_@/@ID@/\"`,\n",
    "    `dot -Tsvg`)\n",
    "display_svg(img)=display(\"image/svg+xml\", img)"
   ]
  },
  {
   "cell_type": "code",
   "execution_count": 133,
   "metadata": {
    "collapsed": false
   },
   "outputs": [
    {
     "data": {
      "text/plain": [
       "0-element Array{String,1}"
      ]
     },
     "execution_count": 133,
     "metadata": {},
     "output_type": "execute_result"
    }
   ],
   "source": [
    "topscope = String[]"
   ]
  },
  {
   "cell_type": "code",
   "execution_count": 136,
   "metadata": {
    "collapsed": false
   },
   "outputs": [
    {
     "data": {
      "text/plain": [
       "\"/dev/shm/tmpM3t1pi\""
      ]
     },
     "execution_count": 136,
     "metadata": {},
     "output_type": "execute_result"
    }
   ],
   "source": [
    "rules = \"\"\"\n",
    "!ish rules\n",
    "[{blueish} | {bluish}]:{blue ish}\n",
    "{orangish}:{orange ish}\n",
    "{purplish}:{purple ish}\n",
    "{reddish}:{red ish}\n",
    "{darkish}:{dark ish}\n",
    "{greenish}:{green ish}\n",
    "{greyish}:{grey ish}\n",
    "{lightish}:{light ish}\n",
    "{pinkish}:{pink ish}\n",
    "{tealish}:{teal ish}\n",
    "{yellowish}:{yellow ish}\n",
    "{brownish}:{brown ish}\n",
    "!y rules\n",
    "{bluey}:{blue y}\n",
    "{dirty}:{dirt y}\n",
    "{dusky}:{dusk y}\n",
    "{dusty}:{dust y}\n",
    "{grassy}:{grass y}\n",
    "{greeny}:{green y}\n",
    "{leafy}:{leaf y}\n",
    "{minty}:{mint y}\n",
    "{muddy}:{mud y}\n",
    "{murky}:{murk y}\n",
    "{orangey}:{orange y}\n",
    "{peachy}:{peach y}\n",
    "{pinky}:{pink y}\n",
    "{purpley}:{purple y}\n",
    "{reddy}:{red y}\n",
    "{rosy}:{rose y}\n",
    "{rusty}:{rust y}\n",
    "{sandy}:{sand y}\n",
    "\"\"\"\n",
    "\n",
    "rulesFstFile = asfile(topscope, readstring(pipeline(\n",
    "`echo \"$rules\"`,\n",
    "`hfst-regexp2fst -j`,\n",
    "`hfst-minimize`,  \n",
    ")))\n",
    "#`hfst-fst2txt`\n",
    "#draw\n",
    "#) |> readstring |> println #|> display_svg"
   ]
  },
  {
   "cell_type": "code",
   "execution_count": 75,
   "metadata": {
    "collapsed": false
   },
   "outputs": [
    {
     "name": "stdout",
     "output_type": "stream",
     "text": [
      "^blue ish/blueish/bluish$\n",
      "^red ish/reddish$\n"
     ]
    },
    {
     "name": "stderr",
     "output_type": "stream",
     "text": [
      "> > > "
     ]
    },
    {
     "data": {
      "text/plain": [
       "1-element Array{Void,1}:\n",
       " nothing"
      ]
     },
     "execution_count": 75,
     "metadata": {},
     "output_type": "execute_result"
    }
   ],
   "source": [
    "withscope() do scope\n",
    "    rulesfst = asfile(scope, pipeline(\n",
    "    `echo \"$rules\"`,\n",
    "    `hfst-regexp2fst -j`,\n",
    "    `hfst-invert`,\n",
    "    `hfst-minimize`,\n",
    "    `hfst-fst2fst -O`\n",
    "    ) |> readstring)\n",
    "    \n",
    "    pipeline(\n",
    "    `echo \"blue ish\n",
    "red ish\"\n",
    "    `,\n",
    "    `hfst-lookup  -O apertium $rulesfst`\n",
    "    ) |> run\n",
    "end"
   ]
  },
  {
   "cell_type": "code",
   "execution_count": 153,
   "metadata": {
    "collapsed": false
   },
   "outputs": [
    {
     "name": "stdout",
     "output_type": "stream",
     "text": [
      "cc-cc\tcc#-#cc\t0.000000\n",
      "\n"
     ]
    },
    {
     "name": "stderr",
     "output_type": "stream",
     "text": [
      "Reading input from STDIN.\n",
      "Writing output to STDOUT.\n",
      "Reading alphabet.\n",
      "Reading sets.\n",
      "Reading rules and compiling their contexts and centers.\n",
      "Compiling and storing rules.\n",
      "Compiling rules.\n",
      "Storing rules.\n",
      "hfst-lookup: warning: It is not possible to perform fast lookups with OpenFST, std arc, tropical semiring format automata.\n",
      "Using HFST basic transducer format and performing slow lookups\n",
      "> > "
     ]
    }
   ],
   "source": [
    "advrules =\"\"\"\n",
    "Alphabet\n",
    "\n",
    "! The alphabet should contain all symbols which are used in the grammar.\n",
    "! Symbols consist of strings of utf-8 characters. Reserved words and white-space\n",
    "! need to be quoted using %.\n",
    "!a b c d e f g h i j k l m n o p q r s t u v w x y z %- % ;\n",
    "a b c  %- %# ;\n",
    "\n",
    "Sets\n",
    "!Letter = a b c d e f g h i j k l m n o p q r s t u v w x y z ;\n",
    "Letter = a b c ;\n",
    "\n",
    "\n",
    "Rules\n",
    "\n",
    "\"Seperate - into seperated token of its own -- put a space beore and after it\"\n",
    "%-:%#%-%# <=> :Letter+ _ :Letter+ ;\n",
    "\n",
    "\n",
    "\"\"\"\n",
    "\n",
    "advrulesFstFile = asfile(topscope, readstring(pipeline(\n",
    "    `echo \"$advrules\"`,\n",
    "    `hfst-twolc`\n",
    ")))\n",
    "\n",
    "pipeline(\n",
    "    `echo cc-cc`,\n",
    "    `hfst-lookup $advrulesFstFile`\n",
    ") |> run"
   ]
  },
  {
   "cell_type": "code",
   "execution_count": 143,
   "metadata": {
    "collapsed": false
   },
   "outputs": [
    {
     "name": "stderr",
     "output_type": "stream",
     "text": [
      "hfst-compose: /dev/shm/tmpptD4zY is not a valid transducer file\n",
      "hfst-fst2fst: <stdin> is not a valid transducer file\n",
      "ERROR: FstHeader::Read: Bad FST header: standard input\n"
     ]
    },
    {
     "ename": "LoadError",
     "evalue": "LoadError: failed processes:\n  Process(`hfst-compose /dev/shm/tmpptD4zY /dev/shm/tmpM3t1pi`, ProcessExited(1)) [1]\n  Process(`hfst-fst2fst -b --openfst-tropical`, ProcessExited(1)) [1]\n  Process(`fstdraw --portrait`, ProcessExited(1)) [1]\nwhile loading In[143], in expression starting on line 1",
     "output_type": "error",
     "traceback": [
      "LoadError: failed processes:\n  Process(`hfst-compose /dev/shm/tmpptD4zY /dev/shm/tmpM3t1pi`, ProcessExited(1)) [1]\n  Process(`hfst-fst2fst -b --openfst-tropical`, ProcessExited(1)) [1]\n  Process(`fstdraw --portrait`, ProcessExited(1)) [1]\nwhile loading In[143], in expression starting on line 1",
      "",
      " in pipeline_error(::Base.ProcessChain) at ./process.jl:634",
      " in read(::Base.OrCmds, ::Base.DevNullStream) at ./process.jl:576",
      " in readstring at ./process.jl:581 [inlined] (repeats 2 times)",
      " in |>(::Base.OrCmds, ::Base.#readstring) at ./operators.jl:350"
     ]
    }
   ],
   "source": [
    "pipeline(\n",
    "    `echo abc`,\n",
    "    `hfst-compose $advrulesFstFile $rulesFstFile`,\n",
    "    draw\n",
    ") |> readstring |> display_svg"
   ]
  },
  {
   "cell_type": "code",
   "execution_count": null,
   "metadata": {
    "collapsed": true
   },
   "outputs": [],
   "source": []
  }
 ],
 "metadata": {
  "kernelspec": {
   "display_name": "Julia 0.5.1-pre",
   "language": "julia",
   "name": "julia-0.5"
  },
  "language_info": {
   "file_extension": ".jl",
   "mimetype": "application/julia",
   "name": "julia",
   "version": "0.5.1"
  }
 },
 "nbformat": 4,
 "nbformat_minor": 2
}
