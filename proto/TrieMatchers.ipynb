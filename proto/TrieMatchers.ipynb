{
 "cells": [
  {
   "cell_type": "code",
   "execution_count": 1,
   "metadata": {
    "collapsed": false
   },
   "outputs": [],
   "source": [
    "using ParserCombinator\n",
    "using Base.Test\n",
    "using AutoHashEquals\n",
    "using AbstractTrees\n",
    "using DataStructures\n",
    "\n",
    "import ParserCombinator: execute, success, failure"
   ]
  },
  {
   "cell_type": "code",
   "execution_count": 2,
   "metadata": {
    "collapsed": false
   },
   "outputs": [
    {
     "data": {
      "text/plain": [
       "always_print (generic function with 1 method)"
      ]
     },
     "execution_count": 2,
     "metadata": {},
     "output_type": "execute_result"
    }
   ],
   "source": [
    "@auto_hash_equals immutable EqualsOneOf{LONGEST}<:Matcher\n",
    "    name::Symbol\n",
    "    strings::Trie\n",
    "    function EqualsOneOf(strings) \n",
    "        new(:EqualsOneOf, Trie(strings))\n",
    "    end\n",
    "end\n",
    "\n",
    "EqualsOneOf(strings) = EqualsOneOf{true}(strings)\n",
    "\n",
    "always_print(::EqualsOneOf) = true"
   ]
  },
  {
   "cell_type": "code",
   "execution_count": 3,
   "metadata": {
    "collapsed": false
   },
   "outputs": [
    {
     "data": {
      "text/plain": [
       "order_match_positions (generic function with 2 methods)"
      ]
     },
     "execution_count": 3,
     "metadata": {},
     "output_type": "execute_result"
    }
   ],
   "source": [
    "function find_matched_positions(kk::Config, strings::Trie, ii::Int)\n",
    "    Task() do \n",
    "        node = strings\n",
    "        while !done(kk.source, ii)\n",
    "            char, ii = next(kk.source, ii)\n",
    "            if haskey(node.children, char)\n",
    "                node = node.children[char]\n",
    "                if node.is_key\n",
    "                    produce(ii-1) #String actually ended the index before\n",
    "                end\n",
    "            else\n",
    "                break\n",
    "            end\n",
    "        end\n",
    "    end\n",
    "end\n",
    "\n",
    "\n",
    "order_match_positions(mm::EqualsOneOf{true}, iis)::Vector{Int} = reverse(collect(iis))\n",
    "order_match_positions(mm::EqualsOneOf{false}, iis)::Vector{Int} = collect(iis) # I wish this was lazy"
   ]
  },
  {
   "cell_type": "code",
   "execution_count": 4,
   "metadata": {
    "collapsed": true
   },
   "outputs": [],
   "source": [
    "@auto_hash_equals immutable EqualsOneOfState{I,S}<:State\n",
    "    start_pos::Int #Start of the matchs\n",
    "    matches_end_iis::I #Iterator of matched strings \n",
    "    matches_state::S  # State for that iterator\n",
    "end"
   ]
  },
  {
   "cell_type": "code",
   "execution_count": 5,
   "metadata": {
    "collapsed": false
   },
   "outputs": [
    {
     "data": {
      "text/plain": [
       "execute (generic function with 42 methods)"
      ]
     },
     "execution_count": 5,
     "metadata": {},
     "output_type": "execute_result"
    }
   ],
   "source": [
    "function execute(kk::Config, mm::EqualsOneOf, ss::Clean, ii::Int)\n",
    "    start_pos=ii\n",
    "    found_end_pos = find_matched_positions(kk, mm.strings, ii)\n",
    "    match_positions = order_match_positions(mm, found_end_pos)\n",
    "    child_state = EqualsOneOfState(start_pos, match_positions, start(match_positions))\n",
    "    execute(kk, mm, child_state, start_pos)\n",
    "end\n",
    "\n",
    "function execute(kk::Config, mm::EqualsOneOf, ss::EqualsOneOfState, ii)\n",
    "    if done(ss.matches_end_iis, ss.matches_state)\n",
    "        FAILURE\n",
    "    else\n",
    "        end_pos, next_matches_state = next(ss.matches_end_iis, ss.matches_state)\n",
    "        next_ss = EqualsOneOfState(ss.start_pos, ss.matches_end_iis, next_matches_state)\n",
    "        item = SubString(kk.source, ss.start_pos, end_pos)\n",
    "        results = Any[item]\n",
    "        source_state = end_pos+1\n",
    "        Success(next_ss, source_state, results)\n",
    "    end\n",
    "end"
   ]
  },
  {
   "cell_type": "code",
   "execution_count": 6,
   "metadata": {
    "collapsed": false
   },
   "outputs": [
    {
     "name": "stdout",
     "output_type": "stream",
     "text": [
      "Test Summary: | Pass  Total\n",
      "  EqualsOneOf |   17     17\n"
     ]
    }
   ],
   "source": [
    "@testset \"EqualsOneOf\" begin\n",
    "    @test parse_one(\"a\", EqualsOneOf([\"a\",\"b\",\"c\"])) == [\"a\"]\n",
    "    @test parse_one(\"abc\", EqualsOneOf([\"a\",\"b\",\"c\"])) == [\"a\"]\n",
    "    @test parse_one(\"x a\", E\"x \" + EqualsOneOf([\"a\",\"b\",\"c\"])) == [\"a\"]\n",
    "    @test_throws ParserException parse_one(\"z\", EqualsOneOf([\"a\",\"b\",\"c\"]))\n",
    "    \n",
    "    \n",
    "    @test parse_all(\"abc\", EqualsOneOf([\"abc\",\"ab\",\"a\"])) |> collect == [[\"abc\"], [\"ab\"], [\"a\"]]\n",
    "    @test parse_all(\"abc\", EqualsOneOf{false}([\"abc\",\"ab\",\"a\"])) |> collect == [[\"a\"], [\"ab\"], [\"abc\"]]\n",
    "    \n",
    "    @test parse_one(\"abcd\", EqualsOneOf([\"abc\",\"ab\",\"a\"]) + e\"cd\") == [\"ab\", \"cd\"] #Requires backtracking\n",
    "    \n",
    "    \n",
    "    # Detailed check of endpoint finding behavour\n",
    "    strings = [\"abc\", \"aabbc\", \"aabbcc\", \"aaabc\", \"aax\"];\n",
    "\n",
    "    @test_throws ParserException parse_one(\"ab\", EqualsOneOf{false}(strings))\n",
    "    @test parse_one(\"abc\", EqualsOneOf{false}(strings))  == [\"abc\"]\n",
    "    @test parse_one(\"abcx\", EqualsOneOf{false}(strings))  == [\"abc\"]\n",
    "    @test parse_one(\"aabbcc\", EqualsOneOf{false}(strings))  == [\"aabbc\"]\n",
    "    @test parse_one(\"aabbcx\", EqualsOneOf{false}(strings))  == [\"aabbc\"]\n",
    "\n",
    "\n",
    "    @test_throws ParserException parse_one(\"ab\", EqualsOneOf(strings))\n",
    "    @test parse_one(\"abc\", EqualsOneOf(strings))  == [\"abc\"]\n",
    "    @test parse_one(\"abcx\", EqualsOneOf(strings))  == [\"abc\"]\n",
    "    @test parse_one(\"aabbcc\", EqualsOneOf(strings))  == [\"aabbcc\"]\n",
    "    @test parse_one(\"aabbcx\", EqualsOneOf(strings))  == [\"aabbc\"]\n",
    "end;"
   ]
  },
  {
   "cell_type": "code",
   "execution_count": 8,
   "metadata": {
    "collapsed": false
   },
   "outputs": [
    {
     "ename": "LoadError",
     "evalue": "LoadError: TypeError: FindMatchedPositionsIter: in type definition, expected Type{T}, got UniformScaling{Int64}\nwhile loading In[8], in expression starting on line 3",
     "output_type": "error",
     "traceback": [
      "LoadError: TypeError: FindMatchedPositionsIter: in type definition, expected Type{T}, got UniformScaling{Int64}\nwhile loading In[8], in expression starting on line 3",
      ""
     ]
    }
   ],
   "source": [
    "#TODO: Work out a way to rewrite the find_matched_positions to be an iterator, instread of a task\n",
    "# Coss Ref: http://stackoverflow.com/questions/41072425/better-way-than-using-task-produce-consume-for-lazy-collections-express-as-cor\n",
    "immutable FindMatchedPositionsIter\n",
    "    source::I\n",
    "    strings::Trie\n",
    "    source_start_state::Int\n",
    "end\n",
    "\n",
    "immutable FindMatchedPositionsIterState\n",
    "    source_state::Int\n",
    "    node::Trie\n",
    "end\n",
    "\n",
    "Base.iteratoreltype(::Type{FindMatchedPositionsIter}) = Base.HasEltype()\n",
    "Base.eltype(::Type{FindMatchedPositionsIter}) = Int\n",
    "Base.iteratorsize(::Type{FindMatchedPositionsIter}) = Base.SizeUnknown()\n"
   ]
  },
  {
   "cell_type": "code",
   "execution_count": 10,
   "metadata": {
    "collapsed": false
   },
   "outputs": [
    {
     "name": "stdout",
     "output_type": "stream",
     "text": [
      "search: push! pushdisplay\n",
      "\n"
     ]
    },
    {
     "data": {
      "text/markdown": [
       "```\n",
       "push!(collection, items...) -> collection\n",
       "```\n",
       "\n",
       "Insert one or more `items` at the end of `collection`.\n",
       "\n",
       "```jldoctest\n",
       "julia> push!([1, 2, 3], 4, 5, 6)\n",
       "6-element Array{Int64,1}:\n",
       " 1\n",
       " 2\n",
       " 3\n",
       " 4\n",
       " 5\n",
       " 6\n",
       "```\n",
       "\n",
       "Use [`append!`](:func:`append!`) to add all the elements of another collection to `collection`. The result of the preceding example is equivalent to `append!([1, 2, 3], [4, 5, 6])`.\n"
      ],
      "text/plain": [
       "```\n",
       "push!(collection, items...) -> collection\n",
       "```\n",
       "\n",
       "Insert one or more `items` at the end of `collection`.\n",
       "\n",
       "```jldoctest\n",
       "julia> push!([1, 2, 3], 4, 5, 6)\n",
       "6-element Array{Int64,1}:\n",
       " 1\n",
       " 2\n",
       " 3\n",
       " 4\n",
       " 5\n",
       " 6\n",
       "```\n",
       "\n",
       "Use [`append!`](:func:`append!`) to add all the elements of another collection to `collection`. The result of the preceding example is equivalent to `append!([1, 2, 3], [4, 5, 6])`.\n"
      ]
     },
     "execution_count": 10,
     "metadata": {},
     "output_type": "execute_result"
    }
   ],
   "source": [
    "?push!"
   ]
  },
  {
   "cell_type": "code",
   "execution_count": 22,
   "metadata": {
    "collapsed": false
   },
   "outputs": [
    {
     "name": "stdout",
     "output_type": "stream",
     "text": [
      "a_1 = Any[1.0]\n",
      "a = Array{Any,1}[Any[1.0],Any[]]\n",
      "a_1 = Any[1.0,2.0]\n",
      "a = Array{Any,1}[Any[1.0,2.0],Any[]]\n",
      "b_n = Any[1.0]\n",
      "b = Array{Any,1}[Any[1.0],Any[1.0]]\n",
      "b_n = Any[1.0,2.0]\n",
      "b = Array{Any,1}[Any[1.0,2.0],Any[1.0,2.0]]\n",
      "c_n = Any[1.0]\n",
      "c = Array{Any,1}[Any[1.0],Any[1.0]]\n",
      "c_n = Any[1.0,2.0]\n",
      "c = Array{Any,1}[Any[1.0,2.0],Any[1.0,2.0]]\n"
     ]
    },
    {
     "data": {
      "text/plain": [
       "2-element Array{Array{Any,1},1}:\n",
       " Any[1.0,2.0]\n",
       " Any[1.0,2.0]"
      ]
     },
     "execution_count": 22,
     "metadata": {},
     "output_type": "execute_result"
    }
   ],
   "source": [
    "a_1 = []\n",
    "a_2 = []\n",
    "a = [a_1, a_2]\n",
    "push!(a_1, 1.0)\n",
    "@show a_1 #Guess what this shows\n",
    "@show a\n",
    "\n",
    "push!(a[1], 2.0)\n",
    "@show a_1 #Guess what this shows\n",
    "@show a\n",
    "\n",
    "b_n = []\n",
    "b = fill(b_n, 2)\n",
    "push!(b_n, 1.0)\n",
    "@show b_n \n",
    "@show b \n",
    "\n",
    "push!(b[1], 2.0)\n",
    "@show b_n #Guess what this shows\n",
    "@show b\n",
    "\n",
    "\n",
    "\n",
    "\n"
   ]
  },
  {
   "cell_type": "code",
   "execution_count": 23,
   "metadata": {
    "collapsed": false
   },
   "outputs": [
    {
     "name": "stdout",
     "output_type": "stream",
     "text": [
      "c_n = Any[1.0]\n",
      "c = Array{Any,1}[Any[1.0],Any[1.0]]\n",
      "c_n = Any[1.0,2.0]\n",
      "c = Array{Any,1}[Any[1.0,2.0],Any[1.0,2.0]]\n"
     ]
    },
    {
     "data": {
      "text/plain": [
       "2-element Array{Array{Any,1},1}:\n",
       " Any[1.0,2.0]\n",
       " Any[1.0,2.0]"
      ]
     },
     "execution_count": 23,
     "metadata": {},
     "output_type": "execute_result"
    }
   ],
   "source": [
    "c_n = []\n",
    "c = [c_n, c_n]\n",
    "push!(c_n, 1.0)\n",
    "@show c_n \n",
    "@show c \n",
    "\n"
   ]
  },
  {
   "cell_type": "code",
   "execution_count": null,
   "metadata": {
    "collapsed": true
   },
   "outputs": [],
   "source": []
  }
 ],
 "metadata": {
  "kernelspec": {
   "display_name": "Julia 0.5.1-pre",
   "language": "julia",
   "name": "julia-0.5"
  },
  "language_info": {
   "file_extension": ".jl",
   "mimetype": "application/julia",
   "name": "julia",
   "version": "0.5.1"
  }
 },
 "nbformat": 4,
 "nbformat_minor": 2
}
