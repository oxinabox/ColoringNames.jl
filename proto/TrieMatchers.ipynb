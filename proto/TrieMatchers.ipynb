{
 "cells": [
  {
   "cell_type": "code",
   "execution_count": 1,
   "metadata": {
    "collapsed": false
   },
   "outputs": [],
   "source": [
    "using ParserCombinator\n",
    "using Base.Test\n",
    "using AutoHashEquals\n",
    "using AbstractTrees\n",
    "using DataStructures\n",
    "\n",
    "import ParserCombinator: execute, success, failure"
   ]
  },
  {
   "cell_type": "code",
   "execution_count": 2,
   "metadata": {
    "collapsed": false
   },
   "outputs": [
    {
     "data": {
      "text/plain": [
       "always_print (generic function with 1 method)"
      ]
     },
     "execution_count": 2,
     "metadata": {},
     "output_type": "execute_result"
    }
   ],
   "source": [
    "@auto_hash_equals immutable EqualsOneOf{LONGEST}<:Matcher\n",
    "    name::Symbol\n",
    "    strings::Trie\n",
    "    function EqualsOneOf(strings) \n",
    "        new(:EqualsOneOf, Trie(strings))\n",
    "    end\n",
    "end\n",
    "\n",
    "EqualsOneOf(strings) = EqualsOneOf{true}(strings)\n",
    "\n",
    "always_print(::EqualsOneOf) = true"
   ]
  },
  {
   "cell_type": "code",
   "execution_count": 3,
   "metadata": {
    "collapsed": false
   },
   "outputs": [
    {
     "data": {
      "text/plain": [
       "order_match_positions (generic function with 2 methods)"
      ]
     },
     "execution_count": 3,
     "metadata": {},
     "output_type": "execute_result"
    }
   ],
   "source": [
    "function find_matched_positions(kk::Config, strings::Trie, ii::Int)\n",
    "    Task() do \n",
    "        node = strings\n",
    "        while !done(kk.source, ii)\n",
    "            char, ii = next(kk.source, ii)\n",
    "            if haskey(node.children, char)\n",
    "                node = node.children[char]\n",
    "                if node.is_key\n",
    "                    produce(ii-1) #String actually ended the index before\n",
    "                end\n",
    "            else\n",
    "                break\n",
    "            end\n",
    "        end\n",
    "    end\n",
    "end\n",
    "\n",
    "\n",
    "order_match_positions(mm::EqualsOneOf{true}, iis) = reverse(collect(iis))\n",
    "order_match_positions(mm::EqualsOneOf{false}, iis) = (iis)"
   ]
  },
  {
   "cell_type": "code",
   "execution_count": 4,
   "metadata": {
    "collapsed": true
   },
   "outputs": [],
   "source": [
    "@auto_hash_equals immutable EqualsOneOfState{I,S}<:State\n",
    "    start_pos::Int #Start of the matchs\n",
    "    matches_end_iis::I #Iterator of matched strings \n",
    "    matches_state::S  # State for that iterator\n",
    "end"
   ]
  },
  {
   "cell_type": "code",
   "execution_count": 5,
   "metadata": {
    "collapsed": false
   },
   "outputs": [
    {
     "data": {
      "text/plain": [
       "execute (generic function with 42 methods)"
      ]
     },
     "execution_count": 5,
     "metadata": {},
     "output_type": "execute_result"
    }
   ],
   "source": [
    "function execute(kk::Config, mm::EqualsOneOf, ss::Clean, ii::Int)\n",
    "    start_pos=ii\n",
    "    found_end_pos = find_matched_positions(kk, mm.strings, ii)\n",
    "    match_positions = order_match_positions(mm, found_end_pos)\n",
    "    child_state = EqualsOneOfState(start_pos, match_positions, start(match_positions))\n",
    "    execute(kk, mm, child_state, start_pos)\n",
    "end\n",
    "\n",
    "function execute(kk::Config, mm::EqualsOneOf, ss::EqualsOneOfState, ii)\n",
    "    if done(ss.matches_end_iis, ss.matches_state)\n",
    "        FAILURE\n",
    "    else\n",
    "        end_pos, next_matches_state = next(ss.matches_end_iis, ss.matches_state)\n",
    "        next_ss = EqualsOneOfState(ss.start_pos, ss.matches_end_iis, next_matches_state)\n",
    "        item = SubString(kk.source, ss.start_pos, end_pos)\n",
    "        results = Any[item]\n",
    "        source_state = end_pos+1\n",
    "        Success(next_ss, source_state, results)\n",
    "    end\n",
    "end"
   ]
  },
  {
   "cell_type": "code",
   "execution_count": 6,
   "metadata": {
    "collapsed": false
   },
   "outputs": [
    {
     "data": {
      "text/markdown": [
       "```\n",
       "Generator(f, iter)\n",
       "```\n",
       "\n",
       "Given a function `f` and an iterator `iter`, construct an iterator that yields the values of `f` applied to the elements of `iter`. The syntax `f(x) [if cond(x)::Bool] for x in iter` is syntax for constructing an instance of this type. The `[if cond(x)::Bool]` expression is optional and acts as a \"guard\", effectively filtering out values where the condition is false.\n"
      ],
      "text/plain": [
       "```\n",
       "Generator(f, iter)\n",
       "```\n",
       "\n",
       "Given a function `f` and an iterator `iter`, construct an iterator that yields the values of `f` applied to the elements of `iter`. The syntax `f(x) [if cond(x)::Bool] for x in iter` is syntax for constructing an instance of this type. The `[if cond(x)::Bool]` expression is optional and acts as a \"guard\", effectively filtering out values where the condition is false.\n"
      ]
     },
     "execution_count": 6,
     "metadata": {},
     "output_type": "execute_result"
    }
   ],
   "source": [
    "?Base.Generator"
   ]
  },
  {
   "cell_type": "code",
   "execution_count": 7,
   "metadata": {
    "collapsed": false
   },
   "outputs": [
    {
     "name": "stdout",
     "output_type": "stream",
     "text": [
      "EqualsOneOf: Error During Test\n",
      "  Test threw an exception of type InterruptException\n",
      "  Expression: parse_all(\"abc\",EqualsOneOf{false}([\"abc\",\"ab\",\"a\"])) |> collect == [[\"a\"],[\"ab\"],[\"abc\"]]\n",
      "  InterruptException:\n",
      "   in schedule_and_wait(::Task, ::Void) at ./event.jl:110\n",
      "   in consume(::Task) at ./task.jl:269\n",
      "   in done at ./task.jl:274 [inlined]\n",
      "   in grow_to!(::Array{Array{Any,1},1}, ::Task, ::Void) at ./array.jl:363\n",
      "   in grow_to!(::Array{Union{},1}, ::Task, ::Void) at ./array.jl:372\n",
      "   in grow_to!(::Array{Any,1}, ::Task) at ./array.jl:357\n",
      "   in |>(::Task, ::Base.#collect) at ./operators.jl:350\n",
      "   in macro expansion; at ./In[7]:9 [inlined]\n",
      "   in macro expansion; at ./test.jl:672 [inlined]\n",
      "   in anonymous at ./<missing>:?\n",
      "   in include_string(::String, ::String) at ./loading.jl:441\n",
      "   in execute_request(::ZMQ.Socket, ::IJulia.Msg) at /home/ubuntu/.julia/v0.5/IJulia/src/execute_request.jl:169\n",
      "   in eventloop(::ZMQ.Socket) at /home/ubuntu/.julia/v0.5/IJulia/src/eventloop.jl:8\n",
      "   in (::IJulia.##9#15)() at ./task.jl:360\n",
      "Test Summary: | Pass  Error  Total\n",
      "  EqualsOneOf |   16      1     17\n"
     ]
    },
    {
     "ename": "LoadError",
     "evalue": "LoadError: Some tests did not pass: 16 passed, 0 failed, 1 errored, 0 broken.\nwhile loading In[7], in expression starting on line 1",
     "output_type": "error",
     "traceback": [
      "LoadError: Some tests did not pass: 16 passed, 0 failed, 1 errored, 0 broken.\nwhile loading In[7], in expression starting on line 1",
      "",
      " in finish(::Base.Test.DefaultTestSet) at ./test.jl:495",
      " in macro expansion; at ./test.jl:679 [inlined]",
      " in anonymous at ./<missing>:?"
     ]
    }
   ],
   "source": [
    "@testset \"EqualsOneOf\" begin\n",
    "    @test parse_one(\"a\", EqualsOneOf([\"a\",\"b\",\"c\"])) == [\"a\"]\n",
    "    @test parse_one(\"abc\", EqualsOneOf([\"a\",\"b\",\"c\"])) == [\"a\"]\n",
    "    @test parse_one(\"x a\", E\"x \" + EqualsOneOf([\"a\",\"b\",\"c\"])) == [\"a\"]\n",
    "    @test_throws ParserException parse_one(\"z\", EqualsOneOf([\"a\",\"b\",\"c\"]))\n",
    "    \n",
    "    \n",
    "    @test parse_all(\"abc\", EqualsOneOf([\"abc\",\"ab\",\"a\"])) |> collect == [[\"abc\"], [\"ab\"], [\"a\"]]\n",
    "    @test parse_all(\"abc\", EqualsOneOf{false}([\"abc\",\"ab\",\"a\"])) |> collect == [[\"a\"], [\"ab\"], [\"abc\"]]\n",
    "    \n",
    "    @test parse_one(\"abcd\", EqualsOneOf([\"abc\",\"ab\",\"a\"]) + e\"cd\") == [\"ab\", \"cd\"] #Requires backtracking\n",
    "    \n",
    "    \n",
    "    # Detailed check of endpoint finding behavour\n",
    "    strings = [\"abc\", \"aabbc\", \"aabbcc\", \"aaabc\", \"aax\"];\n",
    "\n",
    "    @test_throws ParserException parse_one(\"ab\", EqualsOneOf{false}(strings))\n",
    "    @test parse_one(\"abc\", EqualsOneOf{false}(strings))  == [\"abc\"]\n",
    "    @test parse_one(\"abcx\", EqualsOneOf{false}(strings))  == [\"abc\"]\n",
    "    @test parse_one(\"aabbcc\", EqualsOneOf{false}(strings))  == [\"aabbc\"]\n",
    "    @test parse_one(\"aabbcx\", EqualsOneOf{false}(strings))  == [\"aabbc\"]\n",
    "\n",
    "\n",
    "    @test_throws ParserException parse_one(\"ab\", EqualsOneOf(strings))\n",
    "    @test parse_one(\"abc\", EqualsOneOf(strings))  == [\"abc\"]\n",
    "    @test parse_one(\"abcx\", EqualsOneOf(strings))  == [\"abc\"]\n",
    "    @test parse_one(\"aabbcc\", EqualsOneOf(strings))  == [\"aabbcc\"]\n",
    "    @test parse_one(\"aabbcx\", EqualsOneOf(strings))  == [\"aabbc\"]\n",
    "end;"
   ]
  },
  {
   "cell_type": "code",
   "execution_count": 8,
   "metadata": {
    "collapsed": false
   },
   "outputs": [
    {
     "name": "stdout",
     "output_type": "stream",
     "text": [
      "Test Summary:        | \n",
      "  EqualsOneOf Detailed | No tests\n"
     ]
    }
   ],
   "source": [
    "@testset \"EqualsOneOf Detailed\" begin\n",
    "\n",
    "end;"
   ]
  },
  {
   "cell_type": "code",
   "execution_count": 9,
   "metadata": {
    "collapsed": false
   },
   "outputs": [
    {
     "name": "stdout",
     "output_type": "stream",
     "text": [
      "search: Success success\n",
      "\n"
     ]
    },
    {
     "data": {
      "text/markdown": [
       "No documentation found.\n",
       "\n",
       "**Summary:**\n",
       "\n",
       "```\n",
       "immutable ParserCombinator.Success{CS<:ParserCombinator.State,I} <: ParserCombinator.Message\n",
       "```\n",
       "\n",
       "**Fields:**\n",
       "\n",
       "```\n",
       "child_state :: CS<:ParserCombinator.State\n",
       "iter        :: I\n",
       "result      :: Array{Any,1}\n",
       "```\n"
      ],
      "text/plain": [
       "No documentation found.\n",
       "\n",
       "**Summary:**\n",
       "\n",
       "```\n",
       "immutable ParserCombinator.Success{CS<:ParserCombinator.State,I} <: ParserCombinator.Message\n",
       "```\n",
       "\n",
       "**Fields:**\n",
       "\n",
       "```\n",
       "child_state :: CS<:ParserCombinator.State\n",
       "iter        :: I\n",
       "result      :: Array{Any,1}\n",
       "```\n"
      ]
     },
     "execution_count": 9,
     "metadata": {},
     "output_type": "execute_result"
    }
   ],
   "source": [
    "?Success"
   ]
  },
  {
   "cell_type": "code",
   "execution_count": 10,
   "metadata": {
    "collapsed": false
   },
   "outputs": [
    {
     "data": {
      "text/html": [
       "^(s::<b>AbstractString</b>, r::<b>Integer</b>) at <a href=\"https://github.com/JuliaLang/julia/tree/6a1e339ac1ca24b0d00c1721a1833fb39106c559/base/strings/types.jl#L178\" target=\"_blank\">strings/types.jl:178</a>"
      ],
      "text/plain": [
       "^(s::AbstractString, r::Integer) at strings/types.jl:178"
      ]
     },
     "execution_count": 10,
     "metadata": {},
     "output_type": "execute_result"
    }
   ],
   "source": [
    "@which \"a\"^0"
   ]
  },
  {
   "cell_type": "code",
   "execution_count": 11,
   "metadata": {
    "collapsed": false
   },
   "outputs": [
    {
     "data": {
      "text/plain": [
       "String"
      ]
     },
     "execution_count": 11,
     "metadata": {},
     "output_type": "execute_result"
    }
   ],
   "source": [
    "x=\"abce\"\n",
    "x[1:0] |>typeof\n"
   ]
  },
  {
   "cell_type": "code",
   "execution_count": 12,
   "metadata": {
    "collapsed": false
   },
   "outputs": [
    {
     "name": "stdout",
     "output_type": "stream",
     "text": [
      "search: expand expanduser macroexpand\n",
      "\n"
     ]
    },
    {
     "data": {
      "text/markdown": [
       "```\n",
       "expand(x)\n",
       "```\n",
       "\n",
       "Takes the expression `x` and returns an equivalent expression in lowered form.\n"
      ],
      "text/plain": [
       "```\n",
       "expand(x)\n",
       "```\n",
       "\n",
       "Takes the expression `x` and returns an equivalent expression in lowered form.\n"
      ]
     },
     "execution_count": 12,
     "metadata": {},
     "output_type": "execute_result"
    }
   ],
   "source": [
    "?expand"
   ]
  },
  {
   "cell_type": "code",
   "execution_count": null,
   "metadata": {
    "collapsed": true
   },
   "outputs": [],
   "source": []
  }
 ],
 "metadata": {
  "kernelspec": {
   "display_name": "Julia 0.5.1-pre",
   "language": "julia",
   "name": "julia-0.5"
  },
  "language_info": {
   "file_extension": ".jl",
   "mimetype": "application/julia",
   "name": "julia",
   "version": "0.5.1"
  }
 },
 "nbformat": 4,
 "nbformat_minor": 2
}
