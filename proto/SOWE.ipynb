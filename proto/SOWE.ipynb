{
 "cells": [
  {
   "cell_type": "code",
   "execution_count": 1,
   "metadata": {
    "collapsed": true
   },
   "outputs": [],
   "source": [
    "using NamedColors\n",
    "using Colors\n",
    "using PooledElements\n",
    "using TensorFlow\n",
    "using Distributions\n",
    "using Iterators"
   ]
  },
  {
   "cell_type": "code",
   "execution_count": 2,
   "metadata": {
    "collapsed": false
   },
   "outputs": [
    {
     "data": {
      "text/plain": [
       "(String[\"grass green\",\"lipstick\",\"celery\",\"chocolate\",\"pine green\",\"dark brown\",\"twilight blue\",\"purple red\",\"light olive green\",\"heliotrope\"  …  \"pale olive green\",\"light bright green\",\"pale peach\",\"light burgundy\",\"pastel purple\",\"dusty lavender\",\"periwinkle blue\",\"brown\",\"marine\",\"light grass green\"],ColorTypes.HSL[HSL{Float32}(98.3333,0.86747,0.32549),HSL{Float32}(342.632,0.805085,0.462745),HSL{Float32}(94.6154,0.962963,0.788235),HSL{Float32}(26.4407,0.936508,0.123529),HSL{Float32}(139.355,0.756098,0.160784),HSL{Float32}(31.2,0.925926,0.105882),HSL{Float32}(209.464,0.848485,0.258824),HSL{Float32}(332.368,0.987013,0.301961),HSL{Float32}(75.9184,0.429825,0.552941),HSL{Float32}(289.88,0.892473,0.635294)  …  HSL{Float32}(82.7586,0.491526,0.652941),HSL{Float32}(123.158,0.98844,0.660784),HSL{Float32}(40.9756,1.0,0.839216),HSL{Float32}(344.854,0.44206,0.456863),HSL{Float32}(266.526,1.0,0.813725),HSL{Float32}(306.316,0.186274,0.6),HSL{Float32}(234.444,0.931035,0.772549),HSL{Float32}(32.6733,1.0,0.198039),HSL{Float32}(212.609,0.92,0.196078),HSL{Float32}(97.9592,0.901841,0.680392)])"
      ]
     },
     "execution_count": 2,
     "metadata": {},
     "output_type": "execute_result"
    }
   ],
   "source": [
    "function get_raw_data() \n",
    "    local xs=String[]\n",
    "    local ys=HSL[]\n",
    "    for (x, y) in load_xkcd()\n",
    "        push!(xs, x)\n",
    "        push!(ys, convert(HSL, y))\n",
    "    end\n",
    "    \n",
    "    xs, ys\n",
    "end\n",
    "\n",
    "const xs_raw, ys_raw = get_raw_data()"
   ]
  },
  {
   "cell_type": "code",
   "execution_count": 3,
   "metadata": {
    "collapsed": false
   },
   "outputs": [
    {
     "data": {
      "text/plain": [
       "encode (generic function with 7 methods)"
      ]
     },
     "execution_count": 3,
     "metadata": {},
     "output_type": "execute_result"
    }
   ],
   "source": [
    "encode{I}(iter::I) = encode(eltype(I), iter)\n",
    "encode{T}(::Type{T}, xs) = map(encode, xs)\n",
    "\n",
    "function encode{S<:AbstractString}(::Type{S}, xs_raw) \n",
    "    tokens = Set{PooledString}()\n",
    "    xs = PooledStringArray[]\n",
    "    for x_raw in xs_raw\n",
    "        x = PooledStringArray(encode(x_raw))\n",
    "        push!(tokens, x...)\n",
    "        push!(xs, x)\n",
    "    end\n",
    "    xs, tokens\n",
    "end\n",
    "\n",
    "encode(x_raw::AbstractString) = pstring.(split(x_raw))\n",
    "encode{T<:PooledString}(::Type{T}, xs) = map(encode, xs) #Exception to the general rule for abstract strings\n",
    "encode(ss::PooledString)=convert(Int32, ss.level)\n",
    "\n",
    "encode(y::HSL) = Float32[sind(y.h), cosd(y.h), y.s, y.l]\n"
   ]
  },
  {
   "cell_type": "code",
   "execution_count": null,
   "metadata": {
    "collapsed": false
   },
   "outputs": [],
   "source": []
  },
  {
   "cell_type": "code",
   "execution_count": 4,
   "metadata": {
    "collapsed": false,
    "scrolled": true
   },
   "outputs": [
    {
     "data": {
      "text/plain": [
       "949-element Array{Array{Int32,1},1}:\n",
       " Int32[1,2]    \n",
       " Int32[3]      \n",
       " Int32[4]      \n",
       " Int32[5]      \n",
       " Int32[6,2]    \n",
       " Int32[7,8]    \n",
       " Int32[9,10]   \n",
       " Int32[11,12]  \n",
       " Int32[13,14,2]\n",
       " Int32[15]     \n",
       " Int32[16,2]   \n",
       " Int32[17,18]  \n",
       " Int32[16,8]   \n",
       " ⋮             \n",
       " Int32[123,12] \n",
       " Int32[407]    \n",
       " Int32[25,14,2]\n",
       " Int32[13,66,2]\n",
       " Int32[25,161] \n",
       " Int32[13,268] \n",
       " Int32[129,11] \n",
       " Int32[44,147] \n",
       " Int32[273,10] \n",
       " Int32[8]      \n",
       " Int32[336]    \n",
       " Int32[13,1,2] "
      ]
     },
     "execution_count": 4,
     "metadata": {},
     "output_type": "execute_result"
    }
   ],
   "source": [
    "const xs_tokens, tokens = encode(xs_raw)\n",
    "const xs_ids = encode(xs_tokens)"
   ]
  },
  {
   "cell_type": "code",
   "execution_count": 5,
   "metadata": {
    "collapsed": false
   },
   "outputs": [
    {
     "data": {
      "text/plain": [
       "949-element Array{Array{Float32,1},1}:\n",
       " Float32[0.989442,-0.144932,0.86747,0.32549]   \n",
       " Float32[-0.298515,0.954405,0.805085,0.462745] \n",
       " Float32[0.996757,-0.0804665,0.962963,0.788235]\n",
       " Float32[0.445271,0.895396,0.936508,0.123529]  \n",
       " Float32[0.651373,-0.758758,0.756098,0.160784] \n",
       " Float32[0.518027,0.855364,0.925926,0.105882]  \n",
       " Float32[-0.491881,-0.870662,0.848485,0.258824]\n",
       " Float32[-0.463785,0.885948,0.987013,0.301961] \n",
       " Float32[0.96995,0.243304,0.429825,0.552941]   \n",
       " Float32[-0.94041,0.340043,0.892473,0.635294]  \n",
       " Float32[0.895712,0.444635,0.961538,0.203922]  \n",
       " Float32[0.909632,0.415415,0.488889,0.647059]  \n",
       " Float32[0.652637,0.757671,0.72973,0.217647]   \n",
       " ⋮                                             \n",
       " Float32[0.161058,0.986945,0.637306,0.378431]  \n",
       " Float32[0.655284,0.755383,0.440415,0.621569]  \n",
       " Float32[0.992024,0.12605,0.491526,0.652941]   \n",
       " Float32[0.837166,-0.546948,0.98844,0.660784]  \n",
       " Float32[0.655738,0.754989,1.0,0.839216]       \n",
       " Float32[-0.261273,0.965265,0.44206,0.456863]  \n",
       " Float32[-0.998163,-0.0605903,1.0,0.813725]    \n",
       " Float32[-0.805765,0.592235,0.186274,0.6]      \n",
       " Float32[-0.813552,-0.581492,0.931035,0.772549]\n",
       " Float32[0.539848,0.841763,1.0,0.198039]       \n",
       " Float32[-0.538899,-0.842371,0.92,0.196078]    \n",
       " Float32[0.990367,-0.138468,0.901841,0.680392] "
      ]
     },
     "execution_count": 5,
     "metadata": {},
     "output_type": "execute_result"
    }
   ],
   "source": [
    "const ys = encode(ys_raw)"
   ]
  },
  {
   "cell_type": "code",
   "execution_count": 6,
   "metadata": {
    "collapsed": false
   },
   "outputs": [
    {
     "data": {
      "text/plain": [
       "Session(Ptr{Void} @0x00007fb10df62b90)"
      ]
     },
     "execution_count": 6,
     "metadata": {},
     "output_type": "execute_result"
    }
   ],
   "source": [
    "sess = Session(Graph())"
   ]
  },
  {
   "cell_type": "code",
   "execution_count": 7,
   "metadata": {
    "collapsed": false
   },
   "outputs": [],
   "source": [
    "embedding_dim = 16\n",
    "hidden_layer_size = 128\n",
    "output_dim = 4\n",
    "variable_scope(\"counting_model3\", initializer=Normal(0, .1)) do\n",
    "    global const Y_obs = placeholder(Float32)\n",
    "    global const X_ids = placeholder(Int32)\n",
    "    global const Ts = get_variable(\"TokenEmbeddings\",  [length(tokens), embedding_dim], Float32)\n",
    "    global const X_embs = nn.embedding_lookup(Ts,  X_ids);\n",
    "    global const SoWe = reduce_sum(X_embs; reduction_indices=1, keep_dims=true); #Sum up however many embeddings we have\n",
    "    \n",
    "    global const W1 = get_variable(\"weights1\", [embedding_dim, hidden_layer_size], Float32)\n",
    "    global const B1 = get_variable(\"bias1\", [hidden_layer_size,], Float32)    \n",
    "    \n",
    "    global const Wo = get_variable(\"weightsout\", [hidden_layer_size, output_dim], Float32)\n",
    "    global const Bo = get_variable(\"biasout\", [output_dim,], Float32)    \n",
    "    \n",
    "    global const H = nn.sigmoid(SoWe*W1 + B1)\n",
    "    global const Y = nn.tanh(H*Wo + Bo)\n",
    "    global const Loss = reduce_sum((Y - Y_obs)^2)\n",
    "\n",
    "end;"
   ]
  },
  {
   "cell_type": "code",
   "execution_count": 8,
   "metadata": {
    "collapsed": false
   },
   "outputs": [],
   "source": [
    "optimizer = train.GradientDescentOptimizer(0.025)\n",
    "#optimizer = train.MomentumOptimizer(0.025f0, 0.005f0)\n",
    "minimize_op = train.minimize(optimizer, Loss);"
   ]
  },
  {
   "cell_type": "code",
   "execution_count": 9,
   "metadata": {
    "collapsed": false
   },
   "outputs": [
    {
     "data": {
      "text/plain": [
       "0-element Array{Any,1}"
      ]
     },
     "execution_count": 9,
     "metadata": {},
     "output_type": "execute_result"
    }
   ],
   "source": [
    "run(sess, initialize_all_variables())"
   ]
  },
  {
   "cell_type": "code",
   "execution_count": 84,
   "metadata": {
    "collapsed": false,
    "scrolled": true
   },
   "outputs": [
    {
     "ename": "LoadError",
     "evalue": "MethodError: Cannot `convert` an object of type Array{Float32,1} to an object of type Float32\nThis may have arisen from a call to the constructor Float32(...),\nsince type constructors fall back to convert methods.",
     "output_type": "error",
     "traceback": [
      "MethodError: Cannot `convert` an object of type Array{Float32,1} to an object of type Float32\nThis may have arisen from a call to the constructor Float32(...),\nsince type constructors fall back to convert methods.",
      "",
      " in _collect(::Array{Array{Float32,1},1}, ::Base.Generator{Array{Array{Float32,1},1},Type{Float32}}, ::Base.EltypeUnknown, ::Base.HasShape) at ./array.jl:320",
      " in map(::Type{T}, ::Array{Array{Float32,1},1}) at ./abstractarray.jl:1683",
      " in run(::TensorFlow.Session, ::Array{TensorFlow.Tensor,1}, ::Dict{TensorFlow.Tensor,Any}) at /home/ubuntu/.julia/v0.5/TensorFlow/src/run.jl:100"
     ]
    }
   ],
   "source": [
    "#Lets do this as a batch\n",
    "cur_loss, _, = run(sess,\n",
    "                   vcat(Loss, minimize_op),\n",
    "                   Dict(X_ids=>xs_ids, Y_obs=>ys))"
   ]
  },
  {
   "cell_type": "code",
   "execution_count": null,
   "metadata": {
    "collapsed": true
   },
   "outputs": [],
   "source": [
    "# Run training\n",
    "#run(sess, initialize_all_variables())\n",
    "recent_loss_total = 0.0\n",
    "loss_window = 10000\n",
    "for (ii, (x_id, y)) in enumerate(take(cycle(zip(xs_ids, ys)), 20_000))\n",
    "    cur_loss, _, = run(sess,\n",
    "                      vcat(Loss, minimize_op),\n",
    "    Dict(X_ids=>x_id, Y_obs=>y))\n",
    "    \n",
    "    recent_loss_total += cur_loss\n",
    "    if ii % loss_window == 0\n",
    "        recent_loss = recent_loss_total/loss_window\n",
    "        println(recent_loss)\n",
    "        recent_loss_total =0.0\n",
    "    end\n",
    "end"
   ]
  },
  {
   "cell_type": "code",
   "execution_count": 35,
   "metadata": {
    "collapsed": false
   },
   "outputs": [
    {
     "name": "stderr",
     "output_type": "stream",
     "text": [
      "WARNING: Method definition decode(Type{ColorTypes.HSL}, AbstractArray{#T<:Real, 1}) in module Main at In[13]:2 overwritten at In[35]:2.\n",
      "WARNING: Method definition decode(Type{#T<:AbstractString}, Integer) in module Main at In[13]:9 overwritten at In[35]:9.\n",
      "WARNING: Method definition decode(Type{#T<:AbstractString}, Integer, Any) in module Main at In[13]:9 overwritten at In[35]:9.\n"
     ]
    },
    {
     "data": {
      "text/plain": [
       "decode (generic function with 3 methods)"
      ]
     },
     "execution_count": 35,
     "metadata": {},
     "output_type": "execute_result"
    }
   ],
   "source": [
    "function decode{T<:Real}(::Type{HSL}, y::AbstractVector{T})\n",
    "    h = rad2deg(atan2(y[1], y[2]))\n",
    "    s = y[3]\n",
    "    l = y[4]\n",
    "    \n",
    "    HSL(h,s,l)\n",
    "end\n",
    "\n",
    "decode{T<:AbstractString}(::Type{T}, id::Integer, poolindex=PooledElements.__GLOBAL_POOL__.index) = poolindex[id]"
   ]
  },
  {
   "cell_type": "code",
   "execution_count": 37,
   "metadata": {
    "collapsed": false
   },
   "outputs": [
    {
     "data": {
      "image/svg+xml": [
       "<?xml version\"1.0\" encoding=\"UTF-8\"?>\n",
       "<!DOCTYPE svg PUBLIC \"-//W3C//DTD SVG 1.1//EN\"\n",
       " \"http://www.w3.org/Graphics/SVG/1.1/DTD/svg11.dtd\">\n",
       "<svg xmlns=\"http://www.w3.org/2000/svg\" version=\"1.1\"\n",
       "     width=\"25mm\" height=\"25mm\" viewBox=\"0 0 1 1\">\n",
       "     <rect width=\"1\" height=\"1\"\n",
       "           fill=\"#CB961B\" stroke=\"none\"/>\n",
       "</svg>\n"
      ],
      "text/plain": [
       "HSL{Float32}(42.19878f0,0.767989f0,0.449593f0)"
      ]
     },
     "execution_count": 37,
     "metadata": {},
     "output_type": "execute_result"
    }
   ],
   "source": [
    "decode(HSL, Float32[0.839931, 0.9263544, 0.767989, 0.449593])"
   ]
  },
  {
   "cell_type": "code",
   "execution_count": 38,
   "metadata": {
    "collapsed": false
   },
   "outputs": [
    {
     "name": "stderr",
     "output_type": "stream",
     "text": [
      "WARNING: Method definition get_color(Any) in module Main at In[15]:2 overwritten at In[38]:2.\n"
     ]
    },
    {
     "data": {
      "text/plain": [
       "get_color (generic function with 1 method)"
      ]
     },
     "execution_count": 38,
     "metadata": {},
     "output_type": "execute_result"
    }
   ],
   "source": [
    "function get_color(name)\n",
    "    name_tokens = encode(name)\n",
    "    x_id = encode(name_tokens)\n",
    "    max_known_word_id = get_shape(Ts).dims |> first |> get\n",
    "    filter!(id->id ≤ max_known_word_id, x_id)\n",
    "    if length(x_id) < length(name_tokens)\n",
    "        \n",
    "        warn(\"Discarded: \", length(name_tokens) - length(x_id), \" tokens, \", \n",
    "        \"remaining: \", length(x_id))\n",
    "    end\n",
    "    \n",
    "    \n",
    "    y_coded = run(sess, vcat(Y), Dict(X_ids=>x_id)) |> first |> vec\n",
    "    @show y_coded\n",
    "    col = decode(HSL, y_coded)\n",
    "    @show convert(RGB, col)\n",
    "    col\n",
    "end"
   ]
  },
  {
   "cell_type": "code",
   "execution_count": null,
   "metadata": {
    "collapsed": true
   },
   "outputs": [],
   "source": []
  },
  {
   "cell_type": "code",
   "execution_count": 56,
   "metadata": {
    "collapsed": false
   },
   "outputs": [
    {
     "name": "stdout",
     "output_type": "stream",
     "text": [
      "y_coded = Float32[0.718403,0.513588,0.19138,0.879054]\n",
      "convert(RGB,col) = RGB{Float32}(0.90220034f0,0.8979097f0,0.85590684f0)\n"
     ]
    },
    {
     "data": {
      "image/svg+xml": [
       "<?xml version\"1.0\" encoding=\"UTF-8\"?>\n",
       "<!DOCTYPE svg PUBLIC \"-//W3C//DTD SVG 1.1//EN\"\n",
       " \"http://www.w3.org/Graphics/SVG/1.1/DTD/svg11.dtd\">\n",
       "<svg xmlns=\"http://www.w3.org/2000/svg\" version=\"1.1\"\n",
       "     width=\"25mm\" height=\"25mm\" viewBox=\"0 0 1 1\">\n",
       "     <rect width=\"1\" height=\"1\"\n",
       "           fill=\"#E6E5DA\" stroke=\"none\"/>\n",
       "</svg>\n"
      ],
      "text/plain": [
       "HSL{Float32}(54.43897f0,0.19138011f0,0.8790536f0)"
      ]
     },
     "execution_count": 56,
     "metadata": {},
     "output_type": "execute_result"
    }
   ],
   "source": [
    "get_color(\"darkish dark light light tan\")"
   ]
  },
  {
   "cell_type": "code",
   "execution_count": 57,
   "metadata": {
    "collapsed": false
   },
   "outputs": [
    {
     "name": "stdout",
     "output_type": "stream",
     "text": [
      "y_coded = Float32[0.957458,-0.098743,0.790666,0.567506]\n",
      "convert(RGB,col) = RGB{Float32}(0.50038916f0,0.9094641f0,0.22554708f0)\n"
     ]
    },
    {
     "data": {
      "image/svg+xml": [
       "<?xml version\"1.0\" encoding=\"UTF-8\"?>\n",
       "<!DOCTYPE svg PUBLIC \"-//W3C//DTD SVG 1.1//EN\"\n",
       " \"http://www.w3.org/Graphics/SVG/1.1/DTD/svg11.dtd\">\n",
       "<svg xmlns=\"http://www.w3.org/2000/svg\" version=\"1.1\"\n",
       "     width=\"25mm\" height=\"25mm\" viewBox=\"0 0 1 1\">\n",
       "     <rect width=\"1\" height=\"1\"\n",
       "           fill=\"#80E83A\" stroke=\"none\"/>\n",
       "</svg>\n"
      ],
      "text/plain": [
       "HSL{Float32}(95.888115f0,0.7906659f0,0.5675056f0)"
      ]
     },
     "execution_count": 57,
     "metadata": {},
     "output_type": "execute_result"
    }
   ],
   "source": [
    "get_color(\"grass green\")"
   ]
  },
  {
   "cell_type": "code",
   "execution_count": 58,
   "metadata": {
    "collapsed": false
   },
   "outputs": [
    {
     "name": "stdout",
     "output_type": "stream",
     "text": [
      "y_coded = Float32[0.673799,-0.879389,0.922094,0.848319]\n",
      "convert(RGB,col) = RGB{Float32}(0.70845395f0,0.9881831f0,0.81353974f0)\n"
     ]
    },
    {
     "data": {
      "image/svg+xml": [
       "<?xml version\"1.0\" encoding=\"UTF-8\"?>\n",
       "<!DOCTYPE svg PUBLIC \"-//W3C//DTD SVG 1.1//EN\"\n",
       " \"http://www.w3.org/Graphics/SVG/1.1/DTD/svg11.dtd\">\n",
       "<svg xmlns=\"http://www.w3.org/2000/svg\" version=\"1.1\"\n",
       "     width=\"25mm\" height=\"25mm\" viewBox=\"0 0 1 1\">\n",
       "     <rect width=\"1\" height=\"1\"\n",
       "           fill=\"#B5FCCF\" stroke=\"none\"/>\n",
       "</svg>\n"
      ],
      "text/plain": [
       "HSL{Float32}(142.54019f0,0.9220939f0,0.8483185f0)"
      ]
     },
     "execution_count": 58,
     "metadata": {},
     "output_type": "execute_result"
    }
   ],
   "source": [
    "get_color(\"pale blue green\")"
   ]
  },
  {
   "cell_type": "code",
   "execution_count": 59,
   "metadata": {
    "collapsed": false
   },
   "outputs": [
    {
     "name": "stdout",
     "output_type": "stream",
     "text": [
      "y_coded = Float32[0.209482,0.376455,0.280165,0.666978]\n",
      "convert(RGB,col) = RGB{Float32}(0.76027894f0,0.66416025f0,0.57367635f0)\n"
     ]
    },
    {
     "data": {
      "image/svg+xml": [
       "<?xml version\"1.0\" encoding=\"UTF-8\"?>\n",
       "<!DOCTYPE svg PUBLIC \"-//W3C//DTD SVG 1.1//EN\"\n",
       " \"http://www.w3.org/Graphics/SVG/1.1/DTD/svg11.dtd\">\n",
       "<svg xmlns=\"http://www.w3.org/2000/svg\" version=\"1.1\"\n",
       "     width=\"25mm\" height=\"25mm\" viewBox=\"0 0 1 1\">\n",
       "     <rect width=\"1\" height=\"1\"\n",
       "           fill=\"#C2A992\" stroke=\"none\"/>\n",
       "</svg>\n"
      ],
      "text/plain": [
       "HSL{Float32}(29.094097f0,0.28016537f0,0.66697764f0)"
      ]
     },
     "execution_count": 59,
     "metadata": {},
     "output_type": "execute_result"
    }
   ],
   "source": [
    "get_color(\"grey\")"
   ]
  },
  {
   "cell_type": "code",
   "execution_count": 73,
   "metadata": {
    "collapsed": false
   },
   "outputs": [
    {
     "name": "stdout",
     "output_type": "stream",
     "text": [
      "y_coded = Float32[0.144143,0.951593,0.100851,0.256596]\n",
      "convert(RGB,col) = RGB{Float32}(0.28247347f0,0.23814756f0,0.23071763f0)\n"
     ]
    },
    {
     "data": {
      "image/svg+xml": [
       "<?xml version\"1.0\" encoding=\"UTF-8\"?>\n",
       "<!DOCTYPE svg PUBLIC \"-//W3C//DTD SVG 1.1//EN\"\n",
       " \"http://www.w3.org/Graphics/SVG/1.1/DTD/svg11.dtd\">\n",
       "<svg xmlns=\"http://www.w3.org/2000/svg\" version=\"1.1\"\n",
       "     width=\"25mm\" height=\"25mm\" viewBox=\"0 0 1 1\">\n",
       "     <rect width=\"1\" height=\"1\"\n",
       "           fill=\"#483D3B\" stroke=\"none\"/>\n",
       "</svg>\n"
      ],
      "text/plain": [
       "HSL{Float32}(8.613431f0,0.100851074f0,0.25659555f0)"
      ]
     },
     "execution_count": 73,
     "metadata": {},
     "output_type": "execute_result"
    }
   ],
   "source": [
    "get_color(\"black\")"
   ]
  },
  {
   "cell_type": "code",
   "execution_count": 61,
   "metadata": {
    "collapsed": false
   },
   "outputs": [
    {
     "name": "stdout",
     "output_type": "stream",
     "text": [
      "y_coded = Float32[0.737909,0.905667,0.883901,0.798466]\n",
      "convert(RGB,col) = RGB{Float32}(0.976602f0,0.8529282f0,0.6203293f0)\n"
     ]
    },
    {
     "data": {
      "image/svg+xml": [
       "<?xml version\"1.0\" encoding=\"UTF-8\"?>\n",
       "<!DOCTYPE svg PUBLIC \"-//W3C//DTD SVG 1.1//EN\"\n",
       " \"http://www.w3.org/Graphics/SVG/1.1/DTD/svg11.dtd\">\n",
       "<svg xmlns=\"http://www.w3.org/2000/svg\" version=\"1.1\"\n",
       "     width=\"25mm\" height=\"25mm\" viewBox=\"0 0 1 1\">\n",
       "     <rect width=\"1\" height=\"1\"\n",
       "           fill=\"#F9D99E\" stroke=\"none\"/>\n",
       "</svg>\n"
      ],
      "text/plain": [
       "HSL{Float32}(39.17206f0,0.8839008f0,0.79846567f0)"
      ]
     },
     "execution_count": 61,
     "metadata": {},
     "output_type": "execute_result"
    }
   ],
   "source": [
    "get_color(\"ivory\")"
   ]
  },
  {
   "cell_type": "code",
   "execution_count": 62,
   "metadata": {
    "collapsed": false
   },
   "outputs": [
    {
     "name": "stdout",
     "output_type": "stream",
     "text": [
      "y_coded = Float32[-0.0368657,0.999585,0.936841,0.540289]\n",
      "convert(RGB,col) = RGB{Float32}(0.9709653f0,0.10961288f0,0.1399349f0)\n"
     ]
    },
    {
     "data": {
      "image/svg+xml": [
       "<?xml version\"1.0\" encoding=\"UTF-8\"?>\n",
       "<!DOCTYPE svg PUBLIC \"-//W3C//DTD SVG 1.1//EN\"\n",
       " \"http://www.w3.org/Graphics/SVG/1.1/DTD/svg11.dtd\">\n",
       "<svg xmlns=\"http://www.w3.org/2000/svg\" version=\"1.1\"\n",
       "     width=\"25mm\" height=\"25mm\" viewBox=\"0 0 1 1\">\n",
       "     <rect width=\"1\" height=\"1\"\n",
       "           fill=\"#F81C24\" stroke=\"none\"/>\n",
       "</svg>\n"
      ],
      "text/plain": [
       "HSL{Float32}(-2.1121683f0,0.9368414f0,0.5402891f0)"
      ]
     },
     "execution_count": 62,
     "metadata": {},
     "output_type": "execute_result"
    }
   ],
   "source": [
    "get_color(\"reddish red\")"
   ]
  },
  {
   "cell_type": "code",
   "execution_count": 63,
   "metadata": {
    "collapsed": false
   },
   "outputs": [
    {
     "name": "stdout",
     "output_type": "stream",
     "text": [
      "y_coded = Float32[0.0970419,0.993028,0.945126,0.596034]\n",
      "convert(RGB,col) = RGB{Float32}(0.9778329f0,0.28526717f0,0.21423471f0)\n"
     ]
    },
    {
     "data": {
      "image/svg+xml": [
       "<?xml version\"1.0\" encoding=\"UTF-8\"?>\n",
       "<!DOCTYPE svg PUBLIC \"-//W3C//DTD SVG 1.1//EN\"\n",
       " \"http://www.w3.org/Graphics/SVG/1.1/DTD/svg11.dtd\">\n",
       "<svg xmlns=\"http://www.w3.org/2000/svg\" version=\"1.1\"\n",
       "     width=\"25mm\" height=\"25mm\" viewBox=\"0 0 1 1\">\n",
       "     <rect width=\"1\" height=\"1\"\n",
       "           fill=\"#F94937\" stroke=\"none\"/>\n",
       "</svg>\n"
      ],
      "text/plain": [
       "HSL{Float32}(5.5814023f0,0.94512624f0,0.5960338f0)"
      ]
     },
     "execution_count": 63,
     "metadata": {},
     "output_type": "execute_result"
    }
   ],
   "source": [
    "get_color(\"red\")"
   ]
  },
  {
   "cell_type": "code",
   "execution_count": 64,
   "metadata": {
    "collapsed": false
   },
   "outputs": [
    {
     "name": "stdout",
     "output_type": "stream",
     "text": [
      "y_coded = Float32[0.0309445,0.97747,0.755551,0.589044]\n",
      "convert(RGB,col) = RGB{Float32}(0.8995421f0,0.2973122f0,0.27854514f0)\n"
     ]
    },
    {
     "data": {
      "image/svg+xml": [
       "<?xml version\"1.0\" encoding=\"UTF-8\"?>\n",
       "<!DOCTYPE svg PUBLIC \"-//W3C//DTD SVG 1.1//EN\"\n",
       " \"http://www.w3.org/Graphics/SVG/1.1/DTD/svg11.dtd\">\n",
       "<svg xmlns=\"http://www.w3.org/2000/svg\" version=\"1.1\"\n",
       "     width=\"25mm\" height=\"25mm\" viewBox=\"0 0 1 1\">\n",
       "     <rect width=\"1\" height=\"1\"\n",
       "           fill=\"#E54C47\" stroke=\"none\"/>\n",
       "</svg>\n"
      ],
      "text/plain": [
       "HSL{Float32}(1.8132522f0,0.755551f0,0.5890436f0)"
      ]
     },
     "execution_count": 64,
     "metadata": {},
     "output_type": "execute_result"
    }
   ],
   "source": [
    "get_color(\"reddish\")"
   ]
  },
  {
   "cell_type": "code",
   "execution_count": 65,
   "metadata": {
    "collapsed": false
   },
   "outputs": [
    {
     "name": "stdout",
     "output_type": "stream",
     "text": [
      "y_coded = Float32[-0.526487,0.899951,0.966353,0.597983]\n",
      "convert(RGB,col) = RGB{Float32}(0.9864732f0,0.2094934f0,0.6022358f0)\n"
     ]
    },
    {
     "data": {
      "image/svg+xml": [
       "<?xml version\"1.0\" encoding=\"UTF-8\"?>\n",
       "<!DOCTYPE svg PUBLIC \"-//W3C//DTD SVG 1.1//EN\"\n",
       " \"http://www.w3.org/Graphics/SVG/1.1/DTD/svg11.dtd\">\n",
       "<svg xmlns=\"http://www.w3.org/2000/svg\" version=\"1.1\"\n",
       "     width=\"25mm\" height=\"25mm\" viewBox=\"0 0 1 1\">\n",
       "     <rect width=\"1\" height=\"1\"\n",
       "           fill=\"#FC359A\" stroke=\"none\"/>\n",
       "</svg>\n"
      ],
      "text/plain": [
       "HSL{Float32}(-30.328388f0,0.96635264f0,0.5979833f0)"
      ]
     },
     "execution_count": 65,
     "metadata": {},
     "output_type": "execute_result"
    }
   ],
   "source": [
    "get_color(\"blue red\")"
   ]
  },
  {
   "cell_type": "code",
   "execution_count": 66,
   "metadata": {
    "collapsed": false
   },
   "outputs": [
    {
     "name": "stdout",
     "output_type": "stream",
     "text": [
      "y_coded = Float32[0.450142,-0.865818,0.864836,0.59704]\n",
      "convert(RGB,col) = RGB{Float32}(0.24854547f0,0.9455343f0,0.6264285f0)\n"
     ]
    },
    {
     "data": {
      "image/svg+xml": [
       "<?xml version\"1.0\" encoding=\"UTF-8\"?>\n",
       "<!DOCTYPE svg PUBLIC \"-//W3C//DTD SVG 1.1//EN\"\n",
       " \"http://www.w3.org/Graphics/SVG/1.1/DTD/svg11.dtd\">\n",
       "<svg xmlns=\"http://www.w3.org/2000/svg\" version=\"1.1\"\n",
       "     width=\"25mm\" height=\"25mm\" viewBox=\"0 0 1 1\">\n",
       "     <rect width=\"1\" height=\"1\"\n",
       "           fill=\"#3FF1A0\" stroke=\"none\"/>\n",
       "</svg>\n"
      ],
      "text/plain": [
       "HSL{Float32}(152.5299f0,0.8648359f0,0.5970399f0)"
      ]
     },
     "execution_count": 66,
     "metadata": {},
     "output_type": "execute_result"
    }
   ],
   "source": [
    "get_color(\"blue green\")"
   ]
  },
  {
   "cell_type": "code",
   "execution_count": 67,
   "metadata": {
    "collapsed": false
   },
   "outputs": [
    {
     "name": "stdout",
     "output_type": "stream",
     "text": [
      "y_coded = Float32[-0.438923,-0.57753,0.862064,0.648539]\n",
      "convert(RGB,col) = RGB{Float32}(0.34555656f0,0.5754707f0,0.95152074f0)\n"
     ]
    },
    {
     "data": {
      "image/svg+xml": [
       "<?xml version\"1.0\" encoding=\"UTF-8\"?>\n",
       "<!DOCTYPE svg PUBLIC \"-//W3C//DTD SVG 1.1//EN\"\n",
       " \"http://www.w3.org/Graphics/SVG/1.1/DTD/svg11.dtd\">\n",
       "<svg xmlns=\"http://www.w3.org/2000/svg\" version=\"1.1\"\n",
       "     width=\"25mm\" height=\"25mm\" viewBox=\"0 0 1 1\">\n",
       "     <rect width=\"1\" height=\"1\"\n",
       "           fill=\"#5893F3\" stroke=\"none\"/>\n",
       "</svg>\n"
      ],
      "text/plain": [
       "HSL{Float32}(-142.76512f0,0.8620637f0,0.64853865f0)"
      ]
     },
     "execution_count": 67,
     "metadata": {},
     "output_type": "execute_result"
    }
   ],
   "source": [
    "get_color(\"blue\")"
   ]
  },
  {
   "cell_type": "code",
   "execution_count": 68,
   "metadata": {
    "collapsed": false
   },
   "outputs": [
    {
     "name": "stdout",
     "output_type": "stream",
     "text": [
      "y_coded = Float32[-0.77687,-0.957892,0.911028,0.652946]\n",
      "convert(RGB,col) = RGB{Float32}(0.33676916f0,0.5576415f0,0.9691219f0)\n"
     ]
    },
    {
     "data": {
      "image/svg+xml": [
       "<?xml version\"1.0\" encoding=\"UTF-8\"?>\n",
       "<!DOCTYPE svg PUBLIC \"-//W3C//DTD SVG 1.1//EN\"\n",
       " \"http://www.w3.org/Graphics/SVG/1.1/DTD/svg11.dtd\">\n",
       "<svg xmlns=\"http://www.w3.org/2000/svg\" version=\"1.1\"\n",
       "     width=\"25mm\" height=\"25mm\" viewBox=\"0 0 1 1\">\n",
       "     <rect width=\"1\" height=\"1\"\n",
       "           fill=\"#568EF7\" stroke=\"none\"/>\n",
       "</svg>\n"
      ],
      "text/plain": [
       "HSL{Float32}(-140.9572f0,0.91102785f0,0.6529455f0)"
      ]
     },
     "execution_count": 68,
     "metadata": {},
     "output_type": "execute_result"
    }
   ],
   "source": [
    "get_color(\"blue blue\")"
   ]
  },
  {
   "cell_type": "code",
   "execution_count": 69,
   "metadata": {
    "collapsed": false
   },
   "outputs": [
    {
     "name": "stdout",
     "output_type": "stream",
     "text": [
      "y_coded = Float32[-0.853077,-0.896532,0.751147,0.626851]\n",
      "convert(RGB,col) = RGB{Float32}(0.34656036f0,0.4999983f0,0.90714073f0)\n"
     ]
    },
    {
     "data": {
      "image/svg+xml": [
       "<?xml version\"1.0\" encoding=\"UTF-8\"?>\n",
       "<!DOCTYPE svg PUBLIC \"-//W3C//DTD SVG 1.1//EN\"\n",
       " \"http://www.w3.org/Graphics/SVG/1.1/DTD/svg11.dtd\">\n",
       "<svg xmlns=\"http://www.w3.org/2000/svg\" version=\"1.1\"\n",
       "     width=\"25mm\" height=\"25mm\" viewBox=\"0 0 1 1\">\n",
       "     <rect width=\"1\" height=\"1\"\n",
       "           fill=\"#587FE7\" stroke=\"none\"/>\n",
       "</svg>\n"
      ],
      "text/plain": [
       "HSL{Float32}(-136.42276f0,0.75114703f0,0.62685055f0)"
      ]
     },
     "execution_count": 69,
     "metadata": {},
     "output_type": "execute_result"
    }
   ],
   "source": [
    "get_color(\"bluish blue\")"
   ]
  },
  {
   "cell_type": "code",
   "execution_count": 70,
   "metadata": {
    "collapsed": false
   },
   "outputs": [
    {
     "name": "stdout",
     "output_type": "stream",
     "text": [
      "y_coded = Float32[-0.589034,-0.154932,0.622888,0.623845]\n",
      "convert(RGB,col) = RGB{Float32}(0.5087505f0,0.38954198f0,0.85814714f0)\n"
     ]
    },
    {
     "data": {
      "image/svg+xml": [
       "<?xml version\"1.0\" encoding=\"UTF-8\"?>\n",
       "<!DOCTYPE svg PUBLIC \"-//W3C//DTD SVG 1.1//EN\"\n",
       " \"http://www.w3.org/Graphics/SVG/1.1/DTD/svg11.dtd\">\n",
       "<svg xmlns=\"http://www.w3.org/2000/svg\" version=\"1.1\"\n",
       "     width=\"25mm\" height=\"25mm\" viewBox=\"0 0 1 1\">\n",
       "     <rect width=\"1\" height=\"1\"\n",
       "           fill=\"#8263DB\" stroke=\"none\"/>\n",
       "</svg>\n"
      ],
      "text/plain": [
       "HSL{Float32}(-104.736595f0,0.62288755f0,0.62384456f0)"
      ]
     },
     "execution_count": 70,
     "metadata": {},
     "output_type": "execute_result"
    }
   ],
   "source": [
    "get_color(\"bluish\")"
   ]
  },
  {
   "cell_type": "code",
   "execution_count": 71,
   "metadata": {
    "collapsed": false
   },
   "outputs": [
    {
     "name": "stdout",
     "output_type": "stream",
     "text": [
      "y_coded = Float32[-0.619058,0.754579,-0.218318,0.224795]\n",
      "convert(RGB,col) = RGB{Float32}(0.17571782f0,0.27387148f0,0.2094737f0)\n"
     ]
    },
    {
     "data": {
      "image/svg+xml": [
       "<?xml version\"1.0\" encoding=\"UTF-8\"?>\n",
       "<!DOCTYPE svg PUBLIC \"-//W3C//DTD SVG 1.1//EN\"\n",
       " \"http://www.w3.org/Graphics/SVG/1.1/DTD/svg11.dtd\">\n",
       "<svg xmlns=\"http://www.w3.org/2000/svg\" version=\"1.1\"\n",
       "     width=\"25mm\" height=\"25mm\" viewBox=\"0 0 1 1\">\n",
       "     <rect width=\"1\" height=\"1\"\n",
       "           fill=\"#2D4635\" stroke=\"none\"/>\n",
       "</svg>\n"
      ],
      "text/plain": [
       "HSL{Float32}(-39.365494f0,-0.21831845f0,0.22479464f0)"
      ]
     },
     "execution_count": 71,
     "metadata": {},
     "output_type": "execute_result"
    }
   ],
   "source": [
    "get_color(\"bluish black\")"
   ]
  },
  {
   "cell_type": "code",
   "execution_count": 72,
   "metadata": {
    "collapsed": false
   },
   "outputs": [
    {
     "name": "stdout",
     "output_type": "stream",
     "text": [
      "y_coded = Float32[-0.0643716,0.906893,-0.111987,0.0468052]\n",
      "convert(RGB,col) = RGB{Float32}(0.041563615f0,0.052046813f0,0.05133744f0)\n"
     ]
    },
    {
     "data": {
      "image/svg+xml": [
       "<?xml version\"1.0\" encoding=\"UTF-8\"?>\n",
       "<!DOCTYPE svg PUBLIC \"-//W3C//DTD SVG 1.1//EN\"\n",
       " \"http://www.w3.org/Graphics/SVG/1.1/DTD/svg11.dtd\">\n",
       "<svg xmlns=\"http://www.w3.org/2000/svg\" version=\"1.1\"\n",
       "     width=\"25mm\" height=\"25mm\" viewBox=\"0 0 1 1\">\n",
       "     <rect width=\"1\" height=\"1\"\n",
       "           fill=\"#0B0D0D\" stroke=\"none\"/>\n",
       "</svg>\n"
      ],
      "text/plain": [
       "HSL{Float32}(-4.0600667f0,-0.111987464f0,0.046805214f0)"
      ]
     },
     "execution_count": 72,
     "metadata": {},
     "output_type": "execute_result"
    }
   ],
   "source": [
    "get_color(\"dark black\")"
   ]
  },
  {
   "cell_type": "code",
   "execution_count": null,
   "metadata": {
    "collapsed": true
   },
   "outputs": [],
   "source": []
  },
  {
   "cell_type": "code",
   "execution_count": null,
   "metadata": {
    "collapsed": true
   },
   "outputs": [],
   "source": []
  }
 ],
 "metadata": {
  "kernelspec": {
   "display_name": "Julia 0.5.0",
   "language": "julia",
   "name": "julia-0.5"
  },
  "language_info": {
   "file_extension": ".jl",
   "mimetype": "application/julia",
   "name": "julia",
   "version": "0.5.0"
  }
 },
 "nbformat": 4,
 "nbformat_minor": 0
}
