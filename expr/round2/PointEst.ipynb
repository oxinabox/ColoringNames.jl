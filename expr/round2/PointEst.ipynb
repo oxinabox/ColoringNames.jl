{
 "cells": [
  {
   "cell_type": "code",
   "execution_count": 1,
   "metadata": {},
   "outputs": [],
   "source": [
    "using ColoringNames"
   ]
  },
  {
   "cell_type": "code",
   "execution_count": 2,
   "metadata": {},
   "outputs": [
    {
     "data": {
      "text/plain": [
       "ColoringNames.ColorDatasets{MLLabelUtils.LabelEnc.NativeLabels{SubString{String},307},ColoringNames.ColorDataset{Array{Any,1},Array{Int64,2},Array{Float32,2}}}(MLLabelUtils.LabelEnc.NativeLabels{SubString{String},307}(SubString{String}[\"acid\", \"green\", \"adobe\", \"algae\", \"almost\", \"black\", \"amber\", \"amethyst\", \"apple\", \"apricot\"  …  \"vivid\", \"vomit\", \"warm\", \"watermelon\", \"weird\", \"wheat\", \"wine\", \"wintergreen\", \"wisteria\", \"yuck\"], Dict(\"russet\"=>251,\"celery\"=>84,\"lipstick\"=>196,\"dull\"=>137,\"chocolate\"=>91,\"sepia\"=>259,\"fern\"=>150,\"sickly\"=>263,\"'s\"=>248,\"y\"=>43…)), ColoringNames.ColorDataset{Array{Any,1},Array{Int64,2},Array{Float32,2}}(Any[\"acid green\", \"acid green\", \"acid green\", \"acid green\", \"acid green\", \"acid green\", \"acid green\", \"acid green\", \"acid green\", \"acid green\"  …  \"yuck\", \"yuck\", \"yuck\", \"yuck\", \"yuck\", \"yuck\", \"yuck\", \"yuck\", \"yuck\", \"yuck\"], [1 1 … 307 307; 2 2 … 0 0; 0 0 … 0 0; 0 0 … 0 0], Float32[0.344113 0.855319 0.921569; 0.281905 0.744681 0.921569; … ; 0.376894 0.768559 0.898039; 0.179104 0.41358 0.635294]), ColoringNames.ColorDataset{Array{Any,1},Array{Int64,2},Array{Float32,2}}(Any[\"acid green\", \"acid green\", \"acid green\", \"acid green\", \"acid green\", \"acid green\", \"acid green\", \"acid green\", \"acid green\", \"acid green\"  …  \"yuck\", \"yuck\", \"yuck\", \"yuck\", \"yuck\", \"yuck\", \"yuck\", \"yuck\", \"yuck\", \"yuck\"], [1 1 … 307 307; 2 2 … 0 0; 0 0 … 0 0; 0 0 … 0 0], Float32[0.328092 0.665272 0.937255; 0.241007 0.712821 0.764706; … ; 0.0540541 0.308333 0.941176; 0.125874 0.590909 0.94902]), ColoringNames.ColorDataset{Array{Any,1},Array{Int64,2},Array{Float32,2}}(Any[\"acid green\", \"acid green\", \"acid green\", \"acid green\", \"acid green\", \"acid green\", \"acid green\", \"acid green\", \"acid green\", \"acid green\"  …  \"yuck\", \"yuck\", \"yuck\", \"yuck\", \"yuck\", \"yuck\", \"yuck\", \"yuck\", \"yuck\", \"yuck\"], [1 1 … 307 307; 2 2 … 0 0; 0 0 … 0 0; 0 0 … 0 0], Float32[0.328092 0.665272 0.937255; 0.241007 0.712821 0.764706; … ; 0.0540541 0.308333 0.941176; 0.125874 0.590909 0.94902]))"
      ]
     },
     "execution_count": 2,
     "metadata": {},
     "output_type": "execute_result"
    }
   ],
   "source": [
    "cldata = load_munroe_data(dev_as_train=false, dev_as_test=true)"
   ]
  },
  {
   "cell_type": "code",
   "execution_count": 3,
   "metadata": {},
   "outputs": [
    {
     "data": {
      "text/plain": [
       "qualitative_demo (generic function with 3 methods)"
      ]
     },
     "execution_count": 3,
     "metadata": {},
     "output_type": "execute_result"
    }
   ],
   "source": [
    "function qualitative_demo(mdl, do_oov=true)\n",
    "    names = [\"black\", \"brownish green\", \"brown\", \"brownish\", \"greenish\", \"greenish brown\", \"green\"]\n",
    "    if do_oov\n",
    "        append!(names, [\"ish\"])\n",
    "    end\n",
    "    \n",
    "    cols = mapslices(hsv2colorant, (query(mdl, names)), 1)\n",
    "    display(cols)\n",
    "    println(join(rpad.(names, 10), \"|\"))\n",
    "end\n",
    "\n",
    "qualitative_demo(mdl::TermToColorPointEmpirical) = qualitative_demo(mdl, false)"
   ]
  },
  {
   "cell_type": "code",
   "execution_count": 4,
   "metadata": {},
   "outputs": [
    {
     "data": {
      "image/svg+xml": [
       "<?xml version=\"1.0\" encoding=\"UTF-8\"?>\n",
       "<!DOCTYPE svg PUBLIC \"-//W3C//DTD SVG 1.1//EN\"\n",
       " \"http://www.w3.org/Graphics/SVG/1.1/DTD/svg11.dtd\">\n",
       "<svg xmlns=\"http://www.w3.org/2000/svg\" version=\"1.1\"\n",
       "     width=\"175.0mm\" height=\"25.0mm\"\n",
       "     shape-rendering=\"crispEdges\">\n",
       "<rect x=\"0.0mm\" y=\"0.0mm\"\n",
       "      width=\"24.0mm\" height=\"24.0mm\"\n",
       "      fill=\"#2C1231\" stroke=\"none\" />\n",
       "<rect x=\"25.0mm\" y=\"0.0mm\"\n",
       "      width=\"24.0mm\" height=\"24.0mm\"\n",
       "      fill=\"#808C2E\" stroke=\"none\" />\n",
       "<rect x=\"50.0mm\" y=\"0.0mm\"\n",
       "      width=\"24.0mm\" height=\"24.0mm\"\n",
       "      fill=\"#88562A\" stroke=\"none\" />\n",
       "<rect x=\"75.0mm\" y=\"0.0mm\"\n",
       "      width=\"24.0mm\" height=\"24.0mm\"\n",
       "      fill=\"#9B673D\" stroke=\"none\" />\n",
       "<rect x=\"100.0mm\" y=\"0.0mm\"\n",
       "      width=\"24.0mm\" height=\"24.0mm\"\n",
       "      fill=\"#42BB48\" stroke=\"none\" />\n",
       "<rect x=\"125.0mm\" y=\"0.0mm\"\n",
       "      width=\"24.0mm\" height=\"24.0mm\"\n",
       "      fill=\"#827E28\" stroke=\"none\" />\n",
       "<rect x=\"150.0mm\" y=\"0.0mm\"\n",
       "      width=\"24.0mm\" height=\"24.0mm\"\n",
       "      fill=\"#36B92E\" stroke=\"none\" />\n",
       "</svg>"
      ],
      "text/plain": [
       "1×7 Array{ColorTypes.RGB{Float32},2}:\n",
       " RGB{Float32}(0.171487,0.0697263,0.191897)  …  RGB{Float32}(0.209901,0.727107,0.180253)"
      ]
     },
     "metadata": {},
     "output_type": "display_data"
    },
    {
     "name": "stdout",
     "output_type": "stream",
     "text": [
      "black     |brownish green|brown     |brownish  |greenish  |greenish brown|green     \n",
      "evaluate(noml, cldata.dev) = 0.06635567f0\n"
     ]
    },
    {
     "data": {
      "text/plain": [
       "0.06635567f0"
      ]
     },
     "execution_count": 4,
     "metadata": {},
     "output_type": "execute_result"
    }
   ],
   "source": [
    "noml = ColoringNames.TermToColorPointEmpirical()\n",
    "train!(noml, cldata)\n",
    "\n",
    "qualitative_demo(noml)\n",
    "@show evaluate(noml, cldata.dev)"
   ]
  },
  {
   "cell_type": "code",
   "execution_count": null,
   "metadata": {},
   "outputs": [
    {
     "name": "stderr",
     "output_type": "stream",
     "text": [
      "2018-05-25 20:24:02.828295: I tensorflow/core/platform/cpu_feature_guard.cc:140] Your CPU supports instructions that this TensorFlow binary was not compiled to use: SSE4.1 SSE4.2\n"
     ]
    }
   ],
   "source": [
    "sowe = TermToColorPointSOWE(cldata.encoding; n_steps=4)\n",
    "\n",
    "train!(sowe, cldata)\n",
    "query(sowe, [\"red\", \"blue\"])\n",
    "qualitative_demo(sowe)\n",
    "@show evaluate(sowe, cldata.dev)"
   ]
  },
  {
   "cell_type": "code",
   "execution_count": null,
   "metadata": {},
   "outputs": [],
   "source": [
    "methods(ColoringNames._train!)"
   ]
  },
  {
   "cell_type": "code",
   "execution_count": null,
   "metadata": {},
   "outputs": [],
   "source": [
    " cldata.train.colors"
   ]
  },
  {
   "cell_type": "code",
   "execution_count": null,
   "metadata": {},
   "outputs": [],
   "source": [
    "using MLDataUtils"
   ]
  },
  {
   "cell_type": "code",
   "execution_count": null,
   "metadata": {},
   "outputs": [],
   "source": [
    "all_obs = obsview((cldata.train.colors, cldata.train.terms_padded), (ObsDim.First(), ObsDim.Last()))"
   ]
  },
  {
   "cell_type": "code",
   "execution_count": null,
   "metadata": {},
   "outputs": [],
   "source": [
    "first(eachbatch(all_obs))"
   ]
  },
  {
   "cell_type": "code",
   "execution_count": null,
   "metadata": {},
   "outputs": [],
   "source": [
    "all_obs = eachbatch((cldata.train.colors, cldata.train.terms_padded), (ObsDim.First(), ObsDim.Last()))"
   ]
  },
  {
   "cell_type": "code",
   "execution_count": null,
   "metadata": {},
   "outputs": [],
   "source": []
  }
 ],
 "metadata": {
  "kernelspec": {
   "display_name": "Julia 0.6.2",
   "language": "julia",
   "name": "julia-0.6"
  },
  "language_info": {
   "file_extension": ".jl",
   "mimetype": "application/julia",
   "name": "julia",
   "version": "0.6.2"
  }
 },
 "nbformat": 4,
 "nbformat_minor": 2
}
