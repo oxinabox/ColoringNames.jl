{
 "cells": [
  {
   "cell_type": "code",
   "execution_count": 1,
   "metadata": {},
   "outputs": [
    {
     "data": {
      "text/plain": [
       "mklogdir (generic function with 1 method)"
      ]
     },
     "execution_count": 1,
     "metadata": {},
     "output_type": "execute_result"
    }
   ],
   "source": [
    "using Plots\n",
    "pyplot()\n",
    "using ColoringNames\n",
    "using CSVFiles\n",
    "using DataFrames\n",
    "pyplot()\n",
    "\n",
    "runnum = \"0a\"\n",
    "function mklogdir(name)\n",
    "    logdir = joinpath(pwd(), \"logs\",\"point\", name * runnum)\n",
    "    mkpath(logdir)\n",
    "    logdir\n",
    "end"
   ]
  },
  {
   "cell_type": "code",
   "execution_count": 2,
   "metadata": {},
   "outputs": [],
   "source": [
    "const many_names = load_color_nameset()\n",
    "const word_embs, vocab, enc = load_text_embeddings(keep_words=many_names)\n",
    "const full_data = load_munroe_data(dev_as_train=false, dev_as_test=false, encoding_ = enc)\n",
    "\n",
    "const ord_data = order_relevant_dataset(full_data);\n",
    "const extrapo_data = extrapolation_dataset(full_data);"
   ]
  },
  {
   "cell_type": "code",
   "execution_count": 3,
   "metadata": {},
   "outputs": [
    {
     "data": {
      "text/plain": [
       "qualitative_demo (generic function with 3 methods)"
      ]
     },
     "execution_count": 3,
     "metadata": {},
     "output_type": "execute_result"
    }
   ],
   "source": [
    "function get_saveplot(mdlname)\n",
    "    figpath = joinpath(\"demo\", \"point\", mdlname)\n",
    "    mkpath(figpath)\n",
    "    function saveplot(mdl, colornames, subfigname)\n",
    "        filename = joinpath(figpath, subfigname*\".png\")\n",
    "        savefig(plot_query(mdl, colornames), filename)\n",
    "    end\n",
    "end\n",
    "\n",
    "\n",
    "function qualitative_demo(mdl, do_oov=true;\n",
    "        demofun= (mdl, colornames, subfigname) -> display(plot_query(mdl, colornames))\n",
    "    )\n",
    "    \n",
    "    maincolors = [   \"brown-orange\",\n",
    "                \"orange-brown\",\n",
    "                \"yellow-orange\",\n",
    "                \"orange-yellow\",\n",
    "                \"brownish green\",\n",
    "                \"greenish brown\",\n",
    "                \"bluish grey\",\n",
    "                \"greyish blue\",\n",
    "                \"pink-purple\",\n",
    "                \"purple-pink\",\n",
    "                \"green\",\n",
    "                \"greenish\",\n",
    "                \"purple\",\n",
    "                \"purplish\",\n",
    "                \"brown\",\n",
    "                \"brownish\",\n",
    "                \"black\",\n",
    "                \"white\",\n",
    "                \"grey\"]\n",
    "    demofun(mdl, maincolors, \"maincolors\")\n",
    "    \n",
    "    if do_oov\n",
    "        oov_names = [\"Brown\", \"Green\", \"Purple\", \"gray\", \"Gray\"]\n",
    "        #append!(names, [\"ish\"])\n",
    "        demofun(mdl, oov_names, \"oovcolors\")\n",
    "    end\n",
    "    \n",
    "end\n",
    "\n",
    "qualitative_demo(mdl::TermToColorPointEmpirical; kwargs...) = qualitative_demo(mdl, false; kwargs...)"
   ]
  },
  {
   "cell_type": "code",
   "execution_count": 4,
   "metadata": {},
   "outputs": [
    {
     "data": {
      "text/plain": [
       "doextrapo (generic function with 2 methods)"
      ]
     },
     "execution_count": 4,
     "metadata": {},
     "output_type": "execute_result"
    }
   ],
   "source": [
    "create_res_df() = DataFrame(method=String[], mse=Float64[])\n",
    "\n",
    "full_df = create_res_df()\n",
    "extrapo_df = create_res_df()\n",
    "ord_df = create_res_df()\n",
    "\n",
    "function perform_evaluation(modeltype, name)\n",
    "    info(name)\n",
    "    \n",
    "    function mdlfun(cldata)\n",
    "        mdl = modeltype(enc, word_embs; n_steps=size(cldata.train.terms_padded,1))\n",
    "        train!(mdl, cldata; log_dir = mklogdir(name))\n",
    "        mdl\n",
    "    end\n",
    "    \n",
    "    \n",
    "    ###################\n",
    "    if doextrapo(modeltype)\n",
    "        extrapo_mdl = mdlfun(extrapo_data)\n",
    "        println()\n",
    "        @show res_extrapo = evaluate(extrapo_mdl, extrapo_data.test)\n",
    "        push!(extrapo_df, Dict(:method=>name * \" Extrapolating\", :mse=>res_extrapo))\n",
    "    end\n",
    "    \n",
    "    \n",
    "    ######\n",
    "    full_mdl = mdlfun(full_data)\n",
    "    println()\n",
    "    @show res_full = evaluate(full_mdl, full_data.test)\n",
    "    push!(full_df, Dict(:method=>name, :mse=>res_full))\n",
    "    \n",
    "    qualitative_demo(full_mdl; demofun=get_saveplot(name))\n",
    "    \n",
    "    #######\n",
    "    println()\n",
    "    @show res_ord = evaluate(full_mdl, ord_data.test)\n",
    "    push!(ord_df, Dict(:method=>name, :mse=>res_ord))\n",
    "    \n",
    "    \n",
    "    #######\n",
    "    @show  res_nonextrapo = evaluate(full_mdl, extrapo_data.test)\n",
    "    println()\n",
    "    push!(extrapo_df, Dict(:method=>name * \" Non-extrapolating\", :mse=>res_nonextrapo))\n",
    "    \n",
    "    \n",
    "    ####\n",
    "    save(\"results/raw/point_full.csv\", full_df)\n",
    "    save(\"results/raw/point_extrapo.csv\", extrapo_df)\n",
    "    save(\"results/raw/point_ord.csv\", ord_df)\n",
    "    \n",
    "    full_mdl\n",
    "end\n",
    "\n",
    "\n",
    "doextrapo(::Any) = true\n",
    "doextrapo(::Type{TermToColorPointEmpirical}) = false"
   ]
  },
  {
   "cell_type": "code",
   "execution_count": 5,
   "metadata": {},
   "outputs": [
    {
     "name": "stderr",
     "output_type": "stream",
     "text": [
      "\u001b[1m\u001b[36mINFO: \u001b[39m\u001b[22m\u001b[36mLSTM\n",
      "\u001b[39m2019-01-25 13:05:57.196061: I tensorflow/core/platform/cpu_feature_guard.cc:140] Your CPU supports instructions that this TensorFlow binary was not compiled to use: SSE4.2 AVX AVX2 FMA\n",
      "\u001b[1m\u001b[33mWARNING: \u001b[39m\u001b[22m\u001b[33mThe specified values for size and/or count will result in 11704 unused data points\u001b[39m\n"
     ]
    },
    {
     "name": "stdout",
     "output_type": "stream",
     "text": [
      "\n",
      "res_extrapo = evaluate(extrapo_mdl, extrapo_data.test) = 0.14087577f0\n"
     ]
    },
    {
     "name": "stderr",
     "output_type": "stream",
     "text": [
      "\u001b[1m\u001b[33mWARNING: \u001b[39m\u001b[22m\u001b[33mThe specified values for size and/or count will result in 15780 unused data points\u001b[39m\n"
     ]
    },
    {
     "name": "stdout",
     "output_type": "stream",
     "text": [
      "\n",
      "res_full = evaluate(full_mdl, full_data.test) = 0.071216844f0\n"
     ]
    },
    {
     "name": "stderr",
     "output_type": "stream",
     "text": [
      "'c' argument looks like a single numeric RGB or RGBA sequence, which should be avoided as value-mapping will have precedence in case its length matches with 'x' & 'y'.  Please use a 2-D array with a single row if you really want to specify the same RGB or RGBA value for all points.\n",
      "/Users/oxinabox/.julia/v0.6/Conda/deps/usr/lib/python3.6/site-packages/matplotlib/cbook/__init__.py:424: MatplotlibDeprecationWarning: \n",
      "Passing one of 'on', 'true', 'off', 'false' as a boolean is deprecated; use an actual boolean (True/False) instead.\n",
      "  warn_deprecated(\"2.2\", \"Passing one of 'on', 'true', 'off', 'false' as a \"\n",
      "'c' argument looks like a single numeric RGB or RGBA sequence, which should be avoided as value-mapping will have precedence in case its length matches with 'x' & 'y'.  Please use a 2-D array with a single row if you really want to specify the same RGB or RGBA value for all points.\n"
     ]
    },
    {
     "name": "stdout",
     "output_type": "stream",
     "text": [
      "\n",
      "res_ord = evaluate(full_mdl, ord_data.test) = 0.096134596f0\n",
      "res_nonextrapo = evaluate(full_mdl, extrapo_data.test) = 0.13809597f0\n",
      "\n"
     ]
    }
   ],
   "source": [
    "namedmodels = [\n",
    "  #  (TermToColorPointEmpirical, \"Direct\"),\n",
    "   # (TermToColorPointSOWE, \"SOWE\"),\n",
    "    #(TermToColorPointCNN, \"CNN\"),\n",
    "    (TermToColorPointRNN, \"LSTM\"),    \n",
    "]\n",
    "\n",
    "for (modeltype, name) in namedmodels\n",
    "    perform_evaluation(modeltype, name)\n",
    "end;"
   ]
  },
  {
   "cell_type": "code",
   "execution_count": 7,
   "metadata": {},
   "outputs": [
    {
     "data": {
      "text/plain": [
       "1"
      ]
     },
     "execution_count": 7,
     "metadata": {},
     "output_type": "execute_result"
    }
   ],
   "source": [
    "1"
   ]
  },
  {
   "cell_type": "code",
   "execution_count": null,
   "metadata": {},
   "outputs": [],
   "source": [
    "#noml = ColoringNames.TermToColorPointEmpirical()\n",
    "#train!(noml, full_data)\n",
    "\n",
    "qualitative_demo(noml, demofun=get_saveplot(\"Direct\"))\n"
   ]
  },
  {
   "cell_type": "code",
   "execution_count": null,
   "metadata": {},
   "outputs": [],
   "source": [
    "noml = ColoringNames.TermToColorPointEmpirical()\n",
    "train!(noml, cldata)\n",
    "\n",
    "qualitative_demo(noml)\n",
    "@show evaluate(noml, cldata.dev)"
   ]
  },
  {
   "cell_type": "code",
   "execution_count": null,
   "metadata": {},
   "outputs": [],
   "source": [
    "sowe = TermToColorPointSOWE(full_data.encoding, word_embs; n_steps=4)\n",
    "train!(sowe, full_data;\n",
    "    log_dir=mklogdir(\"sowe\")\n",
    ")\n",
    "qualitative_demo(sowe)\n",
    "@show evaluate(sowe, full_data.dev)"
   ]
  },
  {
   "cell_type": "code",
   "execution_count": null,
   "metadata": {},
   "outputs": [],
   "source": [
    "cnn = TermToColorPointCNN(cldata.encoding, word_embs; n_steps=4)\n",
    "\n",
    "train!(cnn, cldata;\n",
    "    log_dir=mklogdir(\"cnn\"),\n",
    ")\n",
    "qualitative_demo(cnn)\n",
    "@show evaluate(cnn, cldata.dev)"
   ]
  },
  {
   "cell_type": "code",
   "execution_count": null,
   "metadata": {},
   "outputs": [],
   "source": [
    "qualitative_demo(cnn)\n",
    "@show evaluate(cnn, cldata.dev)"
   ]
  },
  {
   "cell_type": "code",
   "execution_count": null,
   "metadata": {},
   "outputs": [],
   "source": [
    "rnn = TermToColorPointRNN(cldata.encoding, word_embs; n_steps=4)\n",
    "\n",
    "train!(rnn, cldata;\n",
    "    log_dir=mklogdir(\"rnn\"),\n",
    ")\n",
    "qualitative_demo(rnn)\n",
    "@show evaluate(rnn, cldata.dev)"
   ]
  },
  {
   "cell_type": "code",
   "execution_count": null,
   "metadata": {},
   "outputs": [],
   "source": [
    "1"
   ]
  },
  {
   "cell_type": "code",
   "execution_count": null,
   "metadata": {},
   "outputs": [],
   "source": [
    "using ColoringNames: order_relevant_dataset, order_relevant_name_pairs"
   ]
  },
  {
   "cell_type": "code",
   "execution_count": null,
   "metadata": {},
   "outputs": [],
   "source": [
    "namepairs = order_relevant_name_pairs(cldata.dev);"
   ]
  },
  {
   "cell_type": "code",
   "execution_count": null,
   "metadata": {},
   "outputs": [],
   "source": [
    "hsv1s = Array{Float64}((length(namepairs), 3))\n",
    "hsv2s = similar(hsv1s)\n",
    "for (ii, (n1, n2)) in enumerate(namepairs)\n",
    "    hsv1s[ii, :] = query(noml, [n1])\n",
    "    hsv2s[ii, :] = query(noml, [n2])\n",
    "end\n",
    "selectperm(ColoringNames.hsv_squared_error(hsv1s, hsv2s), 1:5)"
   ]
  },
  {
   "cell_type": "code",
   "execution_count": null,
   "metadata": {},
   "outputs": [],
   "source": [
    "namepairs[[12, 15, 13, 14, 16]]"
   ]
  },
  {
   "cell_type": "code",
   "execution_count": null,
   "metadata": {},
   "outputs": [],
   "source": [
    "plot_query(mdl, \"pink-purple\") |> display\n",
    "plot_query(mdl, \"purple-pink\") |> display\n",
    "plot_query(mdl, \"brown-orange\") |> display\n",
    "plot_query(mdl, \"orange-brown\") |> display\n",
    "plot_query(mdl, \"orange-yellow\") |> display\n",
    "plot_query(mdl, \"yellow-orange\") |> display\n",
    "plot_query(mdl, \"orange-yellow\") |> display\n",
    "plot_query(mdl, \"yellow-orange\") |> display"
   ]
  },
  {
   "cell_type": "code",
   "execution_count": null,
   "metadata": {},
   "outputs": [],
   "source": [
    "'-' .∈ collect(names) |> any"
   ]
  },
  {
   "cell_type": "code",
   "execution_count": null,
   "metadata": {},
   "outputs": [],
   "source": []
  }
 ],
 "metadata": {
  "kernelspec": {
   "display_name": "Julia 0.6.4",
   "language": "julia",
   "name": "julia-0.6"
  },
  "language_info": {
   "file_extension": ".jl",
   "mimetype": "application/julia",
   "name": "julia",
   "version": "0.6.4"
  }
 },
 "nbformat": 4,
 "nbformat_minor": 2
}
