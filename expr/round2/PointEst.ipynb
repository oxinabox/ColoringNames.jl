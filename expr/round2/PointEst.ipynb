{
 "cells": [
  {
   "cell_type": "code",
   "execution_count": 1,
   "metadata": {},
   "outputs": [
    {
     "name": "stderr",
     "output_type": "stream",
     "text": [
      "\u001b[1m\u001b[36mINFO: \u001b[39m\u001b[22m\u001b[36mRecompiling stale cache file /home/wheel/oxinabox/.julia/lib/v0.6/ColoringNames.ji for module ColoringNames.\n",
      "\u001b[39m\u001b[1m\u001b[33mWARNING: \u001b[39m\u001b[22m\u001b[33mLoading a new version of TensorFlow.jl for the first time. This initial load can take around 5 minutes as code is precompiled; subsequent usage will only take a few seconds.\u001b[39m\n",
      "WARNING: Method definition default_train_kwargs(ColoringNames.AbstractDistEstML, Any, Any...) in module ColoringNames at /home/wheel/oxinabox/.julia/v0.6/ColoringNames/src/networks/networks_common.jl:250 overwritten at /home/wheel/oxinabox/.julia/v0.6/ColoringNames/src/networks/networks_common.jl:288.\n",
      "\u001b[1m\u001b[33mWARNING: \u001b[39m\u001b[22m\u001b[33mThe call to compilecache failed to create a usable precompiled cache file for module ColoringNames. Got:\u001b[39m\n",
      "\u001b[1m\u001b[33mWARNING: \u001b[39m\u001b[22m\u001b[33mModule TensorFlow uuid did not match cache file.\u001b[39m\n"
     ]
    },
    {
     "ename": "LoadError",
     "evalue": "LoadError: \u001b[91mDeclaring __precompile__(true) is only allowed in module files being imported.\u001b[39m\nwhile loading /home/wheel/oxinabox/.julia/v0.6/ColoringNames/src/ColoringNames.jl, in expression starting on line 1",
     "output_type": "error",
     "traceback": [
      "LoadError: \u001b[91mDeclaring __precompile__(true) is only allowed in module files being imported.\u001b[39m\nwhile loading /home/wheel/oxinabox/.julia/v0.6/ColoringNames/src/ColoringNames.jl, in expression starting on line 1",
      "",
      "Stacktrace:",
      " [1] \u001b[1m__precompile__\u001b[22m\u001b[22m\u001b[1m(\u001b[22m\u001b[22m::Bool\u001b[1m)\u001b[22m\u001b[22m at \u001b[1m./loading.jl:342\u001b[22m\u001b[22m",
      " [2] \u001b[1minclude_from_node1\u001b[22m\u001b[22m\u001b[1m(\u001b[22m\u001b[22m::String\u001b[1m)\u001b[22m\u001b[22m at \u001b[1m./loading.jl:576\u001b[22m\u001b[22m",
      " [3] \u001b[1meval\u001b[22m\u001b[22m\u001b[1m(\u001b[22m\u001b[22m::Module, ::Any\u001b[1m)\u001b[22m\u001b[22m at \u001b[1m./boot.jl:235\u001b[22m\u001b[22m",
      " [4] \u001b[1m_require\u001b[22m\u001b[22m\u001b[1m(\u001b[22m\u001b[22m::Symbol\u001b[1m)\u001b[22m\u001b[22m at \u001b[1m./loading.jl:490\u001b[22m\u001b[22m",
      " [5] \u001b[1mrequire\u001b[22m\u001b[22m\u001b[1m(\u001b[22m\u001b[22m::Symbol\u001b[1m)\u001b[22m\u001b[22m at \u001b[1m./loading.jl:405\u001b[22m\u001b[22m"
     ]
    }
   ],
   "source": [
    "using ColoringNames\n"
   ]
  },
  {
   "cell_type": "code",
   "execution_count": 2,
   "metadata": {},
   "outputs": [
    {
     "ename": "LoadError",
     "evalue": "\u001b[91mUndefVarError: load_munroe_data not defined\u001b[39m",
     "output_type": "error",
     "traceback": [
      "\u001b[91mUndefVarError: load_munroe_data not defined\u001b[39m",
      ""
     ]
    }
   ],
   "source": [
    "cldata = load_munroe_data(dev_as_train=false, dev_as_test=true)"
   ]
  },
  {
   "cell_type": "code",
   "execution_count": 3,
   "metadata": {},
   "outputs": [
    {
     "ename": "LoadError",
     "evalue": "\u001b[91mUndefVarError: TermToColorPointEmpirical not defined\u001b[39m",
     "output_type": "error",
     "traceback": [
      "\u001b[91mUndefVarError: TermToColorPointEmpirical not defined\u001b[39m",
      ""
     ]
    }
   ],
   "source": [
    "function qualitative_demo(mdl, do_oov=true)\n",
    "    names = [\"brownish green\", \"brown\", \"brownish\", \"greenish\", \"greenish brown\", \"green\"]\n",
    "    if do_oov\n",
    "        append!(names, [\"ish\"])\n",
    "    end\n",
    "    \n",
    "    cols = mapslices(hsv2colorant, (query(mdl, names)), 1)\n",
    "    display(cols)\n",
    "    println(join(rpad.(names, 10), \"|\"))\n",
    "end\n",
    "\n",
    "qualitative_demo(mdl::TermToColorPointEmpirical) = qualitative_demo(mdl, false)"
   ]
  },
  {
   "cell_type": "code",
   "execution_count": 4,
   "metadata": {},
   "outputs": [
    {
     "ename": "LoadError",
     "evalue": "\u001b[91mUndefVarError: ColoringNames not defined\u001b[39m",
     "output_type": "error",
     "traceback": [
      "\u001b[91mUndefVarError: ColoringNames not defined\u001b[39m",
      ""
     ]
    }
   ],
   "source": [
    "noml = ColoringNames.TermToColorPointEmpirical()\n",
    "train!(noml, cldata)\n",
    "\n",
    "qualitative_demo(noml)\n",
    "@show evaluate(noml, cldata.dev)"
   ]
  },
  {
   "cell_type": "code",
   "execution_count": 5,
   "metadata": {},
   "outputs": [
    {
     "ename": "LoadError",
     "evalue": "\u001b[91mUndefVarError: TermToColorPointSOWE not defined\u001b[39m",
     "output_type": "error",
     "traceback": [
      "\u001b[91mUndefVarError: TermToColorPointSOWE not defined\u001b[39m",
      ""
     ]
    }
   ],
   "source": [
    "sowe = TermToColorPointSOWE(cldata.encoding; n_steps=4)\n",
    "\n",
    "#train!(noml, cldata)\n",
    "query(sowe, [\"red\", \"blue\"])\n",
    "qualitative_demo(sowe)\n",
    "#@show evaluate(sowe, cldata.dev)"
   ]
  },
  {
   "cell_type": "code",
   "execution_count": 87,
   "metadata": {},
   "outputs": [
    {
     "name": "stderr",
     "output_type": "stream",
     "text": [
      "WARNING: Method definition init_point_est_network(Any, Any, Any, Any, Any) in module ColoringNames at /home/wheel/oxinabox/.julia/v0.6/ColoringNames/src/networks/networks_common.jl:292 overwritten at /home/wheel/oxinabox/.julia/v0.6/ColoringNames/src/networks/networks_common.jl:292.\n"
     ]
    },
    {
     "data": {
      "text/plain": [
       "1523108×3 Array{Float32,2}:\n",
       " 0.344113  0.855319  0.921569\n",
       " 0.281905  0.744681  0.921569\n",
       " 0.347551  0.921397  0.898039\n",
       " 0.311209  0.900398  0.984314\n",
       " 0.312085  0.992095  0.992157\n",
       " 0.22766   0.987395  0.933333\n",
       " 0.288462  0.466368  0.87451 \n",
       " 0.276936  0.804878  0.964706\n",
       " 0.325359  0.95      0.862745\n",
       " 0.385201  0.971774  0.972549\n",
       " 0.212885  0.955823  0.976471\n",
       " 0.346405  0.6       1.0     \n",
       " 0.238397  0.42246   0.733333\n",
       " ⋮                           \n",
       " 0.1621    0.421965  0.678431\n",
       " 0.153333  0.722543  0.678431\n",
       " 0.201754  0.256757  0.580392\n",
       " 0.264463  0.620513  0.764706\n",
       " 0.144608  0.790698  0.67451 \n",
       " 0.178125  0.97561   0.643137\n",
       " 0.166667  0.350962  0.815686\n",
       " 0.174603  0.640244  0.643137\n",
       " 0.587607  0.397959  0.768627\n",
       " 0.774242  0.973451  0.443137\n",
       " 0.376894  0.768559  0.898039\n",
       " 0.179104  0.41358   0.635294"
      ]
     },
     "execution_count": 87,
     "metadata": {},
     "output_type": "execute_result"
    }
   ],
   "source": [
    "cldata.train.colors\n"
   ]
  },
  {
   "cell_type": "code",
   "execution_count": 66,
   "metadata": {},
   "outputs": [
    {
     "data": {
      "text/plain": [
       "ColoringNames.TermToColorPointSOWE{TensorFlow.Tensor{Any},MLLabelUtils.LabelEnc.NativeLabels{SubString{String},307},TensorFlow.Tensor{String}}"
      ]
     },
     "execution_count": 66,
     "metadata": {},
     "output_type": "execute_result"
    }
   ],
   "source": [
    "typeof(sowe)"
   ]
  },
  {
   "cell_type": "code",
   "execution_count": 56,
   "metadata": {},
   "outputs": [
    {
     "data": {
      "text/html": [
       "25 methods for generic function <b>atan2</b>:<ul><li> atan2(y::<b>Float64</b>, x::<b>Float64</b>) at <a href=\"https://github.com/JuliaLang/julia/tree/d386e40c17d43b79fc89d3e579fc04547241787c/base/math.jl#L497\" target=\"_blank\">math.jl:497</a></li> <li> atan2(y::<b>Float32</b>, x::<b>Float32</b>) at <a href=\"https://github.com/JuliaLang/julia/tree/d386e40c17d43b79fc89d3e579fc04547241787c/base/math.jl#L498\" target=\"_blank\">math.jl:498</a></li> <li> atan2(a::<b>Float16</b>, b::<b>Float16</b>) at <a href=\"https://github.com/JuliaLang/julia/tree/d386e40c17d43b79fc89d3e579fc04547241787c/base/math.jl#L957\" target=\"_blank\">math.jl:957</a></li> <li> atan2(y::<b>BigFloat</b>, x::<b>BigFloat</b>) at <a href=\"https://github.com/JuliaLang/julia/tree/d386e40c17d43b79fc89d3e579fc04547241787c/base/mpfr.jl#L661\" target=\"_blank\">mpfr.jl:661</a></li> <li> atan2<i>{T<:AbstractFloat}</i>(y::<b>T</b>, x::<b>T</b>) at <a href=\"https://github.com/JuliaLang/julia/tree/d386e40c17d43b79fc89d3e579fc04547241787c/base/math.jl#L495\" target=\"_blank\">math.jl:495</a></li> <li> atan2<i>{Txy}</i>(x::<b>ForwardDiff.Dual{Txy,V,N} where N where V<:Real</b>, y::<b>ForwardDiff.Dual{Txy,V,N} where N where V<:Real</b>) at <a href=\"https://github.com/JuliaDiff/ForwardDiff.jl/tree/04c751fdada1ba7394a22f6dc626d6d1ca366567//src/dual.jl#L99\" target=\"_blank\">/home/wheel/oxinabox/.julia/v0.6/ForwardDiff/src/dual.jl:99</a></li> <li> atan2<i>{Tx, Ty}</i>(x::<b>ForwardDiff.Dual{Tx,V,N} where N where V<:Real</b>, y::<b>ForwardDiff.Dual{Ty,V,N} where N where V<:Real</b>) at <a href=\"https://github.com/JuliaDiff/ForwardDiff.jl/tree/04c751fdada1ba7394a22f6dc626d6d1ca366567//src/dual.jl#L100\" target=\"_blank\">/home/wheel/oxinabox/.julia/v0.6/ForwardDiff/src/dual.jl:100</a></li> <li> atan2<i>{Tx}</i>(x::<b>ForwardDiff.Dual{Tx,V,N} where N where V<:Real</b>, y::<b>AbstractFloat</b>) at <a href=\"https://github.com/JuliaDiff/ForwardDiff.jl/tree/04c751fdada1ba7394a22f6dc626d6d1ca366567//src/dual.jl#L104\" target=\"_blank\">/home/wheel/oxinabox/.julia/v0.6/ForwardDiff/src/dual.jl:104</a></li> <li> atan2<i>{Ty}</i>(x::<b>AbstractFloat</b>, y::<b>ForwardDiff.Dual{Ty,V,N} where N where V<:Real</b>) at <a href=\"https://github.com/JuliaDiff/ForwardDiff.jl/tree/04c751fdada1ba7394a22f6dc626d6d1ca366567//src/dual.jl#L105\" target=\"_blank\">/home/wheel/oxinabox/.julia/v0.6/ForwardDiff/src/dual.jl:105</a></li> <li> atan2<i>{Tx}</i>(x::<b>ForwardDiff.Dual{Tx,V,N} where N where V<:Real</b>, y::<b>Irrational</b>) at <a href=\"https://github.com/JuliaDiff/ForwardDiff.jl/tree/04c751fdada1ba7394a22f6dc626d6d1ca366567//src/dual.jl#L104\" target=\"_blank\">/home/wheel/oxinabox/.julia/v0.6/ForwardDiff/src/dual.jl:104</a></li> <li> atan2<i>{Ty}</i>(x::<b>Irrational</b>, y::<b>ForwardDiff.Dual{Ty,V,N} where N where V<:Real</b>) at <a href=\"https://github.com/JuliaDiff/ForwardDiff.jl/tree/04c751fdada1ba7394a22f6dc626d6d1ca366567//src/dual.jl#L105\" target=\"_blank\">/home/wheel/oxinabox/.julia/v0.6/ForwardDiff/src/dual.jl:105</a></li> <li> atan2<i>{Tx}</i>(x::<b>ForwardDiff.Dual{Tx,V,N} where N where V<:Real</b>, y::<b>Integer</b>) at <a href=\"https://github.com/JuliaDiff/ForwardDiff.jl/tree/04c751fdada1ba7394a22f6dc626d6d1ca366567//src/dual.jl#L104\" target=\"_blank\">/home/wheel/oxinabox/.julia/v0.6/ForwardDiff/src/dual.jl:104</a></li> <li> atan2<i>{Ty}</i>(x::<b>Integer</b>, y::<b>ForwardDiff.Dual{Ty,V,N} where N where V<:Real</b>) at <a href=\"https://github.com/JuliaDiff/ForwardDiff.jl/tree/04c751fdada1ba7394a22f6dc626d6d1ca366567//src/dual.jl#L105\" target=\"_blank\">/home/wheel/oxinabox/.julia/v0.6/ForwardDiff/src/dual.jl:105</a></li> <li> atan2<i>{Tx}</i>(x::<b>ForwardDiff.Dual{Tx,V,N} where N where V<:Real</b>, y::<b>Rational</b>) at <a href=\"https://github.com/JuliaDiff/ForwardDiff.jl/tree/04c751fdada1ba7394a22f6dc626d6d1ca366567//src/dual.jl#L104\" target=\"_blank\">/home/wheel/oxinabox/.julia/v0.6/ForwardDiff/src/dual.jl:104</a></li> <li> atan2<i>{Ty}</i>(x::<b>Rational</b>, y::<b>ForwardDiff.Dual{Ty,V,N} where N where V<:Real</b>) at <a href=\"https://github.com/JuliaDiff/ForwardDiff.jl/tree/04c751fdada1ba7394a22f6dc626d6d1ca366567//src/dual.jl#L105\" target=\"_blank\">/home/wheel/oxinabox/.julia/v0.6/ForwardDiff/src/dual.jl:105</a></li> <li> atan2<i>{Tx}</i>(x::<b>ForwardDiff.Dual{Tx,V,N} where N where V<:Real</b>, y::<b>Real</b>) at <a href=\"https://github.com/JuliaDiff/ForwardDiff.jl/tree/04c751fdada1ba7394a22f6dc626d6d1ca366567//src/dual.jl#L104\" target=\"_blank\">/home/wheel/oxinabox/.julia/v0.6/ForwardDiff/src/dual.jl:104</a></li> <li> atan2<i>{Ty}</i>(x::<b>Real</b>, y::<b>ForwardDiff.Dual{Ty,V,N} where N where V<:Real</b>) at <a href=\"https://github.com/JuliaDiff/ForwardDiff.jl/tree/04c751fdada1ba7394a22f6dc626d6d1ca366567//src/dual.jl#L105\" target=\"_blank\">/home/wheel/oxinabox/.julia/v0.6/ForwardDiff/src/dual.jl:105</a></li> <li> atan2(y::<b>Real</b>, x::<b>Real</b>) at <a href=\"https://github.com/JuliaLang/julia/tree/d386e40c17d43b79fc89d3e579fc04547241787c/base/math.jl#L494\" target=\"_blank\">math.jl:494</a></li> <li> atan2<i>{T1<:Number}</i>(x::<b>Number</b>, y::<b>AbstractArray{T1,N} where N</b>) at <a href=\"https://github.com/JuliaLang/julia/tree/d386e40c17d43b79fc89d3e579fc04547241787c/base/deprecated.jl#L56\" target=\"_blank\">deprecated.jl:56</a></li> <li> atan2<i>{T1<:Number}</i>(x::<b>AbstractArray{T1,N} where N</b>, y::<b>Number</b>) at <a href=\"https://github.com/JuliaLang/julia/tree/d386e40c17d43b79fc89d3e579fc04547241787c/base/deprecated.jl#L56\" target=\"_blank\">deprecated.jl:56</a></li> <li> atan2<i>{T1<:Number, T2<:Number}</i>(x::<b>AbstractArray{T1,N} where N</b>, y::<b>AbstractArray{T2,N} where N</b>) at <a href=\"https://github.com/JuliaLang/julia/tree/d386e40c17d43b79fc89d3e579fc04547241787c/base/deprecated.jl#L56\" target=\"_blank\">deprecated.jl:56</a></li> <li> atan2<i>{Tx}</i>(x::<b>ForwardDiff.Dual{Tx,V,N} where N where V<:Real</b>, y::<b>RoundingMode</b>) at <a href=\"https://github.com/JuliaDiff/ForwardDiff.jl/tree/04c751fdada1ba7394a22f6dc626d6d1ca366567//src/dual.jl#L104\" target=\"_blank\">/home/wheel/oxinabox/.julia/v0.6/ForwardDiff/src/dual.jl:104</a></li> <li> atan2<i>{Ty}</i>(x::<b>RoundingMode</b>, y::<b>ForwardDiff.Dual{Ty,V,N} where N where V<:Real</b>) at <a href=\"https://github.com/JuliaDiff/ForwardDiff.jl/tree/04c751fdada1ba7394a22f6dc626d6d1ca366567//src/dual.jl#L105\" target=\"_blank\">/home/wheel/oxinabox/.julia/v0.6/ForwardDiff/src/dual.jl:105</a></li> <li> atan2<i>{T1, T2}</i>(y::<b>TensorFlow.Tensor{T1}</b>, x::<b>TensorFlow.Tensor{T2}</b>) at <a href=\"https://github.com/oxinabox/ColoringNames.jl/tree/9ffffa43e16d2a5b74380a24d3570cf1c19a92cb//src/tf_extra.jl#L3\" target=\"_blank\">/home/wheel/oxinabox/.julia/v0.6/ColoringNames/src/tf_extra.jl:3</a></li> <li> atan2<i>{T1, T2}</i>(y::<b>TensorFlow.Tensor{T1}</b>, x::<b>TensorFlow.Tensor{T2}</b>, ϵ) at <a href=\"https://github.com/oxinabox/ColoringNames.jl/tree/9ffffa43e16d2a5b74380a24d3570cf1c19a92cb//src/tf_extra.jl#L3\" target=\"_blank\">/home/wheel/oxinabox/.julia/v0.6/ColoringNames/src/tf_extra.jl:3</a></li> </ul>"
      ],
      "text/plain": [
       "# 25 methods for generic function \"atan2\":\n",
       "atan2(y::Float64, x::Float64) in Base.Math at math.jl:497\n",
       "atan2(y::Float32, x::Float32) in Base.Math at math.jl:498\n",
       "atan2(a::Float16, b::Float16) in Base.Math at math.jl:957\n",
       "atan2(y::BigFloat, x::BigFloat) in Base.MPFR at mpfr.jl:661\n",
       "atan2(y::T, x::T) where T<:AbstractFloat in Base.Math at math.jl:495\n",
       "atan2(x::ForwardDiff.Dual{Txy,V,N} where N where V<:Real, y::ForwardDiff.Dual{Txy,V,N} where N where V<:Real) where Txy in ForwardDiff at /home/wheel/oxinabox/.julia/v0.6/ForwardDiff/src/dual.jl:99\n",
       "atan2(x::ForwardDiff.Dual{Tx,V,N} where N where V<:Real, y::ForwardDiff.Dual{Ty,V,N} where N where V<:Real) where {Tx, Ty} in ForwardDiff at /home/wheel/oxinabox/.julia/v0.6/ForwardDiff/src/dual.jl:100\n",
       "atan2(x::ForwardDiff.Dual{Tx,V,N} where N where V<:Real, y::AbstractFloat) where Tx in ForwardDiff at /home/wheel/oxinabox/.julia/v0.6/ForwardDiff/src/dual.jl:104\n",
       "atan2(x::AbstractFloat, y::ForwardDiff.Dual{Ty,V,N} where N where V<:Real) where Ty in ForwardDiff at /home/wheel/oxinabox/.julia/v0.6/ForwardDiff/src/dual.jl:105\n",
       "atan2(x::ForwardDiff.Dual{Tx,V,N} where N where V<:Real, y::Irrational) where Tx in ForwardDiff at /home/wheel/oxinabox/.julia/v0.6/ForwardDiff/src/dual.jl:104\n",
       "atan2(x::Irrational, y::ForwardDiff.Dual{Ty,V,N} where N where V<:Real) where Ty in ForwardDiff at /home/wheel/oxinabox/.julia/v0.6/ForwardDiff/src/dual.jl:105\n",
       "atan2(x::ForwardDiff.Dual{Tx,V,N} where N where V<:Real, y::Integer) where Tx in ForwardDiff at /home/wheel/oxinabox/.julia/v0.6/ForwardDiff/src/dual.jl:104\n",
       "atan2(x::Integer, y::ForwardDiff.Dual{Ty,V,N} where N where V<:Real) where Ty in ForwardDiff at /home/wheel/oxinabox/.julia/v0.6/ForwardDiff/src/dual.jl:105\n",
       "atan2(x::ForwardDiff.Dual{Tx,V,N} where N where V<:Real, y::Rational) where Tx in ForwardDiff at /home/wheel/oxinabox/.julia/v0.6/ForwardDiff/src/dual.jl:104\n",
       "atan2(x::Rational, y::ForwardDiff.Dual{Ty,V,N} where N where V<:Real) where Ty in ForwardDiff at /home/wheel/oxinabox/.julia/v0.6/ForwardDiff/src/dual.jl:105\n",
       "atan2(x::ForwardDiff.Dual{Tx,V,N} where N where V<:Real, y::Real) where Tx in ForwardDiff at /home/wheel/oxinabox/.julia/v0.6/ForwardDiff/src/dual.jl:104\n",
       "atan2(x::Real, y::ForwardDiff.Dual{Ty,V,N} where N where V<:Real) where Ty in ForwardDiff at /home/wheel/oxinabox/.julia/v0.6/ForwardDiff/src/dual.jl:105\n",
       "atan2(y::Real, x::Real) in Base.Math at math.jl:494\n",
       "atan2(x::Number, y::AbstractArray{T1,N} where N) where T1<:Number in Base at deprecated.jl:56\n",
       "atan2(x::AbstractArray{T1,N} where N, y::Number) where T1<:Number in Base at deprecated.jl:56\n",
       "atan2(x::AbstractArray{T1,N} where N, y::AbstractArray{T2,N} where N) where {T1<:Number, T2<:Number} in Base at deprecated.jl:56\n",
       "atan2(x::ForwardDiff.Dual{Tx,V,N} where N where V<:Real, y::RoundingMode) where Tx in ForwardDiff at /home/wheel/oxinabox/.julia/v0.6/ForwardDiff/src/dual.jl:104\n",
       "atan2(x::RoundingMode, y::ForwardDiff.Dual{Ty,V,N} where N where V<:Real) where Ty in ForwardDiff at /home/wheel/oxinabox/.julia/v0.6/ForwardDiff/src/dual.jl:105\n",
       "atan2(y::TensorFlow.Tensor{T1}, x::TensorFlow.Tensor{T2}) where {T1, T2} in ColoringNames at /home/wheel/oxinabox/.julia/v0.6/ColoringNames/src/tf_extra.jl:3\n",
       "atan2(y::TensorFlow.Tensor{T1}, x::TensorFlow.Tensor{T2}, ϵ) where {T1, T2} in ColoringNames at /home/wheel/oxinabox/.julia/v0.6/ColoringNames/src/tf_extra.jl:3"
      ]
     },
     "execution_count": 56,
     "metadata": {},
     "output_type": "execute_result"
    }
   ],
   "source": [
    "TensorFlow.Ops.atan2 |> methods"
   ]
  },
  {
   "cell_type": "code",
   "execution_count": null,
   "metadata": {},
   "outputs": [],
   "source": []
  }
 ],
 "metadata": {
  "kernelspec": {
   "display_name": "Julia 0.6.2",
   "language": "julia",
   "name": "julia-0.6"
  },
  "language_info": {
   "file_extension": ".jl",
   "mimetype": "application/julia",
   "name": "julia",
   "version": "0.6.2"
  }
 },
 "nbformat": 4,
 "nbformat_minor": 2
}
