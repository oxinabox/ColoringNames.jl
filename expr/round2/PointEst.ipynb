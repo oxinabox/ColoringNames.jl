{
 "cells": [
  {
   "cell_type": "code",
   "execution_count": 15,
   "metadata": {},
   "outputs": [
    {
     "data": {
      "text/plain": [
       "mklogdir (generic function with 1 method)"
      ]
     },
     "execution_count": 15,
     "metadata": {},
     "output_type": "execute_result"
    }
   ],
   "source": [
    "using ColoringNames\n",
    "\n",
    "runnum = \"_f\"\n",
    "function mklogdir(name)\n",
    "    logdir = joinpath(pwd(), \"logs\",\"pointest\", name * runnum)\n",
    "    mkpath(logdir)\n",
    "    logdir\n",
    "end"
   ]
  },
  {
   "cell_type": "code",
   "execution_count": 2,
   "metadata": {},
   "outputs": [
    {
     "data": {
      "text/plain": [
       "ColoringNames.ColorDatasets{MLLabelUtils.LabelEnc.NativeLabels{String,2833},ColoringNames.ColorDataset{Array{Any,1},Array{Int64,2},Array{Float32,2}}}(MLLabelUtils.LabelEnc.NativeLabels{String,2833}(String[\"and\", \"of\", \"a\", \"with\", \"'s\", \"not\", \"-\", \"your\", \"just\", \"can\"  …  \"Feijoa\", \"melanzane\", \"minsk\", \"Pizazz\", \"feijoa\", \"red1\", \"Kilamanjaro\", \"karaka\", \"bilbao\", \"mabel\"], Dict(\"Apple\"=>157,\"Caper\"=>2160,\"chocolate\"=>424,\"Casablanca\"=>1155,\"Many\"=>84,\"Luxor\"=>1613,\"star\"=>103,\"canyon\"=>900,\"bombay\"=>2563,\"bondi\"=>2662…)), ColoringNames.ColorDataset{Array{Any,1},Array{Int64,2},Array{Float32,2}}(Any[\"acid green\", \"acid green\", \"acid green\", \"acid green\", \"acid green\", \"acid green\", \"acid green\", \"acid green\", \"acid green\", \"acid green\"  …  \"yuck\", \"yuck\", \"yuck\", \"yuck\", \"yuck\", \"yuck\", \"yuck\", \"yuck\", \"yuck\", \"yuck\"], [338 338 … 2148 2148; 114 114 … 0 0; 0 0 … 0 0; 0 0 … 0 0], Float32[0.344113 0.855319 0.921569; 0.281905 0.744681 0.921569; … ; 0.376894 0.768559 0.898039; 0.179104 0.41358 0.635294]), ColoringNames.ColorDataset{Array{Any,1},Array{Int64,2},Array{Float32,2}}(Any[\"acid green\", \"acid green\", \"acid green\", \"acid green\", \"acid green\", \"acid green\", \"acid green\", \"acid green\", \"acid green\", \"acid green\"  …  \"yuck\", \"yuck\", \"yuck\", \"yuck\", \"yuck\", \"yuck\", \"yuck\", \"yuck\", \"yuck\", \"yuck\"], [338 338 … 2148 2148; 114 114 … 0 0; 0 0 … 0 0; 0 0 … 0 0], Float32[0.328092 0.665272 0.937255; 0.241007 0.712821 0.764706; … ; 0.0540541 0.308333 0.941176; 0.125874 0.590909 0.94902]), ColoringNames.ColorDataset{Array{Any,1},Array{Int64,2},Array{Float32,2}}(Any[\"acid green\", \"acid green\", \"acid green\", \"acid green\", \"acid green\", \"acid green\", \"acid green\", \"acid green\", \"acid green\", \"acid green\"  …  \"yuck\", \"yuck\", \"yuck\", \"yuck\", \"yuck\", \"yuck\", \"yuck\", \"yuck\", \"yuck\", \"yuck\"], [338 338 … 2148 2148; 114 114 … 0 0; 0 0 … 0 0; 0 0 … 0 0], Float32[0.328092 0.665272 0.937255; 0.241007 0.712821 0.764706; … ; 0.0540541 0.308333 0.941176; 0.125874 0.590909 0.94902]))"
      ]
     },
     "execution_count": 2,
     "metadata": {},
     "output_type": "execute_result"
    }
   ],
   "source": [
    "many_names = load_color_nameset()\n",
    "word_embs, vocab, enc = load_text_embeddings(keep_words=many_names)\n",
    "cldata = load_munroe_data(dev_as_train=false, dev_as_test=true, encoding_ = enc)"
   ]
  },
  {
   "cell_type": "code",
   "execution_count": 3,
   "metadata": {},
   "outputs": [
    {
     "data": {
      "text/plain": [
       "qualitative_demo (generic function with 3 methods)"
      ]
     },
     "execution_count": 3,
     "metadata": {},
     "output_type": "execute_result"
    }
   ],
   "source": [
    "function qualitative_demo(mdl, do_oov=true)\n",
    "    names = [\"black\", \"brownish green\", \"brown\", \"brownish\", \"greenish\", \"greenish brown\", \"green\", \"red\", \"orange\", \"blue\"]\n",
    "    if do_oov\n",
    "        append!(names, [\"ish\"])\n",
    "    end\n",
    "    \n",
    "    cols = mapslices(hsv2colorant, (query(mdl, names)), 1)\n",
    "    display(cols)\n",
    "    println(join(rpad.(names, 10), \"|\"))\n",
    "end\n",
    "\n",
    "qualitative_demo(mdl::TermToColorPointEmpirical) = qualitative_demo(mdl, false)"
   ]
  },
  {
   "cell_type": "code",
   "execution_count": null,
   "metadata": {},
   "outputs": [],
   "source": [
    "####################################################"
   ]
  },
  {
   "cell_type": "code",
   "execution_count": 4,
   "metadata": {},
   "outputs": [
    {
     "data": {
      "image/svg+xml": [
       "<?xml version=\"1.0\" encoding=\"UTF-8\"?>\n",
       "<!DOCTYPE svg PUBLIC \"-//W3C//DTD SVG 1.1//EN\"\n",
       " \"http://www.w3.org/Graphics/SVG/1.1/DTD/svg11.dtd\">\n",
       "<svg xmlns=\"http://www.w3.org/2000/svg\" version=\"1.1\"\n",
       "     width=\"175.0mm\" height=\"25.0mm\"\n",
       "     shape-rendering=\"crispEdges\">\n",
       "<rect x=\"0.0mm\" y=\"0.0mm\"\n",
       "      width=\"24.0mm\" height=\"24.0mm\"\n",
       "      fill=\"#2C1231\" stroke=\"none\" />\n",
       "<rect x=\"25.0mm\" y=\"0.0mm\"\n",
       "      width=\"24.0mm\" height=\"24.0mm\"\n",
       "      fill=\"#808C2E\" stroke=\"none\" />\n",
       "<rect x=\"50.0mm\" y=\"0.0mm\"\n",
       "      width=\"24.0mm\" height=\"24.0mm\"\n",
       "      fill=\"#88562A\" stroke=\"none\" />\n",
       "<rect x=\"75.0mm\" y=\"0.0mm\"\n",
       "      width=\"24.0mm\" height=\"24.0mm\"\n",
       "      fill=\"#9B673D\" stroke=\"none\" />\n",
       "<rect x=\"100.0mm\" y=\"0.0mm\"\n",
       "      width=\"24.0mm\" height=\"24.0mm\"\n",
       "      fill=\"#42BB48\" stroke=\"none\" />\n",
       "<rect x=\"125.0mm\" y=\"0.0mm\"\n",
       "      width=\"24.0mm\" height=\"24.0mm\"\n",
       "      fill=\"#827E28\" stroke=\"none\" />\n",
       "<rect x=\"150.0mm\" y=\"0.0mm\"\n",
       "      width=\"24.0mm\" height=\"24.0mm\"\n",
       "      fill=\"#36B92E\" stroke=\"none\" />\n",
       "</svg>"
      ],
      "text/plain": [
       "1×7 Array{ColorTypes.RGB{Float32},2}:\n",
       " RGB{Float32}(0.171487,0.0697263,0.191897)  …  RGB{Float32}(0.209901,0.727107,0.180253)"
      ]
     },
     "metadata": {},
     "output_type": "display_data"
    },
    {
     "name": "stdout",
     "output_type": "stream",
     "text": [
      "black     |brownish green|brown     |brownish  |greenish  |greenish brown|green     \n",
      "evaluate(noml, cldata.dev) = 0.06635567f0\n"
     ]
    },
    {
     "data": {
      "text/plain": [
       "0.06635567f0"
      ]
     },
     "execution_count": 4,
     "metadata": {},
     "output_type": "execute_result"
    }
   ],
   "source": [
    "noml = ColoringNames.TermToColorPointEmpirical()\n",
    "train!(noml, cldata)\n",
    "\n",
    "qualitative_demo(noml)\n",
    "@show evaluate(noml, cldata.dev)"
   ]
  },
  {
   "cell_type": "code",
   "execution_count": 19,
   "metadata": {},
   "outputs": [
    {
     "name": "stdout",
     "output_type": "stream",
     "text": [
      "es_loss = 0.10770781f0\n",
      "es_loss = 0.09136201f0\n",
      "es_loss = 0.07090661f0\n"
     ]
    },
    {
     "data": {
      "image/svg+xml": [
       "<?xml version=\"1.0\" encoding=\"UTF-8\"?>\n",
       "<!DOCTYPE svg PUBLIC \"-//W3C//DTD SVG 1.1//EN\"\n",
       " \"http://www.w3.org/Graphics/SVG/1.1/DTD/svg11.dtd\">\n",
       "<svg xmlns=\"http://www.w3.org/2000/svg\" version=\"1.1\"\n",
       "     width=\"180.0mm\" height=\"25.0mm\"\n",
       "     shape-rendering=\"crispEdges\">\n",
       "<rect x=\"0.0mm\" y=\"0.0mm\"\n",
       "      width=\"15.363636363636363mm\" height=\"24.0mm\"\n",
       "      fill=\"#102E12\" stroke=\"none\" />\n",
       "<rect x=\"16.363636363636363mm\" y=\"0.0mm\"\n",
       "      width=\"15.363636363636363mm\" height=\"24.0mm\"\n",
       "      fill=\"#40892C\" stroke=\"none\" />\n",
       "<rect x=\"32.72727272727273mm\" y=\"0.0mm\"\n",
       "      width=\"15.363636363636363mm\" height=\"24.0mm\"\n",
       "      fill=\"#458A2B\" stroke=\"none\" />\n",
       "<rect x=\"49.09090909090909mm\" y=\"0.0mm\"\n",
       "      width=\"15.363636363636363mm\" height=\"24.0mm\"\n",
       "      fill=\"#4C9637\" stroke=\"none\" />\n",
       "<rect x=\"65.45454545454545mm\" y=\"0.0mm\"\n",
       "      width=\"15.363636363636363mm\" height=\"24.0mm\"\n",
       "      fill=\"#4DB639\" stroke=\"none\" />\n",
       "<rect x=\"81.81818181818181mm\" y=\"0.0mm\"\n",
       "      width=\"15.363636363636363mm\" height=\"24.0mm\"\n",
       "      fill=\"#40892C\" stroke=\"none\" />\n",
       "<rect x=\"98.18181818181819mm\" y=\"0.0mm\"\n",
       "      width=\"15.363636363636363mm\" height=\"24.0mm\"\n",
       "      fill=\"#51B92F\" stroke=\"none\" />\n",
       "<rect x=\"114.54545454545455mm\" y=\"0.0mm\"\n",
       "      width=\"15.363636363636363mm\" height=\"24.0mm\"\n",
       "      fill=\"#1FCEC5\" stroke=\"none\" />\n",
       "<rect x=\"130.9090909090909mm\" y=\"0.0mm\"\n",
       "      width=\"15.363636363636363mm\" height=\"24.0mm\"\n",
       "      fill=\"#40E421\" stroke=\"none\" />\n",
       "<rect x=\"147.27272727272728mm\" y=\"0.0mm\"\n",
       "      width=\"15.363636363636363mm\" height=\"24.0mm\"\n",
       "      fill=\"#2F8DC5\" stroke=\"none\" />\n",
       "<rect x=\"163.63636363636363mm\" y=\"0.0mm\"\n",
       "      width=\"15.363636363636363mm\" height=\"24.0mm\"\n",
       "      fill=\"#47B3B9\" stroke=\"none\" />\n",
       "</svg>"
      ],
      "text/plain": [
       "1×11 Array{ColorTypes.RGB{Float32},2}:\n",
       " RGB{Float32}(0.0639782,0.178758,0.0687075)  …  RGB{Float32}(0.280005,0.702444,0.726814)"
      ]
     },
     "metadata": {},
     "output_type": "display_data"
    },
    {
     "name": "stdout",
     "output_type": "stream",
     "text": [
      "es_loss = 0.07917279f0\n",
      "black     |brownish green|brown     |brownish  |greenish  |greenish brown|green     |red       |orange    |blue      |ish       \n",
      "evaluate(sowe, cldata.dev) = 0.07917279f0\n"
     ]
    },
    {
     "data": {
      "text/plain": [
       "0.07917279f0"
      ]
     },
     "execution_count": 19,
     "metadata": {},
     "output_type": "execute_result"
    }
   ],
   "source": [
    "sowe = TermToColorPointSOWE(cldata.encoding, word_embs; n_steps=4)\n",
    "train!(sowe, cldata;\n",
    "    log_dir=mklogdir(\"sowe\")\n",
    ")\n",
    "qualitative_demo(sowe)\n",
    "@show evaluate(sowe, cldata.dev)"
   ]
  },
  {
   "cell_type": "code",
   "execution_count": 23,
   "metadata": {},
   "outputs": [
    {
     "name": "stdout",
     "output_type": "stream",
     "text": [
      "es_loss = 0.117260434f0\n",
      "es_loss = 0.070458315f0\n"
     ]
    },
    {
     "data": {
      "image/svg+xml": [
       "<?xml version=\"1.0\" encoding=\"UTF-8\"?>\n",
       "<!DOCTYPE svg PUBLIC \"-//W3C//DTD SVG 1.1//EN\"\n",
       " \"http://www.w3.org/Graphics/SVG/1.1/DTD/svg11.dtd\">\n",
       "<svg xmlns=\"http://www.w3.org/2000/svg\" version=\"1.1\"\n",
       "     width=\"180.0mm\" height=\"25.0mm\"\n",
       "     shape-rendering=\"crispEdges\">\n",
       "<rect x=\"0.0mm\" y=\"0.0mm\"\n",
       "      width=\"15.363636363636363mm\" height=\"24.0mm\"\n",
       "      fill=\"#1A3112\" stroke=\"none\" />\n",
       "<rect x=\"16.363636363636363mm\" y=\"0.0mm\"\n",
       "      width=\"15.363636363636363mm\" height=\"24.0mm\"\n",
       "      fill=\"#618C2D\" stroke=\"none\" />\n",
       "<rect x=\"32.72727272727273mm\" y=\"0.0mm\"\n",
       "      width=\"15.363636363636363mm\" height=\"24.0mm\"\n",
       "      fill=\"#8A5A2A\" stroke=\"none\" />\n",
       "<rect x=\"49.09090909090909mm\" y=\"0.0mm\"\n",
       "      width=\"15.363636363636363mm\" height=\"24.0mm\"\n",
       "      fill=\"#9E7940\" stroke=\"none\" />\n",
       "<rect x=\"65.45454545454545mm\" y=\"0.0mm\"\n",
       "      width=\"15.363636363636363mm\" height=\"24.0mm\"\n",
       "      fill=\"#63B63F\" stroke=\"none\" />\n",
       "<rect x=\"81.81818181818181mm\" y=\"0.0mm\"\n",
       "      width=\"15.363636363636363mm\" height=\"24.0mm\"\n",
       "      fill=\"#817E2E\" stroke=\"none\" />\n",
       "<rect x=\"98.18181818181819mm\" y=\"0.0mm\"\n",
       "      width=\"15.363636363636363mm\" height=\"24.0mm\"\n",
       "      fill=\"#3BB92E\" stroke=\"none\" />\n",
       "<rect x=\"114.54545454545455mm\" y=\"0.0mm\"\n",
       "      width=\"15.363636363636363mm\" height=\"24.0mm\"\n",
       "      fill=\"#1C8ECD\" stroke=\"none\" />\n",
       "<rect x=\"130.9090909090909mm\" y=\"0.0mm\"\n",
       "      width=\"15.363636363636363mm\" height=\"24.0mm\"\n",
       "      fill=\"#E58325\" stroke=\"none\" />\n",
       "<rect x=\"147.27272727272728mm\" y=\"0.0mm\"\n",
       "      width=\"15.363636363636363mm\" height=\"24.0mm\"\n",
       "      fill=\"#2F62C6\" stroke=\"none\" />\n",
       "<rect x=\"163.63636363636363mm\" y=\"0.0mm\"\n",
       "      width=\"15.363636363636363mm\" height=\"24.0mm\"\n",
       "      fill=\"#8BA355\" stroke=\"none\" />\n",
       "</svg>"
      ],
      "text/plain": [
       "1×11 Array{ColorTypes.RGB{Float32},2}:\n",
       " RGB{Float32}(0.102474,0.190289,0.0689478)  …  RGB{Float32}(0.545839,0.640896,0.333744)"
      ]
     },
     "metadata": {},
     "output_type": "display_data"
    },
    {
     "name": "stdout",
     "output_type": "stream",
     "text": [
      "es_loss = 0.07317053f0\n",
      "black     |brownish green|brown     |brownish  |greenish  |greenish brown|green     |red       |orange    |blue      |ish       \n",
      "evaluate(cnn, cldata.dev) = 0.07317053f0\n"
     ]
    },
    {
     "data": {
      "text/plain": [
       "0.07317053f0"
      ]
     },
     "execution_count": 23,
     "metadata": {},
     "output_type": "execute_result"
    }
   ],
   "source": [
    "cnn = TermToColorPointCNN(cldata.encoding, word_embs; n_steps=4)\n",
    "\n",
    "train!(cnn, cldata;\n",
    "    log_dir=mklogdir(\"cnn\"),\n",
    ")\n",
    "qualitative_demo(cnn)\n",
    "@show evaluate(cnn, cldata.dev)"
   ]
  },
  {
   "cell_type": "code",
   "execution_count": null,
   "metadata": {},
   "outputs": [
    {
     "name": "stderr",
     "output_type": "stream",
     "text": [
      "WARNING: Method definition peak(Any) in module ColoringNames at /home/wheel/oxinabox/.julia/v0.6/ColoringNames/src/evaluation.jl:63 overwritten at /home/wheel/oxinabox/.julia/v0.6/ColoringNames/src/evaluation.jl:66.\n",
      "\u001b[1m\u001b[33mWARNING: \u001b[39m\u001b[22m\u001b[33mreplacing docs for 'ColoringNames.peak :: Tuple{Any}' in module 'ColoringNames'.\u001b[39m\n"
     ]
    },
    {
     "name": "stdout",
     "output_type": "stream",
     "text": [
      "es_loss = 0.11683471f0\n"
     ]
    }
   ],
   "source": [
    "rnn = TermToColorPointRNN(cldata.encoding, word_embs; n_steps=4)\n",
    "\n",
    "train!(rnn, cldata;\n",
    "    log_dir=mklogdir(\"rnn\"),\n",
    ")\n",
    "qualitative_demo(rnn)\n",
    "@show evaluate(rnn, cldata.dev)"
   ]
  },
  {
   "cell_type": "code",
   "execution_count": 38,
   "metadata": {},
   "outputs": [
    {
     "data": {
      "text/plain": [
       "92.963134765625"
      ]
     },
     "execution_count": 38,
     "metadata": {},
     "output_type": "execute_result"
    }
   ],
   "source": [
    "size(cldata.train.colors,1)/2^14"
   ]
  },
  {
   "cell_type": "code",
   "execution_count": 37,
   "metadata": {},
   "outputs": [
    {
     "data": {
      "text/plain": [
       "16384"
      ]
     },
     "execution_count": 37,
     "metadata": {},
     "output_type": "execute_result"
    }
   ],
   "source": [
    "Pkg"
   ]
  },
  {
   "cell_type": "code",
   "execution_count": null,
   "metadata": {},
   "outputs": [],
   "source": []
  }
 ],
 "metadata": {
  "kernelspec": {
   "display_name": "Julia 0.6.2",
   "language": "julia",
   "name": "julia-0.6"
  },
  "language_info": {
   "file_extension": ".jl",
   "mimetype": "application/julia",
   "name": "julia",
   "version": "0.6.2"
  }
 },
 "nbformat": 4,
 "nbformat_minor": 2
}
