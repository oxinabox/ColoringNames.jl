{
 "cells": [
  {
   "cell_type": "code",
   "execution_count": null,
   "metadata": {},
   "outputs": [],
   "source": [
    "using ColoringNames\n"
   ]
  },
  {
   "cell_type": "code",
   "execution_count": null,
   "metadata": {},
   "outputs": [],
   "source": [
    "cldata = load_munroe_data(dev_as_train=false, dev_as_test=true)"
   ]
  },
  {
   "cell_type": "code",
   "execution_count": null,
   "metadata": {},
   "outputs": [],
   "source": [
    "function qualitative_demo(mdl, do_oov=true)\n",
    "    names = [\"brownish green\", \"brown\", \"brownish\", \"greenish\", \"greenish brown\", \"green\"]\n",
    "    if do_oov\n",
    "        append!(names, [\"ish\"])\n",
    "    end\n",
    "    \n",
    "    cols = hsv2colorant.(query.(noml, names))\n",
    "    display(cols)\n",
    "    println(join(rpad.(names, 10), \"|\"))\n",
    "end\n",
    "\n",
    "qualitative_demo(mdl::TermToColorPointEmpirical) = qualitative_demo(mdl, false)"
   ]
  },
  {
   "cell_type": "code",
   "execution_count": 5,
   "metadata": {},
   "outputs": [
    {
     "ename": "LoadError",
     "evalue": "\u001b[91mMethodError: no method matching mse_from_peak(::Array{Float32,2}, ::Array{Float32,2})\u001b[0m\nClosest candidates are:\n  mse_from_peak(::AbstractArray{T,2} where T, \u001b[91m::Tuple{T<:(AbstractArray{T,2} where T),T<:(AbstractArray{T,2} where T),T<:(AbstractArray{T,2} where T)}\u001b[39m) where T<:(AbstractArray{T,2} where T) at /home/wheel/oxinabox/.julia/v0.6/ColoringNames/src/evaluation.jl:75\u001b[39m",
     "output_type": "error",
     "traceback": [
      "\u001b[91mMethodError: no method matching mse_from_peak(::Array{Float32,2}, ::Array{Float32,2})\u001b[0m\nClosest candidates are:\n  mse_from_peak(::AbstractArray{T,2} where T, \u001b[91m::Tuple{T<:(AbstractArray{T,2} where T),T<:(AbstractArray{T,2} where T),T<:(AbstractArray{T,2} where T)}\u001b[39m) where T<:(AbstractArray{T,2} where T) at /home/wheel/oxinabox/.julia/v0.6/ColoringNames/src/evaluation.jl:75\u001b[39m",
      "",
      "Stacktrace:",
      " [1] \u001b[1mevaluate\u001b[22m\u001b[22m\u001b[1m(\u001b[22m\u001b[22m::ColoringNames.TermToColorPointEmpirical, ::ColoringNames.ColorDataset{Array{Any,1},Array{Int64,2},Array{Float32,2}}\u001b[1m)\u001b[22m\u001b[22m at \u001b[1m/home/wheel/oxinabox/.julia/v0.6/ColoringNames/src/networks/networks_common.jl:56\u001b[22m\u001b[22m"
     ]
    }
   ],
   "source": [
    "noml = ColoringNames.TermToColorPointEmpirical()\n",
    "train!(noml, cldata)\n",
    "@show evaluate(noml, cldata.dev)"
   ]
  },
  {
   "cell_type": "code",
   "execution_count": null,
   "metadata": {},
   "outputs": [],
   "source": [
    "1"
   ]
  },
  {
   "cell_type": "code",
   "execution_count": null,
   "metadata": {},
   "outputs": [],
   "source": [
    "qualitative_demo(noml)"
   ]
  },
  {
   "cell_type": "code",
   "execution_count": null,
   "metadata": {},
   "outputs": [],
   "source": [
    "function hsv_mean(colors)\n",
    "    hs = @view(colors[:,1])\n",
    "    s = mean(@view(colors[:,2]))\n",
    "    v = mean(@view(colors[:,3]))\n",
    "    \n",
    "    ch = mean(cos.(2π*hs))\n",
    "    sh = mean(sin.(2π*hs))\n",
    "    h = atan2(sh, ch)/2π\n",
    "    \n",
    "    (h, s, v)\n",
    "end"
   ]
  },
  {
   "cell_type": "code",
   "execution_count": null,
   "metadata": {},
   "outputs": [],
   "source": []
  },
  {
   "cell_type": "code",
   "execution_count": null,
   "metadata": {},
   "outputs": [],
   "source": []
  },
  {
   "cell_type": "code",
   "execution_count": null,
   "metadata": {},
   "outputs": [],
   "source": []
  },
  {
   "cell_type": "code",
   "execution_count": null,
   "metadata": {},
   "outputs": [],
   "source": []
  },
  {
   "cell_type": "code",
   "execution_count": null,
   "metadata": {},
   "outputs": [],
   "source": [
    "hsquared_error([0.9, 0.9], [0.7,0.1])"
   ]
  },
  {
   "cell_type": "code",
   "execution_count": null,
   "metadata": {},
   "outputs": [],
   "source": []
  }
 ],
 "metadata": {
  "kernelspec": {
   "display_name": "Julia 0.6.2",
   "language": "julia",
   "name": "julia-0.6"
  },
  "language_info": {
   "file_extension": ".jl",
   "mimetype": "application/julia",
   "name": "julia",
   "version": "0.6.2"
  }
 },
 "nbformat": 4,
 "nbformat_minor": 2
}
