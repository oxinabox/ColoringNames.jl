{
 "cells": [
  {
   "cell_type": "code",
   "execution_count": 1,
   "metadata": {},
   "outputs": [
    {
     "data": {
      "text/plain": [
       "mklogdir (generic function with 1 method)"
      ]
     },
     "execution_count": 1,
     "metadata": {},
     "output_type": "execute_result"
    }
   ],
   "source": [
    "using ColoringNames\n",
    "\n",
    "runnum = \"1\"\n",
    "function mklogdir(name)\n",
    "    logdir = joinpath(pwd(), \"logs\",\"pointest\", name * runnum)\n",
    "    mkpath(logdir)\n",
    "    logdir\n",
    "end"
   ]
  },
  {
   "cell_type": "code",
   "execution_count": 2,
   "metadata": {},
   "outputs": [
    {
     "data": {
      "text/plain": [
       "ColoringNames.ColorDatasets{MLLabelUtils.LabelEnc.NativeLabels{String,2833},ColoringNames.ColorDataset{Array{Any,1},Array{Int64,2},Array{Float32,2}}}(MLLabelUtils.LabelEnc.NativeLabels{String,2833}(String[\"and\", \"of\", \"a\", \"with\", \"'s\", \"not\", \"-\", \"your\", \"just\", \"can\"  …  \"Feijoa\", \"melanzane\", \"minsk\", \"Pizazz\", \"feijoa\", \"red1\", \"Kilamanjaro\", \"karaka\", \"bilbao\", \"mabel\"], Dict(\"Apple\"=>157,\"Caper\"=>2160,\"chocolate\"=>424,\"Casablanca\"=>1155,\"Many\"=>84,\"Luxor\"=>1613,\"star\"=>103,\"canyon\"=>900,\"bombay\"=>2563,\"bondi\"=>2662…)), ColoringNames.ColorDataset{Array{Any,1},Array{Int64,2},Array{Float32,2}}(Any[\"acid green\", \"acid green\", \"acid green\", \"acid green\", \"acid green\", \"acid green\", \"acid green\", \"acid green\", \"acid green\", \"acid green\"  …  \"yuck\", \"yuck\", \"yuck\", \"yuck\", \"yuck\", \"yuck\", \"yuck\", \"yuck\", \"yuck\", \"yuck\"], [338 338 … 2148 2148; 114 114 … 0 0; 0 0 … 0 0; 0 0 … 0 0], Float32[0.344113 0.855319 0.921569; 0.281905 0.744681 0.921569; … ; 0.376894 0.768559 0.898039; 0.179104 0.41358 0.635294]), ColoringNames.ColorDataset{Array{Any,1},Array{Int64,2},Array{Float32,2}}(Any[\"acid green\", \"acid green\", \"acid green\", \"acid green\", \"acid green\", \"acid green\", \"acid green\", \"acid green\", \"acid green\", \"acid green\"  …  \"yuck\", \"yuck\", \"yuck\", \"yuck\", \"yuck\", \"yuck\", \"yuck\", \"yuck\", \"yuck\", \"yuck\"], [338 338 … 2148 2148; 114 114 … 0 0; 0 0 … 0 0; 0 0 … 0 0], Float32[0.328092 0.665272 0.937255; 0.241007 0.712821 0.764706; … ; 0.0540541 0.308333 0.941176; 0.125874 0.590909 0.94902]), ColoringNames.ColorDataset{Array{Any,1},Array{Int64,2},Array{Float32,2}}(Any[\"acid green\", \"acid green\", \"acid green\", \"acid green\", \"acid green\", \"acid green\", \"acid green\", \"acid green\", \"acid green\", \"acid green\"  …  \"yuck\", \"yuck\", \"yuck\", \"yuck\", \"yuck\", \"yuck\", \"yuck\", \"yuck\", \"yuck\", \"yuck\"], [338 338 … 2148 2148; 114 114 … 0 0; 0 0 … 0 0; 0 0 … 0 0], Float32[0.328092 0.665272 0.937255; 0.241007 0.712821 0.764706; … ; 0.0540541 0.308333 0.941176; 0.125874 0.590909 0.94902]))"
      ]
     },
     "execution_count": 2,
     "metadata": {},
     "output_type": "execute_result"
    }
   ],
   "source": [
    "many_names = load_color_nameset()\n",
    "word_embs, vocab, enc = load_text_embeddings(keep_words=many_names)\n",
    "cldata = load_munroe_data(dev_as_train=false, dev_as_test=true, encoding_ = enc)"
   ]
  },
  {
   "cell_type": "code",
   "execution_count": 3,
   "metadata": {},
   "outputs": [
    {
     "data": {
      "text/plain": [
       "qualitative_demo (generic function with 3 methods)"
      ]
     },
     "execution_count": 3,
     "metadata": {},
     "output_type": "execute_result"
    }
   ],
   "source": [
    "function qualitative_demo(mdl, do_oov=false)\n",
    "    names = [\"black\", \"brownish green\", \"brown\", \"brownish\", \"greenish\", \"greenish brown\", \"green\", \"red\", \"orange\", \"blue\"]\n",
    "    if do_oov\n",
    "        append!(names, [\"ish\"])\n",
    "    end\n",
    "    plot_query(mdl, names) |> display\n",
    "end\n",
    "\n",
    "qualitative_demo(mdl::TermToColorPointEmpirical) = qualitative_demo(mdl, false)"
   ]
  },
  {
   "cell_type": "code",
   "execution_count": 4,
   "metadata": {},
   "outputs": [],
   "source": [
    "####################################################"
   ]
  },
  {
   "cell_type": "code",
   "execution_count": 5,
   "metadata": {},
   "outputs": [
    {
     "data": {
      "image/svg+xml": [
       "<?xml version=\"1.0\" encoding=\"UTF-8\"?>\n",
       "<!DOCTYPE svg PUBLIC \"-//W3C//DTD SVG 1.1//EN\"\n",
       " \"http://www.w3.org/Graphics/SVG/1.1/DTD/svg11.dtd\">\n",
       "<svg xmlns=\"http://www.w3.org/2000/svg\" version=\"1.1\"\n",
       "     width=\"180.0mm\" height=\"25.0mm\"\n",
       "     shape-rendering=\"crispEdges\">\n",
       "<rect x=\"0.0mm\" y=\"0.0mm\"\n",
       "      width=\"17.0mm\" height=\"24.0mm\"\n",
       "      fill=\"#2C1231\" stroke=\"none\" />\n",
       "<rect x=\"18.0mm\" y=\"0.0mm\"\n",
       "      width=\"17.0mm\" height=\"24.0mm\"\n",
       "      fill=\"#808C2E\" stroke=\"none\" />\n",
       "<rect x=\"36.0mm\" y=\"0.0mm\"\n",
       "      width=\"17.0mm\" height=\"24.0mm\"\n",
       "      fill=\"#88562A\" stroke=\"none\" />\n",
       "<rect x=\"54.0mm\" y=\"0.0mm\"\n",
       "      width=\"17.0mm\" height=\"24.0mm\"\n",
       "      fill=\"#9B673D\" stroke=\"none\" />\n",
       "<rect x=\"72.0mm\" y=\"0.0mm\"\n",
       "      width=\"17.0mm\" height=\"24.0mm\"\n",
       "      fill=\"#42BB48\" stroke=\"none\" />\n",
       "<rect x=\"90.0mm\" y=\"0.0mm\"\n",
       "      width=\"17.0mm\" height=\"24.0mm\"\n",
       "      fill=\"#827E28\" stroke=\"none\" />\n",
       "<rect x=\"108.0mm\" y=\"0.0mm\"\n",
       "      width=\"17.0mm\" height=\"24.0mm\"\n",
       "      fill=\"#36B92E\" stroke=\"none\" />\n",
       "<rect x=\"126.0mm\" y=\"0.0mm\"\n",
       "      width=\"17.0mm\" height=\"24.0mm\"\n",
       "      fill=\"#CD1C23\" stroke=\"none\" />\n",
       "<rect x=\"144.0mm\" y=\"0.0mm\"\n",
       "      width=\"17.0mm\" height=\"24.0mm\"\n",
       "      fill=\"#E67925\" stroke=\"none\" />\n",
       "<rect x=\"162.0mm\" y=\"0.0mm\"\n",
       "      width=\"17.0mm\" height=\"24.0mm\"\n",
       "      fill=\"#2F5EC7\" stroke=\"none\" />\n",
       "</svg>"
      ],
      "text/plain": [
       "1×10 Array{ColorTypes.RGB{Float32},2}:\n",
       " RGB{Float32}(0.171487,0.0697263,0.191897)  …  RGB{Float32}(0.183842,0.370081,0.782232)"
      ]
     },
     "metadata": {},
     "output_type": "display_data"
    },
    {
     "name": "stdout",
     "output_type": "stream",
     "text": [
      "black     |brownish green|brown     |brownish  |greenish  |greenish brown|green     |red       |orange    |blue      \n",
      "evaluate(noml, cldata.dev) = 0.06635567f0\n"
     ]
    },
    {
     "data": {
      "text/plain": [
       "0.06635567f0"
      ]
     },
     "execution_count": 5,
     "metadata": {},
     "output_type": "execute_result"
    }
   ],
   "source": [
    "noml = ColoringNames.TermToColorPointEmpirical()\n",
    "train!(noml, cldata)\n",
    "\n",
    "qualitative_demo(noml)\n",
    "@show evaluate(noml, cldata.dev)"
   ]
  },
  {
   "cell_type": "code",
   "execution_count": 6,
   "metadata": {},
   "outputs": [
    {
     "name": "stderr",
     "output_type": "stream",
     "text": [
      "2018-05-30 15:16:47.729570: I tensorflow/core/platform/cpu_feature_guard.cc:140] Your CPU supports instructions that this TensorFlow binary was not compiled to use: SSE4.1 SSE4.2\n",
      "\u001b[1m\u001b[33mWARNING: \u001b[39m\u001b[22m\u001b[33mThe specified values for size and/or count will result in 15780 unused data points\u001b[39m\n"
     ]
    },
    {
     "name": "stdout",
     "output_type": "stream",
     "text": [
      "es_loss = 0.08584482f0\n",
      "es_loss = 0.06677792f0\n"
     ]
    },
    {
     "data": {
      "image/svg+xml": [
       "<?xml version=\"1.0\" encoding=\"UTF-8\"?>\n",
       "<!DOCTYPE svg PUBLIC \"-//W3C//DTD SVG 1.1//EN\"\n",
       " \"http://www.w3.org/Graphics/SVG/1.1/DTD/svg11.dtd\">\n",
       "<svg xmlns=\"http://www.w3.org/2000/svg\" version=\"1.1\"\n",
       "     width=\"180.0mm\" height=\"25.0mm\"\n",
       "     shape-rendering=\"crispEdges\">\n",
       "<rect x=\"0.0mm\" y=\"0.0mm\"\n",
       "      width=\"15.363636363636363mm\" height=\"24.0mm\"\n",
       "      fill=\"#231231\" stroke=\"none\" />\n",
       "<rect x=\"16.363636363636363mm\" y=\"0.0mm\"\n",
       "      width=\"15.363636363636363mm\" height=\"24.0mm\"\n",
       "      fill=\"#909132\" stroke=\"none\" />\n",
       "<rect x=\"32.72727272727273mm\" y=\"0.0mm\"\n",
       "      width=\"15.363636363636363mm\" height=\"24.0mm\"\n",
       "      fill=\"#8A572B\" stroke=\"none\" />\n",
       "<rect x=\"49.09090909090909mm\" y=\"0.0mm\"\n",
       "      width=\"15.363636363636363mm\" height=\"24.0mm\"\n",
       "      fill=\"#976D3B\" stroke=\"none\" />\n",
       "<rect x=\"65.45454545454545mm\" y=\"0.0mm\"\n",
       "      width=\"15.363636363636363mm\" height=\"24.0mm\"\n",
       "      fill=\"#3EB73A\" stroke=\"none\" />\n",
       "<rect x=\"81.81818181818181mm\" y=\"0.0mm\"\n",
       "      width=\"15.363636363636363mm\" height=\"24.0mm\"\n",
       "      fill=\"#909132\" stroke=\"none\" />\n",
       "<rect x=\"98.18181818181819mm\" y=\"0.0mm\"\n",
       "      width=\"15.363636363636363mm\" height=\"24.0mm\"\n",
       "      fill=\"#3AB92F\" stroke=\"none\" />\n",
       "<rect x=\"114.54545454545455mm\" y=\"0.0mm\"\n",
       "      width=\"15.363636363636363mm\" height=\"24.0mm\"\n",
       "      fill=\"#CD1D24\" stroke=\"none\" />\n",
       "<rect x=\"130.9090909090909mm\" y=\"0.0mm\"\n",
       "      width=\"15.363636363636363mm\" height=\"24.0mm\"\n",
       "      fill=\"#E77524\" stroke=\"none\" />\n",
       "<rect x=\"147.27272727272728mm\" y=\"0.0mm\"\n",
       "      width=\"15.363636363636363mm\" height=\"24.0mm\"\n",
       "      fill=\"#2F5FC7\" stroke=\"none\" />\n",
       "<rect x=\"163.63636363636363mm\" y=\"0.0mm\"\n",
       "      width=\"15.363636363636363mm\" height=\"24.0mm\"\n",
       "      fill=\"#C8B049\" stroke=\"none\" />\n",
       "</svg>"
      ],
      "text/plain": [
       "1×11 Array{ColorTypes.RGB{Float32},2}:\n",
       " RGB{Float32}(0.137728,0.0708287,0.191072)  …  RGB{Float32}(0.785999,0.692133,0.285028)"
      ]
     },
     "metadata": {},
     "output_type": "display_data"
    },
    {
     "name": "stdout",
     "output_type": "stream",
     "text": [
      "es_loss = 0.06683245f0\n",
      "black     |brownish green|brown     |brownish  |greenish  |greenish brown|green     |red       |orange    |blue      |ish       \n",
      "evaluate(sowe, cldata.dev) = 0.06683245f0\n"
     ]
    },
    {
     "data": {
      "text/plain": [
       "0.06683245f0"
      ]
     },
     "execution_count": 6,
     "metadata": {},
     "output_type": "execute_result"
    }
   ],
   "source": [
    "sowe = TermToColorPointSOWE(cldata.encoding, word_embs; n_steps=4)\n",
    "train!(sowe, cldata;\n",
    "    log_dir=mklogdir(\"sowe\")\n",
    ")\n",
    "qualitative_demo(sowe)\n",
    "@show evaluate(sowe, cldata.dev)"
   ]
  },
  {
   "cell_type": "code",
   "execution_count": 7,
   "metadata": {},
   "outputs": [
    {
     "name": "stderr",
     "output_type": "stream",
     "text": [
      "WARNING: Method definition plot_colors(Any...) in module ColoringNames at /home/wheel/oxinabox/.julia/v0.6/ColoringNames/src/plot_colors.jl:19 overwritten at /home/wheel/oxinabox/.julia/v0.6/ColoringNames/src/plot_colors.jl:19.\n",
      "WARNING: Method definition #plot_colors(Array{Any, 1}, typeof(ColoringNames.plot_colors), Any...) in module ColoringNames overwritten.\n",
      "\u001b[1m\u001b[33mWARNING: \u001b[39m\u001b[22m\u001b[33mreplacing docs for 'ColoringNames.plot_colors :: Tuple' in module 'ColoringNames'.\u001b[39m\n"
     ]
    },
    {
     "name": "stdout",
     "output_type": "stream",
     "text": [
      "es_loss = 0.0914553f0\n",
      "es_loss = 0.06649372f0\n"
     ]
    },
    {
     "data": {
      "image/svg+xml": [
       "<?xml version=\"1.0\" encoding=\"UTF-8\"?>\n",
       "<!DOCTYPE svg PUBLIC \"-//W3C//DTD SVG 1.1//EN\"\n",
       " \"http://www.w3.org/Graphics/SVG/1.1/DTD/svg11.dtd\">\n",
       "<svg xmlns=\"http://www.w3.org/2000/svg\" version=\"1.1\"\n",
       "     width=\"180.0mm\" height=\"25.0mm\"\n",
       "     shape-rendering=\"crispEdges\">\n",
       "<rect x=\"0.0mm\" y=\"0.0mm\"\n",
       "      width=\"15.363636363636363mm\" height=\"24.0mm\"\n",
       "      fill=\"#321224\" stroke=\"none\" />\n",
       "<rect x=\"16.363636363636363mm\" y=\"0.0mm\"\n",
       "      width=\"15.363636363636363mm\" height=\"24.0mm\"\n",
       "      fill=\"#818A2B\" stroke=\"none\" />\n",
       "<rect x=\"32.72727272727273mm\" y=\"0.0mm\"\n",
       "      width=\"15.363636363636363mm\" height=\"24.0mm\"\n",
       "      fill=\"#88572A\" stroke=\"none\" />\n",
       "<rect x=\"49.09090909090909mm\" y=\"0.0mm\"\n",
       "      width=\"15.363636363636363mm\" height=\"24.0mm\"\n",
       "      fill=\"#98683D\" stroke=\"none\" />\n",
       "<rect x=\"65.45454545454545mm\" y=\"0.0mm\"\n",
       "      width=\"15.363636363636363mm\" height=\"24.0mm\"\n",
       "      fill=\"#43B641\" stroke=\"none\" />\n",
       "<rect x=\"81.81818181818181mm\" y=\"0.0mm\"\n",
       "      width=\"15.363636363636363mm\" height=\"24.0mm\"\n",
       "      fill=\"#7F7B25\" stroke=\"none\" />\n",
       "<rect x=\"98.18181818181819mm\" y=\"0.0mm\"\n",
       "      width=\"15.363636363636363mm\" height=\"24.0mm\"\n",
       "      fill=\"#38B62D\" stroke=\"none\" />\n",
       "<rect x=\"114.54545454545455mm\" y=\"0.0mm\"\n",
       "      width=\"15.363636363636363mm\" height=\"24.0mm\"\n",
       "      fill=\"#CC1C20\" stroke=\"none\" />\n",
       "<rect x=\"130.9090909090909mm\" y=\"0.0mm\"\n",
       "      width=\"15.363636363636363mm\" height=\"24.0mm\"\n",
       "      fill=\"#E57F25\" stroke=\"none\" />\n",
       "<rect x=\"147.27272727272728mm\" y=\"0.0mm\"\n",
       "      width=\"15.363636363636363mm\" height=\"24.0mm\"\n",
       "      fill=\"#3061C7\" stroke=\"none\" />\n",
       "<rect x=\"163.63636363636363mm\" y=\"0.0mm\"\n",
       "      width=\"15.363636363636363mm\" height=\"24.0mm\"\n",
       "      fill=\"#907FC7\" stroke=\"none\" />\n",
       "</svg>"
      ],
      "text/plain": [
       "1×11 Array{ColorTypes.RGB{Float32},2}:\n",
       " RGB{Float32}(0.194298,0.0708615,0.142707)  …  RGB{Float32}(0.563681,0.498089,0.781116)"
      ]
     },
     "metadata": {},
     "output_type": "display_data"
    },
    {
     "name": "stdout",
     "output_type": "stream",
     "text": [
      "es_loss = 0.06670075f0\n",
      "black     |brownish green|brown     |brownish  |greenish  |greenish brown|green     |red       |orange    |blue      |ish       \n",
      "evaluate(cnn, cldata.dev) = 0.06670075f0\n"
     ]
    },
    {
     "data": {
      "text/plain": [
       "0.06670075f0"
      ]
     },
     "execution_count": 7,
     "metadata": {},
     "output_type": "execute_result"
    }
   ],
   "source": [
    "cnn = TermToColorPointCNN(cldata.encoding, word_embs; n_steps=4)\n",
    "\n",
    "train!(cnn, cldata;\n",
    "    log_dir=mklogdir(\"cnn\"),\n",
    ")\n",
    "qualitative_demo(cnn)\n",
    "@show evaluate(cnn, cldata.dev)"
   ]
  },
  {
   "cell_type": "code",
   "execution_count": 8,
   "metadata": {},
   "outputs": [
    {
     "data": {
      "image/svg+xml": [
       "<?xml version=\"1.0\" encoding=\"UTF-8\"?>\n",
       "<!DOCTYPE svg PUBLIC \"-//W3C//DTD SVG 1.1//EN\"\n",
       " \"http://www.w3.org/Graphics/SVG/1.1/DTD/svg11.dtd\">\n",
       "<svg xmlns=\"http://www.w3.org/2000/svg\" version=\"1.1\"\n",
       "     width=\"180.0mm\" height=\"25.0mm\"\n",
       "     shape-rendering=\"crispEdges\">\n",
       "<rect x=\"0.0mm\" y=\"0.0mm\"\n",
       "      width=\"15.363636363636363mm\" height=\"24.0mm\"\n",
       "      fill=\"#321224\" stroke=\"none\" />\n",
       "<rect x=\"16.363636363636363mm\" y=\"0.0mm\"\n",
       "      width=\"15.363636363636363mm\" height=\"24.0mm\"\n",
       "      fill=\"#818A2B\" stroke=\"none\" />\n",
       "<rect x=\"32.72727272727273mm\" y=\"0.0mm\"\n",
       "      width=\"15.363636363636363mm\" height=\"24.0mm\"\n",
       "      fill=\"#88572A\" stroke=\"none\" />\n",
       "<rect x=\"49.09090909090909mm\" y=\"0.0mm\"\n",
       "      width=\"15.363636363636363mm\" height=\"24.0mm\"\n",
       "      fill=\"#98683D\" stroke=\"none\" />\n",
       "<rect x=\"65.45454545454545mm\" y=\"0.0mm\"\n",
       "      width=\"15.363636363636363mm\" height=\"24.0mm\"\n",
       "      fill=\"#43B641\" stroke=\"none\" />\n",
       "<rect x=\"81.81818181818181mm\" y=\"0.0mm\"\n",
       "      width=\"15.363636363636363mm\" height=\"24.0mm\"\n",
       "      fill=\"#7F7B25\" stroke=\"none\" />\n",
       "<rect x=\"98.18181818181819mm\" y=\"0.0mm\"\n",
       "      width=\"15.363636363636363mm\" height=\"24.0mm\"\n",
       "      fill=\"#38B62D\" stroke=\"none\" />\n",
       "<rect x=\"114.54545454545455mm\" y=\"0.0mm\"\n",
       "      width=\"15.363636363636363mm\" height=\"24.0mm\"\n",
       "      fill=\"#CC1C20\" stroke=\"none\" />\n",
       "<rect x=\"130.9090909090909mm\" y=\"0.0mm\"\n",
       "      width=\"15.363636363636363mm\" height=\"24.0mm\"\n",
       "      fill=\"#E57F25\" stroke=\"none\" />\n",
       "<rect x=\"147.27272727272728mm\" y=\"0.0mm\"\n",
       "      width=\"15.363636363636363mm\" height=\"24.0mm\"\n",
       "      fill=\"#3061C7\" stroke=\"none\" />\n",
       "<rect x=\"163.63636363636363mm\" y=\"0.0mm\"\n",
       "      width=\"15.363636363636363mm\" height=\"24.0mm\"\n",
       "      fill=\"#907FC7\" stroke=\"none\" />\n",
       "</svg>"
      ],
      "text/plain": [
       "1×11 Array{ColorTypes.RGB{Float32},2}:\n",
       " RGB{Float32}(0.194298,0.0708615,0.142707)  …  RGB{Float32}(0.563681,0.498089,0.781116)"
      ]
     },
     "metadata": {},
     "output_type": "display_data"
    },
    {
     "name": "stderr",
     "output_type": "stream",
     "text": [
      "WARNING: Method definition plot_colors(Any...) in module ColoringNames at /home/wheel/oxinabox/.julia/v0.6/ColoringNames/src/plot_colors.jl:19 overwritten at /home/wheel/oxinabox/.julia/v0.6/ColoringNames/src/plot_colors.jl:19.\n",
      "WARNING: Method definition #plot_colors(Array{Any, 1}, typeof(ColoringNames.plot_colors), Any...) in module ColoringNames overwritten.\n",
      "\u001b[1m\u001b[33mWARNING: \u001b[39m\u001b[22m\u001b[33mreplacing docs for 'ColoringNames.plot_colors :: Tuple' in module 'ColoringNames'.\u001b[39m\n"
     ]
    },
    {
     "name": "stdout",
     "output_type": "stream",
     "text": [
      "black     |brownish green|brown     |brownish  |greenish  |greenish brown|green     |red       |orange    |blue      |ish       \n",
      "evaluate(cnn, cldata.dev) = 0.06670075f0\n"
     ]
    },
    {
     "data": {
      "text/plain": [
       "0.06670075f0"
      ]
     },
     "execution_count": 8,
     "metadata": {},
     "output_type": "execute_result"
    }
   ],
   "source": [
    "qualitative_demo(cnn)\n",
    "@show evaluate(cnn, cldata.dev)"
   ]
  },
  {
   "cell_type": "code",
   "execution_count": 9,
   "metadata": {},
   "outputs": [
    {
     "name": "stdout",
     "output_type": "stream",
     "text": [
      "es_loss = 0.09244207f0\n",
      "es_loss = 0.07055541f0\n",
      "es_loss = 0.070468165f0\n",
      "es_loss = 0.070466354f0\n"
     ]
    },
    {
     "data": {
      "image/svg+xml": [
       "<?xml version=\"1.0\" encoding=\"UTF-8\"?>\n",
       "<!DOCTYPE svg PUBLIC \"-//W3C//DTD SVG 1.1//EN\"\n",
       " \"http://www.w3.org/Graphics/SVG/1.1/DTD/svg11.dtd\">\n",
       "<svg xmlns=\"http://www.w3.org/2000/svg\" version=\"1.1\"\n",
       "     width=\"180.0mm\" height=\"25.0mm\"\n",
       "     shape-rendering=\"crispEdges\">\n",
       "<rect x=\"0.0mm\" y=\"0.0mm\"\n",
       "      width=\"15.363636363636363mm\" height=\"24.0mm\"\n",
       "      fill=\"#1A0F29\" stroke=\"none\" />\n",
       "<rect x=\"16.363636363636363mm\" y=\"0.0mm\"\n",
       "      width=\"15.363636363636363mm\" height=\"24.0mm\"\n",
       "      fill=\"#8F5B2B\" stroke=\"none\" />\n",
       "<rect x=\"32.72727272727273mm\" y=\"0.0mm\"\n",
       "      width=\"15.363636363636363mm\" height=\"24.0mm\"\n",
       "      fill=\"#8F5B2B\" stroke=\"none\" />\n",
       "<rect x=\"49.09090909090909mm\" y=\"0.0mm\"\n",
       "      width=\"15.363636363636363mm\" height=\"24.0mm\"\n",
       "      fill=\"#8F5B2B\" stroke=\"none\" />\n",
       "<rect x=\"65.45454545454545mm\" y=\"0.0mm\"\n",
       "      width=\"15.363636363636363mm\" height=\"24.0mm\"\n",
       "      fill=\"#3FB869\" stroke=\"none\" />\n",
       "<rect x=\"81.81818181818181mm\" y=\"0.0mm\"\n",
       "      width=\"15.363636363636363mm\" height=\"24.0mm\"\n",
       "      fill=\"#8A892B\" stroke=\"none\" />\n",
       "<rect x=\"98.18181818181819mm\" y=\"0.0mm\"\n",
       "      width=\"15.363636363636363mm\" height=\"24.0mm\"\n",
       "      fill=\"#35BA2E\" stroke=\"none\" />\n",
       "<rect x=\"114.54545454545455mm\" y=\"0.0mm\"\n",
       "      width=\"15.363636363636363mm\" height=\"24.0mm\"\n",
       "      fill=\"#CF1B1D\" stroke=\"none\" />\n",
       "<rect x=\"130.9090909090909mm\" y=\"0.0mm\"\n",
       "      width=\"15.363636363636363mm\" height=\"24.0mm\"\n",
       "      fill=\"#E77725\" stroke=\"none\" />\n",
       "<rect x=\"147.27272727272728mm\" y=\"0.0mm\"\n",
       "      width=\"15.363636363636363mm\" height=\"24.0mm\"\n",
       "      fill=\"#2F62C7\" stroke=\"none\" />\n",
       "<rect x=\"163.63636363636363mm\" y=\"0.0mm\"\n",
       "      width=\"15.363636363636363mm\" height=\"24.0mm\"\n",
       "      fill=\"#3A84BF\" stroke=\"none\" />\n",
       "</svg>"
      ],
      "text/plain": [
       "1×11 Array{ColorTypes.RGB{Float32},2}:\n",
       " RGB{Float32}(0.100667,0.0584967,0.159236)  …  RGB{Float32}(0.228955,0.517068,0.748187)"
      ]
     },
     "metadata": {},
     "output_type": "display_data"
    },
    {
     "name": "stdout",
     "output_type": "stream",
     "text": [
      "es_loss = 0.07074563f0\n",
      "black     |brownish green|brown     |brownish  |greenish  |greenish brown|green     |red       |orange    |blue      |ish       \n",
      "evaluate(rnn, cldata.dev) = 0.07074563f0\n"
     ]
    },
    {
     "data": {
      "text/plain": [
       "0.07074563f0"
      ]
     },
     "execution_count": 9,
     "metadata": {},
     "output_type": "execute_result"
    }
   ],
   "source": [
    "rnn = TermToColorPointRNN(cldata.encoding, word_embs; n_steps=4)\n",
    "\n",
    "train!(rnn, cldata;\n",
    "    log_dir=mklogdir(\"rnn\"),\n",
    ")\n",
    "qualitative_demo(rnn)\n",
    "@show evaluate(rnn, cldata.dev)"
   ]
  },
  {
   "cell_type": "code",
   "execution_count": 10,
   "metadata": {},
   "outputs": [
    {
     "name": "stderr",
     "output_type": "stream",
     "text": [
      "WARNING: Method definition plot_hsv_point(Array{T, 2} where T, Any) in module ColoringNames at /home/wheel/oxinabox/.julia/v0.6/ColoringNames/src/plot_colors.jl:67 overwritten at /home/wheel/oxinabox/.julia/v0.6/ColoringNames/src/plot_colors.jl:67.\n",
      "WARNING: Method definition #plot_hsv_point(Array{Any, 1}, typeof(ColoringNames.plot_hsv_point), Array{T, 2} where T, Any) in module ColoringNames overwritten.\n",
      "WARNING: Method definition plot_query(ColoringNames.AbstractPointEstModel, Array{T, 1} where T) in module ColoringNames at /home/wheel/oxinabox/.julia/v0.6/ColoringNames/src/plot_colors.jl:87 overwritten at /home/wheel/oxinabox/.julia/v0.6/ColoringNames/src/plot_colors.jl:88.\n",
      "WARNING: Method definition #plot_query(Array{Any, 1}, typeof(ColoringNames.plot_query), ColoringNames.AbstractPointEstModel, Array{T, 1} where T) in module ColoringNames overwritten.\n",
      "WARNING: redefining constant libblosc\n",
      "WARNING: Method definition evaluate(ColoringNames.AbstractDistEstModel, Any, Any, Any) in module ColoringNames at /home/wheel/oxinabox/.julia/v0.6/ColoringNames/src/networks/networks_common.jl:63 overwritten at /home/wheel/oxinabox/.julia/v0.6/ColoringNames/src/networks/networks_common.jl:57.\n",
      "\u001b[1m\u001b[33mWARNING: \u001b[39m\u001b[22m\u001b[33mreplacing docs for 'ColoringNames.evaluate :: Tuple{ColoringNames.AbstractDistEstModel,Any,Any,Any}' in module 'ColoringNames'.\u001b[39m\n",
      "WARNING: Method definition _train!(Function, Any, Any) in module ColoringNames at /home/wheel/oxinabox/.julia/v0.6/ColoringNames/src/networks/networks_common.jl:130 overwritten at /home/wheel/oxinabox/.julia/v0.6/ColoringNames/src/networks/networks_common.jl:126.\n",
      "WARNING: Method definition #_train!(Array{Any, 1}, typeof(ColoringNames._train!), Function, Any, Any) in module ColoringNames overwritten.\n"
     ]
    },
    {
     "data": {
      "text/plain": [
       "1"
      ]
     },
     "execution_count": 10,
     "metadata": {},
     "output_type": "execute_result"
    }
   ],
   "source": [
    "1"
   ]
  },
  {
   "cell_type": "code",
   "execution_count": 11,
   "metadata": {},
   "outputs": [
    {
     "name": "stderr",
     "output_type": "stream",
     "text": [
      "WARNING: Method definition extrapolation_dataset(Any, Any) in module ColoringNames at /home/wheel/oxinabox/.julia/v0.6/ColoringNames/src/load_data.jl:86 overwritten at /home/wheel/oxinabox/.julia/v0.6/ColoringNames/src/load_data.jl:90.\n"
     ]
    }
   ],
   "source": [
    "using ColoringNames: order_relevant_dataset, order_relevant_name_pairs"
   ]
  },
  {
   "cell_type": "code",
   "execution_count": 14,
   "metadata": {},
   "outputs": [],
   "source": [
    "namepairs = order_relevant_name_pairs(cldata.dev);"
   ]
  },
  {
   "cell_type": "code",
   "execution_count": 50,
   "metadata": {},
   "outputs": [
    {
     "data": {
      "text/plain": [
       "5-element Array{Int64,1}:\n",
       " 12\n",
       " 15\n",
       " 13\n",
       " 14\n",
       " 16"
      ]
     },
     "execution_count": 50,
     "metadata": {},
     "output_type": "execute_result"
    }
   ],
   "source": [
    "hsv1s = Array{Float64}((length(namepairs), 3))\n",
    "hsv2s = similar(hsv1s)\n",
    "for (ii, (n1, n2)) in enumerate(namepairs)\n",
    "    hsv1s[ii, :] = query(noml, [n1])\n",
    "    hsv2s[ii, :] = query(noml, [n2])\n",
    "end\n",
    "selectperm(ColoringNames.hsv_squared_error(hsv1s, hsv2s), 1:5)"
   ]
  },
  {
   "cell_type": "code",
   "execution_count": 51,
   "metadata": {},
   "outputs": [
    {
     "data": {
      "text/plain": [
       "5-element Array{Array{Any,1},1}:\n",
       " Any[\"blue-purple\", \"blurple\"]        \n",
       " Any[\"brown-grey\", \"grey-brown\"]      \n",
       " Any[\"orange-yellow\", \"yellow-orange\"]\n",
       " Any[\"brown-orange\", \"orange-brown\"]  \n",
       " Any[\"pink-purple\", \"purple-pink\"]    "
      ]
     },
     "execution_count": 51,
     "metadata": {},
     "output_type": "execute_result"
    }
   ],
   "source": [
    "namepairs[[12, 15, 13, 14, 16]]"
   ]
  },
  {
   "cell_type": "code",
   "execution_count": 54,
   "metadata": {},
   "outputs": [
    {
     "name": "stderr",
     "output_type": "stream",
     "text": [
      "WARNING: imported binding for names overwritten in module Main\n"
     ]
    },
    {
     "data": {
      "text/plain": [
       "Set(Any[\"light olive green\", \"turtle green\", \"algae\", \"shamrock\", \"amber\", \"ocean\", \"purple-brown\", \"soft green\", \"dusky rose\", \"khaki green\"  …  \"earth\", \"blue-green\", \"faded blue\", \"light brown\", \"dusky purple\", \"eggplant\", \"blurple\", \"dusty pink\", \"dull yellow\", \"light orange\"])"
      ]
     },
     "execution_count": 54,
     "metadata": {},
     "output_type": "execute_result"
    }
   ],
   "source": [
    "plot_query(mdl, \"pink-purple\") |> display\n",
    "plot_query(mdl, \"purple-pink\") |> display\n",
    "plot_query(mdl, \"brown-orange\") |> display\n",
    "plot_query(mdl, \"orange-brown\") |> display\n",
    "plot_query(mdl, \"orange-yellow\") |> display\n",
    "plot_query(mdl, \"yellow-orange\") |> display\n",
    "plot_query(mdl, \"orange-yellow\") |> display\n",
    "plot_query(mdl, \"yellow-orange\") |> display"
   ]
  },
  {
   "cell_type": "code",
   "execution_count": 63,
   "metadata": {},
   "outputs": [
    {
     "data": {
      "text/plain": [
       "false"
      ]
     },
     "execution_count": 63,
     "metadata": {},
     "output_type": "execute_result"
    }
   ],
   "source": [
    "'-' .∈ collect(names) |> any"
   ]
  },
  {
   "cell_type": "code",
   "execution_count": null,
   "metadata": {},
   "outputs": [],
   "source": []
  }
 ],
 "metadata": {
  "kernelspec": {
   "display_name": "Julia 0.6.2",
   "language": "julia",
   "name": "julia-0.6"
  },
  "language_info": {
   "file_extension": ".jl",
   "mimetype": "application/julia",
   "name": "julia",
   "version": "0.6.2"
  }
 },
 "nbformat": 4,
 "nbformat_minor": 2
}
