{
 "cells": [
  {
   "cell_type": "code",
   "execution_count": 32,
   "metadata": {},
   "outputs": [
    {
     "name": "stderr",
     "output_type": "stream",
     "text": [
      "WARNING: Method definition prepare_data(Any) in module ColoringNames at /home/wheel/oxinabox/.julia/v0.6/ColoringNames/src/input.jl:36 overwritten at /home/wheel/oxinabox/.julia/v0.6/ColoringNames/src/input.jl:34.\n",
      "WARNING: Method definition prepare_data(Any, Any) in module ColoringNames at /home/wheel/oxinabox/.julia/v0.6/ColoringNames/src/input.jl:36 overwritten at /home/wheel/oxinabox/.julia/v0.6/ColoringNames/src/input.jl:34.\n",
      "WARNING: Method definition #prepare_data(Array{Any, 1}, typeof(ColoringNames.prepare_data), Any) in module ColoringNames overwritten.\n",
      "WARNING: Method definition #prepare_data(Array{Any, 1}, typeof(ColoringNames.prepare_data), Any, Any) in module ColoringNames overwritten.\n",
      "\u001b[1m\u001b[33mWARNING: \u001b[39m\u001b[22m\u001b[33mreplacing docs for 'ColoringNames.prepare_data :: Union{Tuple{Any,Any}, Tuple{Any}}' in module 'ColoringNames'.\u001b[39m\n",
      "WARNING: Method definition prepare_labels(Any) in module ColoringNames at /home/wheel/oxinabox/.julia/v0.6/ColoringNames/src/input.jl:45 overwritten at /home/wheel/oxinabox/.julia/v0.6/ColoringNames/src/input.jl:43.\n",
      "WARNING: Method definition prepare_labels(Any, Any) in module ColoringNames at /home/wheel/oxinabox/.julia/v0.6/ColoringNames/src/input.jl:45 overwritten at /home/wheel/oxinabox/.julia/v0.6/ColoringNames/src/input.jl:43.\n",
      "WARNING: Method definition #prepare_labels(Array{Any, 1}, typeof(ColoringNames.prepare_labels), Any) in module ColoringNames overwritten.\n",
      "WARNING: Method definition #prepare_labels(Array{Any, 1}, typeof(ColoringNames.prepare_labels), Any, Any) in module ColoringNames overwritten.\n",
      "WARNING: Method definition @datadep_str(ANY) in module DataDeps at /home/wheel/oxinabox/.julia/v0.6/DataDeps/src/resolution.jl:12 overwritten at /home/wheel/oxinabox/.julia/v0.6/DataDeps/src/resolution.jl:12.\n",
      "\u001b[1m\u001b[33mWARNING: \u001b[39m\u001b[22m\u001b[33mreplacing docs for 'DataDeps.@datadep_str :: Tuple{Any}' in module 'DataDeps'.\u001b[39m\n",
      "WARNING: Method definition rpad_to_matrix(Array{Array{T, 1}, 1}) in module ColoringNames at /home/wheel/oxinabox/.julia/v0.6/ColoringNames/src/util.jl:13 overwritten at /home/wheel/oxinabox/.julia/v0.6/ColoringNames/src/util.jl:13.\n",
      "WARNING: Method definition rpad_to_matrix(Array{Array{T, 1}, 1}, T) in module ColoringNames at /home/wheel/oxinabox/.julia/v0.6/ColoringNames/src/util.jl:13 overwritten at /home/wheel/oxinabox/.julia/v0.6/ColoringNames/src/util.jl:13.\n",
      "WARNING: Method definition load_munroe_data() in module ColoringNames at /home/wheel/oxinabox/.julia/v0.6/ColoringNames/src/load_data.jl:18 overwritten at /home/wheel/oxinabox/.julia/v0.6/ColoringNames/src/load_data.jl:18.\n",
      "WARNING: Method definition load_munroe_data(Any) in module ColoringNames at /home/wheel/oxinabox/.julia/v0.6/ColoringNames/src/load_data.jl:18 overwritten at /home/wheel/oxinabox/.julia/v0.6/ColoringNames/src/load_data.jl:18.\n",
      "WARNING: Method definition #load_munroe_data(Array{Any, 1}, typeof(ColoringNames.load_munroe_data)) in module ColoringNames overwritten at /home/wheel/oxinabox/.julia/v0.6/DataDeps/src/resolution.jl:13.\n",
      "WARNING: Method definition #load_munroe_data(Array{Any, 1}, typeof(ColoringNames.load_munroe_data), Any) in module ColoringNames overwritten.\n",
      "WARNING: Method definition query(Union{ColoringNames.AbstractDistEstML, ColoringNames.AbstractPointEstML}, AbstractArray{T, 1} where T) in module ColoringNames at /home/wheel/oxinabox/.julia/v0.6/ColoringNames/src/networks/networks_common.jl:52 overwritten at /home/wheel/oxinabox/.julia/v0.6/ColoringNames/src/networks/networks_common.jl:52.\n",
      "WARNING: Method definition RNN_combine_terms(Any) in module ColoringNames at /home/wheel/oxinabox/.julia/v0.6/ColoringNames/src/networks/term2col_RNN.jl:18 overwritten at /home/wheel/oxinabox/.julia/v0.6/ColoringNames/src/networks/term2col_RNN.jl:18.\n",
      "WARNING: Method definition unpack_cmd(Any, Any, Any, Any) in module DataDeps at /home/wheel/oxinabox/.julia/v0.6/DataDeps/src/helpers.jl:5 overwritten at /home/wheel/oxinabox/.julia/v0.6/DataDeps/src/helpers.jl:5.\n"
     ]
    },
    {
     "data": {
      "text/plain": [
       "mklogdir (generic function with 1 method)"
      ]
     },
     "execution_count": 32,
     "metadata": {},
     "output_type": "execute_result"
    }
   ],
   "source": [
    "using ColoringNames\n",
    "using DataFrames\n",
    "using CSVFiles\n",
    "runnum = \"4\"\n",
    "function mklogdir(name)\n",
    "    logdir = joinpath(pwd(), \"logs\",\"point\", name * runnum)\n",
    "    mkpath(logdir)\n",
    "    logdir\n",
    "end"
   ]
  },
  {
   "cell_type": "code",
   "execution_count": 33,
   "metadata": {},
   "outputs": [
    {
     "name": "stderr",
     "output_type": "stream",
     "text": [
      "WARNING: redefining constant many_names\n",
      "WARNING: redefining constant word_embs\n",
      "WARNING: redefining constant vocab\n",
      "WARNING: redefining constant enc\n",
      "WARNING: redefining constant full_data\n",
      "WARNING: redefining constant ord_data\n",
      "WARNING: redefining constant extrapo_data\n"
     ]
    }
   ],
   "source": [
    "const many_names = load_color_nameset()\n",
    "const word_embs, vocab, enc = load_text_embeddings(keep_words=many_names)\n",
    "const full_data = load_munroe_data(dev_as_train=false, dev_as_test=true, encoding_ = enc)\n",
    "\n",
    "const ord_data = order_relevant_dataset(full_data);\n",
    "const extrapo_data = extrapolation_dataset(full_data);"
   ]
  },
  {
   "cell_type": "code",
   "execution_count": 34,
   "metadata": {},
   "outputs": [
    {
     "data": {
      "text/plain": [
       "doextrapo (generic function with 2 methods)"
      ]
     },
     "execution_count": 34,
     "metadata": {},
     "output_type": "execute_result"
    }
   ],
   "source": [
    "create_res_df() = DataFrame(method=String[], mse=Float64[])\n",
    "\n",
    "full_df = create_res_df()\n",
    "extrapo_df = create_res_df()\n",
    "ord_df = create_res_df()\n",
    "\n",
    "function perform_evaluation(modeltype, name)\n",
    "    info(name)\n",
    "    \n",
    "    function mdlfun(cldata)\n",
    "        mdl = modeltype(enc, word_embs; n_steps=size(cldata.train.terms_padded,1))\n",
    "        train!(mdl, cldata; log_dir = mklogdir(name))\n",
    "        mdl\n",
    "    end\n",
    "    \n",
    "    \n",
    "    ###################\n",
    "    if doextrapo(modeltype)\n",
    "        extrapo_mdl = mdlfun(extrapo_data)\n",
    "        println()\n",
    "        @show res_extrapo = evaluate(extrapo_mdl, extrapo_data.test)\n",
    "        push!(extrapo_df, Dict(:method=>name * \" Extrapolating\", :mse=>res_extrapo))\n",
    "    end\n",
    "    \n",
    "    \n",
    "    ######\n",
    "    full_mdl = mdlfun(full_data)\n",
    "    println()\n",
    "    @show res_full = evaluate(full_mdl, full_data.test)\n",
    "    push!(full_df, Dict(:method=>name, :mse=>res_full))\n",
    "    \n",
    "    #######\n",
    "    println()\n",
    "    @show res_ord = evaluate(full_mdl, ord_data.test)\n",
    "    push!(ord_df, Dict(:method=>name, :mse=>res_ord))\n",
    "    \n",
    "    \n",
    "    #######\n",
    "    @show  res_nonextrapo = evaluate(full_mdl, extrapo_data.test)\n",
    "    println()\n",
    "    push!(extrapo_df, Dict(:method=>name * \" Non-extrapolating\", :mse=>res_nonextrapo))\n",
    "    \n",
    "    \n",
    "    ####\n",
    "    save(\"results/point_full.csv\", full_df)\n",
    "    save(\"results/point_extrapo.csv\", extrapo_df)\n",
    "    save(\"results/point_ord.csv\", ord_df)\n",
    "    \n",
    "    full_mdl\n",
    "end\n",
    "\n",
    "\n",
    "doextrapo(::Any) = true\n",
    "doextrapo(::Type{TermToColorPointEmpirical}) = false"
   ]
  },
  {
   "cell_type": "code",
   "execution_count": 35,
   "metadata": {},
   "outputs": [
    {
     "data": {
      "text/plain": [
       "qualitative_demo (generic function with 3 methods)"
      ]
     },
     "execution_count": 35,
     "metadata": {},
     "output_type": "execute_result"
    }
   ],
   "source": [
    "function qualitative_demo(mdl, do_oov=false)\n",
    "    names = [\"black\", \"brownish green\", \"brown\", \"brownish\", \"greenish\", \"greenish brown\", \"green\", \"red\", \"orange\", \"blue\"]\n",
    "    if do_oov\n",
    "        append!(names, [\"ish\"])\n",
    "    end\n",
    "    plot_query(mdl, names) |> display\n",
    "end\n",
    "\n",
    "qualitative_demo(mdl::TermToColorPointEmpirical) = qualitative_demo(mdl, false)"
   ]
  },
  {
   "cell_type": "code",
   "execution_count": 36,
   "metadata": {},
   "outputs": [],
   "source": [
    "####################################################"
   ]
  },
  {
   "cell_type": "code",
   "execution_count": 37,
   "metadata": {},
   "outputs": [
    {
     "name": "stderr",
     "output_type": "stream",
     "text": [
      "\u001b[1m\u001b[36mINFO: \u001b[39m\u001b[22m\u001b[36mDirect\n",
      "\u001b[39m"
     ]
    },
    {
     "name": "stdout",
     "output_type": "stream",
     "text": [
      "\n",
      "res_full = evaluate(full_mdl, full_data.test) = 0.06635567f0\n",
      "\n",
      "res_ord = evaluate(full_mdl, ord_data.test) = 0.057472266f0\n",
      "res_nonextrapo = evaluate(full_mdl, extrapo_data.test) = 0.06369885f0\n",
      "\n"
     ]
    },
    {
     "name": "stderr",
     "output_type": "stream",
     "text": [
      "\u001b[1m\u001b[36mINFO: \u001b[39m\u001b[22m\u001b[36mSOWE\n",
      "\u001b[39m"
     ]
    },
    {
     "name": "stdout",
     "output_type": "stream",
     "text": [
      "\n",
      "res_extrapo = evaluate(extrapo_mdl, extrapo_data.test) = 0.09304764f0\n",
      "\n",
      "res_full = evaluate(full_mdl, full_data.test) = 0.066772565f0\n",
      "\n",
      "res_ord = evaluate(full_mdl, ord_data.test) = 0.06410597f0\n",
      "res_nonextrapo = evaluate(full_mdl, extrapo_data.test) = 0.076956816f0\n",
      "\n"
     ]
    },
    {
     "name": "stderr",
     "output_type": "stream",
     "text": [
      "\u001b[1m\u001b[36mINFO: \u001b[39m\u001b[22m\u001b[36mCNN\n",
      "\u001b[39m"
     ]
    },
    {
     "name": "stdout",
     "output_type": "stream",
     "text": [
      "\n",
      "res_extrapo = evaluate(extrapo_mdl, extrapo_data.test) = 0.0893576f0\n",
      "\n",
      "res_full = evaluate(full_mdl, full_data.test) = 0.06703785f0\n",
      "\n",
      "res_ord = evaluate(full_mdl, ord_data.test) = 0.05773749f0\n",
      "res_nonextrapo = evaluate(full_mdl, extrapo_data.test) = 0.074265406f0\n",
      "\n"
     ]
    },
    {
     "name": "stderr",
     "output_type": "stream",
     "text": [
      "\u001b[1m\u001b[36mINFO: \u001b[39m\u001b[22m\u001b[36mRNN\n",
      "\u001b[39m"
     ]
    },
    {
     "name": "stdout",
     "output_type": "stream",
     "text": [
      "\n",
      "res_extrapo = evaluate(extrapo_mdl, extrapo_data.test) = 0.14179087f0\n",
      "\n",
      "res_full = evaluate(full_mdl, full_data.test) = 0.07118864f0\n",
      "\n",
      "res_ord = evaluate(full_mdl, ord_data.test) = 0.06874289f0\n",
      "res_nonextrapo = evaluate(full_mdl, extrapo_data.test) = 0.13543682f0\n",
      "\n"
     ]
    }
   ],
   "source": [
    "namedmodels = [\n",
    "    (TermToColorPointEmpirical, \"Direct\"),\n",
    "    (TermToColorPointSOWE, \"SOWE\"),\n",
    "    (TermToColorPointCNN, \"CNN\"),\n",
    "    (TermToColorPointRNN, \"RNN\"),    \n",
    "]\n",
    "\n",
    "for (modeltype, name) in namedmodels\n",
    "    perform_evaluation(modeltype, name)\n",
    "end;"
   ]
  },
  {
   "cell_type": "code",
   "execution_count": null,
   "metadata": {},
   "outputs": [],
   "source": []
  },
  {
   "cell_type": "code",
   "execution_count": null,
   "metadata": {},
   "outputs": [],
   "source": [
    "noml = ColoringNames.TermToColorPointEmpirical()\n",
    "train!(noml, cldata)\n",
    "\n",
    "qualitative_demo(noml)\n",
    "@show evaluate(noml, cldata.dev)"
   ]
  },
  {
   "cell_type": "code",
   "execution_count": 27,
   "metadata": {},
   "outputs": [
    {
     "name": "stderr",
     "output_type": "stream",
     "text": [
      "\u001b[1m\u001b[33mWARNING: \u001b[39m\u001b[22m\u001b[33mThe specified values for size and/or count will result in 15780 unused data points\u001b[39m\n"
     ]
    },
    {
     "ename": "LoadError",
     "evalue": "\u001b[91mInterruptException:\u001b[39m",
     "output_type": "error",
     "traceback": [
      "\u001b[91mInterruptException:\u001b[39m",
      "",
      "Stacktrace:",
      " [1] \u001b[1mArray{Int64,N} where N\u001b[22m\u001b[22m\u001b[1m(\u001b[22m\u001b[22m::Tuple{Int64}\u001b[1m)\u001b[22m\u001b[22m at \u001b[1m./boot.jl:317\u001b[22m\u001b[22m",
      " [2] \u001b[1mbroadcast_t\u001b[22m\u001b[22m\u001b[1m(\u001b[22m\u001b[22m::Function, ::Type{T} where T, ::Tuple{Base.OneTo{Int64}}, ::CartesianRange{CartesianIndex{1}}, ::Array{SubString{String},1}, ::Scalar{T}\u001b[1m)\u001b[22m\u001b[22m at \u001b[1m./broadcast.jl:268\u001b[22m\u001b[22m",
      " [3] \u001b[1mbroadcast_c\u001b[22m\u001b[22m at \u001b[1m./broadcast.jl:316\u001b[22m\u001b[22m [inlined]",
      " [4] \u001b[1mbroadcast\u001b[22m\u001b[22m\u001b[1m(\u001b[22m\u001b[22m::Function, ::Array{SubString{String},1}, ::Scalar{T}\u001b[1m)\u001b[22m\u001b[22m at \u001b[1m./broadcast.jl:455\u001b[22m\u001b[22m",
      " [5] \u001b[1mcollect_to!\u001b[22m\u001b[22m\u001b[1m(\u001b[22m\u001b[22m::Array{Array{Int64,1},1}, ::Base.Generator{Array{Array{SubString{String},1},1},ColoringNames.##16#17}, ::Int64, ::Int64\u001b[1m)\u001b[22m\u001b[22m at \u001b[1m./array.jl:508\u001b[22m\u001b[22m",
      " [6] \u001b[1mcollect_to_with_first!\u001b[22m\u001b[22m\u001b[1m(\u001b[22m\u001b[22m::Array{Array{Int64,1},1}, ::Array{Int64,1}, ::Base.Generator{Array{Array{SubString{String},1},1},ColoringNames.##16#17}, ::Int64\u001b[1m)\u001b[22m\u001b[22m at \u001b[1m./array.jl:495\u001b[22m\u001b[22m",
      " [7] \u001b[1m_collect\u001b[22m\u001b[22m\u001b[1m(\u001b[22m\u001b[22m::Array{Array{SubString{String},1},1}, ::Base.Generator{Array{Array{SubString{String},1},1},ColoringNames.##16#17}, ::Base.EltypeUnknown, ::Base.HasShape\u001b[1m)\u001b[22m\u001b[22m at \u001b[1m./array.jl:489\u001b[22m\u001b[22m",
      " [8] \u001b[1mmap\u001b[22m\u001b[22m\u001b[1m(\u001b[22m\u001b[22m::Function, ::Array{Array{SubString{String},1},1}\u001b[1m)\u001b[22m\u001b[22m at \u001b[1m./abstractarray.jl:1868\u001b[22m\u001b[22m",
      " [9] \u001b[1m#prepare_labels#15\u001b[22m\u001b[22m\u001b[1m(\u001b[22m\u001b[22m::Bool, ::Function, ::Function, ::Array{Any,1}, ::MLLabelUtils.LabelEnc.NativeLabels{String,2834}\u001b[1m)\u001b[22m\u001b[22m at \u001b[1m/home/wheel/oxinabox/.julia/v0.6/ColoringNames/src/input.jl:58\u001b[22m\u001b[22m",
      " [10] \u001b[1m(::ColoringNames.#kw##prepare_labels)\u001b[22m\u001b[22m\u001b[1m(\u001b[22m\u001b[22m::Array{Any,1}, ::ColoringNames.#prepare_labels, ::Array{Any,1}, ::MLLabelUtils.LabelEnc.NativeLabels{String,2834}\u001b[1m)\u001b[22m\u001b[22m at \u001b[1m./<missing>:0\u001b[22m\u001b[22m",
      " [11] \u001b[1mquery\u001b[22m\u001b[22m\u001b[1m(\u001b[22m\u001b[22m::ColoringNames.TermToColorPointSOWE{TensorFlow.Tensor{Any},MLLabelUtils.LabelEnc.NativeLabels{String,2834},TensorFlow.Tensor{String}}, ::Array{Any,1}\u001b[1m)\u001b[22m\u001b[22m at \u001b[1m/home/wheel/oxinabox/.julia/v0.6/ColoringNames/src/networks/networks_common.jl:55\u001b[22m\u001b[22m",
      " [12] \u001b[1mevaluate\u001b[22m\u001b[22m\u001b[1m(\u001b[22m\u001b[22m::ColoringNames.TermToColorPointSOWE{TensorFlow.Tensor{Any},MLLabelUtils.LabelEnc.NativeLabels{String,2834},TensorFlow.Tensor{String}}, ::Array{Any,1}, ::Array{Int64,2}, ::Array{Float32,2}\u001b[1m)\u001b[22m\u001b[22m at \u001b[1m/home/wheel/oxinabox/.julia/v0.6/ColoringNames/src/networks/networks_point_est.jl:11\u001b[22m\u001b[22m",
      " [13] \u001b[1m#_train!#74\u001b[22m\u001b[22m\u001b[1m(\u001b[22m\u001b[22m::Tuple{LearnBase.ObsDim.Constant{1},LearnBase.ObsDim.Last}, ::String, ::Int64, ::Float32, ::Int64, ::Int64, ::ColoringNames.##87#88{ColoringNames.TermToColorPointSOWE{TensorFlow.Tensor{Any},MLLabelUtils.LabelEnc.NativeLabels{String,2834},TensorFlow.Tensor{String}},ColoringNames.ColorDatasets{MLLabelUtils.LabelEnc.NativeLabels{String,2834},ColoringNames.ColorDataset{Array{Any,1},Array{Int64,2},Array{Float32,2}},ColoringNames.ColorDataset{Array{Any,1},Array{Int64,2},Array{Float32,2}},ColoringNames.ColorDataset{Array{Any,1},Array{Int64,2},Array{Float32,2}}}}, ::Int64, ::ColoringNames.#_train!, ::ColoringNames.#obs_input_func#90{TensorFlow.Graph}, ::ColoringNames.TermToColorPointSOWE{TensorFlow.Tensor{Any},MLLabelUtils.LabelEnc.NativeLabels{String,2834},TensorFlow.Tensor{String}}, ::Tuple{Array{Float32,2},Array{Int64,2}}\u001b[1m)\u001b[22m\u001b[22m at \u001b[1m/home/wheel/oxinabox/.julia/v0.6/ColoringNames/src/networks/networks_common.jl:106\u001b[22m\u001b[22m",
      " [14] \u001b[1m(::ColoringNames.#kw##_train!)\u001b[22m\u001b[22m\u001b[1m(\u001b[22m\u001b[22m::Array{Any,1}, ::ColoringNames.#_train!, ::Function, ::ColoringNames.TermToColorPointSOWE{TensorFlow.Tensor{Any},MLLabelUtils.LabelEnc.NativeLabels{String,2834},TensorFlow.Tensor{String}}, ::Tuple{Array{Float32,2},Array{Int64,2}}\u001b[1m)\u001b[22m\u001b[22m at \u001b[1m./<missing>:0\u001b[22m\u001b[22m",
      " [15] \u001b[1m#train!#89\u001b[22m\u001b[22m\u001b[1m(\u001b[22m\u001b[22m::Array{Any,1}, ::Function, ::ColoringNames.TermToColorPointSOWE{TensorFlow.Tensor{Any},MLLabelUtils.LabelEnc.NativeLabels{String,2834},TensorFlow.Tensor{String}}, ::Array{Any,1}, ::Array{Int64,2}, ::Array{Float32,2}\u001b[1m)\u001b[22m\u001b[22m at \u001b[1m/home/wheel/oxinabox/.julia/v0.6/ColoringNames/src/networks/networks_point_est.jl:34\u001b[22m\u001b[22m",
      " [16] \u001b[1m(::ColoringNames.#kw##train!)\u001b[22m\u001b[22m\u001b[1m(\u001b[22m\u001b[22m::Array{Any,1}, ::ColoringNames.#train!, ::ColoringNames.TermToColorPointSOWE{TensorFlow.Tensor{Any},MLLabelUtils.LabelEnc.NativeLabels{String,2834},TensorFlow.Tensor{String}}, ::Array{Any,1}, ::Array{Int64,2}, ::Array{Float32,2}\u001b[1m)\u001b[22m\u001b[22m at \u001b[1m./<missing>:0\u001b[22m\u001b[22m",
      " [17] \u001b[1m#train!#86\u001b[22m\u001b[22m\u001b[1m(\u001b[22m\u001b[22m::Array{Any,1}, ::Function, ::ColoringNames.TermToColorPointSOWE{TensorFlow.Tensor{Any},MLLabelUtils.LabelEnc.NativeLabels{String,2834},TensorFlow.Tensor{String}}, ::ColoringNames.ColorDatasets{MLLabelUtils.LabelEnc.NativeLabels{String,2834},ColoringNames.ColorDataset{Array{Any,1},Array{Int64,2},Array{Float32,2}},ColoringNames.ColorDataset{Array{Any,1},Array{Int64,2},Array{Float32,2}},ColoringNames.ColorDataset{Array{Any,1},Array{Int64,2},Array{Float32,2}}}\u001b[1m)\u001b[22m\u001b[22m at \u001b[1m/home/wheel/oxinabox/.julia/v0.6/ColoringNames/src/networks/networks_point_est.jl:6\u001b[22m\u001b[22m",
      " [18] \u001b[1m(::ColoringNames.#kw##train!)\u001b[22m\u001b[22m\u001b[1m(\u001b[22m\u001b[22m::Array{Any,1}, ::ColoringNames.#train!, ::ColoringNames.TermToColorPointSOWE{TensorFlow.Tensor{Any},MLLabelUtils.LabelEnc.NativeLabels{String,2834},TensorFlow.Tensor{String}}, ::ColoringNames.ColorDatasets{MLLabelUtils.LabelEnc.NativeLabels{String,2834},ColoringNames.ColorDataset{Array{Any,1},Array{Int64,2},Array{Float32,2}},ColoringNames.ColorDataset{Array{Any,1},Array{Int64,2},Array{Float32,2}},ColoringNames.ColorDataset{Array{Any,1},Array{Int64,2},Array{Float32,2}}}\u001b[1m)\u001b[22m\u001b[22m at \u001b[1m./<missing>:0\u001b[22m\u001b[22m"
     ]
    }
   ],
   "source": [
    "sowe = TermToColorPointSOWE(full_data.encoding, word_embs; n_steps=4)\n",
    "train!(sowe, full_data;\n",
    "    log_dir=mklogdir(\"sowe\")\n",
    ")\n",
    "qualitative_demo(sowe)\n",
    "@show evaluate(sowe, full_data.dev)"
   ]
  },
  {
   "cell_type": "code",
   "execution_count": null,
   "metadata": {},
   "outputs": [],
   "source": [
    "cnn = TermToColorPointCNN(cldata.encoding, word_embs; n_steps=4)\n",
    "\n",
    "train!(cnn, cldata;\n",
    "    log_dir=mklogdir(\"cnn\"),\n",
    ")\n",
    "qualitative_demo(cnn)\n",
    "@show evaluate(cnn, cldata.dev)"
   ]
  },
  {
   "cell_type": "code",
   "execution_count": null,
   "metadata": {},
   "outputs": [],
   "source": [
    "qualitative_demo(cnn)\n",
    "@show evaluate(cnn, cldata.dev)"
   ]
  },
  {
   "cell_type": "code",
   "execution_count": null,
   "metadata": {},
   "outputs": [],
   "source": [
    "rnn = TermToColorPointRNN(cldata.encoding, word_embs; n_steps=4)\n",
    "\n",
    "train!(rnn, cldata;\n",
    "    log_dir=mklogdir(\"rnn\"),\n",
    ")\n",
    "qualitative_demo(rnn)\n",
    "@show evaluate(rnn, cldata.dev)"
   ]
  },
  {
   "cell_type": "code",
   "execution_count": null,
   "metadata": {},
   "outputs": [],
   "source": [
    "1"
   ]
  },
  {
   "cell_type": "code",
   "execution_count": null,
   "metadata": {},
   "outputs": [],
   "source": [
    "using ColoringNames: order_relevant_dataset, order_relevant_name_pairs"
   ]
  },
  {
   "cell_type": "code",
   "execution_count": null,
   "metadata": {},
   "outputs": [],
   "source": [
    "namepairs = order_relevant_name_pairs(cldata.dev);"
   ]
  },
  {
   "cell_type": "code",
   "execution_count": null,
   "metadata": {},
   "outputs": [],
   "source": [
    "hsv1s = Array{Float64}((length(namepairs), 3))\n",
    "hsv2s = similar(hsv1s)\n",
    "for (ii, (n1, n2)) in enumerate(namepairs)\n",
    "    hsv1s[ii, :] = query(noml, [n1])\n",
    "    hsv2s[ii, :] = query(noml, [n2])\n",
    "end\n",
    "selectperm(ColoringNames.hsv_squared_error(hsv1s, hsv2s), 1:5)"
   ]
  },
  {
   "cell_type": "code",
   "execution_count": null,
   "metadata": {},
   "outputs": [],
   "source": [
    "namepairs[[12, 15, 13, 14, 16]]"
   ]
  },
  {
   "cell_type": "code",
   "execution_count": null,
   "metadata": {},
   "outputs": [],
   "source": [
    "plot_query(mdl, \"pink-purple\") |> display\n",
    "plot_query(mdl, \"purple-pink\") |> display\n",
    "plot_query(mdl, \"brown-orange\") |> display\n",
    "plot_query(mdl, \"orange-brown\") |> display\n",
    "plot_query(mdl, \"orange-yellow\") |> display\n",
    "plot_query(mdl, \"yellow-orange\") |> display\n",
    "plot_query(mdl, \"orange-yellow\") |> display\n",
    "plot_query(mdl, \"yellow-orange\") |> display"
   ]
  },
  {
   "cell_type": "code",
   "execution_count": null,
   "metadata": {},
   "outputs": [],
   "source": [
    "'-' .∈ collect(names) |> any"
   ]
  },
  {
   "cell_type": "code",
   "execution_count": null,
   "metadata": {},
   "outputs": [],
   "source": []
  }
 ],
 "metadata": {
  "kernelspec": {
   "display_name": "Julia 0.6.2",
   "language": "julia",
   "name": "julia-0.6"
  },
  "language_info": {
   "file_extension": ".jl",
   "mimetype": "application/julia",
   "name": "julia",
   "version": "0.6.2"
  }
 },
 "nbformat": 4,
 "nbformat_minor": 2
}
