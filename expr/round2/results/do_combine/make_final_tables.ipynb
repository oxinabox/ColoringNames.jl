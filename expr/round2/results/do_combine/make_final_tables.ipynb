{
 "cells": [
  {
   "cell_type": "code",
   "execution_count": null,
   "metadata": {},
   "outputs": [],
   "source": [
    "# First copy and rename models in the original files"
   ]
  },
  {
   "cell_type": "code",
   "execution_count": 28,
   "metadata": {},
   "outputs": [],
   "source": [
    "for kind in (\"regular\", \"smoothed\")\n",
    "    mkpath(kind)\n",
    "    for file in readdir(\"everything_else_orig_$kind\")\n",
    "        file[1]=='.' && continue\n",
    "        open(joinpath(kind,file),\"w\") do outfh\n",
    "            for line in eachline(joinpath(\"everything_else_orig_$kind\", file))\n",
    "                line = replace(line, \"RNN\", \"GRU\")\n",
    "                println(outfh, line)\n",
    "            end\n",
    "        end\n",
    "    end\n",
    "end"
   ]
  },
  {
   "cell_type": "code",
   "execution_count": 29,
   "metadata": {},
   "outputs": [],
   "source": [
    "# Now copy in the new datga"
   ]
  },
  {
   "cell_type": "code",
   "execution_count": 30,
   "metadata": {},
   "outputs": [
    {
     "name": "stdout",
     "output_type": "stream",
     "text": [
      "fn = \".ipynb_checkpoints\"\n",
      "fn = \"distpoint_extrapo.csv\"\n",
      "fn = \"distpoint_full.csv\"\n",
      "fn = \"distpoint_ord.csv\"\n",
      "fn = \"res_dist_extrapo.csv\"\n",
      "fn = \"res_dist_full.csv\"\n",
      "fn = \"res_dist_ord.csv\"\n",
      "fn = \"res_point_comb_extrapo.csv\"\n",
      "fn = \"res_point_comb_full.csv\"\n",
      "fn = \"res_point_comb_ord.csv\"\n"
     ]
    }
   ],
   "source": [
    "for fn in readdir(\"lstm_only\")\n",
    "    @show fn\n",
    "    fn[1]=='.' && continue\n",
    "    for line in Base.Iterators.drop(eachline(joinpath(\"lstm_only\", fn)), 1)\n",
    "        line = replace(line, \"RNN\", \"LSTM\")\n",
    "        if contains(line, \"smoothed\")\n",
    "            open(joinpath(\"smoothed\", fn),\"a\") do outfh\n",
    "                println(outfh, line)\n",
    "            end\n",
    "        else\n",
    "            open(joinpath(\"regular\", fn),\"a\") do outfh\n",
    "                println(outfh, line)\n",
    "            end\n",
    "        end\n",
    "    end\n",
    "end"
   ]
  },
  {
   "cell_type": "code",
   "execution_count": null,
   "metadata": {},
   "outputs": [],
   "source": []
  }
 ],
 "metadata": {
  "kernelspec": {
   "display_name": "Julia 0.6.4",
   "language": "julia",
   "name": "julia-0.6"
  },
  "language_info": {
   "file_extension": ".jl",
   "mimetype": "application/julia",
   "name": "julia",
   "version": "0.6.4"
  }
 },
 "nbformat": 4,
 "nbformat_minor": 2
}
