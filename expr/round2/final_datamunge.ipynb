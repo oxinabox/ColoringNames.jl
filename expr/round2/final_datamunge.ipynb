{
 "cells": [
  {
   "cell_type": "code",
   "execution_count": 26,
   "metadata": {},
   "outputs": [
    {
     "name": "stderr",
     "output_type": "stream",
     "text": [
      "\u001b[1m\u001b[36mINFO: \u001b[39m\u001b[22m\u001b[36mRecompiling stale cache file /home/wheel/oxinabox/.julia/lib/v0.6/QueryOperators.ji for module QueryOperators.\n",
      "\u001b[39m"
     ]
    }
   ],
   "source": [
    "using Query\n",
    "using DataFrames\n",
    "using CSVFiles"
   ]
  },
  {
   "cell_type": "code",
   "execution_count": 28,
   "metadata": {},
   "outputs": [],
   "source": [
    "\n",
    "dist_df = DataFrame(load(\"results/raw/dist_full.csv\" ))\n",
    "\n",
    "\n",
    "\n",
    "for filename in [\"ord.csv\", \"full.csv\", \"extrapo.csv\"]\n",
    "    df = DataFrame(load(joinpath(\"results\", \"raw\", \"dist_\"*filename)))\n",
    "\n",
    "    res_form = @from ii in df begin\n",
    "        @select {method=\"Distribution Mean \" .* ii.method, mse=ii.mse_to_distmean}\n",
    "    end\n",
    "\n",
    "    save(joinpath(\"results\", \"distpoint_\"*filename), res_form)\n",
    "end\n",
    "###############################\n"
   ]
  },
  {
   "cell_type": "code",
   "execution_count": 31,
   "metadata": {},
   "outputs": [],
   "source": [
    "Base.String() = \"\"\n",
    "Base.Float64() = NaN\n",
    "\n",
    "\n",
    "\n",
    "method_name(method)::String = join(\n",
    "    filter(x->x ∉ [\"Extrapolating\", \"Non-extrapolating\"],\n",
    "           split(method)), \" \")\n",
    "\n",
    "\n",
    "\n",
    "\n",
    "\n",
    "extrapo_res(df) = df |> @filter(contains(_.method, \"Extrapolating\"))\n",
    "nonextrapo_res(df) = df |> @filter(contains(_.method, \"Non-extrapolating\"))\n",
    "\n",
    "###########################\n",
    "filename =  \"results/raw/dist_extrapo.csv\" \n",
    "df = DataFrame(load(filename))\n",
    "\n",
    "res_form = @from nonext in nonextrapo_res(df) begin\n",
    "    @let base_method = method_name(nonext.method)\n",
    "    @left_outer_join ext in extrapo_res(df) on base_method equals method_name(ext.method)\n",
    "    @select {method=base_method, nonextrapolatingperp=nonext.perp, extrapolatingperp = ext.perp}\n",
    "end\n",
    "\n",
    "save(\"results/res_dist_extrapo.csv\", res_form)\n",
    "###############################\n"
   ]
  },
  {
   "cell_type": "code",
   "execution_count": null,
   "metadata": {},
   "outputs": [],
   "source": [
    "\n",
    "###########################\n",
    "\n",
    "point_extrapos = map([\"raw/point_extrapo.csv\", \"distpoint_extrapo.csv\"]) do filename\n",
    "    df = DataFrame(load(joinpath(\"results\", filename)))\n",
    "\n",
    "    res_form = @from nonext in nonextrapo_res(df) begin\n",
    "        @let base_method = method_name(nonext.method)\n",
    "        @left_outer_join ext in extrapo_res(df) on base_method equals method_name(ext.method)\n",
    "        @select {method=base_method,\n",
    "            nonextrapolatingmse=nonext.mse,\n",
    "            extrapolatingmse= ext.mse}\n",
    "        @collect DataFrame\n",
    "    end\n",
    "end\n",
    "###############################\n",
    "\n",
    "save(\"results/res_point_comb_extrapo.csv\", vcat(point_extrapos...))"
   ]
  },
  {
   "cell_type": "code",
   "execution_count": 30,
   "metadata": {},
   "outputs": [
    {
     "ename": "LoadError",
     "evalue": "\u001b[91mSystemError: opening file results/raw/point_full.csv: No such file or directory\u001b[39m",
     "output_type": "error",
     "traceback": [
      "\u001b[91mSystemError: opening file results/raw/point_full.csv: No such file or directory\u001b[39m",
      "",
      "Stacktrace:",
      " [1] \u001b[1m#systemerror#44\u001b[22m\u001b[22m at \u001b[1m./error.jl:64\u001b[22m\u001b[22m [inlined]",
      " [2] \u001b[1msystemerror\u001b[22m\u001b[22m\u001b[1m(\u001b[22m\u001b[22m::String, ::Bool\u001b[1m)\u001b[22m\u001b[22m at \u001b[1m./error.jl:64\u001b[22m\u001b[22m",
      " [3] \u001b[1mopen\u001b[22m\u001b[22m\u001b[1m(\u001b[22m\u001b[22m::String, ::Bool, ::Bool, ::Bool, ::Bool, ::Bool\u001b[1m)\u001b[22m\u001b[22m at \u001b[1m./iostream.jl:104\u001b[22m\u001b[22m",
      " [4] \u001b[1mopen\u001b[22m\u001b[22m\u001b[1m(\u001b[22m\u001b[22m::String, ::String\u001b[1m)\u001b[22m\u001b[22m at \u001b[1m./iostream.jl:132\u001b[22m\u001b[22m",
      " [5] \u001b[1mopen\u001b[22m\u001b[22m\u001b[1m(\u001b[22m\u001b[22m::TextParse.##31#33{Array{Any,1},String,Char}, ::String, ::String\u001b[1m)\u001b[22m\u001b[22m at \u001b[1m./iostream.jl:150\u001b[22m\u001b[22m",
      " [6] \u001b[1m#_csvread_f#29\u001b[22m\u001b[22m\u001b[1m(\u001b[22m\u001b[22m::Array{Any,1}, ::Function, ::String, ::Char\u001b[1m)\u001b[22m\u001b[22m at \u001b[1m/home/wheel/oxinabox/.julia/v0.6/TextParse/src/csv.jl:95\u001b[22m\u001b[22m",
      " [7] \u001b[1m#csvread#25\u001b[22m\u001b[22m\u001b[1m(\u001b[22m\u001b[22m::Array{Any,1}, ::Function, ::String, ::Char\u001b[1m)\u001b[22m\u001b[22m at \u001b[1m/home/wheel/oxinabox/.julia/v0.6/TextParse/src/csv.jl:69\u001b[22m\u001b[22m",
      " [8] \u001b[1mgetiterator\u001b[22m\u001b[22m\u001b[1m(\u001b[22m\u001b[22m::CSVFiles.CSVFile\u001b[1m)\u001b[22m\u001b[22m at \u001b[1m/home/wheel/oxinabox/.julia/v0.6/CSVFiles/src/CSVFiles.jl:69\u001b[22m\u001b[22m",
      " [9] \u001b[1m_DataFrame\u001b[22m\u001b[22m\u001b[1m(\u001b[22m\u001b[22m::CSVFiles.CSVFile\u001b[1m)\u001b[22m\u001b[22m at \u001b[1m/home/wheel/oxinabox/.julia/v0.6/IterableTables/src/integrations/dataframes-missing.jl:100\u001b[22m\u001b[22m",
      " [10] \u001b[1mDataFrames.DataFrame\u001b[22m\u001b[22m\u001b[1m(\u001b[22m\u001b[22m::CSVFiles.CSVFile\u001b[1m)\u001b[22m\u001b[22m at \u001b[1m/home/wheel/oxinabox/.julia/v0.6/IterableTables/src/integrations/dataframes-missing.jl:129\u001b[22m\u001b[22m",
      " [11] \u001b[1m(::##49#50)\u001b[22m\u001b[22m\u001b[1m(\u001b[22m\u001b[22m::String\u001b[1m)\u001b[22m\u001b[22m at \u001b[1m./<missing>:0\u001b[22m\u001b[22m",
      " [12] \u001b[1mbroadcast_t\u001b[22m\u001b[22m\u001b[1m(\u001b[22m\u001b[22m::Function, ::Type{Any}, ::Tuple{Base.OneTo{Int64}}, ::CartesianRange{CartesianIndex{1}}, ::Array{String,1}\u001b[1m)\u001b[22m\u001b[22m at \u001b[1m./broadcast.jl:258\u001b[22m\u001b[22m",
      " [13] \u001b[1mbroadcast_c\u001b[22m\u001b[22m at \u001b[1m./broadcast.jl:321\u001b[22m\u001b[22m [inlined]",
      " [14] \u001b[1mbroadcast\u001b[22m\u001b[22m\u001b[1m(\u001b[22m\u001b[22m::Function, ::Array{String,1}\u001b[1m)\u001b[22m\u001b[22m at \u001b[1m./broadcast.jl:455\u001b[22m\u001b[22m"
     ]
    }
   ],
   "source": [
    "save(\"results/res_point_comb_full.csv\",\n",
    "    vcat(DataFrame.(load.([\"results/raw/point_full.csv\", \"results/distpoint_full.csv\"]))...)\n",
    "    )\n",
    "save(\"results/res_point_comb_ord.csv\",\n",
    "    vcat(DataFrame.(load.([\"results/raw/point_ord.csv\", \"results/distpoint_ord.csv\"]))...)\n",
    "    )\n"
   ]
  },
  {
   "cell_type": "code",
   "execution_count": 32,
   "metadata": {},
   "outputs": [],
   "source": [
    "cp(\"results/raw/dist_full.csv\",\"results/res_dist_full.csv\", remove_destination=true)\n",
    "cp(\"results/raw/dist_ord.csv\",\"results/res_dist_ord.csv\", remove_destination=true)"
   ]
  },
  {
   "cell_type": "code",
   "execution_count": null,
   "metadata": {},
   "outputs": [],
   "source": []
  },
  {
   "cell_type": "markdown",
   "metadata": {},
   "source": [
    "## avoid case-senstive names"
   ]
  },
  {
   "cell_type": "code",
   "execution_count": 33,
   "metadata": {},
   "outputs": [],
   "source": [
    "for (path,dirs,files) in walkdir(\"demo\")\n",
    "    for fn in files\n",
    "        newfn = replace(fn, r\"[A-Z]\", s\"1\\0\")\n",
    "        if fn != newfn && '1' ∉ fn\n",
    "            mv(joinpath(path,fn), joinpath(path,newfn))\n",
    "        end\n",
    "    end\n",
    "end"
   ]
  },
  {
   "cell_type": "code",
   "execution_count": 14,
   "metadata": {},
   "outputs": [
    {
     "data": {
      "text/plain": [
       "1"
      ]
     },
     "execution_count": 14,
     "metadata": {},
     "output_type": "execute_result"
    }
   ],
   "source": [
    "1"
   ]
  },
  {
   "cell_type": "code",
   "execution_count": 22,
   "metadata": {},
   "outputs": [
    {
     "name": "stdout",
     "output_type": "stream",
     "text": [
      "String[\"1Brown\", \"gray\", \"1Gray\", \"bluish gray\", \"1Green\", \"ish\", \"1Purple\", \"brownish 1Green\"]"
     ]
    }
   ],
   "source": [
    "allnames=[\"1Brown\",\n",
    "\"black\",\n",
    "\"brownish green\",\n",
    "\"gray\",\n",
    "\"greyish blue\",\n",
    "\"orange-yellow\",\n",
    "\"purplish\",\n",
    "\"1Gray\",\n",
    "\"bluish gray\",\n",
    "\"brownish\",\n",
    "\"greenish brown\",\n",
    "\"grey\",\n",
    "\"pink-purple\",\n",
    "\"white\",\n",
    "\"1Green\",\n",
    "\"bluish grey\",\n",
    "\"brown-orange\",\n",
    "\"greenish\",\n",
    "\"ish\",\n",
    "\"purple-pink\",\n",
    "\"yellow-orange\",\n",
    "\"1Purple\",\n",
    "\"brownish 1Green\",\n",
    "\"brown\",\n",
    "\"green\",\n",
    "\"orange-brown\",\n",
    "\"purple\"]\n",
    "\n",
    "used = [\"brown-orange\",\n",
    "\"orange-brown\",\n",
    "\"yellow-orange\",\n",
    "\"orange-yellow\",\n",
    "\"brownish green\",\n",
    "\"greenish brown\",\n",
    "\"bluish grey\",\n",
    "\"greyish blue\",\n",
    "\"pink-purple\",\n",
    "\"purple-pink\",\n",
    "\"green\",\n",
    "\"greenish\",\n",
    "\"purple\",\n",
    "\"purplish\",\n",
    "\"brown\",\n",
    "\"brownish\",\n",
    "\"black\",\n",
    "\"white\",\n",
    "\"grey\"]\n",
    "    \n",
    "setdiff(allnames, used) |> print"
   ]
  },
  {
   "cell_type": "code",
   "execution_count": null,
   "metadata": {},
   "outputs": [],
   "source": []
  }
 ],
 "metadata": {
  "kernelspec": {
   "display_name": "Julia 0.6.3",
   "language": "julia",
   "name": "julia-0.6"
  },
  "language_info": {
   "file_extension": ".jl",
   "mimetype": "application/julia",
   "name": "julia",
   "version": "0.6.3"
  }
 },
 "nbformat": 4,
 "nbformat_minor": 2
}
