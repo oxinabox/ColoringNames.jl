{
 "cells": [
  {
   "cell_type": "code",
   "execution_count": 9,
   "metadata": {},
   "outputs": [],
   "source": [
    "using Query\n",
    "using DataFrames\n",
    "using CSVFiles"
   ]
  },
  {
   "cell_type": "code",
   "execution_count": 8,
   "metadata": {},
   "outputs": [
    {
     "data": {
      "text/plain": [
       "6-element Array{String,1}:\n",
       " \"results/dist_dist.csv\"    \n",
       " \"results/dist_ord.csv\"     \n",
       " \"results/dist_extrapo.csv\" \n",
       " \"results/point_dist.csv\"   \n",
       " \"results/point_ord.csv\"    \n",
       " \"results/point_extrapo.csv\""
      ]
     },
     "execution_count": 8,
     "metadata": {},
     "output_type": "execute_result"
    }
   ],
   "source": [
    "tests = split(\"dist ord extrapo\")\n",
    "tasks = split(\"dist point\")\n",
    "\n",
    "test_tasks = [joinpath(\"results\", task*\"_\"*test*\".csv\") for task in tasks for test in tests]"
   ]
  },
  {
   "cell_type": "code",
   "execution_count": 10,
   "metadata": {},
   "outputs": [
    {
     "data": {
      "text/html": [
       "<table class=\"data-frame\"><thead><tr><th></th><th>method</th><th>perp</th><th>perp_hue</th><th>perp_sat</th><th>perp_val</th><th>mse_to_distmode</th><th>mse_to_distmean</th></tr></thead><tbody><tr><th>1</th><td>Direct Non-extrapolating</td><td>2.10279e9</td><td>156.552</td><td>3801.75</td><td>3533.08</td><td>0.117389</td><td>0.0636989</td></tr><tr><th>2</th><td>Direct-smoothed Non-extrapolating</td><td>8.70003e5</td><td>48.7585</td><td>157.652</td><td>113.18</td><td>0.0891889</td><td>0.0636972</td></tr><tr><th>3</th><td>SOWE Extrapolating</td><td>9.7992e5</td><td>51.3755</td><td>163.695</td><td>116.519</td><td>0.138944</td><td>0.0793886</td></tr><tr><th>4</th><td>SOWE Non-extrapolating</td><td>8.62954e5</td><td>48.4645</td><td>156.717</td><td>113.618</td><td>0.112753</td><td>0.0753511</td></tr><tr><th>5</th><td>SOWE-smoothed Extrapolating</td><td>9.50381e5</td><td>50.7427</td><td>161.952</td><td>115.648</td><td>0.0975256</td><td>0.078681</td></tr><tr><th>6</th><td>SOWE-smoothed Non-extrapolating</td><td>8.55923e5</td><td>48.4129</td><td>156.375</td><td>113.059</td><td>0.0911059</td><td>0.0751902</td></tr><tr><th>7</th><td>CNN Extrapolating</td><td>1.0345e6</td><td>52.4537</td><td>163.146</td><td>120.886</td><td>0.141667</td><td>0.0812984</td></tr><tr><th>8</th><td>CNN Non-extrapolating</td><td>9.03985e5</td><td>49.9958</td><td>157.114</td><td>115.083</td><td>0.150718</td><td>0.0755267</td></tr><tr><th>9</th><td>CNN-smoothed Extrapolating</td><td>1.07021e6</td><td>53.0244</td><td>164.243</td><td>122.887</td><td>0.115777</td><td>0.0820637</td></tr><tr><th>10</th><td>CNN-smoothed Non-extrapolating</td><td>9.31776e5</td><td>50.9268</td><td>157.887</td><td>115.883</td><td>0.0970555</td><td>0.0759993</td></tr><tr><th>11</th><td>RNN Extrapolating</td><td>3.42562e6</td><td>139.017</td><td>179.569</td><td>137.227</td><td>0.209735</td><td>0.147531</td></tr><tr><th>12</th><td>RNN Non-extrapolating</td><td>2.02091e6</td><td>92.9757</td><td>166.959</td><td>130.187</td><td>0.1627</td><td>0.107536</td></tr><tr><th>13</th><td>RNN-smoothed Extrapolating</td><td>3.39419e6</td><td>134.694</td><td>180.599</td><td>139.531</td><td>0.179411</td><td>0.148709</td></tr><tr><th>14</th><td>RNN-smoothed Non-extrapolating</td><td>1.99849e6</td><td>92.0534</td><td>166.289</td><td>130.556</td><td>0.135048</td><td>0.101478</td></tr></tbody></table>"
      ],
      "text/plain": [
       "14×7 DataFrames.DataFrame. Omitted printing of 3 columns\n",
       "│ Row │ method                            │ perp      │ perp_hue │ perp_sat │\n",
       "├─────┼───────────────────────────────────┼───────────┼──────────┼──────────┤\n",
       "│ 1   │ Direct Non-extrapolating          │ 2.10279e9 │ 156.552  │ 3801.75  │\n",
       "│ 2   │ Direct-smoothed Non-extrapolating │ 8.70003e5 │ 48.7585  │ 157.652  │\n",
       "│ 3   │ SOWE Extrapolating                │ 9.7992e5  │ 51.3755  │ 163.695  │\n",
       "│ 4   │ SOWE Non-extrapolating            │ 8.62954e5 │ 48.4645  │ 156.717  │\n",
       "│ 5   │ SOWE-smoothed Extrapolating       │ 9.50381e5 │ 50.7427  │ 161.952  │\n",
       "│ 6   │ SOWE-smoothed Non-extrapolating   │ 8.55923e5 │ 48.4129  │ 156.375  │\n",
       "│ 7   │ CNN Extrapolating                 │ 1.0345e6  │ 52.4537  │ 163.146  │\n",
       "│ 8   │ CNN Non-extrapolating             │ 9.03985e5 │ 49.9958  │ 157.114  │\n",
       "│ 9   │ CNN-smoothed Extrapolating        │ 1.07021e6 │ 53.0244  │ 164.243  │\n",
       "│ 10  │ CNN-smoothed Non-extrapolating    │ 9.31776e5 │ 50.9268  │ 157.887  │\n",
       "│ 11  │ RNN Extrapolating                 │ 3.42562e6 │ 139.017  │ 179.569  │\n",
       "│ 12  │ RNN Non-extrapolating             │ 2.02091e6 │ 92.9757  │ 166.959  │\n",
       "│ 13  │ RNN-smoothed Extrapolating        │ 3.39419e6 │ 134.694  │ 180.599  │\n",
       "│ 14  │ RNN-smoothed Non-extrapolating    │ 1.99849e6 │ 92.0534  │ 166.289  │"
      ]
     },
     "execution_count": 10,
     "metadata": {},
     "output_type": "execute_result"
    }
   ],
   "source": [
    "filename =  \"results/dist_extrapo.csv\" \n",
    "df = DataFrame(load(filename))\n"
   ]
  },
  {
   "cell_type": "code",
   "execution_count": 46,
   "metadata": {},
   "outputs": [
    {
     "name": "stdout",
     "output_type": "stream",
     "text": [
      "extrapo_res = 6×2 DataFrames.DataFrame\n",
      "│ Row │ method        │ perp      │\n",
      "├─────┼───────────────┼───────────┤\n",
      "│ 1   │ SOWE          │ 9.7992e5  │\n",
      "│ 2   │ SOWE-smoothed │ 9.50381e5 │\n",
      "│ 3   │ CNN           │ 1.0345e6  │\n",
      "│ 4   │ CNN-smoothed  │ 1.07021e6 │\n",
      "│ 5   │ RNN           │ 3.42562e6 │\n",
      "│ 6   │ RNN-smoothed  │ 3.39419e6 │\n",
      "nonextrapo_res = 8×2 DataFrames.DataFrame\n",
      "│ Row │ method          │ perp      │\n",
      "├─────┼─────────────────┼───────────┤\n",
      "│ 1   │ Direct          │ 2.10279e9 │\n",
      "│ 2   │ Direct-smoothed │ 8.70003e5 │\n",
      "│ 3   │ SOWE            │ 8.62954e5 │\n",
      "│ 4   │ SOWE-smoothed   │ 8.55923e5 │\n",
      "│ 5   │ CNN             │ 9.03985e5 │\n",
      "│ 6   │ CNN-smoothed    │ 9.31776e5 │\n",
      "│ 7   │ RNN             │ 2.02091e6 │\n",
      "│ 8   │ RNN-smoothed    │ 1.99849e6 │\n"
     ]
    }
   ],
   "source": [
    "method_name(method)::String = first(split(method))\n",
    "extrapo_res = @from ii in df begin\n",
    "    @where contains(ii.method, \"Extrapolating\")\n",
    "    @select {method=method_name(ii.method), ii.perp}\n",
    "    @collect DataFrame\n",
    "end\n",
    "nonextrapo_res = @from ii in df begin\n",
    "    @where contains(ii.method, \"Non-extrapolating\")\n",
    "    @select {method=method_name(ii.method), ii.perp}\n",
    "    @collect DataFrame\n",
    "end\n",
    "@show extrapo_res \n",
    "@show nonextrapo_res;"
   ]
  },
  {
   "cell_type": "code",
   "execution_count": 54,
   "metadata": {},
   "outputs": [
    {
     "ename": "LoadError",
     "evalue": "\u001b[91mThe keys in the join clause have different types, Any and String.\u001b[39m",
     "output_type": "error",
     "traceback": [
      "\u001b[91mThe keys in the join clause have different types, Any and String.\u001b[39m",
      "",
      "Stacktrace:",
      " [1] \u001b[1mjoin\u001b[22m\u001b[22m\u001b[1m(\u001b[22m\u001b[22m::QueryOperators.EnumerableIterable{NamedTuples._NT_method_perp{String,Float64},IterableTables.DataFrameIterator{NamedTuples._NT_method_perp{String,Float64},Tuple{Array{String,1},Array{Float64,1}}}}, ::QueryOperators.EnumerableIterable{NamedTuples._NT_method_perp{String,Float64},IterableTables.DataFrameIterator{NamedTuples._NT_method_perp{String,Float64},Tuple{Array{String,1},Array{Float64,1}}}}, ::Function, ::Expr, ::Function, ::Expr, ::Function, ::Expr\u001b[1m)\u001b[22m\u001b[22m at \u001b[1m/home/wheel/oxinabox/.julia/v0.6/QueryOperators/src/enumerable/enumerable_join.jl:20\u001b[22m\u001b[22m"
     ]
    }
   ],
   "source": [
    "@from nonext in nonextrapo_res begin\n",
    "    @join ext in extrapo_res on nonetx.method equals ext.method\n",
    "    @select {nonext.method, nonextrapolating_perp=nonext.perp, extrapolating_perp = ext.perp}\n",
    "    @collect DataFrame\n",
    "end"
   ]
  },
  {
   "cell_type": "code",
   "execution_count": 52,
   "metadata": {},
   "outputs": [
    {
     "data": {
      "text/plain": [
       "2-element Array{Any,1}:\n",
       " String[\"Direct\", \"Direct-smoothed\", \"SOWE\", \"SOWE-smoothed\", \"CNN\", \"CNN-smoothed\", \"RNN\", \"RNN-smoothed\"]\n",
       " [2.10279e9, 8.70003e5, 8.62954e5, 8.55923e5, 9.03985e5, 9.31776e5, 2.02091e6, 1.99849e6]                  "
      ]
     },
     "execution_count": 52,
     "metadata": {},
     "output_type": "execute_result"
    }
   ],
   "source": [
    "nonextrapo_res.columns"
   ]
  },
  {
   "cell_type": "code",
   "execution_count": 53,
   "metadata": {},
   "outputs": [
    {
     "data": {
      "text/plain": [
       "2-element Array{Any,1}:\n",
       " String[\"SOWE\", \"SOWE-smoothed\", \"CNN\", \"CNN-smoothed\", \"RNN\", \"RNN-smoothed\"]\n",
       " [9.7992e5, 9.50381e5, 1.0345e6, 1.07021e6, 3.42562e6, 3.39419e6]             "
      ]
     },
     "execution_count": 53,
     "metadata": {},
     "output_type": "execute_result"
    }
   ],
   "source": [
    "extrapo_res.columns"
   ]
  },
  {
   "cell_type": "code",
   "execution_count": null,
   "metadata": {},
   "outputs": [],
   "source": []
  }
 ],
 "metadata": {
  "kernelspec": {
   "display_name": "Julia 0.6.2",
   "language": "julia",
   "name": "julia-0.6"
  },
  "language_info": {
   "file_extension": ".jl",
   "mimetype": "application/julia",
   "name": "julia",
   "version": "0.6.2"
  }
 },
 "nbformat": 4,
 "nbformat_minor": 2
}
