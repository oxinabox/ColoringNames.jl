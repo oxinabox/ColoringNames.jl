{
 "cells": [
  {
   "cell_type": "code",
   "execution_count": 1,
   "metadata": {},
   "outputs": [
    {
     "name": "stderr",
     "output_type": "stream",
     "text": [
      "\u001b[1m\u001b[36mINFO: \u001b[39m\u001b[22m\u001b[36mRecompiling stale cache file /home/wheel/oxinabox/.julia/lib/v0.6/DataFrames.ji for module DataFrames.\n",
      "\u001b[39m"
     ]
    }
   ],
   "source": [
    "using Query\n",
    "using DataFrames\n",
    "using CSVFiles\n",
    "using Glob"
   ]
  },
  {
   "cell_type": "code",
   "execution_count": 2,
   "metadata": {},
   "outputs": [
    {
     "data": {
      "text/plain": [
       "36"
      ]
     },
     "execution_count": 2,
     "metadata": {},
     "output_type": "execute_result"
    }
   ],
   "source": [
    "2+34"
   ]
  },
  {
   "cell_type": "code",
   "execution_count": 3,
   "metadata": {},
   "outputs": [],
   "source": [
    "\n",
    "dist_df = DataFrame(load(\"results/raw/dist_full.csv\" ))\n",
    "\n",
    "\n",
    "\n",
    "for filename in [\"ord.csv\", \"full.csv\", \"extrapo.csv\"]\n",
    "    df = DataFrame(load(joinpath(\"results\", \"raw\", \"dist_\"*filename)))\n",
    "\n",
    "    res_form = @from ii in df begin\n",
    "        @select {method=\"Distribution Mean \" .* ii.method, mse=ii.mse_to_distmean}\n",
    "    end\n",
    "\n",
    "    save(joinpath(\"results\", \"distpoint_\"*filename), res_form)\n",
    "end\n",
    "###############################\n"
   ]
  },
  {
   "cell_type": "code",
   "execution_count": 4,
   "metadata": {},
   "outputs": [],
   "source": [
    "Base.String() = \"\"\n",
    "Base.Float64() = NaN\n",
    "\n",
    "\n",
    "\n",
    "method_name(method)::String = join(\n",
    "    filter(x->x ∉ [\"Extrapolating\", \"Non-extrapolating\"],\n",
    "           split(method)), \" \")\n",
    "\n",
    "\n",
    "\n",
    "\n",
    "\n",
    "extrapo_res(df) = df |> @filter(contains(_.method, \"Extrapolating\"))\n",
    "nonextrapo_res(df) = df |> @filter(contains(_.method, \"Non-extrapolating\"))\n",
    "\n",
    "###########################\n",
    "filename =  \"results/raw/dist_extrapo.csv\" \n",
    "df = DataFrame(load(filename))\n",
    "\n",
    "res_form = @from nonext in nonextrapo_res(df) begin\n",
    "    @let base_method = method_name(nonext.method)\n",
    "    @left_outer_join ext in extrapo_res(df) on base_method equals method_name(ext.method)\n",
    "    @select {method=base_method, nonextrapolatingperp=nonext.perp, extrapolatingperp = ext.perp}\n",
    "end\n",
    "\n",
    "save(\"results/res_dist_extrapo.csv\", res_form)\n",
    "###############################\n"
   ]
  },
  {
   "cell_type": "code",
   "execution_count": 5,
   "metadata": {},
   "outputs": [],
   "source": [
    "\n",
    "###########################\n",
    "\n",
    "point_extrapos = map([\"raw/point_extrapo.csv\", \"distpoint_extrapo.csv\"]) do filename\n",
    "    df = DataFrame(load(joinpath(\"results\", filename)))\n",
    "\n",
    "    res_form = @from nonext in nonextrapo_res(df) begin\n",
    "        @let base_method = method_name(nonext.method)\n",
    "        @left_outer_join ext in extrapo_res(df) on base_method equals method_name(ext.method)\n",
    "        @select {method=base_method,\n",
    "            nonextrapolatingmse=nonext.mse,\n",
    "            extrapolatingmse= ext.mse}\n",
    "        @collect DataFrame\n",
    "    end\n",
    "end\n",
    "###############################\n",
    "\n",
    "save(\"results/res_point_comb_extrapo.csv\", vcat(point_extrapos...))"
   ]
  },
  {
   "cell_type": "code",
   "execution_count": 6,
   "metadata": {},
   "outputs": [],
   "source": [
    "\n",
    "save(\"results/res_point_comb_full.csv\",\n",
    "    vcat(DataFrame.(load.([\"results/raw/point_full.csv\", \"results/distpoint_full.csv\"]))...)\n",
    "    )\n",
    "save(\"results/res_point_comb_ord.csv\",\n",
    "    vcat(DataFrame.(load.([\"results/raw/point_ord.csv\", \"results/distpoint_ord.csv\"]))...)\n",
    "    )\n"
   ]
  },
  {
   "cell_type": "code",
   "execution_count": 7,
   "metadata": {},
   "outputs": [],
   "source": [
    "cp(\"results/raw/dist_full.csv\",\"results/res_dist_full.csv\", remove_destination=true)\n",
    "cp(\"results/raw/dist_ord.csv\",\"results/res_dist_ord.csv\", remove_destination=true)"
   ]
  },
  {
   "cell_type": "code",
   "execution_count": 8,
   "metadata": {},
   "outputs": [
    {
     "data": {
      "text/plain": [
       "1"
      ]
     },
     "execution_count": 8,
     "metadata": {},
     "output_type": "execute_result"
    }
   ],
   "source": [
    "1"
   ]
  },
  {
   "cell_type": "code",
   "execution_count": 9,
   "metadata": {},
   "outputs": [],
   "source": [
    "## avoid case-senstive names"
   ]
  },
  {
   "cell_type": "code",
   "execution_count": 10,
   "metadata": {},
   "outputs": [],
   "source": [
    "for (path,dirs,files) in walkdir(\"demo\")\n",
    "    for fn in files\n",
    "        newfn = replace(fn, r\"[A-Z]\", s\"1\\0\")\n",
    "        if fn != newfn && '1' ∉ fn\n",
    "            mv(joinpath(path,fn), joinpath(path,newfn))\n",
    "        end\n",
    "    end\n",
    "end"
   ]
  },
  {
   "cell_type": "code",
   "execution_count": 11,
   "metadata": {},
   "outputs": [
    {
     "data": {
      "text/html": [
       "<table class=\"data-frame\"><thead><tr><th></th><th>method</th><th>perp</th><th>mse_to_distmean</th></tr></thead><tbody><tr><th>1</th><td>Direct</td><td>4.08852e6</td><td>0.0648013</td></tr><tr><th>2</th><td>Direct-smoothed</td><td>8.93602e5</td><td>0.0648423</td></tr><tr><th>3</th><td>SOWE</td><td>9.1701e5</td><td>0.0656019</td></tr><tr><th>4</th><td>SOWE-smoothed</td><td>9.16069e5</td><td>0.0657174</td></tr><tr><th>5</th><td>CNN</td><td>9.55151e5</td><td>0.0658269</td></tr><tr><th>6</th><td>CNN-smoothed</td><td>9.79344e5</td><td>0.0658741</td></tr><tr><th>7</th><td>RNN</td><td>2.08376e6</td><td>0.0953645</td></tr><tr><th>8</th><td>RNN-smoothed</td><td>2.04503e6</td><td>0.0966241</td></tr></tbody></table>"
      ],
      "text/plain": [
       "8×3 DataFrames.DataFrame\n",
       "│ Row │ method          │ perp      │ mse_to_distmean │\n",
       "├─────┼─────────────────┼───────────┼─────────────────┤\n",
       "│ 1   │ Direct          │ 4.08852e6 │ 0.0648013       │\n",
       "│ 2   │ Direct-smoothed │ 8.93602e5 │ 0.0648423       │\n",
       "│ 3   │ SOWE            │ 9.1701e5  │ 0.0656019       │\n",
       "│ 4   │ SOWE-smoothed   │ 9.16069e5 │ 0.0657174       │\n",
       "│ 5   │ CNN             │ 9.55151e5 │ 0.0658269       │\n",
       "│ 6   │ CNN-smoothed    │ 9.79344e5 │ 0.0658741       │\n",
       "│ 7   │ RNN             │ 2.08376e6 │ 0.0953645       │\n",
       "│ 8   │ RNN-smoothed    │ 2.04503e6 │ 0.0966241       │"
      ]
     },
     "execution_count": 11,
     "metadata": {},
     "output_type": "execute_result"
    }
   ],
   "source": [
    "fn =  glob(glob\"results/*dist*.csv\") |> last\n",
    "    df = DataFrame(load(fn))"
   ]
  },
  {
   "cell_type": "markdown",
   "metadata": {},
   "source": [
    "# Drop Smoothed results"
   ]
  },
  {
   "cell_type": "code",
   "execution_count": 38,
   "metadata": {},
   "outputs": [
    {
     "data": {
      "text/plain": [
       "slice (generic function with 2 methods)"
      ]
     },
     "execution_count": 38,
     "metadata": {},
     "output_type": "execute_result"
    }
   ],
   "source": [
    "function retitle_direct!(methods, fn)\n",
    "    methods[:] = map(methods) do x\n",
    "        if r\".*dist.*\"(fn)\n",
    "            x = replace(x, \"Direct-smoothed\", \"Operational Upper Bound\")\n",
    "        elseif r\".*point.*\"(fn)\n",
    "            x= replace(x, \"Direct\", \"Operational Upper Bound\")\n",
    "        end\n",
    "        x\n",
    "    end\n",
    "    methods\n",
    "end\n",
    "\n",
    "function slice(func, dest)\n",
    "    mkpath(dest)\n",
    "    for fn in glob(glob\"results/*.csv\")\n",
    "        @show fn\n",
    "        df = DataFrame(load(fn))\n",
    "        retitle_direct!(df[:method], fn)\n",
    "        df = func(df)\n",
    "        @show df\n",
    "        outfn = joinpath(dest, basename(fn))\n",
    "        save(outfn, df, missingstring=NaN)\n",
    "    end\n",
    "end\n",
    "\n",
    "################\n"
   ]
  },
  {
   "cell_type": "code",
   "execution_count": 41,
   "metadata": {},
   "outputs": [
    {
     "name": "stdout",
     "output_type": "stream",
     "text": [
      "fn = \"results/distpoint_extrapo.csv\"\n",
      "df = 8×2 DataFrames.DataFrame\n",
      "│ Row │ method                                                      │ mse       │\n",
      "├─────┼─────────────────────────────────────────────────────────────┼───────────┤\n",
      "│ 1   │ Distribution Mean Direct Non-extrapolating                  │ 0.0621324 │\n",
      "│ 2   │ Distribution Mean Operational Upper Bound Non-extrapolating │ 0.0621801 │\n",
      "│ 3   │ Distribution Mean SOWE-smoothed Extrapolating               │ 0.0764292 │\n",
      "│ 4   │ Distribution Mean SOWE-smoothed Non-extrapolating           │ 0.0730747 │\n",
      "│ 5   │ Distribution Mean CNN-smoothed Extrapolating                │ 0.0937428 │\n",
      "│ 6   │ Distribution Mean CNN-smoothed Non-extrapolating            │ 0.0727696 │\n",
      "│ 7   │ Distribution Mean RNN-smoothed Extrapolating                │ 0.151046  │\n",
      "│ 8   │ Distribution Mean RNN-smoothed Non-extrapolating            │ 0.105099  │\n",
      "fn = \"results/distpoint_full.csv\"\n",
      "df = 5×2 DataFrames.DataFrame\n",
      "│ Row │ method                                    │ mse       │\n",
      "├─────┼───────────────────────────────────────────┼───────────┤\n",
      "│ 1   │ Distribution Mean Direct                  │ 0.0663561 │\n",
      "│ 2   │ Distribution Mean Operational Upper Bound │ 0.0663674 │\n",
      "│ 3   │ Distribution Mean SOWE-smoothed           │ 0.0680232 │\n",
      "│ 4   │ Distribution Mean CNN-smoothed            │ 0.0688247 │\n",
      "│ 5   │ Distribution Mean RNN-smoothed            │ 0.0772847 │\n",
      "fn = \"results/distpoint_ord.csv\"\n",
      "df = 5×2 DataFrames.DataFrame\n",
      "│ Row │ method                                    │ mse       │\n",
      "├─────┼───────────────────────────────────────────┼───────────┤\n",
      "│ 1   │ Distribution Mean Direct                  │ 0.0648013 │\n",
      "│ 2   │ Distribution Mean Operational Upper Bound │ 0.0648423 │\n",
      "│ 3   │ Distribution Mean SOWE-smoothed           │ 0.0657174 │\n",
      "│ 4   │ Distribution Mean CNN-smoothed            │ 0.0658741 │\n",
      "│ 5   │ Distribution Mean RNN-smoothed            │ 0.0966241 │\n",
      "fn = \"results/res_dist_extrapo.csv\"\n",
      "df = 5×3 DataFrames.DataFrame\n",
      "│ Row │ method                  │ nonextrapolatingperp │ extrapolatingperp │\n",
      "├─────┼─────────────────────────┼──────────────────────┼───────────────────┤\n",
      "│ 1   │ Direct                  │ 2.95083e9            │ \u001b[90mmissing\u001b[39m           │\n",
      "│ 2   │ Operational Upper Bound │ 8.43846e5            │ \u001b[90mmissing\u001b[39m           │\n",
      "│ 3   │ SOWE-smoothed           │ 8.39005e5            │ 9.42046e5         │\n",
      "│ 4   │ CNN-smoothed            │ 8.92994e5            │ 1.05487e6         │\n",
      "│ 5   │ RNN-smoothed            │ 1.88007e6            │ 3.07493e6         │\n",
      "fn = \"results/res_dist_full.csv\"\n",
      "df = 5×3 DataFrames.DataFrame\n",
      "│ Row │ method                  │ perp      │ mse_to_distmean │\n",
      "├─────┼─────────────────────────┼───────────┼─────────────────┤\n",
      "│ 1   │ Direct                  │ 2.75356e6 │ 0.0663561       │\n",
      "│ 2   │ Operational Upper Bound │ 1.19449e6 │ 0.0663674       │\n",
      "│ 3   │ SOWE-smoothed           │ 1.26527e6 │ 0.0680232       │\n",
      "│ 4   │ CNN-smoothed            │ 1.32227e6 │ 0.0688247       │\n",
      "│ 5   │ RNN-smoothed            │ 1.46937e6 │ 0.0772847       │\n",
      "fn = \"results/res_dist_ord.csv\"\n",
      "df = 5×3 DataFrames.DataFrame\n",
      "│ Row │ method                  │ perp      │ mse_to_distmean │\n",
      "├─────┼─────────────────────────┼───────────┼─────────────────┤\n",
      "│ 1   │ Direct                  │ 4.08852e6 │ 0.0648013       │\n",
      "│ 2   │ Operational Upper Bound │ 8.93602e5 │ 0.0648423       │\n",
      "│ 3   │ SOWE-smoothed           │ 9.16069e5 │ 0.0657174       │\n",
      "│ 4   │ CNN-smoothed            │ 9.79344e5 │ 0.0658741       │\n",
      "│ 5   │ RNN-smoothed            │ 2.04503e6 │ 0.0966241       │\n",
      "fn = \"results/res_point_comb_extrapo.csv\"\n",
      "df = 6×3 DataFrames.DataFrame\n",
      "│ Row │ method                                             │ nonextrapolatingmse │ extrapolatingmse │\n",
      "├─────┼────────────────────────────────────────────────────┼─────────────────────┼──────────────────┤\n",
      "│ 1   │ Operational Upper Bound                            │ 0.0621324           │ \u001b[90mmissing\u001b[39m          │\n",
      "│ 2   │ Distribution Mean Operational Upper Bound          │ 0.0621324           │ \u001b[90mmissing\u001b[39m          │\n",
      "│ 3   │ Distribution Mean Operational Upper Bound-smoothed │ 0.0621801           │ \u001b[90mmissing\u001b[39m          │\n",
      "│ 4   │ Distribution Mean SOWE-smoothed                    │ 0.0730747           │ 0.0764292        │\n",
      "│ 5   │ Distribution Mean CNN-smoothed                     │ 0.0727696           │ 0.0937428        │\n",
      "│ 6   │ Distribution Mean RNN-smoothed                     │ 0.105099            │ 0.151046         │\n",
      "fn = \"results/res_point_comb_full.csv\"\n",
      "df = 6×2 DataFrames.DataFrame\n",
      "│ Row │ method                                             │ mse       │\n",
      "├─────┼────────────────────────────────────────────────────┼───────────┤\n",
      "│ 1   │ Operational Upper Bound                            │ 0.0663561 │\n",
      "│ 2   │ Distribution Mean Operational Upper Bound          │ 0.0663561 │\n",
      "│ 3   │ Distribution Mean Operational Upper Bound-smoothed │ 0.0663674 │\n",
      "│ 4   │ Distribution Mean SOWE-smoothed                    │ 0.0680232 │\n",
      "│ 5   │ Distribution Mean CNN-smoothed                     │ 0.0688247 │\n",
      "│ 6   │ Distribution Mean RNN-smoothed                     │ 0.0772847 │\n",
      "fn = \"results/res_point_comb_ord.csv\"\n",
      "df = 6×2 DataFrames.DataFrame\n",
      "│ Row │ method                                             │ mse       │\n",
      "├─────┼────────────────────────────────────────────────────┼───────────┤\n",
      "│ 1   │ Operational Upper Bound                            │ 0.0648013 │\n",
      "│ 2   │ Distribution Mean Operational Upper Bound          │ 0.0648013 │\n",
      "│ 3   │ Distribution Mean Operational Upper Bound-smoothed │ 0.0648423 │\n",
      "│ 4   │ Distribution Mean SOWE-smoothed                    │ 0.0657174 │\n",
      "│ 5   │ Distribution Mean CNN-smoothed                     │ 0.0658741 │\n",
      "│ 6   │ Distribution Mean RNN-smoothed                     │ 0.0966241 │\n"
     ]
    }
   ],
   "source": [
    "\n",
    "slice(\"results/smoothed\") do df\n",
    "    df = @from row in df begin\n",
    "        @where contains(row.method, \"smoothed\") || contains(row.method, \"Operational Upper Bound\") || contains(row.method, \"Direct\")\n",
    "        @select row\n",
    "        @collect DataFrame\n",
    "    end\n",
    "end"
   ]
  },
  {
   "cell_type": "code",
   "execution_count": null,
   "metadata": {},
   "outputs": [],
   "source": []
  },
  {
   "cell_type": "code",
   "execution_count": 36,
   "metadata": {},
   "outputs": [
    {
     "data": {
      "text/plain": [
       "1"
      ]
     },
     "execution_count": 36,
     "metadata": {},
     "output_type": "execute_result"
    }
   ],
   "source": [
    "\n",
    "1slice(\"results/regular\") do df\n",
    "    df = @from row in df begin\n",
    "        @where !contains(row.method, \"smoothed\") && !contains(row.method, \"Direct\")\n",
    "        @select row\n",
    "        @collect DataFrame\n",
    "    end   \n",
    "end"
   ]
  },
  {
   "cell_type": "code",
   "execution_count": 13,
   "metadata": {},
   "outputs": [
    {
     "data": {
      "text/html": [
       "save(s::<b>Union{AbstractString, IO}</b>, args...) at <a href=\"https://github.com/JuliaIO/FileIO.jl/tree/1a1d5e56298076777f2c07b7780e7f84b3697388//src/loadsave.jl#L113\" target=\"_blank\">/home/wheel/oxinabox/.julia/v0.6/FileIO/src/loadsave.jl:113</a>"
      ],
      "text/plain": [
       "save(s::Union{AbstractString, IO}, args...) in FileIO at /home/wheel/oxinabox/.julia/v0.6/FileIO/src/loadsave.jl:113"
      ]
     },
     "execution_count": 13,
     "metadata": {},
     "output_type": "execute_result"
    }
   ],
   "source": [
    "@which save(\"\", df)"
   ]
  },
  {
   "cell_type": "code",
   "execution_count": 14,
   "metadata": {},
   "outputs": [
    {
     "data": {
      "text/html": [
       "save<i>{F}</i>(q::<b>FileIO.Formatted{F}</b>, data...) at <a href=\"https://github.com/JuliaIO/FileIO.jl/tree/1a1d5e56298076777f2c07b7780e7f84b3697388//src/loadsave.jl#L194\" target=\"_blank\">/home/wheel/oxinabox/.julia/v0.6/FileIO/src/loadsave.jl:194</a>"
      ],
      "text/plain": [
       "save(q::FileIO.Formatted{F}, data...) where F in FileIO at /home/wheel/oxinabox/.julia/v0.6/FileIO/src/loadsave.jl:194"
      ]
     },
     "execution_count": 14,
     "metadata": {},
     "output_type": "execute_result"
    }
   ],
   "source": [
    "@which save(FileIO.query(\"foo.csv\"), df)"
   ]
  },
  {
   "cell_type": "code",
   "execution_count": null,
   "metadata": {},
   "outputs": [],
   "source": []
  }
 ],
 "metadata": {
  "kernelspec": {
   "display_name": "Julia 0.6.3",
   "language": "julia",
   "name": "julia-0.6"
  },
  "language_info": {
   "file_extension": ".jl",
   "mimetype": "application/julia",
   "name": "julia",
   "version": "0.6.3"
  }
 },
 "nbformat": 4,
 "nbformat_minor": 2
}
