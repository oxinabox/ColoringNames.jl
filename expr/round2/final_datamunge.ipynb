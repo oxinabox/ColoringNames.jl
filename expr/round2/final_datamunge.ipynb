{
 "cells": [
  {
   "cell_type": "code",
   "execution_count": 7,
   "metadata": {},
   "outputs": [
    {
     "name": "stderr",
     "output_type": "stream",
     "text": [
      "\u001b[1m\u001b[36mINFO: \u001b[39m\u001b[22m\u001b[36mPrecompiling module QueryOperators.\n",
      "\u001b[39m\u001b[1m\u001b[36mINFO: \u001b[39m\u001b[22m\u001b[36mRecompiling stale cache file /Users/oxinabox/.julia/lib/v0.6/CodecZlib.ji for module CodecZlib.\n",
      "\u001b[39m\u001b[1m\u001b[36mINFO: \u001b[39m\u001b[22m\u001b[36mRecompiling stale cache file /Users/oxinabox/.julia/lib/v0.6/DataFrames.ji for module DataFrames.\n",
      "\u001b[39m\u001b[1m\u001b[36mINFO: \u001b[39m\u001b[22m\u001b[36mRecompiling stale cache file /Users/oxinabox/.julia/lib/v0.6/TextParse.ji for module TextParse.\n",
      "\u001b[39m"
     ]
    }
   ],
   "source": [
    "using Query\n",
    "using DataFrames\n",
    "using CSVFiles\n",
    "using Glob"
   ]
  },
  {
   "cell_type": "code",
   "execution_count": 8,
   "metadata": {},
   "outputs": [],
   "source": [
    "\n",
    "dist_df = DataFrame(load(\"results/raw/dist_full.csv\" ))\n",
    "\n",
    "\n",
    "\n",
    "for filename in [\"ord.csv\", \"full.csv\", \"extrapo.csv\"]\n",
    "    df = DataFrame(load(joinpath(\"results\", \"raw\", \"dist_\"*filename)))\n",
    "\n",
    "    res_form = @from ii in df begin\n",
    "        @select {method=\"Distribution Mean \" .* ii.method, mse=ii.mse_to_distmean}\n",
    "    end\n",
    "\n",
    "    save(joinpath(\"results\", \"distpoint_\"*filename), res_form)\n",
    "end\n",
    "###############################\n"
   ]
  },
  {
   "cell_type": "code",
   "execution_count": 9,
   "metadata": {},
   "outputs": [],
   "source": [
    "Base.String() = \"\"\n",
    "Base.Float64() = NaN\n",
    "\n",
    "\n",
    "\n",
    "method_name(method)::String = join(\n",
    "    filter(x->x ∉ [\"Extrapolating\", \"Non-extrapolating\"],\n",
    "           split(method)), \" \")\n",
    "\n",
    "\n",
    "\n",
    "\n",
    "\n",
    "extrapo_res(df) = df |> @filter(contains(_.method, \"Extrapolating\"))\n",
    "nonextrapo_res(df) = df |> @filter(contains(_.method, \"Non-extrapolating\"))\n",
    "\n",
    "###########################\n",
    "filename =  \"results/raw/dist_extrapo.csv\" \n",
    "df = DataFrame(load(filename))\n",
    "\n",
    "res_form = @from nonext in nonextrapo_res(df) begin\n",
    "    @let base_method = method_name(nonext.method)\n",
    "    @left_outer_join ext in extrapo_res(df) on base_method equals method_name(ext.method)\n",
    "    @select {method=base_method, nonextrapolatingperp=nonext.perp, extrapolatingperp = ext.perp}\n",
    "end\n",
    "\n",
    "save(\"results/res_dist_extrapo.csv\", res_form)\n",
    "###############################\n"
   ]
  },
  {
   "cell_type": "code",
   "execution_count": 10,
   "metadata": {},
   "outputs": [],
   "source": [
    "\n",
    "###########################\n",
    "\n",
    "point_extrapos = map([\"raw/point_extrapo.csv\", \"distpoint_extrapo.csv\"]) do filename\n",
    "    df = DataFrame(load(joinpath(\"results\", filename)))\n",
    "\n",
    "    res_form = @from nonext in nonextrapo_res(df) begin\n",
    "        @let base_method = method_name(nonext.method)\n",
    "        @left_outer_join ext in extrapo_res(df) on base_method equals method_name(ext.method)\n",
    "        @select {method=base_method,\n",
    "            nonextrapolatingmse=nonext.mse,\n",
    "            extrapolatingmse= ext.mse}\n",
    "        @collect DataFrame\n",
    "    end\n",
    "end\n",
    "###############################\n",
    "\n",
    "save(\"results/res_point_comb_extrapo.csv\", vcat(point_extrapos...))"
   ]
  },
  {
   "cell_type": "code",
   "execution_count": 11,
   "metadata": {},
   "outputs": [],
   "source": [
    "\n",
    "save(\"results/res_point_comb_full.csv\",\n",
    "    vcat(DataFrame.(load.([\"results/raw/point_full.csv\", \"results/distpoint_full.csv\"]))...)\n",
    "    )\n",
    "save(\"results/res_point_comb_ord.csv\",\n",
    "    vcat(DataFrame.(load.([\"results/raw/point_ord.csv\", \"results/distpoint_ord.csv\"]))...)\n",
    "    )\n"
   ]
  },
  {
   "cell_type": "code",
   "execution_count": 12,
   "metadata": {},
   "outputs": [],
   "source": [
    "cp(\"results/raw/dist_full.csv\",\"results/res_dist_full.csv\", remove_destination=true)\n",
    "cp(\"results/raw/dist_ord.csv\",\"results/res_dist_ord.csv\", remove_destination=true)"
   ]
  },
  {
   "cell_type": "code",
   "execution_count": 13,
   "metadata": {},
   "outputs": [
    {
     "data": {
      "text/plain": [
       "1"
      ]
     },
     "execution_count": 13,
     "metadata": {},
     "output_type": "execute_result"
    }
   ],
   "source": [
    "1"
   ]
  },
  {
   "cell_type": "code",
   "execution_count": 14,
   "metadata": {},
   "outputs": [],
   "source": [
    "## avoid case-senstive names"
   ]
  },
  {
   "cell_type": "code",
   "execution_count": 15,
   "metadata": {},
   "outputs": [],
   "source": [
    "for (path,dirs,files) in walkdir(\"demo\")\n",
    "    for fn in files\n",
    "        newfn = replace(fn, r\"[A-Z]\", s\"1\\0\")\n",
    "        if fn != newfn && '1' ∉ fn\n",
    "            mv(joinpath(path,fn), joinpath(path,newfn))\n",
    "        end\n",
    "    end\n",
    "end"
   ]
  },
  {
   "cell_type": "code",
   "execution_count": 16,
   "metadata": {},
   "outputs": [
    {
     "data": {
      "text/html": [
       "<table class=\"data-frame\"><thead><tr><th></th><th>method</th><th>perp</th><th>mse_to_distmean</th></tr></thead><tbody><tr><th>1</th><td>RNN</td><td>2.10333e6</td><td>0.087659</td></tr><tr><th>2</th><td>RNN-smoothed</td><td>2.00775e6</td><td>0.0886308</td></tr></tbody></table>"
      ],
      "text/plain": [
       "2×3 DataFrames.DataFrame\n",
       "│ Row │ method       │ perp      │ mse_to_distmean │\n",
       "├─────┼──────────────┼───────────┼─────────────────┤\n",
       "│ 1   │ RNN          │ 2.10333e6 │ 0.087659        │\n",
       "│ 2   │ RNN-smoothed │ 2.00775e6 │ 0.0886308       │"
      ]
     },
     "execution_count": 16,
     "metadata": {},
     "output_type": "execute_result"
    }
   ],
   "source": [
    "fn =  glob(glob\"results/*dist*.csv\") |> last\n",
    "    df = DataFrame(load(fn))"
   ]
  },
  {
   "cell_type": "markdown",
   "metadata": {},
   "source": [
    "# Drop Smoothed results"
   ]
  },
  {
   "cell_type": "code",
   "execution_count": 17,
   "metadata": {},
   "outputs": [
    {
     "data": {
      "text/plain": [
       "slice (generic function with 1 method)"
      ]
     },
     "execution_count": 17,
     "metadata": {},
     "output_type": "execute_result"
    }
   ],
   "source": [
    "function retitle_direct!(methods, fn)\n",
    "    methods[:] = map(methods) do x\n",
    "        if r\".*dist.*\"(fn)\n",
    "            x = replace(x, \"Direct-smoothed\", \"Operational Upper Bound\")\n",
    "        elseif r\".*point.*\"(fn)\n",
    "            x= replace(x, \"Direct\", \"Operational Upper Bound\")\n",
    "        end\n",
    "        x\n",
    "    end\n",
    "    methods\n",
    "end\n",
    "\n",
    "function slice(func, dest)\n",
    "    mkpath(dest)\n",
    "    for fn in glob(glob\"results/*.csv\")\n",
    "        @show fn\n",
    "        df = DataFrame(load(fn))\n",
    "        retitle_direct!(df[:method], fn)\n",
    "        df = func(df)\n",
    "        @show df\n",
    "        outfn = joinpath(dest, basename(fn))\n",
    "        save(outfn, df, missingstring=NaN)\n",
    "    end\n",
    "end\n",
    "\n",
    "################\n"
   ]
  },
  {
   "cell_type": "code",
   "execution_count": 18,
   "metadata": {},
   "outputs": [
    {
     "name": "stdout",
     "output_type": "stream",
     "text": [
      "fn = \"results/distpoint_extrapo.csv\"\n",
      "df = 2×2 DataFrames.DataFrame\n",
      "│ Row │ method                                           │ mse      │\n",
      "├─────┼──────────────────────────────────────────────────┼──────────┤\n",
      "│ 1   │ Distribution Mean RNN-smoothed Extrapolating     │ 0.111554 │\n",
      "│ 2   │ Distribution Mean RNN-smoothed Non-extrapolating │ 0.102866 │\n"
     ]
    },
    {
     "name": "stderr",
     "output_type": "stream",
     "text": [
      "Error encountered while saving \"results/smoothed/distpoint_extrapo.csv\".\n",
      "Fatal error:\n"
     ]
    },
    {
     "ename": "LoadError",
     "evalue": "\u001b[91mMethodError: no method matching fileio_save(::FileIO.File{FileIO.DataFormat{:CSV}}, ::DataFrames.DataFrame; missingstring=NaN)\u001b[0m\nClosest candidates are:\n  fileio_save(::FileIO.File{FileIO.DataFormat{:CSV}}, ::Any; delim, quotechar, escapechar, nastring, header) at /Users/oxinabox/.julia/v0.6/CSVFiles/src/csv_writer.jl:79\u001b[91m got unsupported keyword argument \"missingstring\"\u001b[39m\n  fileio_save(\u001b[91m::FileIO.File{FileIO.DataFormat{:TSV}}\u001b[39m, ::Any; delim, quotechar, escapechar, nastring, header) at /Users/oxinabox/.julia/v0.6/CSVFiles/src/csv_writer.jl:83\u001b[91m got unsupported keyword argument \"missingstring\"\u001b[39m\n  fileio_save(\u001b[91m::FileIO.Stream{FileIO.DataFormat{:CSV},IOtype} where IOtype<:IO\u001b[39m, ::Any; delim, quotechar, escapechar, nastring, header) at /Users/oxinabox/.julia/v0.6/CSVFiles/src/csv_writer.jl:87\u001b[91m got unsupported keyword argument \"missingstring\"\u001b[39m\n  ...\u001b[39m",
     "output_type": "error",
     "traceback": [
      "\u001b[91mMethodError: no method matching fileio_save(::FileIO.File{FileIO.DataFormat{:CSV}}, ::DataFrames.DataFrame; missingstring=NaN)\u001b[0m\nClosest candidates are:\n  fileio_save(::FileIO.File{FileIO.DataFormat{:CSV}}, ::Any; delim, quotechar, escapechar, nastring, header) at /Users/oxinabox/.julia/v0.6/CSVFiles/src/csv_writer.jl:79\u001b[91m got unsupported keyword argument \"missingstring\"\u001b[39m\n  fileio_save(\u001b[91m::FileIO.File{FileIO.DataFormat{:TSV}}\u001b[39m, ::Any; delim, quotechar, escapechar, nastring, header) at /Users/oxinabox/.julia/v0.6/CSVFiles/src/csv_writer.jl:83\u001b[91m got unsupported keyword argument \"missingstring\"\u001b[39m\n  fileio_save(\u001b[91m::FileIO.Stream{FileIO.DataFormat{:CSV},IOtype} where IOtype<:IO\u001b[39m, ::Any; delim, quotechar, escapechar, nastring, header) at /Users/oxinabox/.julia/v0.6/CSVFiles/src/csv_writer.jl:87\u001b[91m got unsupported keyword argument \"missingstring\"\u001b[39m\n  ...\u001b[39m",
      ""
     ]
    }
   ],
   "source": [
    "\n",
    "slice(\"results/smoothed\") do df\n",
    "    df = @from row in df begin\n",
    "        @where contains(row.method, \"smoothed\") || contains(row.method, \"Operational Upper Bound\") || contains(row.method, \"Direct\")\n",
    "        @select row\n",
    "        @collect DataFrame\n",
    "    end\n",
    "end"
   ]
  },
  {
   "cell_type": "code",
   "execution_count": null,
   "metadata": {},
   "outputs": [],
   "source": []
  },
  {
   "cell_type": "code",
   "execution_count": 19,
   "metadata": {},
   "outputs": [
    {
     "name": "stdout",
     "output_type": "stream",
     "text": [
      "fn = \"results/distpoint_extrapo.csv\"\n",
      "df = 2×2 DataFrames.DataFrame\n",
      "│ Row │ method                                  │ mse      │\n",
      "├─────┼─────────────────────────────────────────┼──────────┤\n",
      "│ 1   │ Distribution Mean RNN Extrapolating     │ 0.111976 │\n",
      "│ 2   │ Distribution Mean RNN Non-extrapolating │ 0.104995 │\n"
     ]
    },
    {
     "name": "stderr",
     "output_type": "stream",
     "text": [
      "Error encountered while saving \"results/regular/distpoint_extrapo.csv\".\n",
      "Fatal error:\n"
     ]
    },
    {
     "ename": "LoadError",
     "evalue": "\u001b[91mMethodError: no method matching fileio_save(::FileIO.File{FileIO.DataFormat{:CSV}}, ::DataFrames.DataFrame; missingstring=NaN)\u001b[0m\nClosest candidates are:\n  fileio_save(::FileIO.File{FileIO.DataFormat{:CSV}}, ::Any; delim, quotechar, escapechar, nastring, header) at /Users/oxinabox/.julia/v0.6/CSVFiles/src/csv_writer.jl:79\u001b[91m got unsupported keyword argument \"missingstring\"\u001b[39m\n  fileio_save(\u001b[91m::FileIO.File{FileIO.DataFormat{:TSV}}\u001b[39m, ::Any; delim, quotechar, escapechar, nastring, header) at /Users/oxinabox/.julia/v0.6/CSVFiles/src/csv_writer.jl:83\u001b[91m got unsupported keyword argument \"missingstring\"\u001b[39m\n  fileio_save(\u001b[91m::FileIO.Stream{FileIO.DataFormat{:CSV},IOtype} where IOtype<:IO\u001b[39m, ::Any; delim, quotechar, escapechar, nastring, header) at /Users/oxinabox/.julia/v0.6/CSVFiles/src/csv_writer.jl:87\u001b[91m got unsupported keyword argument \"missingstring\"\u001b[39m\n  ...\u001b[39m",
     "output_type": "error",
     "traceback": [
      "\u001b[91mMethodError: no method matching fileio_save(::FileIO.File{FileIO.DataFormat{:CSV}}, ::DataFrames.DataFrame; missingstring=NaN)\u001b[0m\nClosest candidates are:\n  fileio_save(::FileIO.File{FileIO.DataFormat{:CSV}}, ::Any; delim, quotechar, escapechar, nastring, header) at /Users/oxinabox/.julia/v0.6/CSVFiles/src/csv_writer.jl:79\u001b[91m got unsupported keyword argument \"missingstring\"\u001b[39m\n  fileio_save(\u001b[91m::FileIO.File{FileIO.DataFormat{:TSV}}\u001b[39m, ::Any; delim, quotechar, escapechar, nastring, header) at /Users/oxinabox/.julia/v0.6/CSVFiles/src/csv_writer.jl:83\u001b[91m got unsupported keyword argument \"missingstring\"\u001b[39m\n  fileio_save(\u001b[91m::FileIO.Stream{FileIO.DataFormat{:CSV},IOtype} where IOtype<:IO\u001b[39m, ::Any; delim, quotechar, escapechar, nastring, header) at /Users/oxinabox/.julia/v0.6/CSVFiles/src/csv_writer.jl:87\u001b[91m got unsupported keyword argument \"missingstring\"\u001b[39m\n  ...\u001b[39m",
      ""
     ]
    }
   ],
   "source": [
    "\n",
    "1slice(\"results/regular\") do df\n",
    "    df = @from row in df begin\n",
    "        @where !contains(row.method, \"smoothed\") && !contains(row.method, \"Direct\")\n",
    "        @select row\n",
    "        @collect DataFrame\n",
    "    end   \n",
    "end"
   ]
  },
  {
   "cell_type": "code",
   "execution_count": 13,
   "metadata": {},
   "outputs": [
    {
     "data": {
      "text/html": [
       "save(s::<b>Union{AbstractString, IO}</b>, args...) at <a href=\"https://github.com/JuliaIO/FileIO.jl/tree/1a1d5e56298076777f2c07b7780e7f84b3697388//src/loadsave.jl#L113\" target=\"_blank\">/home/wheel/oxinabox/.julia/v0.6/FileIO/src/loadsave.jl:113</a>"
      ],
      "text/plain": [
       "save(s::Union{AbstractString, IO}, args...) in FileIO at /home/wheel/oxinabox/.julia/v0.6/FileIO/src/loadsave.jl:113"
      ]
     },
     "execution_count": 13,
     "metadata": {},
     "output_type": "execute_result"
    }
   ],
   "source": [
    "@which save(\"\", df)"
   ]
  },
  {
   "cell_type": "code",
   "execution_count": 14,
   "metadata": {},
   "outputs": [
    {
     "data": {
      "text/html": [
       "save<i>{F}</i>(q::<b>FileIO.Formatted{F}</b>, data...) at <a href=\"https://github.com/JuliaIO/FileIO.jl/tree/1a1d5e56298076777f2c07b7780e7f84b3697388//src/loadsave.jl#L194\" target=\"_blank\">/home/wheel/oxinabox/.julia/v0.6/FileIO/src/loadsave.jl:194</a>"
      ],
      "text/plain": [
       "save(q::FileIO.Formatted{F}, data...) where F in FileIO at /home/wheel/oxinabox/.julia/v0.6/FileIO/src/loadsave.jl:194"
      ]
     },
     "execution_count": 14,
     "metadata": {},
     "output_type": "execute_result"
    }
   ],
   "source": [
    "@which save(FileIO.query(\"foo.csv\"), df)"
   ]
  },
  {
   "cell_type": "code",
   "execution_count": null,
   "metadata": {},
   "outputs": [],
   "source": []
  }
 ],
 "metadata": {
  "kernelspec": {
   "display_name": "Julia 0.6.4",
   "language": "julia",
   "name": "julia-0.6"
  },
  "language_info": {
   "file_extension": ".jl",
   "mimetype": "application/julia",
   "name": "julia",
   "version": "0.6.4"
  }
 },
 "nbformat": 4,
 "nbformat_minor": 2
}
