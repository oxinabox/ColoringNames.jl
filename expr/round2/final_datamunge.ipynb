{
 "cells": [
  {
   "cell_type": "code",
   "execution_count": 65,
   "metadata": {},
   "outputs": [],
   "source": [
    "using Query\n",
    "using DataFrames\n",
    "using CSVFiles\n",
    "using Glob"
   ]
  },
  {
   "cell_type": "code",
   "execution_count": 66,
   "metadata": {},
   "outputs": [
    {
     "data": {
      "text/plain": [
       "36"
      ]
     },
     "execution_count": 66,
     "metadata": {},
     "output_type": "execute_result"
    }
   ],
   "source": [
    "2+34"
   ]
  },
  {
   "cell_type": "code",
   "execution_count": 43,
   "metadata": {},
   "outputs": [],
   "source": [
    "\n",
    "dist_df = DataFrame(load(\"results/raw/dist_full.csv\" ))\n",
    "\n",
    "\n",
    "\n",
    "for filename in [\"ord.csv\", \"full.csv\", \"extrapo.csv\"]\n",
    "    df = DataFrame(load(joinpath(\"results\", \"raw\", \"dist_\"*filename)))\n",
    "\n",
    "    res_form = @from ii in df begin\n",
    "        @select {method=\"Distribution Mean \" .* ii.method, mse=ii.mse_to_distmean}\n",
    "    end\n",
    "\n",
    "    save(joinpath(\"results\", \"distpoint_\"*filename), res_form)\n",
    "end\n",
    "###############################\n"
   ]
  },
  {
   "cell_type": "code",
   "execution_count": 44,
   "metadata": {},
   "outputs": [],
   "source": [
    "Base.String() = \"\"\n",
    "Base.Float64() = NaN\n",
    "\n",
    "\n",
    "\n",
    "method_name(method)::String = join(\n",
    "    filter(x->x ∉ [\"Extrapolating\", \"Non-extrapolating\"],\n",
    "           split(method)), \" \")\n",
    "\n",
    "\n",
    "\n",
    "\n",
    "\n",
    "extrapo_res(df) = df |> @filter(contains(_.method, \"Extrapolating\"))\n",
    "nonextrapo_res(df) = df |> @filter(contains(_.method, \"Non-extrapolating\"))\n",
    "\n",
    "###########################\n",
    "filename =  \"results/raw/dist_extrapo.csv\" \n",
    "df = DataFrame(load(filename))\n",
    "\n",
    "res_form = @from nonext in nonextrapo_res(df) begin\n",
    "    @let base_method = method_name(nonext.method)\n",
    "    @left_outer_join ext in extrapo_res(df) on base_method equals method_name(ext.method)\n",
    "    @select {method=base_method, nonextrapolatingperp=nonext.perp, extrapolatingperp = ext.perp}\n",
    "end\n",
    "\n",
    "save(\"results/res_dist_extrapo.csv\", res_form)\n",
    "###############################\n"
   ]
  },
  {
   "cell_type": "code",
   "execution_count": 45,
   "metadata": {},
   "outputs": [],
   "source": [
    "\n",
    "###########################\n",
    "\n",
    "point_extrapos = map([\"raw/point_extrapo.csv\", \"distpoint_extrapo.csv\"]) do filename\n",
    "    df = DataFrame(load(joinpath(\"results\", filename)))\n",
    "\n",
    "    res_form = @from nonext in nonextrapo_res(df) begin\n",
    "        @let base_method = method_name(nonext.method)\n",
    "        @left_outer_join ext in extrapo_res(df) on base_method equals method_name(ext.method)\n",
    "        @select {method=base_method,\n",
    "            nonextrapolatingmse=nonext.mse,\n",
    "            extrapolatingmse= ext.mse}\n",
    "        @collect DataFrame\n",
    "    end\n",
    "end\n",
    "###############################\n",
    "\n",
    "save(\"results/res_point_comb_extrapo.csv\", vcat(point_extrapos...))"
   ]
  },
  {
   "cell_type": "code",
   "execution_count": 46,
   "metadata": {},
   "outputs": [],
   "source": [
    "\n",
    "save(\"results/res_point_comb_full.csv\",\n",
    "    vcat(DataFrame.(load.([\"results/raw/point_full.csv\", \"results/distpoint_full.csv\"]))...)\n",
    "    )\n",
    "save(\"results/res_point_comb_ord.csv\",\n",
    "    vcat(DataFrame.(load.([\"results/raw/point_ord.csv\", \"results/distpoint_ord.csv\"]))...)\n",
    "    )\n"
   ]
  },
  {
   "cell_type": "code",
   "execution_count": 47,
   "metadata": {},
   "outputs": [],
   "source": [
    "cp(\"results/raw/dist_full.csv\",\"results/res_dist_full.csv\", remove_destination=true)\n",
    "cp(\"results/raw/dist_ord.csv\",\"results/res_dist_ord.csv\", remove_destination=true)"
   ]
  },
  {
   "cell_type": "code",
   "execution_count": 8,
   "metadata": {},
   "outputs": [
    {
     "data": {
      "text/plain": [
       "1"
      ]
     },
     "execution_count": 8,
     "metadata": {},
     "output_type": "execute_result"
    }
   ],
   "source": [
    "1"
   ]
  },
  {
   "cell_type": "code",
   "execution_count": null,
   "metadata": {},
   "outputs": [],
   "source": [
    "## avoid case-senstive names"
   ]
  },
  {
   "cell_type": "code",
   "execution_count": null,
   "metadata": {},
   "outputs": [],
   "source": [
    "for (path,dirs,files) in walkdir(\"demo\")\n",
    "    for fn in files\n",
    "        newfn = replace(fn, r\"[A-Z]\", s\"1\\0\")\n",
    "        if fn != newfn && '1' ∉ fn\n",
    "            mv(joinpath(path,fn), joinpath(path,newfn))\n",
    "        end\n",
    "    end\n",
    "end"
   ]
  },
  {
   "cell_type": "code",
   "execution_count": 52,
   "metadata": {},
   "outputs": [
    {
     "data": {
      "text/html": [
       "<table class=\"data-frame\"><thead><tr><th></th><th>method</th><th>perp</th><th>mse_to_distmean</th></tr></thead><tbody><tr><th>1</th><td>Direct</td><td>4.08852e6</td><td>0.0648013</td></tr><tr><th>2</th><td>Direct-smoothed</td><td>8.93602e5</td><td>0.0648423</td></tr><tr><th>3</th><td>SOWE</td><td>9.1701e5</td><td>0.0656019</td></tr><tr><th>4</th><td>SOWE-smoothed</td><td>9.16069e5</td><td>0.0657174</td></tr><tr><th>5</th><td>CNN</td><td>9.55151e5</td><td>0.0658269</td></tr><tr><th>6</th><td>CNN-smoothed</td><td>9.79344e5</td><td>0.0658741</td></tr><tr><th>7</th><td>RNN</td><td>2.08376e6</td><td>0.0953645</td></tr><tr><th>8</th><td>RNN-smoothed</td><td>2.04503e6</td><td>0.0966241</td></tr></tbody></table>"
      ],
      "text/plain": [
       "8×3 DataFrames.DataFrame\n",
       "│ Row │ method          │ perp      │ mse_to_distmean │\n",
       "├─────┼─────────────────┼───────────┼─────────────────┤\n",
       "│ 1   │ Direct          │ 4.08852e6 │ 0.0648013       │\n",
       "│ 2   │ Direct-smoothed │ 8.93602e5 │ 0.0648423       │\n",
       "│ 3   │ SOWE            │ 9.1701e5  │ 0.0656019       │\n",
       "│ 4   │ SOWE-smoothed   │ 9.16069e5 │ 0.0657174       │\n",
       "│ 5   │ CNN             │ 9.55151e5 │ 0.0658269       │\n",
       "│ 6   │ CNN-smoothed    │ 9.79344e5 │ 0.0658741       │\n",
       "│ 7   │ RNN             │ 2.08376e6 │ 0.0953645       │\n",
       "│ 8   │ RNN-smoothed    │ 2.04503e6 │ 0.0966241       │"
      ]
     },
     "execution_count": 52,
     "metadata": {},
     "output_type": "execute_result"
    }
   ],
   "source": [
    "fn =  glob(glob\"results/*dist*.csv\") |> last\n",
    "    df = DataFrame(load(fn))"
   ]
  },
  {
   "cell_type": "markdown",
   "metadata": {},
   "source": [
    "# Drop Smoothed results"
   ]
  },
  {
   "cell_type": "code",
   "execution_count": 71,
   "metadata": {},
   "outputs": [
    {
     "name": "stdout",
     "output_type": "stream",
     "text": [
      "fn = \"results/distpoint_extrapo.csv\"\n",
      "df = 7×2 DataFrames.DataFrame\n",
      "│ Row │ method                                                      │ mse       │\n",
      "├─────┼─────────────────────────────────────────────────────────────┼───────────┤\n",
      "│ 1   │ Distribution Mean Operational Upper Bound Non-extrapolating │ 0.0621801 │\n",
      "│ 2   │ Distribution Mean SOWE Extrapolating                        │ 0.0763948 │\n",
      "│ 3   │ Distribution Mean SOWE Non-extrapolating                    │ 0.0728559 │\n",
      "│ 4   │ Distribution Mean CNN Extrapolating                         │ 0.0843781 │\n",
      "│ 5   │ Distribution Mean CNN Non-extrapolating                     │ 0.0729186 │\n",
      "│ 6   │ Distribution Mean RNN Extrapolating                         │ 0.15215   │\n",
      "│ 7   │ Distribution Mean RNN Non-extrapolating                     │ 0.10479   │\n"
     ]
    },
    {
     "name": "stderr",
     "output_type": "stream",
     "text": [
      "WARNING: Method definition _save(Any, Any) in module CSVFiles at /home/wheel/oxinabox/.julia/v0.6/CSVFiles/src/csv_writer.jl:50 overwritten at /home/wheel/oxinabox/.julia/v0.6/CSVFiles/src/csv_writer.jl:50.\n",
      "WARNING: Method definition #_save(Array{Any, 1}, typeof(CSVFiles._save), Any, Any) in module CSVFiles overwritten.\n",
      "WARNING: Method definition _save(AbstractString, Any) in module CSVFiles at /home/wheel/oxinabox/.julia/v0.6/CSVFiles/src/csv_writer.jl:69 overwritten at /home/wheel/oxinabox/.julia/v0.6/CSVFiles/src/csv_writer.jl:69.\n",
      "WARNING: Method definition #_save(Array{Any, 1}, typeof(CSVFiles._save), AbstractString, Any) in module CSVFiles overwritten.\n",
      "WARNING: Method definition fileio_save(FileIO.File{FileIO.DataFormat{:CSV}}, Any) in module CSVFiles at /home/wheel/oxinabox/.julia/v0.6/CSVFiles/src/csv_writer.jl:77 overwritten at /home/wheel/oxinabox/.julia/v0.6/CSVFiles/src/csv_writer.jl:79.\n",
      "WARNING: Method definition #fileio_save(Array{Any, 1}, typeof(CSVFiles.fileio_save), FileIO.File{FileIO.DataFormat{:CSV}}, Any) in module CSVFiles overwritten.\n",
      "WARNING: Method definition fileio_save(FileIO.Stream{FileIO.DataFormat{:CSV}, IOtype} where IOtype<:IO, Any) in module CSVFiles at /home/wheel/oxinabox/.julia/v0.6/CSVFiles/src/csv_writer.jl:85 overwritten at /home/wheel/oxinabox/.julia/v0.6/CSVFiles/src/csv_writer.jl:79.\n",
      "WARNING: Method definition #fileio_save(Array{Any, 1}, typeof(CSVFiles.fileio_save), FileIO.Stream{FileIO.DataFormat{:CSV}, IOtype} where IOtype<:IO, Any) in module CSVFiles overwritten.\n",
      "WARNING: Method definition fileio_save(FileIO.File{FileIO.DataFormat{:TSV}}, Any) in module CSVFiles at /home/wheel/oxinabox/.julia/v0.6/CSVFiles/src/csv_writer.jl:81 overwritten at /home/wheel/oxinabox/.julia/v0.6/CSVFiles/src/csv_writer.jl:79.\n",
      "WARNING: Method definition #fileio_save(Array{Any, 1}, typeof(CSVFiles.fileio_save), FileIO.File{FileIO.DataFormat{:TSV}}, Any) in module CSVFiles overwritten.\n",
      "WARNING: Method definition fileio_save(FileIO.Stream{FileIO.DataFormat{:TSV}, IOtype} where IOtype<:IO, Any) in module CSVFiles at /home/wheel/oxinabox/.julia/v0.6/CSVFiles/src/csv_writer.jl:89 overwritten at /home/wheel/oxinabox/.julia/v0.6/CSVFiles/src/csv_writer.jl:79.\n",
      "WARNING: Method definition #fileio_save(Array{Any, 1}, typeof(CSVFiles.fileio_save), FileIO.Stream{FileIO.DataFormat{:TSV}, IOtype} where IOtype<:IO, Any) in module CSVFiles overwritten.\n"
     ]
    },
    {
     "name": "stdout",
     "output_type": "stream",
     "text": [
      "fn = \"results/distpoint_full.csv\"\n",
      "df = 4×2 DataFrames.DataFrame\n",
      "│ Row │ method                                    │ mse       │\n",
      "├─────┼───────────────────────────────────────────┼───────────┤\n",
      "│ 1   │ Distribution Mean Operational Upper Bound │ 0.0663674 │\n",
      "│ 2   │ Distribution Mean SOWE                    │ 0.0679461 │\n",
      "│ 3   │ Distribution Mean CNN                     │ 0.0686327 │\n",
      "│ 4   │ Distribution Mean RNN                     │ 0.0766468 │\n",
      "fn = \"results/distpoint_ord.csv\"\n",
      "df = 4×2 DataFrames.DataFrame\n",
      "│ Row │ method                                    │ mse       │\n",
      "├─────┼───────────────────────────────────────────┼───────────┤\n",
      "│ 1   │ Distribution Mean Operational Upper Bound │ 0.0648423 │\n",
      "│ 2   │ Distribution Mean SOWE                    │ 0.0656019 │\n",
      "│ 3   │ Distribution Mean CNN                     │ 0.0658269 │\n",
      "│ 4   │ Distribution Mean RNN                     │ 0.0953645 │\n",
      "fn = \"results/res_dist_extrapo.csv\"\n",
      "df = 4×3 DataFrames.DataFrame\n",
      "│ Row │ method                  │ nonextrapolatingperp │ extrapolatingperp │\n",
      "├─────┼─────────────────────────┼──────────────────────┼───────────────────┤\n",
      "│ 1   │ Operational Upper Bound │ 8.43846e5            │ \u001b[90mmissing\u001b[39m           │\n",
      "│ 2   │ SOWE                    │ 8.31637e5            │ 9.29211e5         │\n",
      "│ 3   │ CNN                     │ 867984.0             │ 1.09565e6         │\n",
      "│ 4   │ RNN                     │ 1.9711e6             │ 3.05741e6         │\n",
      "fn = \"results/res_dist_full.csv\"\n",
      "df = 4×3 DataFrames.DataFrame\n",
      "│ Row │ method                  │ perp      │ mse_to_distmean │\n",
      "├─────┼─────────────────────────┼───────────┼─────────────────┤\n",
      "│ 1   │ Operational Upper Bound │ 1.19449e6 │ 0.0663674       │\n",
      "│ 2   │ SOWE                    │ 1.25572e6 │ 0.0679461       │\n",
      "│ 3   │ CNN                     │ 1.30809e6 │ 0.0686327       │\n",
      "│ 4   │ RNN                     │ 1.48959e6 │ 0.0766468       │\n",
      "fn = \"results/res_dist_ord.csv\"\n",
      "df = 4×3 DataFrames.DataFrame\n",
      "│ Row │ method                  │ perp      │ mse_to_distmean │\n",
      "├─────┼─────────────────────────┼───────────┼─────────────────┤\n",
      "│ 1   │ Operational Upper Bound │ 8.93602e5 │ 0.0648423       │\n",
      "│ 2   │ SOWE                    │ 9.1701e5  │ 0.0656019       │\n",
      "│ 3   │ CNN                     │ 9.55151e5 │ 0.0658269       │\n",
      "│ 4   │ RNN                     │ 2.08376e6 │ 0.0953645       │\n",
      "fn = \"results/res_point_comb_extrapo.csv\"\n",
      "df = 8×3 DataFrames.DataFrame\n",
      "│ Row │ method                                    │ nonextrapolatingmse │ extrapolatingmse │\n",
      "├─────┼───────────────────────────────────────────┼─────────────────────┼──────────────────┤\n",
      "│ 1   │ Operational Upper Bound                   │ 0.0621324           │ \u001b[90mmissing\u001b[39m          │\n",
      "│ 2   │ SOWE                                      │ 0.0649357           │ 0.0788149        │\n",
      "│ 3   │ CNN                                       │ 0.0724611           │ 0.0699958        │\n",
      "│ 4   │ RNN                                       │ 0.137747            │ 0.142294         │\n",
      "│ 5   │ Distribution Mean Operational Upper Bound │ 0.0621324           │ \u001b[90mmissing\u001b[39m          │\n",
      "│ 6   │ Distribution Mean SOWE                    │ 0.0728559           │ 0.0763948        │\n",
      "│ 7   │ Distribution Mean CNN                     │ 0.0729186           │ 0.0843781        │\n",
      "│ 8   │ Distribution Mean RNN                     │ 0.10479             │ 0.15215          │\n",
      "fn = \"results/res_point_comb_full.csv\"\n",
      "df = 8×2 DataFrames.DataFrame\n",
      "│ Row │ method                                    │ mse       │\n",
      "├─────┼───────────────────────────────────────────┼───────────┤\n",
      "│ 1   │ Operational Upper Bound                   │ 0.0663561 │\n",
      "│ 2   │ SOWE                                      │ 0.0667408 │\n",
      "│ 3   │ CNN                                       │ 0.0671824 │\n",
      "│ 4   │ RNN                                       │ 0.0706645 │\n",
      "│ 5   │ Distribution Mean Operational Upper Bound │ 0.0663561 │\n",
      "│ 6   │ Distribution Mean SOWE                    │ 0.0679461 │\n",
      "│ 7   │ Distribution Mean CNN                     │ 0.0686327 │\n",
      "│ 8   │ Distribution Mean RNN                     │ 0.0766468 │\n",
      "fn = \"results/res_point_comb_ord.csv\"\n",
      "df = 8×2 DataFrames.DataFrame\n",
      "│ Row │ method                                    │ mse       │\n",
      "├─────┼───────────────────────────────────────────┼───────────┤\n",
      "│ 1   │ Operational Upper Bound                   │ 0.0648013 │\n",
      "│ 2   │ SOWE                                      │ 0.0660573 │\n",
      "│ 3   │ CNN                                       │ 0.0655962 │\n",
      "│ 4   │ RNN                                       │ 0.0955975 │\n",
      "│ 5   │ Distribution Mean Operational Upper Bound │ 0.0648013 │\n",
      "│ 6   │ Distribution Mean SOWE                    │ 0.0656019 │\n",
      "│ 7   │ Distribution Mean CNN                     │ 0.0658269 │\n",
      "│ 8   │ Distribution Mean RNN                     │ 0.0953645 │\n"
     ]
    }
   ],
   "source": [
    "for fn in glob(glob\"results/*.csv\")\n",
    "    df = DataFrame(load(fn))\n",
    "    # Rename Direct resolves\n",
    "    df[:method] = map(df[:method]) do x\n",
    "        if r\".*dist.*\"(fn)\n",
    "            x = replace(x, \"Direct-smoothed\", \"Operational Upper Bound\")\n",
    "        elseif r\".*point.*\"(fn)\n",
    "            x= replace(x, \"Direct\", \"Operational Upper Bound\")\n",
    "        end\n",
    "        x\n",
    "    end\n",
    "\n",
    "    df = @from row in df begin\n",
    "        @where !contains(row.method, \"smoothed\") &&  !contains(row.method, \"Direct\")\n",
    "        @select row\n",
    "        @collect DataFrame\n",
    "    end\n",
    "    @show fn\n",
    "    @show df\n",
    "    save(fn, df, missingstring=\"\")\n",
    "end\n",
    "    \n"
   ]
  },
  {
   "cell_type": "code",
   "execution_count": 35,
   "metadata": {},
   "outputs": [
    {
     "data": {
      "text/plain": [
       "14-element Array{String,1}:\n",
       " \"Distribution Mean Direct Non-extrapolating\"                 \n",
       " \"Distribution Mean Operational Upper Bound Non-extrapolating\"\n",
       " \"Distribution Mean SOWE Extrapolating\"                       \n",
       " \"Distribution Mean SOWE Non-extrapolating\"                   \n",
       " \"Distribution Mean SOWE-smoothed Extrapolating\"              \n",
       " \"Distribution Mean SOWE-smoothed Non-extrapolating\"          \n",
       " \"Distribution Mean CNN Extrapolating\"                        \n",
       " \"Distribution Mean CNN Non-extrapolating\"                    \n",
       " \"Distribution Mean CNN-smoothed Extrapolating\"               \n",
       " \"Distribution Mean CNN-smoothed Non-extrapolating\"           \n",
       " \"Distribution Mean RNN Extrapolating\"                        \n",
       " \"Distribution Mean RNN Non-extrapolating\"                    \n",
       " \"Distribution Mean RNN-smoothed Extrapolating\"               \n",
       " \"Distribution Mean RNN-smoothed Non-extrapolating\"           "
      ]
     },
     "execution_count": 35,
     "metadata": {},
     "output_type": "execute_result"
    }
   ],
   "source": [
    "\n"
   ]
  },
  {
   "cell_type": "code",
   "execution_count": 68,
   "metadata": {},
   "outputs": [
    {
     "data": {
      "text/html": [
       "save(s::<b>Union{AbstractString, IO}</b>, args...) at <a href=\"https://github.com/JuliaIO/FileIO.jl/tree/1a1d5e56298076777f2c07b7780e7f84b3697388//src/loadsave.jl#L113\" target=\"_blank\">/home/wheel/oxinabox/.julia/v0.6/FileIO/src/loadsave.jl:113</a>"
      ],
      "text/plain": [
       "save(s::Union{AbstractString, IO}, args...) in FileIO at /home/wheel/oxinabox/.julia/v0.6/FileIO/src/loadsave.jl:113"
      ]
     },
     "execution_count": 68,
     "metadata": {},
     "output_type": "execute_result"
    }
   ],
   "source": [
    "@which save(\"\", df)"
   ]
  },
  {
   "cell_type": "code",
   "execution_count": 70,
   "metadata": {},
   "outputs": [
    {
     "data": {
      "text/html": [
       "save<i>{F}</i>(q::<b>FileIO.Formatted{F}</b>, data...) at <a href=\"https://github.com/JuliaIO/FileIO.jl/tree/1a1d5e56298076777f2c07b7780e7f84b3697388//src/loadsave.jl#L194\" target=\"_blank\">/home/wheel/oxinabox/.julia/v0.6/FileIO/src/loadsave.jl:194</a>"
      ],
      "text/plain": [
       "save(q::FileIO.Formatted{F}, data...) where F in FileIO at /home/wheel/oxinabox/.julia/v0.6/FileIO/src/loadsave.jl:194"
      ]
     },
     "execution_count": 70,
     "metadata": {},
     "output_type": "execute_result"
    }
   ],
   "source": [
    "@which save(FileIO.query(\"foo.csv\"), df)"
   ]
  },
  {
   "cell_type": "code",
   "execution_count": null,
   "metadata": {},
   "outputs": [],
   "source": []
  }
 ],
 "metadata": {
  "kernelspec": {
   "display_name": "Julia 0.6.3",
   "language": "julia",
   "name": "julia-0.6"
  },
  "language_info": {
   "file_extension": ".jl",
   "mimetype": "application/julia",
   "name": "julia",
   "version": "0.6.3"
  }
 },
 "nbformat": 4,
 "nbformat_minor": 2
}
