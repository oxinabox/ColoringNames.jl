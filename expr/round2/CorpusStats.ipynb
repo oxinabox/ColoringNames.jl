{
 "cells": [
  {
   "cell_type": "code",
   "execution_count": 1,
   "metadata": {},
   "outputs": [
    {
     "data": {
      "text/plain": [
       "Plots.GRBackend()"
      ]
     },
     "execution_count": 1,
     "metadata": {},
     "output_type": "execute_result"
    }
   ],
   "source": [
    "using ColoringNames\n",
    "using MLDataUtils\n",
    "using StatsBase\n",
    "using Plots\n",
    "gr()"
   ]
  },
  {
   "cell_type": "code",
   "execution_count": 2,
   "metadata": {},
   "outputs": [],
   "source": [
    "const many_names = load_color_nameset()\n",
    "const full_data = load_munroe_data(dev_as_train=false, dev_as_test=false)\n",
    "\n",
    "const ord_data = order_relevant_dataset(full_data);\n",
    "const extrapo_data = extrapolation_dataset(full_data);"
   ]
  },
  {
   "cell_type": "code",
   "execution_count": 3,
   "metadata": {},
   "outputs": [
    {
     "data": {
      "text/plain": [
       "108545-element Array{Any,1}:\n",
       " \"acid green\"\n",
       " \"acid green\"\n",
       " \"acid green\"\n",
       " \"acid green\"\n",
       " \"acid green\"\n",
       " \"acid green\"\n",
       " \"acid green\"\n",
       " \"acid green\"\n",
       " \"acid green\"\n",
       " \"acid green\"\n",
       " \"acid green\"\n",
       " \"acid green\"\n",
       " \"acid green\"\n",
       " ⋮           \n",
       " \"yuck\"      \n",
       " \"yuck\"      \n",
       " \"yuck\"      \n",
       " \"yuck\"      \n",
       " \"yuck\"      \n",
       " \"yuck\"      \n",
       " \"yuck\"      \n",
       " \"yuck\"      \n",
       " \"yuck\"      \n",
       " \"yuck\"      \n",
       " \"yuck\"      \n",
       " \"yuck\"      "
      ]
     },
     "execution_count": 3,
     "metadata": {},
     "output_type": "execute_result"
    }
   ],
   "source": [
    "full_data.dev.texts"
   ]
  },
  {
   "cell_type": "code",
   "execution_count": 12,
   "metadata": {},
   "outputs": [
    {
     "name": "stdout",
     "output_type": "stream",
     "text": [
      "Summary Stats:\n",
      "Mean:           1837.283474\n",
      "Minimum:        70.000000\n",
      "1st Quartile:   109.000000\n",
      "Median:         214.000000\n",
      "3rd Quartile:   627.000000\n",
      "Maximum:        152953.000000\n",
      "Length:         829\n",
      "Type:           Int64\n"
     ]
    },
    {
     "data": {
      "text/plain": [
       "Void"
      ]
     },
     "execution_count": 12,
     "metadata": {},
     "output_type": "execute_result"
    }
   ],
   "source": [
    "function subcorpus_stats(texts)\n",
    "    println(\"Color Names\")\n",
    "    nobs_per_colorname = collect(values(labelfreq(texts))) \n",
    "    describe(nobs_per_colorname)\n",
    "    println()\n",
    "    \n",
    "    println(\"Terms\")\n",
    "    \n",
    "end\n",
    "\n",
    "subcorpus_stats(full_data.train.texts)"
   ]
  },
  {
   "cell_type": "code",
   "execution_count": 17,
   "metadata": {},
   "outputs": [
    {
     "name": "stdout",
     "output_type": "stream",
     "text": [
      "Summary Stats:\n",
      "Mean:           6973.623377\n",
      "Minimum:        70.000000\n",
      "1st Quartile:   148.500000\n",
      "Median:         345.000000\n",
      "3rd Quartile:   2241.750000\n",
      "Maximum:        347173.000000\n",
      "Length:         308\n",
      "Type:           Int64\n"
     ]
    }
   ],
   "source": [
    "terms_padded = full_data.train.terms_padded\n",
    "terms = filter(x->x>0, terms_padded)\n",
    "nobs_per_term = collect(values(labelfreq(terms))) \n",
    "describe(nobs_per_term)"
   ]
  },
  {
   "cell_type": "code",
   "execution_count": null,
   "metadata": {},
   "outputs": [],
   "source": []
  }
 ],
 "metadata": {
  "kernelspec": {
   "display_name": "Julia 0.6.3",
   "language": "julia",
   "name": "julia-0.6"
  },
  "language_info": {
   "file_extension": ".jl",
   "mimetype": "application/julia",
   "name": "julia",
   "version": "0.6.3"
  }
 },
 "nbformat": 4,
 "nbformat_minor": 2
}
