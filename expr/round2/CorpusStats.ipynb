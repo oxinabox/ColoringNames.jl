{
 "cells": [
  {
   "cell_type": "code",
   "execution_count": 1,
   "metadata": {},
   "outputs": [
    {
     "data": {
      "text/plain": [
       "Plots.GRBackend()"
      ]
     },
     "execution_count": 1,
     "metadata": {},
     "output_type": "execute_result"
    }
   ],
   "source": [
    "using ColoringNames\n",
    "using MLDataUtils\n",
    "using StatsBase\n",
    "using Plots\n",
    "gr()"
   ]
  },
  {
   "cell_type": "code",
   "execution_count": 2,
   "metadata": {},
   "outputs": [],
   "source": [
    "const many_names = load_color_nameset()\n",
    "const full_data = load_munroe_data(dev_as_train=false, dev_as_test=false)\n",
    "\n",
    "const ord_data = order_relevant_dataset(full_data);\n",
    "const extrapo_data = extrapolation_dataset(full_data);"
   ]
  },
  {
   "cell_type": "markdown",
   "metadata": {},
   "source": [
    "# What is interesting to know?\n",
    " \n",
    " - number (distribution) of training observations/terms\n",
    " - Portion of training observations that are for order-relevant color names.\n",
    " "
   ]
  },
  {
   "cell_type": "code",
   "execution_count": 91,
   "metadata": {},
   "outputs": [
    {
     "name": "stdout",
     "output_type": "stream",
     "text": [
      "length(texts) = 1523108\n",
      "length(unique(texts)) = 829\n",
      "\n",
      "Color Names\n",
      "Q0: 70.0, Q1: 109.0, Q2: 214.0, Q3: 627.0, Q4: 152953.0\n",
      "Terms\n",
      "Q0: 70.0, Q1: 148.5, Q2: 345.0, Q3: 2241.75, Q4: 347173.0\n"
     ]
    }
   ],
   "source": [
    "qstats(xs) = join(\"Q\".*string.(0:4).*\": \".*string.(quantile(xs)), \", \")\n",
    "\n",
    "function subcorpus_stats(dataset)\n",
    "    texts = dataset.texts\n",
    "    \n",
    "    @show length(texts)\n",
    "    @show length(unique(texts))\n",
    "    println()\n",
    "    println(\"Color Names\")\n",
    "    nobs_per_colorname = collect(values(labelfreq(texts))) \n",
    "    println(qstats(nobs_per_colorname))\n",
    "    \n",
    "    println(\"Terms\")\n",
    "    terms_padded = dataset.terms_padded\n",
    "    terms = filter(x->x>0, terms_padded)\n",
    "    nobs_per_term = collect(values(labelfreq(terms))) \n",
    "    println(qstats(nobs_per_term))\n",
    "end\n",
    "\n",
    "subcorpus_stats(full_data.train)"
   ]
  },
  {
   "cell_type": "code",
   "execution_count": 92,
   "metadata": {},
   "outputs": [
    {
     "name": "stdout",
     "output_type": "stream",
     "text": [
      "length(texts) = 108545\n",
      "length(unique(texts)) = 829\n",
      "\n",
      "Color Names\n",
      "Q0: 5.0, Q1: 7.0, Q2: 15.0, Q3: 45.0, Q4: 10925.0\n",
      "Terms\n",
      "Q0: 5.0, Q1: 10.0, Q2: 24.5, Q3: 159.25, Q4: 24754.0\n"
     ]
    }
   ],
   "source": [
    "subcorpus_stats(full_data.dev)"
   ]
  },
  {
   "cell_type": "code",
   "execution_count": 93,
   "metadata": {},
   "outputs": [
    {
     "name": "stdout",
     "output_type": "stream",
     "text": [
      "length(texts) = 544764\n",
      "length(unique(texts)) = 829\n",
      "\n",
      "Color Names\n",
      "Q0: 25.0, Q1: 40.0, Q2: 78.0, Q3: 225.0, Q4: 54627.0\n",
      "Terms\n",
      "Q0: 26.0, Q1: 54.75, Q2: 124.5, Q3: 804.0, Q4: 124138.0\n"
     ]
    }
   ],
   "source": [
    "subcorpus_stats(full_data.test)"
   ]
  },
  {
   "cell_type": "code",
   "execution_count": 24,
   "metadata": {
    "scrolled": true
   },
   "outputs": [
    {
     "data": {
      "text/plain": [
       "63048-element Array{Any,1}:\n",
       " \"apple green\"  \n",
       " \"apple green\"  \n",
       " \"apple green\"  \n",
       " \"apple green\"  \n",
       " \"apple green\"  \n",
       " \"apple green\"  \n",
       " \"apple green\"  \n",
       " \"apple green\"  \n",
       " \"apple green\"  \n",
       " \"apple green\"  \n",
       " \"apple green\"  \n",
       " \"apple green\"  \n",
       " \"apple green\"  \n",
       " ⋮              \n",
       " \"yellow-orange\"\n",
       " \"yellow-orange\"\n",
       " \"yellow-orange\"\n",
       " \"yellow-orange\"\n",
       " \"yellow-orange\"\n",
       " \"yellow-orange\"\n",
       " \"yellow-orange\"\n",
       " \"yellow-orange\"\n",
       " \"yellow-orange\"\n",
       " \"yellow-orange\"\n",
       " \"yellow-orange\"\n",
       " \"yellow-orange\""
      ]
     },
     "execution_count": 24,
     "metadata": {},
     "output_type": "execute_result"
    }
   ],
   "source": [
    "order_relevant_names = Set(ord_data.test.texts)\n",
    "order_train_texts = filter(x->x ∈ order_relevant_names, full_data.train.texts)"
   ]
  },
  {
   "cell_type": "code",
   "execution_count": 26,
   "metadata": {},
   "outputs": [
    {
     "data": {
      "text/plain": [
       "0.041394306904040945"
      ]
     },
     "execution_count": 26,
     "metadata": {},
     "output_type": "execute_result"
    }
   ],
   "source": [
    "length(order_train_texts) / length(full_data.train.texts)"
   ]
  },
  {
   "cell_type": "code",
   "execution_count": 27,
   "metadata": {},
   "outputs": [
    {
     "data": {
      "text/plain": [
       "0.09167671893848009"
      ]
     },
     "execution_count": 27,
     "metadata": {},
     "output_type": "execute_result"
    }
   ],
   "source": [
    "length(unique(order_train_texts)) / length(unique(full_data.train.texts))"
   ]
  },
  {
   "cell_type": "code",
   "execution_count": 59,
   "metadata": {},
   "outputs": [
    {
     "data": {
      "text/plain": [
       "1523108"
      ]
     },
     "execution_count": 59,
     "metadata": {},
     "output_type": "execute_result"
    }
   ],
   "source": [
    "length(full_data.train.texts)"
   ]
  },
  {
   "cell_type": "code",
   "execution_count": 28,
   "metadata": {},
   "outputs": [
    {
     "data": {
      "text/plain": [
       "76"
      ]
     },
     "execution_count": 28,
     "metadata": {},
     "output_type": "execute_result"
    }
   ],
   "source": [
    "length(unique(order_train_texts))"
   ]
  },
  {
   "cell_type": "code",
   "execution_count": 33,
   "metadata": {},
   "outputs": [
    {
     "name": "stdout",
     "output_type": "stream",
     "text": [
      "length(order_used_terms) = 16\n"
     ]
    },
    {
     "data": {
      "text/plain": [
       "16"
      ]
     },
     "execution_count": 33,
     "metadata": {},
     "output_type": "execute_result"
    }
   ],
   "source": [
    "order_terms = full_data.train.terms_padded[:, (full_data.train.texts .∈ order_relevant_names)]\n",
    "order_used_terms = unique(filter(x->x>0, order_terms))\n",
    "\n",
    "@show length(order_used_terms)"
   ]
  },
  {
   "cell_type": "code",
   "execution_count": 54,
   "metadata": {},
   "outputs": [
    {
     "name": "stdout",
     "output_type": "stream",
     "text": [
      "\\natlang{-}, \\natlang{apple}, \\natlang{blue}, \\natlang{bright}, \\natlang{brown}, \\natlang{green}, \\natlang{grey}, \\natlang{ish}, \\natlang{light}, \\natlang{orange}, \\natlang{pink}, \\natlang{purple}, \\natlang{red}, \\natlang{violet}, \\natlang{y}, \\natlang{yellow}, "
     ]
    }
   ],
   "source": [
    "for term in sort(ind2label.(order_used_terms, full_data.encoding))\n",
    "    print(\"\\\\natlang{$term}, \")\n",
    "end"
   ]
  },
  {
   "cell_type": "code",
   "execution_count": 57,
   "metadata": {},
   "outputs": [
    {
     "data": {
      "text/plain": [
       "308"
      ]
     },
     "execution_count": 57,
     "metadata": {},
     "output_type": "execute_result"
    }
   ],
   "source": []
  },
  {
   "cell_type": "code",
   "execution_count": null,
   "metadata": {},
   "outputs": [],
   "source": []
  }
 ],
 "metadata": {
  "kernelspec": {
   "display_name": "Julia 0.6.3",
   "language": "julia",
   "name": "julia-0.6"
  },
  "language_info": {
   "file_extension": ".jl",
   "mimetype": "application/julia",
   "name": "julia",
   "version": "0.6.3"
  }
 },
 "nbformat": 4,
 "nbformat_minor": 2
}
