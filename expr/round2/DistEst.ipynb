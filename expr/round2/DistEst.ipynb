{
 "cells": [
  {
   "cell_type": "code",
   "execution_count": 1,
   "metadata": {},
   "outputs": [],
   "source": [
    "using ColoringNames"
   ]
  },
  {
   "cell_type": "code",
   "execution_count": 2,
   "metadata": {},
   "outputs": [
    {
     "data": {
      "text/plain": [
       "mklogdir (generic function with 1 method)"
      ]
     },
     "execution_count": 2,
     "metadata": {},
     "output_type": "execute_result"
    }
   ],
   "source": [
    "runnum = \"4\"\n",
    "function mklogdir(name)\n",
    "    logdir = joinpath(pwd(), \"logs\", name * runnum)\n",
    "    mkpath(logdir)\n",
    "    logdir\n",
    "end"
   ]
  },
  {
   "cell_type": "code",
   "execution_count": 3,
   "metadata": {},
   "outputs": [
    {
     "data": {
      "text/plain": [
       "qualitative_demo (generic function with 3 methods)"
      ]
     },
     "execution_count": 3,
     "metadata": {},
     "output_type": "execute_result"
    }
   ],
   "source": [
    "function qualitative_demo(mdl, do_oov=true)\n",
    "    plot_query(mdl,  \"brownish green\") |> display\n",
    "    plot_query(mdl,  \"brown\") |> display\n",
    "    plot_query(mdl,  \"brownish\") |> display\n",
    "    plot_query(mdl,  \"greenish\") |> display\n",
    "    plot_query(mdl,  \"greenish brown\") |> display\n",
    "    plot_query(mdl,  \"green\")|> display\n",
    "    do_oov && plot_query(mdl,  \"ish\")|> display\n",
    "end\n",
    "\n",
    "qualitative_demo(mdl::TermToColorDistributionEmpirical) = qualitative_demo(mdl, false)"
   ]
  },
  {
   "cell_type": "code",
   "execution_count": 4,
   "metadata": {},
   "outputs": [
    {
     "data": {
      "text/plain": [
       "ColoringNames.ColorDatasets{MLLabelUtils.LabelEnc.NativeLabels{String,2833},ColoringNames.ColorDataset{Array{Any,1},Array{Int64,2},Array{Float32,2}}}(MLLabelUtils.LabelEnc.NativeLabels{String,2833}(String[\"and\", \"of\", \"a\", \"with\", \"'s\", \"not\", \"-\", \"your\", \"just\", \"can\"  …  \"Feijoa\", \"melanzane\", \"minsk\", \"Pizazz\", \"feijoa\", \"red1\", \"Kilamanjaro\", \"karaka\", \"bilbao\", \"mabel\"], Dict(\"Apple\"=>157,\"Caper\"=>2160,\"chocolate\"=>424,\"Casablanca\"=>1155,\"Many\"=>84,\"Luxor\"=>1613,\"star\"=>103,\"canyon\"=>900,\"bombay\"=>2563,\"bondi\"=>2662…)), ColoringNames.ColorDataset{Array{Any,1},Array{Int64,2},Array{Float32,2}}(Any[\"acid green\", \"acid green\", \"acid green\", \"acid green\", \"acid green\", \"acid green\", \"acid green\", \"acid green\", \"acid green\", \"acid green\"  …  \"yuck\", \"yuck\", \"yuck\", \"yuck\", \"yuck\", \"yuck\", \"yuck\", \"yuck\", \"yuck\", \"yuck\"], [338 338 … 2148 2148; 114 114 … 0 0; 0 0 … 0 0; 0 0 … 0 0], Float32[0.344113 0.855319 0.921569; 0.281905 0.744681 0.921569; … ; 0.376894 0.768559 0.898039; 0.179104 0.41358 0.635294]), ColoringNames.ColorDataset{Array{Any,1},Array{Int64,2},Array{Float32,2}}(Any[\"acid green\", \"acid green\", \"acid green\", \"acid green\", \"acid green\", \"acid green\", \"acid green\", \"acid green\", \"acid green\", \"acid green\"  …  \"yuck\", \"yuck\", \"yuck\", \"yuck\", \"yuck\", \"yuck\", \"yuck\", \"yuck\", \"yuck\", \"yuck\"], [338 338 … 2148 2148; 114 114 … 0 0; 0 0 … 0 0; 0 0 … 0 0], Float32[0.328092 0.665272 0.937255; 0.241007 0.712821 0.764706; … ; 0.0540541 0.308333 0.941176; 0.125874 0.590909 0.94902]), ColoringNames.ColorDataset{Array{Any,1},Array{Int64,2},Array{Float32,2}}(Any[\"acid green\", \"acid green\", \"acid green\", \"acid green\", \"acid green\", \"acid green\", \"acid green\", \"acid green\", \"acid green\", \"acid green\"  …  \"yuck\", \"yuck\", \"yuck\", \"yuck\", \"yuck\", \"yuck\", \"yuck\", \"yuck\", \"yuck\", \"yuck\"], [338 338 … 2148 2148; 114 114 … 0 0; 0 0 … 0 0; 0 0 … 0 0], Float32[0.328092 0.665272 0.937255; 0.241007 0.712821 0.764706; … ; 0.0540541 0.308333 0.941176; 0.125874 0.590909 0.94902]))"
      ]
     },
     "execution_count": 4,
     "metadata": {},
     "output_type": "execute_result"
    }
   ],
   "source": [
    "many_names = load_color_nameset()\n",
    "word_embs, vocab, enc = load_text_embeddings(keep_words=many_names)\n",
    "cldata = load_munroe_data(dev_as_train=false, dev_as_test=true, encoding_ = enc)"
   ]
  },
  {
   "cell_type": "code",
   "execution_count": 5,
   "metadata": {},
   "outputs": [
    {
     "name": "stderr",
     "output_type": "stream",
     "text": [
      "2018-05-21 19:06:23.885020: I tensorflow/core/platform/cpu_feature_guard.cc:140] Your CPU supports instructions that this TensorFlow binary was not compiled to use: SSE4.1 SSE4.2\n"
     ]
    },
    {
     "name": "stdout",
     "output_type": "stream",
     "text": [
      "evaluate(sowe_unsmoothed, cldata.dev) = Dict(:perp=>163.035,:perp_val=>217.683,:mse_to_peak=>0.273704,:perp_sat=>309.611,:perp_hue=>64.2991)\n"
     ]
    },
    {
     "data": {
      "text/plain": [
       "Dict{Symbol,Float64} with 5 entries:\n",
       "  :perp        => 163.035\n",
       "  :perp_val    => 217.683\n",
       "  :mse_to_peak => 0.273704\n",
       "  :perp_sat    => 309.611\n",
       "  :perp_hue    => 64.2991"
      ]
     },
     "execution_count": 5,
     "metadata": {},
     "output_type": "execute_result"
    }
   ],
   "source": [
    "sowe_unsmoothed = TermToColorDistributionSOWE(enc, word_embs; n_steps=size(cldata.train.terms_padded,1))\n",
    "train!(sowe_unsmoothed, cldata, Val{false}();\n",
    "        log_dir = mklogdir(\"sowe_unsmoothed\"),\n",
    "        batch_size = 829,\n",
    "        min_epochs=200,\n",
    "        max_epochs=30_000,\n",
    "        )\n",
    "@show evaluate(sowe_unsmoothed, cldata.dev)"
   ]
  },
  {
   "cell_type": "code",
   "execution_count": 6,
   "metadata": {},
   "outputs": [
    {
     "ename": "LoadError",
     "evalue": "\u001b[91mMethodError: no method matching setcharheight(::Float64)\nThe applicable method may be too new: running in world age 21939, while current world is 21940.\u001b[0m\nClosest candidates are:\n  setcharheight(::Real) at /home/wheel/oxinabox/.julia/v0.6/GR/src/GR.jl:1077 (method too new to be called from this world context.)\u001b[39m",
     "output_type": "error",
     "traceback": [
      "\u001b[91mMethodError: no method matching setcharheight(::Float64)\nThe applicable method may be too new: running in world age 21939, while current world is 21940.\u001b[0m\nClosest candidates are:\n  setcharheight(::Real) at /home/wheel/oxinabox/.julia/v0.6/GR/src/GR.jl:1077 (method too new to be called from this world context.)\u001b[39m",
      "",
      "Stacktrace:",
      " [1] \u001b[1m#gr_set_font#475\u001b[22m\u001b[22m\u001b[1m(\u001b[22m\u001b[22m::Symbol, ::Symbol, ::ColorTypes.RGB{FixedPointNumbers.Normed{UInt8,8}}, ::Int64, ::Function, ::Plots.Font\u001b[1m)\u001b[22m\u001b[22m at \u001b[1m/home/wheel/oxinabox/.julia/v0.6/Plots/src/backends/gr.jl:411\u001b[22m\u001b[22m",
      " [2] \u001b[1m(::Plots.#kw##gr_set_font)\u001b[22m\u001b[22m\u001b[1m(\u001b[22m\u001b[22m::Array{Any,1}, ::Plots.#gr_set_font, ::Plots.Font\u001b[1m)\u001b[22m\u001b[22m at \u001b[1m./<missing>:0\u001b[22m\u001b[22m",
      " [3] \u001b[1mgr_set_xticks_font\u001b[22m\u001b[22m\u001b[1m(\u001b[22m\u001b[22m::Plots.Subplot{Plots.GRBackend}\u001b[1m)\u001b[22m\u001b[22m at \u001b[1m/home/wheel/oxinabox/.julia/v0.6/Plots/src/backends/gr.jl:604\u001b[22m\u001b[22m",
      " [4] \u001b[1m_update_min_padding!\u001b[22m\u001b[22m\u001b[1m(\u001b[22m\u001b[22m::Plots.Subplot{Plots.GRBackend}\u001b[1m)\u001b[22m\u001b[22m at \u001b[1m/home/wheel/oxinabox/.julia/v0.6/Plots/src/backends/gr.jl:653\u001b[22m\u001b[22m",
      " [5] \u001b[1m_collect\u001b[22m\u001b[22m\u001b[1m(\u001b[22m\u001b[22m::Array{RecipesBase.AbstractLayout,2}, ::Base.Generator{Array{RecipesBase.AbstractLayout,2},Plots.#_update_min_padding!}, ::Base.EltypeUnknown, ::Base.HasShape\u001b[1m)\u001b[22m\u001b[22m at \u001b[1m./array.jl:488\u001b[22m\u001b[22m",
      " [6] \u001b[1m_update_min_padding!\u001b[22m\u001b[22m\u001b[1m(\u001b[22m\u001b[22m::Plots.GridLayout\u001b[1m)\u001b[22m\u001b[22m at \u001b[1m/home/wheel/oxinabox/.julia/v0.6/Plots/src/layouts.jl:310\u001b[22m\u001b[22m",
      " [7] \u001b[1mprepare_output\u001b[22m\u001b[22m\u001b[1m(\u001b[22m\u001b[22m::Plots.Plot{Plots.GRBackend}\u001b[1m)\u001b[22m\u001b[22m at \u001b[1m/home/wheel/oxinabox/.julia/v0.6/Plots/src/plot.jl:262\u001b[22m\u001b[22m",
      " [8] \u001b[1mshow\u001b[22m\u001b[22m\u001b[1m(\u001b[22m\u001b[22m::Base.AbstractIOBuffer{Array{UInt8,1}}, ::MIME{Symbol(\"image/svg+xml\")}, ::Plots.Plot{Plots.GRBackend}\u001b[1m)\u001b[22m\u001b[22m at \u001b[1m/home/wheel/oxinabox/.julia/v0.6/Plots/src/output.jl:209\u001b[22m\u001b[22m",
      " [9] \u001b[1m#sprint#228\u001b[22m\u001b[22m\u001b[1m(\u001b[22m\u001b[22m::Void, ::Function, ::Int64, ::Function, ::MIME{Symbol(\"image/svg+xml\")}, ::Vararg{Any,N} where N\u001b[1m)\u001b[22m\u001b[22m at \u001b[1m./strings/io.jl:66\u001b[22m\u001b[22m",
      " [10] \u001b[1mdisplay_dict\u001b[22m\u001b[22m\u001b[1m(\u001b[22m\u001b[22m::Plots.Plot{Plots.GRBackend}\u001b[1m)\u001b[22m\u001b[22m at \u001b[1m/home/wheel/oxinabox/.julia/v0.6/Plots/src/output.jl:296\u001b[22m\u001b[22m",
      " [11] \u001b[1mdisplay\u001b[22m\u001b[22m\u001b[1m(\u001b[22m\u001b[22m::IJulia.InlineDisplay, ::Plots.Plot{Plots.GRBackend}\u001b[1m)\u001b[22m\u001b[22m at \u001b[1m/home/wheel/oxinabox/.julia/v0.6/IJulia/src/inline.jl:76\u001b[22m\u001b[22m",
      " [12] \u001b[1mdisplay\u001b[22m\u001b[22m\u001b[1m(\u001b[22m\u001b[22m::Plots.Plot{Plots.GRBackend}\u001b[1m)\u001b[22m\u001b[22m at \u001b[1m./multimedia.jl:218\u001b[22m\u001b[22m",
      " [13] \u001b[1mhookless\u001b[22m\u001b[22m\u001b[1m(\u001b[22m\u001b[22m::Media.##7#8{Plots.Plot{Plots.GRBackend}}\u001b[1m)\u001b[22m\u001b[22m at \u001b[1m/home/wheel/oxinabox/.julia/v0.6/Media/src/compat.jl:14\u001b[22m\u001b[22m",
      " [14] \u001b[1mrender\u001b[22m\u001b[22m\u001b[1m(\u001b[22m\u001b[22m::Media.NoDisplay, ::Plots.Plot{Plots.GRBackend}\u001b[1m)\u001b[22m\u001b[22m at \u001b[1m/home/wheel/oxinabox/.julia/v0.6/Media/src/compat.jl:27\u001b[22m\u001b[22m",
      " [15] \u001b[1mdisplay\u001b[22m\u001b[22m\u001b[1m(\u001b[22m\u001b[22m::Media.DisplayHook, ::Plots.Plot{Plots.GRBackend}\u001b[1m)\u001b[22m\u001b[22m at \u001b[1m/home/wheel/oxinabox/.julia/v0.6/Media/src/compat.jl:9\u001b[22m\u001b[22m",
      " [16] \u001b[1mdisplay\u001b[22m\u001b[22m\u001b[1m(\u001b[22m\u001b[22m::Plots.Plot{Plots.GRBackend}\u001b[1m)\u001b[22m\u001b[22m at \u001b[1m./multimedia.jl:218\u001b[22m\u001b[22m",
      " [17] \u001b[1mqualitative_demo\u001b[22m\u001b[22m\u001b[1m(\u001b[22m\u001b[22m::ColoringNames.TermToColorDistributionSOWE{TensorFlow.Tensor{Int32},MLLabelUtils.LabelEnc.NativeLabels{String,2833},TensorFlow.Tensor{String}}, ::Bool\u001b[1m)\u001b[22m\u001b[22m at \u001b[1m./In[3]:2\u001b[22m\u001b[22m (repeats 2 times)"
     ]
    }
   ],
   "source": [
    "qualitative_demo(sowe_unsmoothed)"
   ]
  },
  {
   "cell_type": "code",
   "execution_count": 7,
   "metadata": {},
   "outputs": [
    {
     "name": "stdout",
     "output_type": "stream",
     "text": [
      "evaluate(sowe_smoothed, cldata.dev) = Dict(:perp=>163.694,:perp_val=>219.936,:mse_to_peak=>0.235125,:perp_sat=>308.257,:perp_hue=>64.6979)\n"
     ]
    },
    {
     "data": {
      "text/plain": [
       "Dict{Symbol,Float64} with 5 entries:\n",
       "  :perp        => 163.694\n",
       "  :perp_val    => 219.936\n",
       "  :mse_to_peak => 0.235125\n",
       "  :perp_sat    => 308.257\n",
       "  :perp_hue    => 64.6979"
      ]
     },
     "execution_count": 7,
     "metadata": {},
     "output_type": "execute_result"
    }
   ],
   "source": [
    "sowe_smoothed = TermToColorDistributionSOWE(enc, word_embs; n_steps=size(cldata.train.terms_padded,1))\n",
    "train!(sowe_smoothed, cldata, Val{true}();\n",
    "        log_dir=mklogdir(\"sowe_smoothed\"),\n",
    "        batch_size = 829,\n",
    "        min_epochs=200,\n",
    "        max_epochs=30_000,\n",
    "        )\n",
    "@show evaluate(sowe_smoothed, cldata.dev)"
   ]
  },
  {
   "cell_type": "code",
   "execution_count": null,
   "metadata": {},
   "outputs": [],
   "source": []
  },
  {
   "cell_type": "code",
   "execution_count": null,
   "metadata": {},
   "outputs": [],
   "source": []
  },
  {
   "cell_type": "code",
   "execution_count": null,
   "metadata": {},
   "outputs": [],
   "source": [
    "rnn_unsmoothed = TermToColorDistributionRNN(enc, word_embs; n_steps=size(cldata.train.terms_padded,1))\n",
    "train!(rnn_unsmoothed, cldata, Val{false}();\n",
    "        log_dir = mklogdir(\"rnn_unsmoothed\"),\n",
    "        batch_size = 829,\n",
    "        max_epochs=30_000,\n",
    "        )\n",
    "@show evaluate(rnn_unsmoothed, cldata.dev)\n"
   ]
  },
  {
   "cell_type": "code",
   "execution_count": null,
   "metadata": {},
   "outputs": [],
   "source": [
    "qualitative_demo(rnn_unsmoothed)"
   ]
  },
  {
   "cell_type": "code",
   "execution_count": null,
   "metadata": {},
   "outputs": [],
   "source": [
    "rnn_smoothed = TermToColorDistributionRNN(enc, word_embs; n_steps=size(cldata.train.terms_padded,1))\n",
    "train!(rnn_smoothed, cldata, Val{true}();\n",
    "        log_dir = mklogdir(\"rnn_smoothed\"),\n",
    "        batch_size = 829,\n",
    "        max_epochs=30_000,\n",
    "        )\n",
    "\n",
    "@show evaluate(rnn_smoothed, cldata.dev)"
   ]
  },
  {
   "cell_type": "code",
   "execution_count": null,
   "metadata": {},
   "outputs": [],
   "source": [
    "qualitative_demo(rnn_smoothed)"
   ]
  },
  {
   "cell_type": "code",
   "execution_count": null,
   "metadata": {},
   "outputs": [],
   "source": [
    "cnn_unsmoothed = TermToColorDistributionCNN(enc, word_embs; n_steps=size(cldata.train.terms_padded,1))\n",
    "train!(cnn_unsmoothed, cldata, Val{false}();\n",
    "        log_dir=mklogdir(\"cnn_unsmoothed\"),\n",
    "        batch_size = 829,\n",
    "        max_epochs=30_000,\n",
    "        )\n",
    "\n",
    "@show evaluate(cnn_unsmoothed, cldata.dev)"
   ]
  },
  {
   "cell_type": "code",
   "execution_count": null,
   "metadata": {},
   "outputs": [],
   "source": [
    "qualitative_demo(cnn_unsmoothed)"
   ]
  },
  {
   "cell_type": "code",
   "execution_count": null,
   "metadata": {},
   "outputs": [],
   "source": [
    "cnn_smoothed = TermToColorDistributionCNN(enc, word_embs; n_steps=size(cldata.train.terms_padded,1))\n",
    "train!(cnn_smoothed, cldata, Val{true}();\n",
    "        log_dir=mklogdir(\"cnn_smoothed_rand\"),\n",
    "        batch_size = 829,\n",
    "        max_epochs=30_000,\n",
    "        )\n",
    "\n",
    "@show evaluate(cnn_smoothed, cldata.dev)"
   ]
  },
  {
   "cell_type": "code",
   "execution_count": null,
   "metadata": {},
   "outputs": [],
   "source": [
    "qualitative_demo(cnn_smoothed)"
   ]
  },
  {
   "cell_type": "code",
   "execution_count": null,
   "metadata": {},
   "outputs": [],
   "source": [
    "noml_unsmoothed = TermToColorDistributionEmpirical(256)\n",
    "train!(noml_unsmoothed, cldata, Val{false}())\n",
    "@show evaluate(noml_unsmoothed, cldata.dev)"
   ]
  },
  {
   "cell_type": "code",
   "execution_count": null,
   "metadata": {},
   "outputs": [],
   "source": [
    "qualitative_demo(noml_unsmoothed)"
   ]
  },
  {
   "cell_type": "code",
   "execution_count": null,
   "metadata": {},
   "outputs": [],
   "source": []
  },
  {
   "cell_type": "code",
   "execution_count": null,
   "metadata": {},
   "outputs": [],
   "source": [
    "noml_smoothed = TermToColorDistributionEmpirical(256)\n",
    "train!(noml_smoothed, cldata, Val{true}())\n",
    "@show evaluate(noml_smoothed, cldata.dev)"
   ]
  },
  {
   "cell_type": "code",
   "execution_count": null,
   "metadata": {},
   "outputs": [],
   "source": [
    "qualitative_demo(noml_smoothed)"
   ]
  },
  {
   "cell_type": "code",
   "execution_count": null,
   "metadata": {},
   "outputs": [],
   "source": []
  }
 ],
 "metadata": {
  "kernelspec": {
   "display_name": "Julia 0.6.2",
   "language": "julia",
   "name": "julia-0.6"
  },
  "language_info": {
   "file_extension": ".jl",
   "mimetype": "application/julia",
   "name": "julia",
   "version": "0.6.2"
  }
 },
 "nbformat": 4,
 "nbformat_minor": 2
}
