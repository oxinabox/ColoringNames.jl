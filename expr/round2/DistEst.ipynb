{
 "cells": [
  {
   "cell_type": "code",
   "execution_count": 1,
   "metadata": {},
   "outputs": [
    {
     "data": {
      "text/plain": [
       "Plots.PyPlotBackend()"
      ]
     },
     "execution_count": 1,
     "metadata": {},
     "output_type": "execute_result"
    }
   ],
   "source": [
    "using Plots\n",
    "pyplot()\n",
    "using ColoringNames\n",
    "using CSVFiles\n",
    "using DataFrames\n",
    "pyplot()"
   ]
  },
  {
   "cell_type": "code",
   "execution_count": 2,
   "metadata": {},
   "outputs": [
    {
     "data": {
      "text/plain": [
       "mklogdir (generic function with 1 method)"
      ]
     },
     "execution_count": 2,
     "metadata": {},
     "output_type": "execute_result"
    }
   ],
   "source": [
    "runnum = \"8\"\n",
    "function mklogdir(name)\n",
    "    logdir = joinpath(pwd(), \"logs\", \"dist\", name * runnum)\n",
    "    mkpath(logdir)\n",
    "    logdir\n",
    "end"
   ]
  },
  {
   "cell_type": "code",
   "execution_count": 3,
   "metadata": {},
   "outputs": [
    {
     "data": {
      "text/plain": [
       "qualitative_demo (generic function with 3 methods)"
      ]
     },
     "execution_count": 3,
     "metadata": {},
     "output_type": "execute_result"
    }
   ],
   "source": [
    "function get_saveplot(mdlname)\n",
    "    figpath = joinpath(\"demo\", \"dist\", mdlname)\n",
    "    mkpath(figpath)\n",
    "    function saveplot(mdl, colorname)\n",
    "        filename = joinpath(figpath, colorname*\".png\")\n",
    "        savefig(plot_query(mdl, colorname), filename)\n",
    "    end\n",
    "end\n",
    "\n",
    "\n",
    "function qualitative_demo(mdl, do_oov=true;\n",
    "        demofun=display∘plot_query,\n",
    "        #demofun=(mdl,name)->nothing\n",
    "        #demofun=(mdl,name)->savefig(plot_query(mdl, name), name),\n",
    "    )\n",
    "        demofun(mdl,  \"brownish green\")\n",
    "        demofun(mdl,  \"brown\")\n",
    "        demofun(mdl,  \"brownish\")\n",
    "        demofun(mdl,  \"greenish\")\n",
    "        demofun(mdl,  \"greenish brown\")\n",
    "        demofun(mdl,  \"green\")\n",
    "        \n",
    "        demofun(mdl,  \"bluish grey\")\n",
    "        demofun(mdl,  \"greyish blue\")\n",
    "        demofun(mdl, \"pink-purple\")\n",
    "        demofun(mdl, \"purple-pink\")\n",
    "        demofun(mdl, \"brown-orange\")\n",
    "        demofun(mdl, \"orange-brown\")\n",
    "        demofun(mdl, \"orange-yellow\")\n",
    "        demofun(mdl, \"yellow-orange\")\n",
    "        \n",
    "        demofun(mdl, \"purple\")\n",
    "        demofun(mdl, \"purplish\")\n",
    "        demofun(mdl, \"black\")\n",
    "        demofun(mdl, \"white\")\n",
    "        \n",
    "    \n",
    "        demofun(mdl, \"grey\")\n",
    "        do_oov && demofun(mdl, \"Gray\")\n",
    "        do_oov && demofun(mdl, \"gray\")\n",
    "        do_oov && demofun(mdl, \"grey\")\n",
    "        do_oov && demofun(mdl, \"Green\")\n",
    "        \n",
    "\n",
    "        \n",
    "        do_oov && demofun(mdl,  \"ish\")\n",
    "end\n",
    "\n",
    "qualitative_demo(mdl::TermToColorDistributionEmpirical; kwargs...) = qualitative_demo(mdl, false; kwargs...)"
   ]
  },
  {
   "cell_type": "code",
   "execution_count": 4,
   "metadata": {},
   "outputs": [],
   "source": [
    "const many_names = load_color_nameset()\n",
    "const word_embs, vocab, enc = load_text_embeddings(keep_words=many_names)\n",
    "const full_data = load_munroe_data(dev_as_train=false, dev_as_test=false, encoding_ = enc)\n",
    "\n",
    "const ord_data = order_relevant_dataset(full_data);\n",
    "const extrapo_data = extrapolation_dataset(full_data);"
   ]
  },
  {
   "cell_type": "code",
   "execution_count": 5,
   "metadata": {},
   "outputs": [
    {
     "data": {
      "text/plain": [
       "doextrapo (generic function with 2 methods)"
      ]
     },
     "execution_count": 5,
     "metadata": {},
     "output_type": "execute_result"
    }
   ],
   "source": [
    "create_res_df() = DataFrame(method=String[], \n",
    "    perp=Float64[],\n",
    "    perp_hue=Float64[],\n",
    "    perp_sat=Float64[],\n",
    "    perp_val=Float64[],\n",
    "    mse_to_distmode=Float64[],\n",
    "    mse_to_distmean=Float64[]\n",
    ")\n",
    "\n",
    "full_df = create_res_df()\n",
    "extrapo_df = create_res_df()\n",
    "ord_df = create_res_df()\n",
    "\n",
    "function perform_evaluation(modeltype, name, smoothed)\n",
    "    name *= smoothed ? \"-smoothed\" : \"\"\n",
    "    info(name)\n",
    "    \n",
    "    function mdlfun(cldata)\n",
    "        mdl = modeltype(enc, word_embs; n_steps=size(cldata.train.terms_padded,1))\n",
    "        train!(mdl, cldata, Val{smoothed}(); log_dir = mklogdir(name))\n",
    "        mdl\n",
    "    end\n",
    "    \n",
    "    \n",
    "    ###################\n",
    "    if doextrapo(modeltype)\n",
    "        extrapo_mdl = mdlfun(extrapo_data)\n",
    "        println()\n",
    "        @show res_extrapo = evaluate(extrapo_mdl, extrapo_data.test)\n",
    "        res_extrapo[:method] = name * \" Extrapolating\"\n",
    "        push!(extrapo_df, res_extrapo)\n",
    "    end\n",
    "    \n",
    "    \n",
    "    ######\n",
    "    full_mdl = mdlfun(full_data)\n",
    "    println()\n",
    "    @show res_full = evaluate(full_mdl, full_data.test)\n",
    "    res_full[:method] = name\n",
    "    push!(full_df, res_full)\n",
    "    \n",
    "    qualitative_demo(full_mdl; demofun=get_saveplot(name))\n",
    "    \n",
    "    #######\n",
    "    println()\n",
    "    @show res_ord = evaluate(full_mdl, ord_data.test)\n",
    "    res_ord[:method] = name\n",
    "    push!(ord_df, res_ord)\n",
    "    \n",
    "    \n",
    "    #######\n",
    "    @show  res_nonextrapo = evaluate(full_mdl, extrapo_data.test)\n",
    "    println()\n",
    "    res_nonextrapo[:method] = name * \" Non-extrapolating\"\n",
    "    push!(extrapo_df, res_nonextrapo)\n",
    "    \n",
    "    \n",
    "    ####\n",
    "    save(\"results/raw/dist_full.csv\", full_df)\n",
    "    save(\"results/raw/dist_extrapo.csv\", extrapo_df)\n",
    "    save(\"results/raw/dist_ord.csv\", ord_df)\n",
    "    \n",
    "    full_mdl\n",
    "end\n",
    "\n",
    "function perform_evaluation(modeltype, name)\n",
    "    perform_evaluation(modeltype, name, false)\n",
    "    perform_evaluation(modeltype, name, true)\n",
    "end\n",
    "\n",
    "doextrapo(::Any) = true\n",
    "doextrapo(::Type{TermToColorDistributionEmpirical}) = false"
   ]
  },
  {
   "cell_type": "code",
   "execution_count": null,
   "metadata": {},
   "outputs": [
    {
     "name": "stderr",
     "output_type": "stream",
     "text": [
      "\u001b[1m\u001b[36mINFO: \u001b[39m\u001b[22m\u001b[36mDirect\n",
      "\u001b[39m"
     ]
    },
    {
     "name": "stdout",
     "output_type": "stream",
     "text": [
      "\n",
      "res_full = evaluate(full_mdl, full_data.test) = Dict{Symbol,Any}(Pair{Symbol,Any}(:perp, 2.75356e6),Pair{Symbol,Any}(:perp_val, 175.293),Pair{Symbol,Any}(:mse_to_distmean, 0.0663561),Pair{Symbol,Any}(:perp_sat, 230.097),Pair{Symbol,Any}(:mse_to_distmode, 0.134059),Pair{Symbol,Any}(:perp_hue, 68.2684))\n",
      "(h_max, s_max, v_max) = (0.20392156862745098, 0.6705882352941176, 0.49411764705882355)\n",
      "(h_max, s_max, v_max) = (0.08235294117647059, 1.0, 0.5176470588235295)\n",
      "(h_max, s_max, v_max) = (0.07058823529411765, 0.6196078431372549, 0.6)\n",
      "(h_max, s_max, v_max) = (0.4196078431372549, 0.6588235294117647, 0.7333333333333333)\n",
      "(h_max, s_max, v_max) = (0.1450980392156863, 0.9333333333333333, 0.4235294117647059)\n",
      "(h_max, s_max, v_max) = (0.3411764705882353, 1.0, 0.803921568627451)\n",
      "(h_max, s_max, v_max) = (0.592156862745098, 0.24705882352941178, 0.5843137254901961)\n",
      "(h_max, s_max, v_max) = (0.5882352941176471, 0.27058823529411763, 0.6823529411764706)\n",
      "(h_max, s_max, v_max) = (0.8392156862745098, 0.5254901960784314, 0.8784313725490196)\n",
      "(h_max, s_max, v_max) = (0.8431372549019608, 0.9176470588235294, 0.9725490196078431)\n",
      "(h_max, s_max, v_max) = (0.07058823529411765, 0.984313725490196, 0.7725490196078432)\n",
      "(h_max, s_max, v_max) = (0.0784313725490196, 0.9176470588235294, 0.7843137254901961)\n",
      "(h_max, s_max, v_max) = (0.11372549019607843, 0.9607843137254902, 0.9764705882352941)\n",
      "(h_max, s_max, v_max) = (0.11372549019607843, 1.0, 0.9686274509803922)\n",
      "(h_max, s_max, v_max) = (0.7686274509803922, 1.0, 0.7058823529411765)\n",
      "(h_max, s_max, v_max) = (0.7764705882352941, 0.6588235294117647, 0.788235294117647)\n",
      "(h_max, s_max, v_max) = (0.0, 1.0, 0.1411764705882353)\n",
      "(h_max, s_max, v_max) = (0.2, 0.0392156862745098, 0.996078431372549)\n",
      "(h_max, s_max, v_max) = (0.6666666666666666, 0.12549019607843137, 0.6274509803921569)\n",
      "\n",
      "res_ord = evaluate(full_mdl, ord_data.test) = Dict{Symbol,Any}(Pair{Symbol,Any}(:perp, 4.08852e6),Pair{Symbol,Any}(:perp_val, 254.398),Pair{Symbol,Any}(:mse_to_distmean, 0.0648013),Pair{Symbol,Any}(:perp_sat, 273.886),Pair{Symbol,Any}(:mse_to_distmode, 0.110341),Pair{Symbol,Any}(:perp_hue, 58.6789))\n",
      "res_nonextrapo = evaluate(full_mdl, extrapo_data.test) = Dict{Symbol,Any}(Pair{Symbol,Any}(:perp, 2.95083e9),Pair{Symbol,Any}(:perp_val, 4243.33),Pair{Symbol,Any}(:mse_to_distmean, 0.0621324),Pair{Symbol,Any}(:perp_sat, 4432.46),Pair{Symbol,Any}(:mse_to_distmode, 0.116992),Pair{Symbol,Any}(:perp_hue, 156.889))\n",
      "\n"
     ]
    },
    {
     "name": "stderr",
     "output_type": "stream",
     "text": [
      "\u001b[1m\u001b[36mINFO: \u001b[39m\u001b[22m\u001b[36mDirect-smoothed\n",
      "\u001b[39m"
     ]
    },
    {
     "name": "stdout",
     "output_type": "stream",
     "text": [
      "\n",
      "res_full = evaluate(full_mdl, full_data.test) = Dict{Symbol,Any}(Pair{Symbol,Any}(:perp, 1.19449e6),Pair{Symbol,Any}(:perp_val, 122.143),Pair{Symbol,Any}(:mse_to_distmean, 0.0663674),Pair{Symbol,Any}(:perp_sat, 163.754),Pair{Symbol,Any}(:mse_to_distmode, 0.109937),Pair{Symbol,Any}(:perp_hue, 59.7205))\n",
      "(h_max, s_max, v_max) = (0.16862745098039217, 0.6470588235294118, 0.49411764705882355)\n",
      "(h_max, s_max, v_max) = (0.08627450980392157, 0.7568627450980392, 0.5490196078431373)\n",
      "(h_max, s_max, v_max) = (0.058823529411764705, 0.49411764705882355, 0.5843137254901961)\n",
      "(h_max, s_max, v_max) = (0.41568627450980394, 0.6470588235294118, 0.7372549019607844)\n",
      "(h_max, s_max, v_max) = (0.1450980392156863, 0.9215686274509803, 0.5098039215686274)\n",
      "(h_max, s_max, v_max) = (0.33725490196078434, 0.996078431372549, 0.803921568627451)\n",
      "(h_max, s_max, v_max) = (0.5803921568627451, 0.20784313725490197, 0.6980392156862745)\n",
      "(h_max, s_max, v_max) = (0.5490196078431373, 0.29411764705882354, 0.6862745098039216)\n",
      "(h_max, s_max, v_max) = (0.8588235294117647, 0.6823529411764706, 0.8392156862745098)\n",
      "(h_max, s_max, v_max) = (0.8431372549019608, 0.7098039215686275, 0.8745098039215686)\n",
      "(h_max, s_max, v_max) = (0.07058823529411765, 0.9372549019607843, 0.7725490196078432)\n",
      "(h_max, s_max, v_max) = (0.07450980392156863, 0.9098039215686274, 0.7803921568627451)\n",
      "(h_max, s_max, v_max) = (0.11764705882352941, 0.9568627450980393, 0.9803921568627451)\n",
      "(h_max, s_max, v_max) = (0.11372549019607843, 0.8941176470588236, 0.9647058823529412)\n",
      "(h_max, s_max, v_max) = (0.7725490196078432, 0.984313725490196, 0.7372549019607844)\n",
      "(h_max, s_max, v_max) = (0.7411764705882353, 0.7215686274509804, 0.6196078431372549)\n",
      "(h_max, s_max, v_max) = (0.5843137254901961, 1.0, 0.13333333333333333)\n",
      "(h_max, s_max, v_max) = (0.2, 0.043137254901960784, 0.996078431372549)\n",
      "(h_max, s_max, v_max) = (0.12549019607843137, 0.12156862745098039, 0.6196078431372549)\n",
      "\n",
      "res_ord = evaluate(full_mdl, ord_data.test) = Dict{Symbol,Any}(Pair{Symbol,Any}(:perp, 8.93602e5),Pair{Symbol,Any}(:perp_val, 125.817),Pair{Symbol,Any}(:mse_to_distmean, 0.0648423),Pair{Symbol,Any}(:perp_sat, 153.635),Pair{Symbol,Any}(:mse_to_distmode, 0.0904632),Pair{Symbol,Any}(:perp_hue, 46.2292))\n",
      "res_nonextrapo = evaluate(full_mdl, extrapo_data.test) = Dict{Symbol,Any}(Pair{Symbol,Any}(:perp, 8.43846e5),Pair{Symbol,Any}(:perp_val, 115.53),Pair{Symbol,Any}(:mse_to_distmean, 0.0621801),Pair{Symbol,Any}(:perp_sat, 152.178),Pair{Symbol,Any}(:mse_to_distmode, 0.0855571),Pair{Symbol,Any}(:perp_hue, 47.9972))\n",
      "\n"
     ]
    },
    {
     "name": "stderr",
     "output_type": "stream",
     "text": [
      "\u001b[1m\u001b[36mINFO: \u001b[39m\u001b[22m\u001b[36mSOWE\n",
      "\u001b[39m2018-06-18 18:39:31.589094: I tensorflow/core/platform/cpu_feature_guard.cc:140] Your CPU supports instructions that this TensorFlow binary was not compiled to use: SSE4.1 SSE4.2\n"
     ]
    }
   ],
   "source": [
    "namedmodels = [\n",
    "    (TermToColorDistributionEmpirical, \"Direct\"),\n",
    "    (TermToColorDistributionSOWE, \"SOWE\"),\n",
    "    (TermToColorDistributionCNN, \"CNN\"),\n",
    "    (TermToColorDistributionRNN, \"RNN\"),    \n",
    "]\n",
    "\n",
    "for (modeltype, name) in namedmodels\n",
    "    perform_evaluation(modeltype, name)\n",
    "end;"
   ]
  },
  {
   "cell_type": "markdown",
   "metadata": {},
   "source": [
    "# Oracle\n"
   ]
  },
  {
   "cell_type": "code",
   "execution_count": null,
   "metadata": {},
   "outputs": [],
   "source": [
    "oracle_cldata = load_munroe_data(dev_as_train=true, dev_as_test=true)#, encoding_ = enc)\n",
    "oracle_noml_unsmoothed =  TermToColorDistributionEmpirical(256)\n",
    "train!(oracle_noml_unsmoothed, oracle_cldata, Val{false}(); remove_zeros_hack=false)\n",
    "@show evaluate(oracle_noml_unsmoothed, oracle_cldata.dev)"
   ]
  },
  {
   "cell_type": "code",
   "execution_count": null,
   "metadata": {},
   "outputs": [],
   "source": [
    "qualitative_demo(oracle_noml_unsmoothed,\n",
    "    demofun = get_saveplot(\"oracle_noml_unsmoothed\"))"
   ]
  },
  {
   "cell_type": "code",
   "execution_count": null,
   "metadata": {},
   "outputs": [],
   "source": [
    "plot_query(oracle_noml_unsmoothed, \"black\")"
   ]
  },
  {
   "cell_type": "code",
   "execution_count": null,
   "metadata": {},
   "outputs": [],
   "source": [
    "ColoringNames.order_relevant_name_pairs(full_data.train)"
   ]
  },
  {
   "cell_type": "code",
   "execution_count": null,
   "metadata": {},
   "outputs": [],
   "source": [
    "38*2"
   ]
  },
  {
   "cell_type": "code",
   "execution_count": null,
   "metadata": {},
   "outputs": [],
   "source": [
    "ind = findfirst(full_data.dev.texts.==\"light blue-green\")"
   ]
  },
  {
   "cell_type": "code",
   "execution_count": null,
   "metadata": {},
   "outputs": [],
   "source": [
    "function mdlfun(modeltype, cldata, smoothed)\n",
    "    mdl = modeltype(enc, word_embs; n_steps=size(cldata.train.terms_padded,1))\n",
    "    train!(mdl, cldata, Val{smoothed}(); log_dir = mklogdir(name))\n",
    "    mdl\n",
    "end\n",
    "\n",
    "sowe = mdlfun(TermToColorDistributionSOWE, full_data, false)"
   ]
  },
  {
   "cell_type": "code",
   "execution_count": null,
   "metadata": {},
   "outputs": [],
   "source": [
    "        plot_query(mdl,  \"greenish brown\") |> display\n",
    "        plot_query(mdl,  \"green\")|> display"
   ]
  },
  {
   "cell_type": "code",
   "execution_count": null,
   "metadata": {},
   "outputs": [],
   "source": []
  }
 ],
 "metadata": {
  "kernelspec": {
   "display_name": "Julia 0.6.3",
   "language": "julia",
   "name": "julia-0.6"
  },
  "language_info": {
   "file_extension": ".jl",
   "mimetype": "application/julia",
   "name": "julia",
   "version": "0.6.3"
  }
 },
 "nbformat": 4,
 "nbformat_minor": 2
}
