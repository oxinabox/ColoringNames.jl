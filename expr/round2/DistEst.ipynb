{
 "cells": [
  {
   "cell_type": "code",
   "execution_count": 1,
   "metadata": {},
   "outputs": [],
   "source": [
    "using ColoringNames"
   ]
  },
  {
   "cell_type": "code",
   "execution_count": 2,
   "metadata": {},
   "outputs": [
    {
     "data": {
      "text/plain": [
       "mklogdir (generic function with 1 method)"
      ]
     },
     "execution_count": 2,
     "metadata": {},
     "output_type": "execute_result"
    }
   ],
   "source": [
    "runnum = \"4\"\n",
    "function mklogdir(name)\n",
    "    logdir = joinpath(pwd(), \"logs\", name * runnum)\n",
    "    mkpath(logdir)\n",
    "    logdir\n",
    "end"
   ]
  },
  {
   "cell_type": "code",
   "execution_count": null,
   "metadata": {},
   "outputs": [],
   "source": [
    "function qualitative_demo(mdl, do_oov=true)\n",
    "    plot_query(mdl,  \"brownish green\") |> display\n",
    "    plot_query(mdl,  \"brown\") |> display\n",
    "    plot_query(mdl,  \"brownish\") |> display\n",
    "    plot_query(mdl,  \"greenish\") |> display\n",
    "    plot_query(mdl,  \"greenish brown\") |> display\n",
    "    plot_query(mdl,  \"green\")|> display\n",
    "    do_oov && plot_query(mdl,  \"ish\")|> display\n",
    "end\n",
    "\n",
    "qualitative_demo(mdl::TermToColorDistributionEmpirical) = qualitative_demo(mdl, false)"
   ]
  },
  {
   "cell_type": "code",
   "execution_count": null,
   "metadata": {},
   "outputs": [],
   "source": [
    "many_names = load_color_nameset()\n",
    "word_embs, vocab, enc = load_text_embeddings(keep_words=many_names)\n",
    "cldata = load_munroe_data(dev_as_train=false, dev_as_test=true, encoding_ = enc)"
   ]
  },
  {
   "cell_type": "code",
   "execution_count": null,
   "metadata": {},
   "outputs": [],
   "source": [
    "sowe_unsmoothed = TermToColorDistributionSOWE(enc, word_embs; n_steps=size(cldata.train.terms_padded,1))\n",
    "train!(sowe_unsmoothed, cldata, Val{false}();\n",
    "        log_dir = mklogdir(\"sowe_unsmoothed\"),\n",
    "        batch_size = 829,\n",
    "        min_epochs=200,\n",
    "        max_epochs=30_000,\n",
    "        )\n",
    "@show evaluate(sowe_unsmoothed, cldata.dev)"
   ]
  },
  {
   "cell_type": "code",
   "execution_count": null,
   "metadata": {},
   "outputs": [],
   "source": [
    "qualitative_demo(sowe_unsmoothed)"
   ]
  },
  {
   "cell_type": "code",
   "execution_count": null,
   "metadata": {},
   "outputs": [],
   "source": [
    "sowe_smoothed = TermToColorDistributionSOWE(enc, word_embs; n_steps=size(cldata.train.terms_padded,1))\n",
    "train!(sowe_smoothed, cldata, Val{true}();\n",
    "        log_dir=mklogdir(\"sowe_smoothed\"),\n",
    "        batch_size = 829,\n",
    "        min_epochs=200,\n",
    "        max_epochs=30_000,\n",
    "        )\n",
    "@show evaluate(sowe_smoothed, cldata.dev)"
   ]
  },
  {
   "cell_type": "code",
   "execution_count": null,
   "metadata": {},
   "outputs": [],
   "source": []
  },
  {
   "cell_type": "code",
   "execution_count": null,
   "metadata": {},
   "outputs": [],
   "source": []
  },
  {
   "cell_type": "code",
   "execution_count": null,
   "metadata": {},
   "outputs": [],
   "source": [
    "rnn_unsmoothed = TermToColorDistributionRNN(enc, word_embs; n_steps=size(cldata.train.terms_padded,1))\n",
    "train!(rnn_unsmoothed, cldata, Val{false}();\n",
    "        log_dir = mklogdir(\"rnn_unsmoothed\"),\n",
    "        batch_size = 829,\n",
    "        min_epochs=200,\n",
    "        max_epochs=30_000,\n",
    "        )\n",
    "@show evaluate(rnn_unsmoothed, cldata.dev)\n"
   ]
  },
  {
   "cell_type": "code",
   "execution_count": null,
   "metadata": {},
   "outputs": [],
   "source": [
    "qualitative_demo(rnn_unsmoothed)"
   ]
  },
  {
   "cell_type": "code",
   "execution_count": null,
   "metadata": {},
   "outputs": [],
   "source": [
    "rnn_smoothed = TermToColorDistributionRNN(enc, word_embs; n_steps=size(cldata.train.terms_padded,1))\n",
    "train!(rnn_smoothed, cldata, Val{true}();\n",
    "        log_dir = mklogdir(\"rnn_smoothed\"),\n",
    "        batch_size = 829,\n",
    "        min_epochs=200,\n",
    "        max_epochs=30_000,\n",
    "        )\n",
    "\n",
    "@show evaluate(rnn_smoothed, cldata.dev)"
   ]
  },
  {
   "cell_type": "code",
   "execution_count": null,
   "metadata": {},
   "outputs": [],
   "source": [
    "qualitative_demo(rnn_smoothed)"
   ]
  },
  {
   "cell_type": "code",
   "execution_count": null,
   "metadata": {},
   "outputs": [],
   "source": [
    "cnn_unsmoothed = TermToColorDistributionCNN(enc, word_embs; n_steps=size(cldata.train.terms_padded,1))\n",
    "train!(cnn_unsmoothed, cldata, Val{false}();\n",
    "        log_dir=mklogdir(\"cnn_unsmoothed\"),\n",
    "        batch_size = 829,\n",
    "        min_epochs=200,\n",
    "        max_epochs=30_000,\n",
    "        )\n",
    "\n",
    "@show evaluate(cnn_unsmoothed, cldata.dev)"
   ]
  },
  {
   "cell_type": "code",
   "execution_count": null,
   "metadata": {},
   "outputs": [],
   "source": [
    "qualitative_demo(cnn_unsmoothed)"
   ]
  },
  {
   "cell_type": "code",
   "execution_count": null,
   "metadata": {},
   "outputs": [],
   "source": [
    "cnn_smoothed = TermToColorDistributionCNN(enc, word_embs; n_steps=size(cldata.train.terms_padded,1))\n",
    "train!(cnn_smoothed, cldata, Val{true}();\n",
    "        log_dir=mklogdir(\"cnn_smoothed_rand\"),\n",
    "        batch_size = 829,\n",
    "        min_epochs=200,\n",
    "        max_epochs=30_000,\n",
    "        )\n",
    "\n",
    "@show evaluate(cnn_smoothed, cldata.dev)"
   ]
  },
  {
   "cell_type": "code",
   "execution_count": null,
   "metadata": {},
   "outputs": [],
   "source": [
    "qualitative_demo(cnn_smoothed)"
   ]
  },
  {
   "cell_type": "code",
   "execution_count": null,
   "metadata": {},
   "outputs": [],
   "source": [
    "qualitative_demo(cnn_smoothed)"
   ]
  },
  {
   "cell_type": "code",
   "execution_count": null,
   "metadata": {},
   "outputs": [],
   "source": [
    "noml_unsmoothed = TermToColorDistributionEmpirical(256)\n",
    "train!(noml_unsmoothed, cldata, Val{false}())\n",
    "@show evaluate(noml_unsmoothed, cldata.dev)"
   ]
  },
  {
   "cell_type": "code",
   "execution_count": null,
   "metadata": {},
   "outputs": [],
   "source": [
    "qualitative_demo(noml_unsmoothed)"
   ]
  },
  {
   "cell_type": "code",
   "execution_count": null,
   "metadata": {},
   "outputs": [],
   "source": [
    "qualitative_demo(noml_smoothed)"
   ]
  },
  {
   "cell_type": "code",
   "execution_count": null,
   "metadata": {},
   "outputs": [],
   "source": [
    "noml_smoothed = TermToColorDistributionEmpirical(256)\n",
    "train!(noml_smoothed, cldata, Val{true}())\n",
    "@show evaluate(noml_smoothed, cldata.dev)"
   ]
  }
 ],
 "metadata": {
  "kernelspec": {
   "display_name": "Julia 0.6.2",
   "language": "julia",
   "name": "julia-0.6"
  },
  "language_info": {
   "file_extension": ".jl",
   "mimetype": "application/julia",
   "name": "julia",
   "version": "0.6.2"
  }
 },
 "nbformat": 4,
 "nbformat_minor": 2
}
