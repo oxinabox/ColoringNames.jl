{
 "cells": [
  {
   "cell_type": "code",
   "execution_count": 1,
   "metadata": {},
   "outputs": [
    {
     "name": "stderr",
     "output_type": "stream",
     "text": [
      "\u001b[1m\u001b[36mINFO: \u001b[39m\u001b[22m\u001b[36mRecompiling stale cache file /home/wheel/oxinabox/.julia/lib/v0.6/ColoringNames.ji for module ColoringNames.\n",
      "\u001b[39m"
     ]
    }
   ],
   "source": [
    "using ColoringNames"
   ]
  },
  {
   "cell_type": "code",
   "execution_count": 4,
   "metadata": {},
   "outputs": [],
   "source": [
    "runname = \"sowe2\"\n",
    "logdir = joinpath(pwd(), \"logs\", runname)\n",
    "mkpath(logdir)"
   ]
  },
  {
   "cell_type": "code",
   "execution_count": 5,
   "metadata": {},
   "outputs": [
    {
     "data": {
      "text/plain": [
       "ColoringNames.ColorDatasets{MLLabelUtils.LabelEnc.NativeLabels{String,2833},ColoringNames.ColorDataset{Array{Any,1},Array{Int64,2},Array{Float32,2}}}(MLLabelUtils.LabelEnc.NativeLabels{String,2833}(String[\"and\", \"of\", \"a\", \"with\", \"'s\", \"not\", \"-\", \"your\", \"just\", \"can\"  …  \"Feijoa\", \"melanzane\", \"minsk\", \"Pizazz\", \"feijoa\", \"red1\", \"Kilamanjaro\", \"karaka\", \"bilbao\", \"mabel\"], Dict(\"Apple\"=>157,\"Caper\"=>2160,\"chocolate\"=>424,\"Casablanca\"=>1155,\"Many\"=>84,\"Luxor\"=>1613,\"star\"=>103,\"canyon\"=>900,\"bombay\"=>2563,\"bondi\"=>2662…)), ColoringNames.ColorDataset{Array{Any,1},Array{Int64,2},Array{Float32,2}}(Any[\"acid green\", \"acid green\", \"acid green\", \"acid green\", \"acid green\", \"acid green\", \"acid green\", \"acid green\", \"acid green\", \"acid green\"  …  \"yuck\", \"yuck\", \"yuck\", \"yuck\", \"yuck\", \"yuck\", \"yuck\", \"yuck\", \"yuck\", \"yuck\"], [338 338 … 2148 2148; 114 114 … 0 0; 0 0 … 0 0; 0 0 … 0 0], Float32[0.344113 0.855319 0.921569; 0.281905 0.744681 0.921569; … ; 0.376894 0.768559 0.898039; 0.179104 0.41358 0.635294]), ColoringNames.ColorDataset{Array{Any,1},Array{Int64,2},Array{Float32,2}}(Any[\"acid green\", \"acid green\", \"acid green\", \"acid green\", \"acid green\", \"acid green\", \"acid green\", \"acid green\", \"acid green\", \"acid green\"  …  \"yuck\", \"yuck\", \"yuck\", \"yuck\", \"yuck\", \"yuck\", \"yuck\", \"yuck\", \"yuck\", \"yuck\"], [338 338 … 2148 2148; 114 114 … 0 0; 0 0 … 0 0; 0 0 … 0 0], Float32[0.328092 0.665272 0.937255; 0.241007 0.712821 0.764706; … ; 0.0540541 0.308333 0.941176; 0.125874 0.590909 0.94902]), ColoringNames.ColorDataset{Array{Any,1},Array{Int64,2},Array{Float32,2}}(Any[\"acid green\", \"acid green\", \"acid green\", \"acid green\", \"acid green\", \"acid green\", \"acid green\", \"acid green\", \"acid green\", \"acid green\"  …  \"yuck\", \"yuck\", \"yuck\", \"yuck\", \"yuck\", \"yuck\", \"yuck\", \"yuck\", \"yuck\", \"yuck\"], [338 338 … 2148 2148; 114 114 … 0 0; 0 0 … 0 0; 0 0 … 0 0], Float32[0.328092 0.665272 0.937255; 0.241007 0.712821 0.764706; … ; 0.0540541 0.308333 0.941176; 0.125874 0.590909 0.94902]))"
      ]
     },
     "execution_count": 5,
     "metadata": {},
     "output_type": "execute_result"
    }
   ],
   "source": [
    "many_names = load_color_nameset()\n",
    "word_embs, vocab, enc = load_text_embeddings(keep_words=many_names)\n",
    "cldata = load_munroe_data(dev_as_train=false, dev_as_test=true, encoding_ = enc)"
   ]
  },
  {
   "cell_type": "code",
   "execution_count": 9,
   "metadata": {},
   "outputs": [
    {
     "name": "stdout",
     "output_type": "stream",
     "text": [
      "initialising sowe2 network\n"
     ]
    },
    {
     "name": "stderr",
     "output_type": "stream",
     "text": [
      "WARNING: redefining constant libblosc\n"
     ]
    },
    {
     "ename": "LoadError",
     "evalue": "\u001b[91mOn worker 2:\n\u001b[91mUndefRefError: access to undefined reference\u001b[39m\nmake_py_graph at /home/wheel/oxinabox/.julia/v0.6/TensorFlow/src/py.jl:51\npy_gradients at /home/wheel/oxinabox/.julia/v0.6/TensorFlow/src/py.jl:75\n#9 at /home/wheel/oxinabox/.julia/v0.6/TensorFlow/src/TensorFlow.jl:173\n#110 at ./distributed/process_messages.jl:275 [inlined]\nrun_work_thunk at ./distributed/process_messages.jl:56\nrun_work_thunk at ./distributed/process_messages.jl:65 [inlined]\n#96 at ./event.jl:73\u001b[39m",
     "output_type": "error",
     "traceback": [
      "\u001b[91mOn worker 2:\n\u001b[91mUndefRefError: access to undefined reference\u001b[39m\nmake_py_graph at /home/wheel/oxinabox/.julia/v0.6/TensorFlow/src/py.jl:51\npy_gradients at /home/wheel/oxinabox/.julia/v0.6/TensorFlow/src/py.jl:75\n#9 at /home/wheel/oxinabox/.julia/v0.6/TensorFlow/src/TensorFlow.jl:173\n#110 at ./distributed/process_messages.jl:275 [inlined]\nrun_work_thunk at ./distributed/process_messages.jl:56\nrun_work_thunk at ./distributed/process_messages.jl:65 [inlined]\n#96 at ./event.jl:73\u001b[39m",
      "",
      "Stacktrace:",
      " [1] \u001b[1m#remotecall_wait#146\u001b[22m\u001b[22m\u001b[1m(\u001b[22m\u001b[22m::Array{Any,1}, ::Function, ::Function, ::Base.Distributed.Worker\u001b[1m)\u001b[22m\u001b[22m at \u001b[1m./distributed/remotecall.jl:382\u001b[22m\u001b[22m",
      " [2] \u001b[1mremotecall_wait\u001b[22m\u001b[22m\u001b[1m(\u001b[22m\u001b[22m::Function, ::Base.Distributed.Worker\u001b[1m)\u001b[22m\u001b[22m at \u001b[1m./distributed/remotecall.jl:373\u001b[22m\u001b[22m",
      " [3] \u001b[1m#remotecall_wait#149\u001b[22m\u001b[22m\u001b[1m(\u001b[22m\u001b[22m::Array{Any,1}, ::Function, ::Function, ::Int64\u001b[1m)\u001b[22m\u001b[22m at \u001b[1m./distributed/remotecall.jl:394\u001b[22m\u001b[22m",
      " [4] \u001b[1mremotecall_wait\u001b[22m\u001b[22m\u001b[1m(\u001b[22m\u001b[22m::Function, ::Int64\u001b[1m)\u001b[22m\u001b[22m at \u001b[1m./distributed/remotecall.jl:394\u001b[22m\u001b[22m",
      " [5] \u001b[1meval\u001b[22m\u001b[22m\u001b[1m(\u001b[22m\u001b[22m::Module, ::Any\u001b[1m)\u001b[22m\u001b[22m at \u001b[1m./boot.jl:235\u001b[22m\u001b[22m",
      " [6] \u001b[1mpyg_gradients\u001b[22m\u001b[22m\u001b[1m(\u001b[22m\u001b[22m::TensorFlow.Tensor{Float64}, ::Array{Any,1}, ::Void\u001b[1m)\u001b[22m\u001b[22m at \u001b[1m/home/wheel/oxinabox/.julia/v0.6/TensorFlow/src/core.jl:1574\u001b[22m\u001b[22m",
      " [7] \u001b[1mgradients\u001b[22m\u001b[22m\u001b[1m(\u001b[22m\u001b[22m::TensorFlow.Tensor{Float64}, ::Array{Any,1}\u001b[1m)\u001b[22m\u001b[22m at \u001b[1m/home/wheel/oxinabox/.julia/v0.6/TensorFlow/src/core.jl:1562\u001b[22m\u001b[22m",
      " [8] \u001b[1mcompute_gradients\u001b[22m\u001b[22m\u001b[1m(\u001b[22m\u001b[22m::TensorFlow.train.AdamOptimizer, ::TensorFlow.Tensor{Float64}, ::Void\u001b[1m)\u001b[22m\u001b[22m at \u001b[1m/home/wheel/oxinabox/.julia/v0.6/TensorFlow/src/train.jl:48\u001b[22m\u001b[22m",
      " [9] \u001b[1m#minimize#1\u001b[22m\u001b[22m\u001b[1m(\u001b[22m\u001b[22m::Void, ::Void, ::String, ::Function, ::TensorFlow.train.AdamOptimizer, ::TensorFlow.Tensor{Float64}\u001b[1m)\u001b[22m\u001b[22m at \u001b[1m/home/wheel/oxinabox/.julia/v0.6/TensorFlow/src/train.jl:40\u001b[22m\u001b[22m",
      " [10] \u001b[1m(::TensorFlow.train.#kw##minimize)\u001b[22m\u001b[22m\u001b[1m(\u001b[22m\u001b[22m::Array{Any,1}, ::TensorFlow.train.#minimize, ::TensorFlow.train.AdamOptimizer, ::TensorFlow.Tensor{Float64}\u001b[1m)\u001b[22m\u001b[22m at \u001b[1m./<missing>:0\u001b[22m\u001b[22m",
      " [11] \u001b[1m(::TensorFlow.###12#13#16{TensorFlow.train.#minimize,String})\u001b[22m\u001b[22m\u001b[1m(\u001b[22m\u001b[22m::Array{Any,1}, ::Function, ::TensorFlow.train.AdamOptimizer, ::Vararg{Any,N} where N\u001b[1m)\u001b[22m\u001b[22m at \u001b[1m/home/wheel/oxinabox/.julia/v0.6/TensorFlow/src/meta.jl:79\u001b[22m\u001b[22m",
      " [12] \u001b[1m#TermToColorDistributionSOWE#72\u001b[22m\u001b[22m\u001b[1m(\u001b[22m\u001b[22m::Int64, ::Int64, ::Int64, ::Float64, ::Type{T} where T, ::MLLabelUtils.LabelEnc.NativeLabels{String,2833}, ::Array{Float32,2}\u001b[1m)\u001b[22m\u001b[22m at \u001b[1m/home/wheel/oxinabox/.julia/v0.6/ColoringNames/src/networks/term2col_dist_SOWE.jl:76\u001b[22m\u001b[22m",
      " [13] \u001b[1m(::Core.#kw#Type)\u001b[22m\u001b[22m\u001b[1m(\u001b[22m\u001b[22m::Array{Any,1}, ::Type{ColoringNames.TermToColorDistributionSOWE}, ::MLLabelUtils.LabelEnc.NativeLabels{String,2833}, ::Array{Float32,2}\u001b[1m)\u001b[22m\u001b[22m at \u001b[1m./<missing>:0\u001b[22m\u001b[22m"
     ]
    }
   ],
   "source": [
    "println(\"initialising $runname network\")\n",
    "sowe_smoothed = TermToColorDistributionSOWE(enc, word_embs; n_steps=size(cldata.train.terms_padded,1))\n",
    "println(\"training $runname network\")\n",
    "train!(sowe_smoothed ,cldata.train, Val{true}(),\n",
    "        logdir;\n",
    "        batch_size = 829,\n",
    "        min_epochs=300,\n",
    "        min_epochs=30_000,\n",
    "        early_stopping = ()->evaluate(mdl, cldata.dev)[:perp]\n",
    "        )"
   ]
  },
  {
   "cell_type": "code",
   "execution_count": 7,
   "metadata": {},
   "outputs": [
    {
     "name": "stdout",
     "output_type": "stream",
     "text": [
      "initialising sowe2 network\n"
     ]
    },
    {
     "ename": "LoadError",
     "evalue": "\u001b[91mOn worker 2:\n\u001b[91mUndefRefError: access to undefined reference\u001b[39m\nmake_py_graph at /home/wheel/oxinabox/.julia/v0.6/TensorFlow/src/py.jl:51\npy_gradients at /home/wheel/oxinabox/.julia/v0.6/TensorFlow/src/py.jl:75\n#7 at /home/wheel/oxinabox/.julia/v0.6/TensorFlow/src/TensorFlow.jl:173\n#110 at ./distributed/process_messages.jl:275 [inlined]\nrun_work_thunk at ./distributed/process_messages.jl:56\nrun_work_thunk at ./distributed/process_messages.jl:65 [inlined]\n#96 at ./event.jl:73\u001b[39m",
     "output_type": "error",
     "traceback": [
      "\u001b[91mOn worker 2:\n\u001b[91mUndefRefError: access to undefined reference\u001b[39m\nmake_py_graph at /home/wheel/oxinabox/.julia/v0.6/TensorFlow/src/py.jl:51\npy_gradients at /home/wheel/oxinabox/.julia/v0.6/TensorFlow/src/py.jl:75\n#7 at /home/wheel/oxinabox/.julia/v0.6/TensorFlow/src/TensorFlow.jl:173\n#110 at ./distributed/process_messages.jl:275 [inlined]\nrun_work_thunk at ./distributed/process_messages.jl:56\nrun_work_thunk at ./distributed/process_messages.jl:65 [inlined]\n#96 at ./event.jl:73\u001b[39m",
      "",
      "Stacktrace:",
      " [1] \u001b[1m#remotecall_wait#146\u001b[22m\u001b[22m\u001b[1m(\u001b[22m\u001b[22m::Array{Any,1}, ::Function, ::Function, ::Base.Distributed.Worker\u001b[1m)\u001b[22m\u001b[22m at \u001b[1m./distributed/remotecall.jl:382\u001b[22m\u001b[22m",
      " [2] \u001b[1mremotecall_wait\u001b[22m\u001b[22m\u001b[1m(\u001b[22m\u001b[22m::Function, ::Base.Distributed.Worker\u001b[1m)\u001b[22m\u001b[22m at \u001b[1m./distributed/remotecall.jl:373\u001b[22m\u001b[22m",
      " [3] \u001b[1m#remotecall_wait#149\u001b[22m\u001b[22m\u001b[1m(\u001b[22m\u001b[22m::Array{Any,1}, ::Function, ::Function, ::Int64\u001b[1m)\u001b[22m\u001b[22m at \u001b[1m./distributed/remotecall.jl:394\u001b[22m\u001b[22m",
      " [4] \u001b[1mremotecall_wait\u001b[22m\u001b[22m\u001b[1m(\u001b[22m\u001b[22m::Function, ::Int64\u001b[1m)\u001b[22m\u001b[22m at \u001b[1m./distributed/remotecall.jl:394\u001b[22m\u001b[22m",
      " [5] \u001b[1meval\u001b[22m\u001b[22m\u001b[1m(\u001b[22m\u001b[22m::Module, ::Any\u001b[1m)\u001b[22m\u001b[22m at \u001b[1m./boot.jl:235\u001b[22m\u001b[22m",
      " [6] \u001b[1mpyg_gradients\u001b[22m\u001b[22m\u001b[1m(\u001b[22m\u001b[22m::TensorFlow.Tensor{Float64}, ::Array{Any,1}, ::Void\u001b[1m)\u001b[22m\u001b[22m at \u001b[1m/home/wheel/oxinabox/.julia/v0.6/TensorFlow/src/core.jl:1574\u001b[22m\u001b[22m",
      " [7] \u001b[1mgradients\u001b[22m\u001b[22m\u001b[1m(\u001b[22m\u001b[22m::TensorFlow.Tensor{Float64}, ::Array{Any,1}\u001b[1m)\u001b[22m\u001b[22m at \u001b[1m/home/wheel/oxinabox/.julia/v0.6/TensorFlow/src/core.jl:1562\u001b[22m\u001b[22m",
      " [8] \u001b[1mcompute_gradients\u001b[22m\u001b[22m\u001b[1m(\u001b[22m\u001b[22m::TensorFlow.train.AdamOptimizer, ::TensorFlow.Tensor{Float64}, ::Void\u001b[1m)\u001b[22m\u001b[22m at \u001b[1m/home/wheel/oxinabox/.julia/v0.6/TensorFlow/src/train.jl:48\u001b[22m\u001b[22m",
      " [9] \u001b[1m#minimize#1\u001b[22m\u001b[22m\u001b[1m(\u001b[22m\u001b[22m::Void, ::Void, ::String, ::Function, ::TensorFlow.train.AdamOptimizer, ::TensorFlow.Tensor{Float64}\u001b[1m)\u001b[22m\u001b[22m at \u001b[1m/home/wheel/oxinabox/.julia/v0.6/TensorFlow/src/train.jl:40\u001b[22m\u001b[22m",
      " [10] \u001b[1m(::TensorFlow.train.#kw##minimize)\u001b[22m\u001b[22m\u001b[1m(\u001b[22m\u001b[22m::Array{Any,1}, ::TensorFlow.train.#minimize, ::TensorFlow.train.AdamOptimizer, ::TensorFlow.Tensor{Float64}\u001b[1m)\u001b[22m\u001b[22m at \u001b[1m./<missing>:0\u001b[22m\u001b[22m",
      " [11] \u001b[1m(::TensorFlow.###12#13#16{TensorFlow.train.#minimize,String})\u001b[22m\u001b[22m\u001b[1m(\u001b[22m\u001b[22m::Array{Any,1}, ::Function, ::TensorFlow.train.AdamOptimizer, ::Vararg{Any,N} where N\u001b[1m)\u001b[22m\u001b[22m at \u001b[1m/home/wheel/oxinabox/.julia/v0.6/TensorFlow/src/meta.jl:79\u001b[22m\u001b[22m",
      " [12] \u001b[1m#TermToColorDistributionSOWE#72\u001b[22m\u001b[22m\u001b[1m(\u001b[22m\u001b[22m::Int64, ::Int64, ::Int64, ::Float64, ::Type{T} where T, ::MLLabelUtils.LabelEnc.NativeLabels{String,2833}, ::Array{Float32,2}\u001b[1m)\u001b[22m\u001b[22m at \u001b[1m/home/wheel/oxinabox/.julia/v0.6/ColoringNames/src/networks/term2col_dist_SOWE.jl:76\u001b[22m\u001b[22m",
      " [13] \u001b[1m(::Core.#kw#Type)\u001b[22m\u001b[22m\u001b[1m(\u001b[22m\u001b[22m::Array{Any,1}, ::Type{ColoringNames.TermToColorDistributionSOWE}, ::MLLabelUtils.LabelEnc.NativeLabels{String,2833}, ::Array{Float32,2}\u001b[1m)\u001b[22m\u001b[22m at \u001b[1m./<missing>:0\u001b[22m\u001b[22m"
     ]
    }
   ],
   "source": [
    "println(\"initialising $runname network\")\n",
    "sowe_unsmoothed = TermToColorDistributionSOWE(enc, word_embs; n_steps=size(cldata.train.terms_padded,1))\n",
    "println(\"training $runname network\")\n",
    "train!(sowe_smoothed ,cldata.train, Val{false}(),\n",
    "        logdir;\n",
    "        batch_size = 829,\n",
    "        min_epochs=300,\n",
    "        min_epochs=30_000,\n",
    "        early_stopping = ()->evaluate(mdl, cldata.dev)[:perp]\n",
    "        )"
   ]
  },
  {
   "cell_type": "code",
   "execution_count": null,
   "metadata": {},
   "outputs": [],
   "source": []
  },
  {
   "cell_type": "code",
   "execution_count": 8,
   "metadata": {},
   "outputs": [
    {
     "ename": "LoadError",
     "evalue": "\u001b[91mUndefVarError: sowe_unsmoothed not defined\u001b[39m",
     "output_type": "error",
     "traceback": [
      "\u001b[91mUndefVarError: sowe_unsmoothed not defined\u001b[39m",
      ""
     ]
    }
   ],
   "source": [
    "plot_hsv(query(sowe_unsmoothed,  \"brownish green\")...) |> display\n",
    "plot_hsv(query(sowe_smoothed,  \"brownish green\")...) |> display\n",
    "plot_hsv(query(sowe_unsmoothed,  \"brown\")...) |> display\n",
    "plot_hsv(query(sowe_smoothed,  \"brown\")...) |> display\n",
    "plot_hsv(query(sowe_unsmoothed,  \"brownish\")...) |> display\n",
    "plot_hsv(query(sowe_smoothed,  \"brownish\")...) |> display\n",
    "plot_hsv(query(sowe_unsmoothed,  \"greenish\")...) |> display\n",
    "plot_hsv(query(sowe_smoothed,  \"greenish\")...) |> display\n",
    "plot_hsv(query(sowe_unsmoothed,  \"greenish brown\")...) |> display\n",
    "plot_hsv(query(sowe_smoothed,  \"greenish brown\")...) |> display"
   ]
  },
  {
   "cell_type": "code",
   "execution_count": null,
   "metadata": {},
   "outputs": [],
   "source": []
  }
 ],
 "metadata": {
  "kernelspec": {
   "display_name": "Julia 0.6.2",
   "language": "julia",
   "name": "julia-0.6"
  },
  "language_info": {
   "file_extension": ".jl",
   "mimetype": "application/julia",
   "name": "julia",
   "version": "0.6.2"
  }
 },
 "nbformat": 4,
 "nbformat_minor": 2
}
