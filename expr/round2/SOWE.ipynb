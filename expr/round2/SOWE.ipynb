{
 "cells": [
  {
   "cell_type": "code",
   "execution_count": 2,
   "metadata": {},
   "outputs": [
    {
     "name": "stderr",
     "output_type": "stream",
     "text": [
      "\u001b[1m\u001b[36mINFO: \u001b[39m\u001b[22m\u001b[36mRecompiling stale cache file /home/wheel/oxinabox/.julia/lib/v0.6/Blosc.ji for module Blosc.\n",
      "\u001b[39m\u001b[1m\u001b[36mINFO: \u001b[39m\u001b[22m\u001b[36mRecompiling stale cache file /home/wheel/oxinabox/.julia/lib/v0.6/HDF5.ji for module HDF5.\n",
      "\u001b[39m\u001b[1m\u001b[36mINFO: \u001b[39m\u001b[22m\u001b[36mRecompiling stale cache file /home/wheel/oxinabox/.julia/lib/v0.6/TensorFlow.ji for module TensorFlow.\n",
      "\u001b[39m\u001b[1m\u001b[33mWARNING: \u001b[39m\u001b[22m\u001b[33mLoading a new version of TensorFlow.jl for the first time. This initial load can take around 5 minutes as code is precompiled; subsequent usage will only take a few seconds.\u001b[39m\n"
     ]
    }
   ],
   "source": [
    "using ColoringNames"
   ]
  },
  {
   "cell_type": "code",
   "execution_count": 3,
   "metadata": {},
   "outputs": [],
   "source": [
    "runname = \"sowe1\"\n",
    "logdir = mkpath(joinpath(pwd(), \"logs\", runname))"
   ]
  },
  {
   "cell_type": "code",
   "execution_count": 4,
   "metadata": {},
   "outputs": [],
   "source": [
    "using DataDeps"
   ]
  },
  {
   "cell_type": "code",
   "execution_count": 5,
   "metadata": {},
   "outputs": [
    {
     "name": "stderr",
     "output_type": "stream",
     "text": [
      "\u001b[1m\u001b[33mWARNING: \u001b[39m\u001b[22m\u001b[33mMax Vocab size exceeded. More words are available if you want.\u001b[39m\n"
     ]
    },
    {
     "data": {
      "text/plain": [
       "(Float32[0.1073 0.0897 … -0.0907 0.0855; 0.0089 0.016 … -0.0645 0.0531; … ; 0.1173 -0.0254 … 0.0312 -0.0116; -0.04 -0.0259 … 0.0619 -0.0282], String[\",\", \"the\", \".\", \"and\", \"of\", \"to\", \"in\", \"a\", \"\\\"\", \":\"  …  \"32.37\", \"Majnoun\", \"Bartenura\", \"Melkam\", \"calligraffiti\", \"whitespotted\", \"sacoglossan\", \"Iseya\", \"Bayyah\", \"Vilaya\"], MLLabelUtils.LabelEnc.NativeLabels{String,999994}(String[\",\", \"the\", \".\", \"and\", \"of\", \"to\", \"in\", \"a\", \"\\\"\", \":\"  …  \"32.37\", \"Majnoun\", \"Bartenura\", \"Melkam\", \"calligraffiti\", \"whitespotted\", \"sacoglossan\", \"Iseya\", \"Bayyah\", \"Vilaya\"], Dict(\"Tencent\"=>60146,\"Yoik\"=>972415,\"Ankokuji\"=>797926,\"Sawtelle\"=>191947,\"Patchway\"=>303738,\"titration\"=>70189,\"Misrule\"=>409421,\"Bajmok\"=>753352,\"Bigbie\"=>645026,\"Sherif9282\"=>798514…)))"
      ]
     },
     "execution_count": 5,
     "metadata": {},
     "output_type": "execute_result"
    }
   ],
   "source": [
    "word_embs, vocab, enc = load_text_embeddings()"
   ]
  },
  {
   "cell_type": "code",
   "execution_count": 6,
   "metadata": {},
   "outputs": [
    {
     "data": {
      "text/plain": [
       "ColoringNames.ColorDatasets{MLLabelUtils.LabelEnc.NativeLabels{String,999994},ColoringNames.ColorDataset{Array{Any,1},Array{Int64,2},Array{Float32,2}}}(MLLabelUtils.LabelEnc.NativeLabels{String,999994}(String[\",\", \"the\", \".\", \"and\", \"of\", \"to\", \"in\", \"a\", \"\\\"\", \":\"  …  \"32.37\", \"Majnoun\", \"Bartenura\", \"Melkam\", \"calligraffiti\", \"whitespotted\", \"sacoglossan\", \"Iseya\", \"Bayyah\", \"Vilaya\"], Dict(\"Tencent\"=>60146,\"Yoik\"=>972415,\"Ankokuji\"=>797926,\"Sawtelle\"=>191947,\"Patchway\"=>303738,\"titration\"=>70189,\"Misrule\"=>409421,\"Bajmok\"=>753352,\"Bigbie\"=>645026,\"Sherif9282\"=>798514…)), ColoringNames.ColorDataset{Array{Any,1},Array{Int64,2},Array{Float32,2}}(Any[\"acid green\", \"acid green\", \"acid green\", \"acid green\", \"acid green\", \"acid green\", \"acid green\", \"acid green\", \"acid green\", \"acid green\"  …  \"yuck\", \"yuck\", \"yuck\", \"yuck\", \"yuck\", \"yuck\", \"yuck\", \"yuck\", \"yuck\", \"yuck\"], [5386 5386 … 100256 100256; 1825 1825 … 0 0; 0 0 … 0 0; 0 0 … 0 0], Float32[0.344113 0.855319 0.921569; 0.281905 0.744681 0.921569; … ; 0.376894 0.768559 0.898039; 0.179104 0.41358 0.635294]), ColoringNames.ColorDataset{Array{Any,1},Array{Int64,2},Array{Float32,2}}(Any[\"acid green\", \"acid green\", \"acid green\", \"acid green\", \"acid green\", \"acid green\", \"acid green\", \"acid green\", \"acid green\", \"acid green\"  …  \"yuck\", \"yuck\", \"yuck\", \"yuck\", \"yuck\", \"yuck\", \"yuck\", \"yuck\", \"yuck\", \"yuck\"], [5386 5386 … 100256 100256; 1825 1825 … 0 0; 0 0 … 0 0; 0 0 … 0 0], Float32[0.328092 0.665272 0.937255; 0.241007 0.712821 0.764706; … ; 0.0540541 0.308333 0.941176; 0.125874 0.590909 0.94902]), ColoringNames.ColorDataset{Array{Any,1},Array{Int64,2},Array{Float32,2}}(Any[\"acid green\", \"acid green\", \"acid green\", \"acid green\", \"acid green\", \"acid green\", \"acid green\", \"acid green\", \"acid green\", \"acid green\"  …  \"yuck\", \"yuck\", \"yuck\", \"yuck\", \"yuck\", \"yuck\", \"yuck\", \"yuck\", \"yuck\", \"yuck\"], [5386 5386 … 100256 100256; 1825 1825 … 0 0; 0 0 … 0 0; 0 0 … 0 0], Float32[0.328092 0.665272 0.937255; 0.241007 0.712821 0.764706; … ; 0.0540541 0.308333 0.941176; 0.125874 0.590909 0.94902]))"
      ]
     },
     "execution_count": 6,
     "metadata": {},
     "output_type": "execute_result"
    }
   ],
   "source": [
    "cldata = load_munroe_data(\n",
    "    dev_as_train=false,\n",
    "    dev_as_test=true,\n",
    "    encoding_ = enc\n",
    ")"
   ]
  },
  {
   "cell_type": "code",
   "execution_count": null,
   "metadata": {},
   "outputs": [],
   "source": []
  },
  {
   "cell_type": "code",
   "execution_count": 12,
   "metadata": {},
   "outputs": [
    {
     "name": "stdout",
     "output_type": "stream",
     "text": [
      "initialising sowe1 network\n"
     ]
    },
    {
     "name": "stderr",
     "output_type": "stream",
     "text": [
      "WARNING: Method definition (::Type{ColoringNames.TermToColorDistributionSOWE{NTerms, S, OPT} where OPT where S<:AbstractString where NTerms})(AbstractArray{T, 2} where T) in module ColoringNames at /home/wheel/oxinabox/.julia/v0.6/ColoringNames/src/networks/term2col_dist_SOWE.jl:28 overwritten at /home/wheel/oxinabox/.julia/v0.6/ColoringNames/src/networks/term2col_dist_SOWE.jl:28.\n",
      "WARNING: Method definition Type(Array{Any, 1}, Type{ColoringNames.TermToColorDistributionSOWE{NTerms, S, OPT} where OPT where S<:AbstractString where NTerms}, AbstractArray{T, 2} where T) in module ColoringNames overwritten.\n"
     ]
    },
    {
     "name": "stdout",
     "output_type": "stream",
     "text": [
      "terms_emb = <Tensor terms_emb:1 shape=(4, ?, 300) dtype=Float32>\n",
      "H = <Tensor reduce:1 shape=(?, 300) dtype=Float32>\n"
     ]
    },
    {
     "ename": "LoadError",
     "evalue": "\u001b[91mMethodError: no method matching ColoringNames.TermToColorDistributionSOWE(::StringEncodings.Encodings.#encoding, ::TensorFlow.Session, ::TensorFlow.Tensor{Any}, ::Int64, ::Int64, ::Int64, ::Int64)\u001b[0m\nClosest candidates are:\n  ColoringNames.TermToColorDistributionSOWE(\u001b[91m::MLLabelUtils.LabelEnc.NativeLabels{S<:AbstractString,NTerms}\u001b[39m, ::TensorFlow.Session, ::OPT, ::Int64, ::Int64, ::Int64, ::Int64) where {NTerms, S<:AbstractString, OPT} at /home/wheel/oxinabox/.julia/v0.6/ColoringNames/src/networks/term2col_dist_SOWE.jl:12\u001b[39m",
     "output_type": "error",
     "traceback": [
      "\u001b[91mMethodError: no method matching ColoringNames.TermToColorDistributionSOWE(::StringEncodings.Encodings.#encoding, ::TensorFlow.Session, ::TensorFlow.Tensor{Any}, ::Int64, ::Int64, ::Int64, ::Int64)\u001b[0m\nClosest candidates are:\n  ColoringNames.TermToColorDistributionSOWE(\u001b[91m::MLLabelUtils.LabelEnc.NativeLabels{S<:AbstractString,NTerms}\u001b[39m, ::TensorFlow.Session, ::OPT, ::Int64, ::Int64, ::Int64, ::Int64) where {NTerms, S<:AbstractString, OPT} at /home/wheel/oxinabox/.julia/v0.6/ColoringNames/src/networks/term2col_dist_SOWE.jl:12\u001b[39m",
      "",
      "Stacktrace:",
      " [1] \u001b[1m#TermToColorDistributionSOWE#83\u001b[22m\u001b[22m\u001b[1m(\u001b[22m\u001b[22m::Int64, ::Int64, ::Int64, ::Int64, ::Type{T} where T, ::Array{Float32,2}\u001b[1m)\u001b[22m\u001b[22m at \u001b[1m/home/wheel/oxinabox/.julia/v0.6/ColoringNames/src/networks/term2col_dist_SOWE.jl:84\u001b[22m\u001b[22m",
      " [2] \u001b[1m(::Core.#kw#Type)\u001b[22m\u001b[22m\u001b[1m(\u001b[22m\u001b[22m::Array{Any,1}, ::Type{ColoringNames.TermToColorDistributionSOWE}, ::Array{Float32,2}\u001b[1m)\u001b[22m\u001b[22m at \u001b[1m./<missing>:0\u001b[22m\u001b[22m"
     ]
    }
   ],
   "source": [
    "println(\"initialising $runname network\")\n",
    "\n",
    "mdl = TermToColorDistributionSOWE(word_embs; n_steps=4)"
   ]
  },
  {
   "cell_type": "code",
   "execution_count": 13,
   "metadata": {},
   "outputs": [
    {
     "name": "stderr",
     "output_type": "stream",
     "text": [
      "\u001b[1m\u001b[33mWARNING: \u001b[39m\u001b[22m\u001b[33mfailure to evaluate changes in ColoringNames\u001b[39m\n",
      "struct TermToColorDistributionSOWE{NTerms, S <: AbstractString, OPT} # /home/wheel/oxinabox/.julia/v0.6/ColoringNames/src/networks/term2col_dist_SOWE.jl, line 12:\n",
      "    sess::Session # /home/wheel/oxinabox/.julia/v0.6/ColoringNames/src/networks/term2col_dist_SOWE.jl, line 13:\n",
      "    optimizer::OPT # /home/wheel/oxinabox/.julia/v0.6/ColoringNames/src/networks/term2col_dist_SOWE.jl, line 14:\n",
      "    max_tokens::Int # /home/wheel/oxinabox/.julia/v0.6/ColoringNames/src/networks/term2col_dist_SOWE.jl, line 15:\n",
      "    output_res::Int # /home/wheel/oxinabox/.julia/v0.6/ColoringNames/src/networks/term2col_dist_SOWE.jl, line 16:\n",
      "    hidden_layer_size::Int # /home/wheel/oxinabox/.julia/v0.6/ColoringNames/src/networks/term2col_dist_SOWE.jl, line 17:\n",
      "    embedding_dim::Int\n",
      "end\n"
     ]
    },
    {
     "name": "stdout",
     "output_type": "stream",
     "text": [
      "estimating raw distribution\n"
     ]
    },
    {
     "name": "stderr",
     "output_type": "stream",
     "text": [
      "WARNING: Method definition (::Type{ColoringNames.TermToColorDistributionSOWE{NTerms, S, OPT} where OPT where S<:AbstractString where NTerms})(AbstractArray{T, 2} where T) in module ColoringNames at /home/wheel/oxinabox/.julia/v0.6/ColoringNames/src/networks/term2col_dist_SOWE.jl:28 overwritten at /home/wheel/oxinabox/.julia/v0.6/ColoringNames/src/networks/term2col_dist_SOWE.jl:27.\n",
      "WARNING: Method definition Type(Array{Any, 1}, Type{ColoringNames.TermToColorDistributionSOWE{NTerms, S, OPT} where OPT where S<:AbstractString where NTerms}, AbstractArray{T, 2} where T) in module ColoringNames overwritten.\n"
     ]
    },
    {
     "ename": "LoadError",
     "evalue": "\u001b[91mUndefVarError: text not defined\u001b[39m",
     "output_type": "error",
     "traceback": [
      "\u001b[91mUndefVarError: text not defined\u001b[39m",
      ""
     ]
    }
   ],
   "source": [
    "println(\"estimating raw distribution\")\n",
    "text, terms, find_distribution(colors, nbins)\n"
   ]
  },
  {
   "cell_type": "code",
   "execution_count": null,
   "metadata": {},
   "outputs": [],
   "source": [
    "println(\"training $runname network\")\n",
    "train!(mdl,\n",
    "        cldata.train.terms_padded,\n",
    "        cldata.train.colors,\n",
    "        log_path;\n",
    "        batch_size = batch_size,\n",
    "        epochs=epochs\n",
    "        )"
   ]
  }
 ],
 "metadata": {
  "kernelspec": {
   "display_name": "Julia 0.6.2",
   "language": "julia",
   "name": "julia-0.6"
  },
  "language_info": {
   "file_extension": ".jl",
   "mimetype": "application/julia",
   "name": "julia",
   "version": "0.6.2"
  }
 },
 "nbformat": 4,
 "nbformat_minor": 2
}
