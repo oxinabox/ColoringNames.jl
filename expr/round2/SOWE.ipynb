{
 "cells": [
  {
   "cell_type": "code",
   "execution_count": 1,
   "metadata": {},
   "outputs": [
    {
     "name": "stderr",
     "output_type": "stream",
     "text": [
      "\u001b[1m\u001b[36mINFO: \u001b[39m\u001b[22m\u001b[36mRecompiling stale cache file /home/wheel/oxinabox/.julia/lib/v0.6/ColoringNames.ji for module ColoringNames.\n",
      "\u001b[39mWARNING: Method definition (::Type{ColoringNames.TermToColorDistributionEmpirical})() in module ColoringNames at /home/wheel/oxinabox/.julia/v0.6/ColoringNames/src/networks/term2col_dist_noml.jl:8 overwritten at /home/wheel/oxinabox/.julia/v0.6/ColoringNames/src/networks/term2col_dist_noml.jl:71.\n",
      "WARNING: Method definition (::Type{ColoringNames.TermToColorDistributionEmpirical})(Any) in module ColoringNames at /home/wheel/oxinabox/.julia/v0.6/ColoringNames/src/networks/term2col_dist_noml.jl:8 overwritten at /home/wheel/oxinabox/.julia/v0.6/ColoringNames/src/networks/term2col_dist_noml.jl:71.\n",
      "WARNING: Method definition output_res(ColoringNames.TermToColorDistributionEmpirical) in module ColoringNames at /home/wheel/oxinabox/.julia/v0.6/ColoringNames/src/networks/term2col_dist_noml.jl:14 overwritten at /home/wheel/oxinabox/.julia/v0.6/ColoringNames/src/networks/term2col_dist_noml.jl:77.\n",
      "WARNING: Method definition train!(ColoringNames.TermToColorDistributionEmpirical, Any, Any, Tuple{T, T, T} where T) in module ColoringNames at /home/wheel/oxinabox/.julia/v0.6/ColoringNames/src/networks/term2col_dist_noml.jl:18 overwritten at /home/wheel/oxinabox/.julia/v0.6/ColoringNames/src/networks/term2col_dist_noml.jl:81.\n",
      "WARNING: Method definition query(ColoringNames.TermToColorDistributionEmpirical, Any) in module ColoringNames at /home/wheel/oxinabox/.julia/v0.6/ColoringNames/src/networks/term2col_dist_noml.jl:24 overwritten at /home/wheel/oxinabox/.julia/v0.6/ColoringNames/src/networks/term2col_dist_noml.jl:87.\n",
      "WARNING: Method definition (::Type{ColoringNames.TermToColorDistributionEmpirical})() in module ColoringNames at /home/wheel/oxinabox/.julia/v0.6/ColoringNames/src/networks/term2col_dist_noml.jl:8 overwritten at /home/wheel/oxinabox/.julia/v0.6/ColoringNames/src/networks/term2col_dist_noml.jl:71.\n",
      "WARNING: Method definition (::Type{ColoringNames.TermToColorDistributionEmpirical})(Any) in module ColoringNames at /home/wheel/oxinabox/.julia/v0.6/ColoringNames/src/networks/term2col_dist_noml.jl:8 overwritten at /home/wheel/oxinabox/.julia/v0.6/ColoringNames/src/networks/term2col_dist_noml.jl:71.\n"
     ]
    }
   ],
   "source": [
    "using ColoringNames"
   ]
  },
  {
   "cell_type": "code",
   "execution_count": 2,
   "metadata": {},
   "outputs": [
    {
     "data": {
      "text/plain": [
       "mklogdir (generic function with 1 method)"
      ]
     },
     "execution_count": 2,
     "metadata": {},
     "output_type": "execute_result"
    }
   ],
   "source": [
    "function mklogdir(name)\n",
    "    logdir = joinpath(pwd(), \"logs\", name)\n",
    "    mkpath(logdir)\n",
    "    logdir\n",
    "end"
   ]
  },
  {
   "cell_type": "code",
   "execution_count": 3,
   "metadata": {},
   "outputs": [
    {
     "data": {
      "text/plain": [
       "ColoringNames.ColorDatasets{MLLabelUtils.LabelEnc.NativeLabels{String,2833},ColoringNames.ColorDataset{Array{Any,1},Array{Int64,2},Array{Float32,2}}}(MLLabelUtils.LabelEnc.NativeLabels{String,2833}(String[\"and\", \"of\", \"a\", \"with\", \"'s\", \"not\", \"-\", \"your\", \"just\", \"can\"  …  \"Feijoa\", \"melanzane\", \"minsk\", \"Pizazz\", \"feijoa\", \"red1\", \"Kilamanjaro\", \"karaka\", \"bilbao\", \"mabel\"], Dict(\"Apple\"=>157,\"Caper\"=>2160,\"chocolate\"=>424,\"Casablanca\"=>1155,\"Many\"=>84,\"Luxor\"=>1613,\"star\"=>103,\"canyon\"=>900,\"bombay\"=>2563,\"bondi\"=>2662…)), ColoringNames.ColorDataset{Array{Any,1},Array{Int64,2},Array{Float32,2}}(Any[\"acid green\", \"acid green\", \"acid green\", \"acid green\", \"acid green\", \"acid green\", \"acid green\", \"acid green\", \"acid green\", \"acid green\"  …  \"yuck\", \"yuck\", \"yuck\", \"yuck\", \"yuck\", \"yuck\", \"yuck\", \"yuck\", \"yuck\", \"yuck\"], [338 338 … 2148 2148; 114 114 … 0 0; 0 0 … 0 0; 0 0 … 0 0], Float32[0.344113 0.855319 0.921569; 0.281905 0.744681 0.921569; … ; 0.376894 0.768559 0.898039; 0.179104 0.41358 0.635294]), ColoringNames.ColorDataset{Array{Any,1},Array{Int64,2},Array{Float32,2}}(Any[\"acid green\", \"acid green\", \"acid green\", \"acid green\", \"acid green\", \"acid green\", \"acid green\", \"acid green\", \"acid green\", \"acid green\"  …  \"yuck\", \"yuck\", \"yuck\", \"yuck\", \"yuck\", \"yuck\", \"yuck\", \"yuck\", \"yuck\", \"yuck\"], [338 338 … 2148 2148; 114 114 … 0 0; 0 0 … 0 0; 0 0 … 0 0], Float32[0.328092 0.665272 0.937255; 0.241007 0.712821 0.764706; … ; 0.0540541 0.308333 0.941176; 0.125874 0.590909 0.94902]), ColoringNames.ColorDataset{Array{Any,1},Array{Int64,2},Array{Float32,2}}(Any[\"acid green\", \"acid green\", \"acid green\", \"acid green\", \"acid green\", \"acid green\", \"acid green\", \"acid green\", \"acid green\", \"acid green\"  …  \"yuck\", \"yuck\", \"yuck\", \"yuck\", \"yuck\", \"yuck\", \"yuck\", \"yuck\", \"yuck\", \"yuck\"], [338 338 … 2148 2148; 114 114 … 0 0; 0 0 … 0 0; 0 0 … 0 0], Float32[0.328092 0.665272 0.937255; 0.241007 0.712821 0.764706; … ; 0.0540541 0.308333 0.941176; 0.125874 0.590909 0.94902]))"
      ]
     },
     "execution_count": 3,
     "metadata": {},
     "output_type": "execute_result"
    }
   ],
   "source": [
    "many_names = load_color_nameset()\n",
    "word_embs, vocab, enc = load_text_embeddings(keep_words=many_names)\n",
    "cldata = load_munroe_data(dev_as_train=false, dev_as_test=true, encoding_ = enc)"
   ]
  },
  {
   "cell_type": "code",
   "execution_count": null,
   "metadata": {},
   "outputs": [
    {
     "name": "stderr",
     "output_type": "stream",
     "text": [
      "2018-05-17 19:15:05.740485: I tensorflow/core/platform/cpu_feature_guard.cc:140] Your CPU supports instructions that this TensorFlow binary was not compiled to use: SSE4.1 SSE4.2\n"
     ]
    }
   ],
   "source": [
    "sowe_unsmoothed = TermToColorDistributionSOWE(enc, word_embs; n_steps=size(cldata.train.terms_padded,1))\n",
    "train!(sowe_unsmoothed, cldata, Val{false}();\n",
    "        log_dir = mklogdir(\"sowe11_unsmoothed\"),\n",
    "        batch_size = 829,\n",
    "        min_epochs=3000,\n",
    "        max_epochs=30_000,\n",
    "        )"
   ]
  },
  {
   "cell_type": "code",
   "execution_count": null,
   "metadata": {},
   "outputs": [],
   "source": [
    "sowe_smoothed = TermToColorDistributionSOWE(enc, word_embs; n_steps=size(cldata.train.terms_padded,1))\n",
    "train!(sowe_smoothed, cldata, Val{true}();\n",
    "        log_dir=mklogdir(\"sowe11_smoothed\"),\n",
    "        batch_size = 829,\n",
    "        min_epochs=3000,\n",
    "        max_epochs=30_000,\n",
    "        )"
   ]
  },
  {
   "cell_type": "code",
   "execution_count": null,
   "metadata": {},
   "outputs": [],
   "source": [
    "evaluate(sowe_unsmoothed, cldata.dev)"
   ]
  },
  {
   "cell_type": "code",
   "execution_count": null,
   "metadata": {},
   "outputs": [],
   "source": [
    "evaluate(sowe_smoothed, cldata.dev)"
   ]
  },
  {
   "cell_type": "code",
   "execution_count": null,
   "metadata": {},
   "outputs": [],
   "source": [
    "plot_query(sowe_unsmoothed,  \"brownish green\") |> display\n",
    "plot_query(sowe_smoothed,  \"brownish green\") |> display\n",
    "plot_query(sowe_unsmoothed,  \"brown\") |> display\n",
    "plot_query(sowe_smoothed,  \"brown\") |> display\n",
    "plot_query(sowe_unsmoothed,  \"brownish\") |> display\n",
    "plot_query(sowe_smoothed,  \"brownish\") |> display\n",
    "plot_query(sowe_unsmoothed,  \"greenish\") |> display\n",
    "plot_query(sowe_smoothed,  \"greenish\") |> display\n",
    "plot_query(sowe_unsmoothed,  \"greenish brown\") |> display\n",
    "plot_query(sowe_smoothed,  \"greenish brown\") |> display\n",
    "plot_query(sowe_smoothed,  \"green\")|> display\n",
    "plot_query(sowe_unsmoothed,  \"green\")|> display\n",
    "plot_query(sowe_smoothed,  \"ish\")|> display\n",
    "plot_query(sowe_unsmoothed,  \"ish\")|> display"
   ]
  },
  {
   "cell_type": "code",
   "execution_count": null,
   "metadata": {},
   "outputs": [],
   "source": [
    "rnn_unsmoothed = TermToColorDistributionRNN(enc, word_embs; n_steps=size(cldata.train.terms_padded,1))\n",
    "train!(rnn_unsmoothed, cldata, Val{false}();\n",
    "        log_dir = mklogdir(\"rnn11_unsmoothed\"),\n",
    "        batch_size = 829,\n",
    "        min_epochs=3000,\n",
    "        max_epochs=30_000,\n",
    "        )"
   ]
  },
  {
   "cell_type": "code",
   "execution_count": null,
   "metadata": {},
   "outputs": [],
   "source": [
    "rnn_smoothed = TermToColorDistributionRNN(enc, word_embs; n_steps=size(cldata.train.terms_padded,1))\n",
    "train!(rnn_smoothed, cldata, Val{true}();\n",
    "        log_dir = mklogdir(\"rnn11_smoothed\"),\n",
    "        batch_size = 829,\n",
    "        min_epochs=3000,\n",
    "        max_epochs=30_000,\n",
    "        )"
   ]
  },
  {
   "cell_type": "code",
   "execution_count": null,
   "metadata": {},
   "outputs": [],
   "source": [
    "plot_query(rnn_unsmoothed,  \"brownish green\") |> display\n",
    "plot_query(rnn_smoothed,  \"brownish green\") |> display\n",
    "plot_query(rnn_unsmoothed,  \"brown\") |> display\n",
    "plot_query(rnn_smoothed,  \"brown\") |> display\n",
    "plot_query(rnn_unsmoothed,  \"brownish\") |> display\n",
    "plot_query(rnn_smoothed,  \"brownish\") |> display\n",
    "plot_query(rnn_unsmoothed,  \"greenish\") |> display\n",
    "plot_query(rnn_smoothed,  \"greenish\") |> display\n",
    "plot_query(rnn_unsmoothed,  \"greenish brown\") |> display\n",
    "plot_query(rnn_smoothed,  \"greenish brown\") |> display\n",
    "plot_query(rnn_smoothed,  \"green\")|> display\n",
    "plot_query(rnn_unsmoothed,  \"green\")|> display\n",
    "plot_query(rnn_smoothed,  \"ish\")|> display\n",
    "plot_query(rnn_unsmoothed,  \"ish\")|> display"
   ]
  },
  {
   "cell_type": "code",
   "execution_count": null,
   "metadata": {},
   "outputs": [],
   "source": [
    "word_embs"
   ]
  },
  {
   "cell_type": "code",
   "execution_count": null,
   "metadata": {},
   "outputs": [],
   "source": []
  }
 ],
 "metadata": {
  "kernelspec": {
   "display_name": "Julia 0.6.2",
   "language": "julia",
   "name": "julia-0.6"
  },
  "language_info": {
   "file_extension": ".jl",
   "mimetype": "application/julia",
   "name": "julia",
   "version": "0.6.2"
  }
 },
 "nbformat": 4,
 "nbformat_minor": 2
}
