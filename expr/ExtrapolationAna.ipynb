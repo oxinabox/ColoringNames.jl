{
 "cells": [
  {
   "cell_type": "code",
   "execution_count": 4,
   "metadata": {
    "collapsed": false
   },
   "outputs": [],
   "source": [
    "using ColoringNames\n",
    "using JLD\n",
    "using MLLabelUtils\n",
    "using MLDataPattern"
   ]
  },
  {
   "cell_type": "code",
   "execution_count": 6,
   "metadata": {
    "collapsed": false
   },
   "outputs": [
    {
     "data": {
      "text/plain": [
       "ColoringNames.ColorDatasets{MLLabelUtils.LabelEnc.NativeLabels{SubString{String},311},ColoringNames.ColorDataset{Array{Any,1},Array{Int64,2},Array{Float32,2}}}(MLLabelUtils.LabelEnc.NativeLabels{SubString{String},311}(SubString{String}[\"acid\",\"green\",\"adobe\",\"algae\",\"almost\",\"black\",\"amber\",\"amethyst\",\"apple\",\"apricot\"  …  \"vivid\",\"vomit\",\"warm\",\"watermelon\",\"weird\",\"wheat\",\"wine\",\"wintergreen\",\"wisteria\",\"yuck\"],Dict(\"russet\"=>255,\"celery\"=>86,\"lipstick\"=>199,\"dull\"=>139,\"chocolate\"=>93,\"sepia\"=>263,\"fern\"=>152,\"sickly\"=>267,\"y\"=>44,\"heliotrope\"=>173…)),ColoringNames.ColorDataset{Array{Any,1},Array{Int64,2},Array{Float32,2}}(Any[\"acid green\",\"acid green\",\"acid green\",\"acid green\",\"acid green\",\"acid green\",\"acid green\",\"acid green\",\"acid green\",\"acid green\"  …  \"yuck\",\"yuck\",\"yuck\",\"yuck\",\"yuck\",\"yuck\",\"yuck\",\"yuck\",\"yuck\",\"yuck\"],[1 1 … 311 311; 2 2 … 0 0; 0 0 … 0 0; 0 0 … 0 0],Float32[0.344113 0.855319 0.921569; 0.281905 0.744681 0.921569; … ; 0.376894 0.768559 0.898039; 0.179104 0.41358 0.635294]),ColoringNames.ColorDataset{Array{Any,1},Array{Int64,2},Array{Float32,2}}(Any[\"acid green\",\"acid green\",\"acid green\",\"acid green\",\"acid green\",\"acid green\",\"acid green\",\"acid green\",\"acid green\",\"acid green\"  …  \"yuck\",\"yuck\",\"yuck\",\"yuck\",\"yuck\",\"yuck\",\"yuck\",\"yuck\",\"yuck\",\"yuck\"],[1 1 … 311 311; 2 2 … 0 0; 0 0 … 0 0; 0 0 … 0 0],Float32[0.328092 0.665272 0.937255; 0.241007 0.712821 0.764706; … ; 0.0540541 0.308333 0.941176; 0.125874 0.590909 0.94902]),ColoringNames.ColorDataset{Array{Any,1},Array{Int64,2},Array{Float32,2}}(Any[\"acid green\",\"acid green\",\"acid green\",\"acid green\",\"acid green\",\"acid green\",\"acid green\",\"acid green\",\"acid green\",\"acid green\"  …  \"yuck\",\"yuck\",\"yuck\",\"yuck\",\"yuck\",\"yuck\",\"yuck\",\"yuck\",\"yuck\",\"yuck\"],[1 1 … 311 311; 2 2 … 0 0; 0 0 … 0 0; 0 0 … 0 0],Float32[0.328092 0.665272 0.937255; 0.241007 0.712821 0.764706; … ; 0.0540541 0.308333 0.941176; 0.125874 0.590909 0.94902]))"
      ]
     },
     "execution_count": 6,
     "metadata": {},
     "output_type": "execute_result"
    }
   ],
   "source": []
  },
  {
   "cell_type": "code",
   "execution_count": 5,
   "metadata": {
    "collapsed": false
   },
   "outputs": [
    {
     "name": "stderr",
     "output_type": "stream",
     "text": [
      "2017-05-24 08:47:34.977783: W tensorflow/core/platform/cpu_feature_guard.cc:45] The TensorFlow library wasn't compiled to use SSE4.1 instructions, but these are available on your machine and could speed up CPU computations.\n",
      "2017-05-24 08:47:34.977957: W tensorflow/core/platform/cpu_feature_guard.cc:45] The TensorFlow library wasn't compiled to use SSE4.2 instructions, but these are available on your machine and could speed up CPU computations.\n",
      "2017-05-24 08:47:34.977974: W tensorflow/core/platform/cpu_feature_guard.cc:45] The TensorFlow library wasn't compiled to use AVX instructions, but these are available on your machine and could speed up CPU computations.\n",
      "2017-05-24 08:47:34.977989: W tensorflow/core/platform/cpu_feature_guard.cc:45] The TensorFlow library wasn't compiled to use FMA instructions, but these are available on your machine and could speed up CPU computations.\n"
     ]
    },
    {
     "data": {
      "text/plain": [
       "ColoringNames.TermToColorDistributionNetwork{311,SubString{String},TensorFlow.Tensor{Any}}(MLLabelUtils.LabelEnc.NativeLabels{SubString{String},311}(SubString{String}[\"acid\",\"green\",\"adobe\",\"algae\",\"almost\",\"black\",\"amber\",\"amethyst\",\"apple\",\"apricot\"  …  \"vivid\",\"vomit\",\"warm\",\"watermelon\",\"weird\",\"wheat\",\"wine\",\"wintergreen\",\"wisteria\",\"yuck\"],Dict(\"topaz\"=>290,\"russet\"=>255,\"berry\"=>34,\"celery\"=>86,\"lipstick\"=>199,\"dull\"=>139,\"pink\"=>21,\"chocolate\"=>93,\"cerise\"=>87,\"egg\"=>138…)),Session(Ptr{Void} @0x00007f3ccb5b5670),<Tensor Group:1 shape=unknown dtype=Any>,4,64,128,16,1432,0.5f0)"
      ]
     },
     "execution_count": 5,
     "metadata": {},
     "output_type": "execute_result"
    }
   ],
   "source": [
    "extrapo_path = \"../models/extrapolate_validation/sib0.5/params.jld\"\n",
    "extrapo_params = load(extrapo_path)\n",
    "\n",
    "extrapo_mdl = restore(TermToColorDistributionNetwork, extrapo_path)"
   ]
  },
  {
   "cell_type": "code",
   "execution_count": 25,
   "metadata": {
    "collapsed": false,
    "scrolled": true
   },
   "outputs": [
    {
     "data": {
      "text/plain": [
       "\"/mnt_obj/color/models/spread_validation_or_64/sib0.5/model.jld\""
      ]
     },
     "execution_count": 25,
     "metadata": {},
     "output_type": "execute_result"
    }
   ],
   "source": [
    "full_param_path = \"/mnt_obj/color/models/spread_validation_or_64/sib0.5/params.jld\"\n",
    "full_model_path = \"/mnt_obj/color/models/spread_validation_or_64/sib0.5/model.jld\"\n",
    "\n",
    "full_params = load(full_param_path)\n",
    "full_mdl = restore(TermToColorDistributionNetwork, full_param_path, full_model_path)"
   ]
  },
  {
   "cell_type": "code",
   "execution_count": 18,
   "metadata": {
    "collapsed": false
   },
   "outputs": [],
   "source": [
    "@assert full_mdl.encoding.label == extrapo_mdl.encoding.label\n",
    "@assert full_mdl.embedding_dim==extrapo_mdl.embedding_dim\n",
    "@assert full_mdl.hidden_layer_size==extrapo_mdl.hidden_layer_size\n"
   ]
  },
  {
   "cell_type": "code",
   "execution_count": 26,
   "metadata": {
    "collapsed": false
   },
   "outputs": [
    {
     "data": {
      "text/plain": [
       "Dict{Symbol,Float64} with 6 entries:\n",
       "  :perp_uniform_baseline => 99048.0\n",
       "  :perp                  => 27.2192\n",
       "  :mse_to_peak           => 0.141338\n",
       "  :perp_sat              => 41.6514\n",
       "  :perp_hue              => 15.3839\n",
       "  :perp_val              => 31.4723"
      ]
     },
     "execution_count": 26,
     "metadata": {},
     "output_type": "execute_result"
    }
   ],
   "source": [
    "full_params[\"validation_set_results\"]"
   ]
  },
  {
   "cell_type": "code",
   "execution_count": 29,
   "metadata": {
    "collapsed": false
   },
   "outputs": [
    {
     "data": {
      "text/plain": [
       "Dict{Symbol,Float64} with 6 entries:\n",
       "  :perp_uniform_baseline => 1432.0\n",
       "  :perp                  => 27.4435\n",
       "  :mse_to_peak           => 88.6652\n",
       "  :perp_sat              => 42.2598\n",
       "  :perp_hue              => 15.5455\n",
       "  :perp_val              => 31.462"
      ]
     },
     "execution_count": 29,
     "metadata": {},
     "output_type": "execute_result"
    }
   ],
   "source": [
    "extrapo_params[\"dev_set_results\" ]"
   ]
  },
  {
   "cell_type": "code",
   "execution_count": 31,
   "metadata": {
    "collapsed": false
   },
   "outputs": [
    {
     "data": {
      "text/plain": [
       "ColoringNames.ColorDatasets{MLLabelUtils.LabelEnc.NativeLabels{SubString{String},311},ColoringNames.ColorDataset{SubArray{Any,1,Array{Any,1},Tuple{Array{Int64,1}},false},SubArray{Int64,2,Array{Int64,2},Tuple{Colon,Array{Int64,1}},false},SubArray{Float32,2,Array{Float32,2},Tuple{Array{Int64,1},Colon},false}}}(MLLabelUtils.LabelEnc.NativeLabels{SubString{String},311}(SubString{String}[\"acid\",\"green\",\"adobe\",\"algae\",\"almost\",\"black\",\"amber\",\"amethyst\",\"apple\",\"apricot\"  …  \"vivid\",\"vomit\",\"warm\",\"watermelon\",\"weird\",\"wheat\",\"wine\",\"wintergreen\",\"wisteria\",\"yuck\"],Dict(\"russet\"=>255,\"celery\"=>86,\"lipstick\"=>199,\"dull\"=>139,\"chocolate\"=>93,\"sepia\"=>263,\"fern\"=>152,\"sickly\"=>267,\"y\"=>44,\"heliotrope\"=>173…)),ColoringNames.ColorDataset{SubArray{Any,1,Array{Any,1},Tuple{Array{Int64,1}},false},SubArray{Int64,2,Array{Int64,2},Tuple{Colon,Array{Int64,1}},false},SubArray{Float32,2,Array{Float32,2},Tuple{Array{Int64,1},Colon},false}}(Any[\"acid green\",\"acid green\",\"acid green\",\"acid green\",\"acid green\",\"acid green\",\"acid green\",\"acid green\",\"acid green\",\"acid green\"  …  \"yuck\",\"yuck\",\"yuck\",\"yuck\",\"yuck\",\"yuck\",\"yuck\",\"yuck\",\"yuck\",\"yuck\"],[1 1 … 311 311; 2 2 … 0 0; 0 0 … 0 0; 0 0 … 0 0],Float32[0.344113 0.855319 0.921569; 0.281905 0.744681 0.921569; … ; 0.376894 0.768559 0.898039; 0.179104 0.41358 0.635294]),ColoringNames.ColorDataset{SubArray{Any,1,Array{Any,1},Tuple{Array{Int64,1}},false},SubArray{Int64,2,Array{Int64,2},Tuple{Colon,Array{Int64,1}},false},SubArray{Float32,2,Array{Float32,2},Tuple{Array{Int64,1},Colon},false}}(Any[\"bluey green\",\"bluey green\",\"bluey green\",\"bluey green\",\"bluey green\",\"bluey green\",\"bluey green\",\"bluey green\",\"bluey green\",\"bluey green\"  …  \"yellowish\",\"yellowish\",\"yellowish\",\"yellowish\",\"yellowish\",\"yellowish\",\"yellowish\",\"yellowish\",\"yellowish\",\"yellowish\"],[12 12 … 26 26; 44 44 … 42 42; 2 2 … 0 0; 0 0 … 0 0],Float32[0.467456 0.804762 0.823529; 0.458716 0.717105 0.596078; … ; 0.176554 0.5 0.92549; 0.113333 0.93361 0.945098]),ColoringNames.ColorDataset{SubArray{Any,1,Array{Any,1},Tuple{Array{Int64,1}},false},SubArray{Int64,2,Array{Int64,2},Tuple{Colon,Array{Int64,1}},false},SubArray{Float32,2,Array{Float32,2},Tuple{Array{Int64,1},Colon},false}}(Any[\"bluey green\",\"bluey green\",\"bluey green\",\"bluey green\",\"bluey green\",\"bluey green\",\"bluey green\",\"bluey green\",\"bluey green\",\"bluey green\"  …  \"yellowish\",\"yellowish\",\"yellowish\",\"yellowish\",\"yellowish\",\"yellowish\",\"yellowish\",\"yellowish\",\"yellowish\",\"yellowish\"],[12 12 … 26 26; 44 44 … 42 42; 2 2 … 0 0; 0 0 … 0 0],Float32[0.467456 0.804762 0.823529; 0.458716 0.717105 0.596078; … ; 0.176554 0.5 0.92549; 0.113333 0.93361 0.945098]))"
      ]
     },
     "execution_count": 31,
     "metadata": {},
     "output_type": "execute_result"
    }
   ],
   "source": [
    "full_cldata = load_monroe_data()\n",
    "extrapo_cldata = extrapolation_dataset(full_cldata, extrapo_params[\"eval_texts\"])"
   ]
  },
  {
   "cell_type": "code",
   "execution_count": 37,
   "metadata": {
    "collapsed": false
   },
   "outputs": [
    {
     "data": {
      "text/plain": [
       "8.64594972067039"
      ]
     },
     "execution_count": 37,
     "metadata": {},
     "output_type": "execute_result"
    }
   ],
   "source": [
    "12381/1432"
   ]
  },
  {
   "cell_type": "code",
   "execution_count": 45,
   "metadata": {
    "collapsed": false
   },
   "outputs": [
    {
     "data": {
      "text/plain": [
       "4×12888 Array{Int64,2}:\n",
       " 12  12  12  12  12  12  12  12  12  …  26  26  26  26  26  26  26  26  26\n",
       " 44  44  44  44  44  44  44  44  44     42  42  42  42  42  42  42  42  42\n",
       "  2   2   2   2   2   2   2   2   2      0   0   0   0   0   0   0   0   0\n",
       "  0   0   0   0   0   0   0   0   0      0   0   0   0   0   0   0   0   0"
      ]
     },
     "execution_count": 45,
     "metadata": {},
     "output_type": "execute_result"
    }
   ],
   "source": []
  },
  {
   "cell_type": "code",
   "execution_count": null,
   "metadata": {
    "collapsed": true
   },
   "outputs": [],
   "source": [
    "## full_mdl.batch_size\n"
   ]
  },
  {
   "cell_type": "code",
   "execution_count": 36,
   "metadata": {
    "collapsed": false
   },
   "outputs": [
    {
     "data": {
      "text/plain": [
       "1432"
      ]
     },
     "execution_count": 36,
     "metadata": {},
     "output_type": "execute_result"
    }
   ],
   "source": [
    "length(extrapo_cldata.test.texts)"
   ]
  },
  {
   "cell_type": "code",
   "execution_count": 48,
   "metadata": {
    "collapsed": false
   },
   "outputs": [
    {
     "name": "stderr",
     "output_type": "stream",
     "text": [
      "\u001b[1m\u001b[34mINFO: The specified values for size and/or count will result in 507 unused data points\n",
      "\u001b[0m"
     ]
    },
    {
     "data": {
      "text/plain": [
       "Dict{Symbol,Float64} with 5 entries:\n",
       "  :perp        => 25.0085\n",
       "  :mse_to_peak => 668.798\n",
       "  :perp_sat    => 40.4895\n",
       "  :perp_hue    => 13.0062\n",
       "  :perp_val    => 29.7009"
      ]
     },
     "execution_count": 48,
     "metadata": {},
     "output_type": "execute_result"
    }
   ],
   "source": [
    "evaluate(full_mdl, \n",
    "    repeat(extrapo_cldata.test.terms_padded, inner=(1,9)),\n",
    "    repeat(extrapo_cldata.test.colors, inner=(9,1)))"
   ]
  },
  {
   "cell_type": "code",
   "execution_count": 46,
   "metadata": {
    "collapsed": false
   },
   "outputs": [
    {
     "data": {
      "text/plain": [
       "1432×3 SubArray{Float32,2,Array{Float32,2},Tuple{Array{Int64,1},Colon},false}:\n",
       " 0.467456  0.804762  0.823529\n",
       " 0.458716  0.717105  0.596078\n",
       " 0.415612  0.929412  1.0     \n",
       " 0.325459  0.701657  0.709804\n",
       " 0.498062  0.895833  0.752941\n",
       " 0.434211  0.554745  0.537255\n",
       " 0.414815  0.391304  0.901961\n",
       " 0.399573  0.58209   0.52549 \n",
       " 0.529412  0.92517   0.576471\n",
       " 0.50505   0.568965  0.227451\n",
       " 0.463303  0.964602  0.443137\n",
       " 0.607843  0.265625  0.25098 \n",
       " 0.412698  0.451613  0.364706\n",
       " ⋮                           \n",
       " 0.145488  0.808036  0.878431\n",
       " 0.165625  0.751174  0.835294\n",
       " 0.123232  0.812808  0.796078\n",
       " 0.138211  0.510373  0.945098\n",
       " 0.192112  0.655     0.784314\n",
       " 0.134293  0.556     0.980392\n",
       " 0.129794  0.461224  0.960784\n",
       " 0.145     0.934579  0.839216\n",
       " 0.161458  0.737327  0.85098 \n",
       " 0.129979  0.713004  0.87451 \n",
       " 0.176554  0.5       0.92549 \n",
       " 0.113333  0.93361   0.945098"
      ]
     },
     "execution_count": 46,
     "metadata": {},
     "output_type": "execute_result"
    }
   ],
   "source": [
    "extrapo_cldata.test.colors"
   ]
  },
  {
   "cell_type": "code",
   "execution_count": null,
   "metadata": {
    "collapsed": true
   },
   "outputs": [],
   "source": []
  }
 ],
 "metadata": {
  "kernelspec": {
   "display_name": "Julia 0.5.1",
   "language": "julia",
   "name": "julia-0.5"
  },
  "language_info": {
   "file_extension": ".jl",
   "mimetype": "application/julia",
   "name": "julia",
   "version": "0.5.1"
  }
 },
 "nbformat": 4,
 "nbformat_minor": 2
}
