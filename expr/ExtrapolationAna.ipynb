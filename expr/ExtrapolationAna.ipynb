{
 "cells": [
  {
   "cell_type": "code",
   "execution_count": null,
   "metadata": {
    "collapsed": false
   },
   "outputs": [],
   "source": [
    "reload(\"TensorFlow\")\n",
    "reload(\"ColoringNames\")"
   ]
  },
  {
   "cell_type": "code",
   "execution_count": 4,
   "metadata": {
    "collapsed": false
   },
   "outputs": [],
   "source": [
    "using ColoringNames\n",
    "using JLD\n",
    "using MLLabelUtils\n",
    "using MLDataPattern"
   ]
  },
  {
   "cell_type": "code",
   "execution_count": 6,
   "metadata": {
    "collapsed": false,
    "scrolled": true
   },
   "outputs": [
    {
     "data": {
      "text/plain": [
       "Dict{String,Any} with 15 entries:\n",
       "  \"embedding_dim\"          => 16\n",
       "  \"executing_file\"         => \"/mnt_volume/julia_dir/v0.5/ColoringNames/expr/ru…\n",
       "  \"git_hash\"               => \"225e2b8501db9fac51ba6aed65e6c5638feafa85\"\n",
       "  \"model_path\"             => \"/home/ubuntu/.julia/v0.5/ColoringNames/models/go…\n",
       "  \"encoding\"               => MLLabelUtils.LabelEnc.NativeLabels{SubString{Stri…\n",
       "  \"save_time\"              => 2017-05-26T16:30:51.887\n",
       "  \"max_tokens\"             => 4\n",
       "  \"validation_set_results\" => Dict(:perp=>27.1561,:mse_to_peak=>5108.77,:perp_s…\n",
       "  \"splay_std_dev\"          => 0.0078125\n",
       "  \"output_res\"             => 64\n",
       "  \"splay_std_dev_in_bins\"  => 0.5\n",
       "  \"hidden_layer_size\"      => 128\n",
       "  \"epochs\"                 => 30\n",
       "  \"training_costs_o\"       => [12.4759,12.4689,12.4581,12.4434,12.4245,12.3972,…\n",
       "  \"log_path\"               => \"/home/ubuntu/.julia/v0.5/ColoringNames/models/go…"
      ]
     },
     "execution_count": 6,
     "metadata": {},
     "output_type": "execute_result"
    }
   ],
   "source": [
    "full_param_path = \"../models/good/sib0.5/params.jld\"\n",
    "full_params = load(full_param_path)\n",
    "#\n",
    "#full_mdl = restore(TermToColorDistributionNetwork, full_param_path, full_params[\"model_path\"])"
   ]
  },
  {
   "cell_type": "code",
   "execution_count": 7,
   "metadata": {
    "collapsed": false
   },
   "outputs": [
    {
     "data": {
      "text/plain": [
       "0.421875"
      ]
     },
     "execution_count": 7,
     "metadata": {},
     "output_type": "execute_result"
    }
   ],
   "source": [
    "27/64"
   ]
  },
  {
   "cell_type": "code",
   "execution_count": null,
   "metadata": {
    "collapsed": true
   },
   "outputs": [],
   "source": []
  },
  {
   "cell_type": "code",
   "execution_count": null,
   "metadata": {
    "collapsed": false
   },
   "outputs": [],
   "source": [
    "@assert full_mdl.encoding.label == extrapo_mdl.encoding.label\n",
    "@assert full_mdl.embedding_dim==extrapo_mdl.embedding_dim\n",
    "@assert full_mdl.hidden_layer_size==extrapo_mdl.hidden_layer_size\n"
   ]
  },
  {
   "cell_type": "code",
   "execution_count": null,
   "metadata": {
    "collapsed": false
   },
   "outputs": [],
   "source": [
    "full_params[\"validation_set_results\"]"
   ]
  },
  {
   "cell_type": "code",
   "execution_count": null,
   "metadata": {
    "collapsed": false
   },
   "outputs": [],
   "source": [
    "extrapo_params[\"dev_set_results\" ]"
   ]
  },
  {
   "cell_type": "code",
   "execution_count": null,
   "metadata": {
    "collapsed": false
   },
   "outputs": [],
   "source": [
    "full_cldata = load_monroe_data()\n",
    "extrapo_cldata = extrapolation_dataset(full_cldata, extrapo_params[\"eval_texts\"])"
   ]
  },
  {
   "cell_type": "code",
   "execution_count": null,
   "metadata": {
    "collapsed": false
   },
   "outputs": [],
   "source": [
    "12381/1432"
   ]
  },
  {
   "cell_type": "code",
   "execution_count": null,
   "metadata": {
    "collapsed": false
   },
   "outputs": [],
   "source": []
  },
  {
   "cell_type": "code",
   "execution_count": null,
   "metadata": {
    "collapsed": true
   },
   "outputs": [],
   "source": [
    "## full_mdl.batch_size\n"
   ]
  },
  {
   "cell_type": "code",
   "execution_count": null,
   "metadata": {
    "collapsed": false
   },
   "outputs": [],
   "source": [
    "length(extrapo_cldata.test.texts)"
   ]
  },
  {
   "cell_type": "code",
   "execution_count": null,
   "metadata": {
    "collapsed": false
   },
   "outputs": [],
   "source": [
    "evaluate(full_mdl, \n",
    "    repeat(extrapo_cldata.test.terms_padded, inner=(1,9)),\n",
    "    repeat(extrapo_cldata.test.colors, inner=(9,1)))"
   ]
  },
  {
   "cell_type": "code",
   "execution_count": null,
   "metadata": {
    "collapsed": false
   },
   "outputs": [],
   "source": [
    "extrapo_cldata.test.colors"
   ]
  },
  {
   "cell_type": "code",
   "execution_count": null,
   "metadata": {
    "collapsed": true
   },
   "outputs": [],
   "source": []
  }
 ],
 "metadata": {
  "kernelspec": {
   "display_name": "Julia 0.5.1",
   "language": "julia",
   "name": "julia-0.5"
  },
  "language_info": {
   "file_extension": ".jl",
   "mimetype": "application/julia",
   "name": "julia",
   "version": "0.5.1"
  }
 },
 "nbformat": 4,
 "nbformat_minor": 2
}
