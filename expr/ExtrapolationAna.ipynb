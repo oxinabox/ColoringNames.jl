{
 "cells": [
  {
   "cell_type": "code",
   "execution_count": null,
   "metadata": {
    "collapsed": false
   },
   "outputs": [],
   "source": [
    "reload(\"TensorFlow\")\n",
    "reload(\"ColoringNames\")"
   ]
  },
  {
   "cell_type": "code",
   "execution_count": 1,
   "metadata": {
    "collapsed": false
   },
   "outputs": [],
   "source": [
    "using ColoringNames\n",
    "using JLD\n",
    "using MLLabelUtils\n",
    "using MLDataPattern"
   ]
  },
  {
   "cell_type": "code",
   "execution_count": 11,
   "metadata": {
    "collapsed": false,
    "scrolled": true
   },
   "outputs": [
    {
     "data": {
      "text/plain": [
       "ColoringNames.TermToColorDistributionNetwork{311,SubString{String},TensorFlow.Tensor{Any}}(MLLabelUtils.LabelEnc.NativeLabels{SubString{String},311}(SubString{String}[\"acid\",\"green\",\"adobe\",\"algae\",\"almost\",\"black\",\"amber\",\"amethyst\",\"apple\",\"apricot\"  …  \"vivid\",\"vomit\",\"warm\",\"watermelon\",\"weird\",\"wheat\",\"wine\",\"wintergreen\",\"wisteria\",\"yuck\"],Dict(\"topaz\"=>290,\"russet\"=>255,\"berry\"=>34,\"celery\"=>86,\"lipstick\"=>199,\"dull\"=>139,\"pink\"=>21,\"chocolate\"=>93,\"cerise\"=>87,\"egg\"=>138…)),Session(Ptr{Void} @0x00007ff0a6c36e50),<Tensor Group:1 shape=unknown dtype=Any>,4,64,128,16)"
      ]
     },
     "execution_count": 11,
     "metadata": {},
     "output_type": "execute_result"
    }
   ],
   "source": [
    "full_param_path = \"../models/good/1706030655_sib0.5/params.jld\"\n",
    "full_params = load(full_param_path)\n",
    "#\n",
    "#\n",
    "full_mdl = restore(TermToColorDistributionNetwork, full_param_path, full_params[\"model_path\"])\n"
   ]
  },
  {
   "cell_type": "code",
   "execution_count": 15,
   "metadata": {
    "collapsed": false
   },
   "outputs": [
    {
     "data": {
      "text/plain": [
       "Dict{Symbol,Float64} with 5 entries:\n",
       "  :perp        => 39.3618\n",
       "  :mse_to_peak => 0.310064\n",
       "  :perp_sat    => 50.6653\n",
       "  :perp_hue    => 29.337\n",
       "  :perp_val    => 41.0296"
      ]
     },
     "execution_count": 15,
     "metadata": {},
     "output_type": "execute_result"
    }
   ],
   "source": [
    "full_params[\"dev_set_results\"]"
   ]
  },
  {
   "cell_type": "code",
   "execution_count": 13,
   "metadata": {
    "collapsed": false
   },
   "outputs": [
    {
     "name": "stdout",
     "output_type": "stream",
     "text": [
      "  0.052786 seconds (3.39 k allocations: 169.500 KB)\n"
     ]
    },
    {
     "data": {
      "text/plain": [
       "(Float32[0.00416914,0.00415237,0.0062775,0.00881553,0.010989,0.0135228,0.0183009,0.0230903,0.02495,0.024666  …  0.00235328,0.00203904,0.00184821,0.00170174,0.00164921,0.00174443,0.00198775,0.00238038,0.00334876,0.00418095],Float32[0.000301805,0.000467627,0.000687959,0.00113031,0.00201822,0.00298335,0.00388069,0.00474389,0.00541793,0.00612153  …  0.0247909,0.0252701,0.0255382,0.0259536,0.0263572,0.0268572,0.0273756,0.0284843,0.0299754,0.028504],Float32[0.00020821,0.000199444,0.000219758,0.000226973,0.000210585,0.000269845,0.000349935,0.000455637,0.000651194,0.000982017  …  0.0300318,0.0309336,0.0320678,0.0333719,0.03437,0.0355117,0.0363757,0.0368561,0.0384327,0.0375078])"
      ]
     },
     "execution_count": 13,
     "metadata": {},
     "output_type": "execute_result"
    }
   ],
   "source": [
    "@time query(full_mdl, \"wheat\")"
   ]
  },
  {
   "cell_type": "code",
   "execution_count": 14,
   "metadata": {
    "collapsed": false
   },
   "outputs": [
    {
     "ename": "LoadError",
     "evalue": "UndefVarError: extrapo_mdl not defined",
     "output_type": "error",
     "traceback": [
      "UndefVarError: extrapo_mdl not defined",
      ""
     ]
    }
   ],
   "source": [
    "@assert full_mdl.encoding.label == extrapo_mdl.encoding.label\n",
    "@assert full_mdl.embedding_dim==extrapo_mdl.embedding_dim\n",
    "@assert full_mdl.hidden_layer_size==extrapo_mdl.hidden_layer_size\n"
   ]
  },
  {
   "cell_type": "code",
   "execution_count": null,
   "metadata": {
    "collapsed": false
   },
   "outputs": [],
   "source": [
    "full_params[\"validation_set_results\"]"
   ]
  },
  {
   "cell_type": "code",
   "execution_count": null,
   "metadata": {
    "collapsed": false
   },
   "outputs": [],
   "source": [
    "extrapo_params[\"dev_set_results\" ]"
   ]
  },
  {
   "cell_type": "code",
   "execution_count": null,
   "metadata": {
    "collapsed": false
   },
   "outputs": [],
   "source": [
    "full_cldata = load_monroe_data()\n",
    "extrapo_cldata = extrapolation_dataset(full_cldata, extrapo_params[\"eval_texts\"])"
   ]
  },
  {
   "cell_type": "code",
   "execution_count": null,
   "metadata": {
    "collapsed": false
   },
   "outputs": [],
   "source": [
    "12381/1432"
   ]
  },
  {
   "cell_type": "code",
   "execution_count": null,
   "metadata": {
    "collapsed": false
   },
   "outputs": [],
   "source": []
  },
  {
   "cell_type": "code",
   "execution_count": null,
   "metadata": {
    "collapsed": true
   },
   "outputs": [],
   "source": [
    "## full_mdl.batch_size\n"
   ]
  },
  {
   "cell_type": "code",
   "execution_count": null,
   "metadata": {
    "collapsed": false
   },
   "outputs": [],
   "source": [
    "length(extrapo_cldata.test.texts)"
   ]
  },
  {
   "cell_type": "code",
   "execution_count": null,
   "metadata": {
    "collapsed": false
   },
   "outputs": [],
   "source": [
    "evaluate(full_mdl, \n",
    "    repeat(extrapo_cldata.test.terms_padded, inner=(1,9)),\n",
    "    repeat(extrapo_cldata.test.colors, inner=(9,1)))"
   ]
  },
  {
   "cell_type": "code",
   "execution_count": null,
   "metadata": {
    "collapsed": false
   },
   "outputs": [],
   "source": [
    "extrapo_cldata.test.colors"
   ]
  },
  {
   "cell_type": "code",
   "execution_count": null,
   "metadata": {
    "collapsed": true
   },
   "outputs": [],
   "source": []
  }
 ],
 "metadata": {
  "kernelspec": {
   "display_name": "Julia 0.5.1",
   "language": "julia",
   "name": "julia-0.5"
  },
  "language_info": {
   "file_extension": ".jl",
   "mimetype": "application/julia",
   "name": "julia",
   "version": "0.5.1"
  }
 },
 "nbformat": 4,
 "nbformat_minor": 2
}
