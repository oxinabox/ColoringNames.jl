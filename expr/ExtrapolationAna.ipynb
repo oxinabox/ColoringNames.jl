{
 "cells": [
  {
   "cell_type": "code",
   "execution_count": null,
   "metadata": {
    "collapsed": false
   },
   "outputs": [],
   "source": [
    "reload(\"TensorFlow\")\n",
    "reload(\"ColoringNames\")"
   ]
  },
  {
   "cell_type": "code",
   "execution_count": 1,
   "metadata": {
    "collapsed": false
   },
   "outputs": [],
   "source": [
    "using ColoringNames\n",
    "using JLD\n",
    "using MLLabelUtils\n",
    "using MLDataPattern"
   ]
  },
  {
   "cell_type": "code",
   "execution_count": 2,
   "metadata": {
    "collapsed": false,
    "scrolled": true
   },
   "outputs": [
    {
     "data": {
      "text/plain": [
       "Dict{String,Any} with 14 entries:\n",
       "  \"embedding_dim\"          => 16\n",
       "  \"executing_file\"         => \"/mnt_volume/julia_dir/v0.5/ColoringNames/expr/ru…\n",
       "  \"git_hash\"               => \"d360e3b2c2dc2a9a4907be47cf738df0d053b53b\"\n",
       "  \"model_path\"             => \"/home/ubuntu/.julia/v0.5/ColoringNames/models/go…\n",
       "  \"encoding\"               => MLLabelUtils.LabelEnc.NativeLabels{SubString{Stri…\n",
       "  \"save_time\"              => 2017-06-03T05:17:51.754\n",
       "  \"max_tokens\"             => 4\n",
       "  \"validation_set_results\" => Dict(:perp=>63.9841,:mse_to_peak=>0.336927,:perp_…\n",
       "  \"splay_std_dev\"          => 0.0078125\n",
       "  \"output_res\"             => 64\n",
       "  \"splay_std_dev_in_bins\"  => 0.5\n",
       "  \"hidden_layer_size\"      => 128\n",
       "  \"epochs\"                 => 30\n",
       "  \"log_path\"               => \"/home/ubuntu/.julia/v0.5/ColoringNames/models/go…"
      ]
     },
     "execution_count": 2,
     "metadata": {},
     "output_type": "execute_result"
    }
   ],
   "source": [
    "full_param_path = \"../models/good/1706030516_sib0.5/params.jld\"\n",
    "full_params = load(full_param_path)\n",
    "#\n",
    "#\n",
    "full_mdl = restore(TermToColorDistributionNetwork, full_param_path, full_params[\"model_path\"])\n"
   ]
  },
  {
   "cell_type": "code",
   "execution_count": 8,
   "metadata": {
    "collapsed": false
   },
   "outputs": [
    {
     "data": {
      "text/plain": [
       "Dict{Symbol,Float64} with 5 entries:\n",
       "  :perp        => 63.9841\n",
       "  :mse_to_peak => 0.336927\n",
       "  :perp_sat    => 63.9703\n",
       "  :perp_hue    => 64.0014\n",
       "  :perp_val    => 63.9806"
      ]
     },
     "execution_count": 8,
     "metadata": {},
     "output_type": "execute_result"
    }
   ],
   "source": [
    "full_params[\"validation_set_results\"]"
   ]
  },
  {
   "cell_type": "code",
   "execution_count": 7,
   "metadata": {
    "collapsed": false
   },
   "outputs": [
    {
     "name": "stdout",
     "output_type": "stream",
     "text": [
      "  0.015973 seconds (3.39 k allocations: 169.500 KB)\n"
     ]
    },
    {
     "data": {
      "text/plain": [
       "(Float32[0.015829,0.0155995,0.0155498,0.0156296,0.0155938,0.0154542,0.0155888,0.015587,0.0159104,0.0158012  …  0.0156169,0.0156984,0.0156066,0.0155195,0.0155496,0.0156494,0.0157079,0.0156307,0.0155377,0.015752],Float32[0.0152061,0.0158649,0.0156212,0.0153786,0.0155613,0.0154316,0.0158088,0.0156106,0.0157653,0.0156249  …  0.0156123,0.0155307,0.0156948,0.0158106,0.0153919,0.0157133,0.0154089,0.0156935,0.0157235,0.0156757],Float32[0.0155777,0.0155107,0.0155436,0.0154662,0.0157897,0.0158825,0.0157316,0.0155344,0.015647,0.0154682  …  0.01558,0.0159312,0.0156959,0.0153067,0.0156775,0.0157006,0.0158503,0.0156883,0.0152917,0.0160275])"
      ]
     },
     "execution_count": 7,
     "metadata": {},
     "output_type": "execute_result"
    }
   ],
   "source": [
    "@time query(full_mdl, \"wheat\")"
   ]
  },
  {
   "cell_type": "code",
   "execution_count": null,
   "metadata": {
    "collapsed": false
   },
   "outputs": [],
   "source": [
    "@assert full_mdl.encoding.label == extrapo_mdl.encoding.label\n",
    "@assert full_mdl.embedding_dim==extrapo_mdl.embedding_dim\n",
    "@assert full_mdl.hidden_layer_size==extrapo_mdl.hidden_layer_size\n"
   ]
  },
  {
   "cell_type": "code",
   "execution_count": null,
   "metadata": {
    "collapsed": false
   },
   "outputs": [],
   "source": [
    "full_params[\"validation_set_results\"]"
   ]
  },
  {
   "cell_type": "code",
   "execution_count": null,
   "metadata": {
    "collapsed": false
   },
   "outputs": [],
   "source": [
    "extrapo_params[\"dev_set_results\" ]"
   ]
  },
  {
   "cell_type": "code",
   "execution_count": null,
   "metadata": {
    "collapsed": false
   },
   "outputs": [],
   "source": [
    "full_cldata = load_monroe_data()\n",
    "extrapo_cldata = extrapolation_dataset(full_cldata, extrapo_params[\"eval_texts\"])"
   ]
  },
  {
   "cell_type": "code",
   "execution_count": null,
   "metadata": {
    "collapsed": false
   },
   "outputs": [],
   "source": [
    "12381/1432"
   ]
  },
  {
   "cell_type": "code",
   "execution_count": null,
   "metadata": {
    "collapsed": false
   },
   "outputs": [],
   "source": []
  },
  {
   "cell_type": "code",
   "execution_count": null,
   "metadata": {
    "collapsed": true
   },
   "outputs": [],
   "source": [
    "## full_mdl.batch_size\n"
   ]
  },
  {
   "cell_type": "code",
   "execution_count": null,
   "metadata": {
    "collapsed": false
   },
   "outputs": [],
   "source": [
    "length(extrapo_cldata.test.texts)"
   ]
  },
  {
   "cell_type": "code",
   "execution_count": null,
   "metadata": {
    "collapsed": false
   },
   "outputs": [],
   "source": [
    "evaluate(full_mdl, \n",
    "    repeat(extrapo_cldata.test.terms_padded, inner=(1,9)),\n",
    "    repeat(extrapo_cldata.test.colors, inner=(9,1)))"
   ]
  },
  {
   "cell_type": "code",
   "execution_count": null,
   "metadata": {
    "collapsed": false
   },
   "outputs": [],
   "source": [
    "extrapo_cldata.test.colors"
   ]
  },
  {
   "cell_type": "code",
   "execution_count": null,
   "metadata": {
    "collapsed": true
   },
   "outputs": [],
   "source": []
  }
 ],
 "metadata": {
  "kernelspec": {
   "display_name": "Julia 0.5.1",
   "language": "julia",
   "name": "julia-0.5"
  },
  "language_info": {
   "file_extension": ".jl",
   "mimetype": "application/julia",
   "name": "julia",
   "version": "0.5.1"
  }
 },
 "nbformat": 4,
 "nbformat_minor": 2
}
