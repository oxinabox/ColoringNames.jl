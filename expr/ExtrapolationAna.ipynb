{
 "cells": [
  {
   "cell_type": "code",
   "execution_count": 1,
   "metadata": {
    "collapsed": false
   },
   "outputs": [
    {
     "name": "stderr",
     "output_type": "stream",
     "text": [
      "\u001b[1m\u001b[34mINFO: Recompiling stale cache file /home/ubuntu/.julia/lib/v0.5/TensorFlow.ji for module TensorFlow.\n",
      "\u001b[0m"
     ]
    }
   ],
   "source": [
    "using ColoringNames\n",
    "using JLD\n",
    "using MLLabelUtils\n",
    "using MLDataPattern"
   ]
  },
  {
   "cell_type": "code",
   "execution_count": 17,
   "metadata": {
    "collapsed": false
   },
   "outputs": [
    {
     "name": "stderr",
     "output_type": "stream",
     "text": [
      "\u001b[1m\u001b[34mINFO: Recompiling stale cache file /home/ubuntu/.julia/lib/v0.5/TensorFlow.ji for module TensorFlow.\n",
      "\u001b[0mWARNING: replacing module TensorFlow.\n",
      "WARNING: replacing module TensorFlow.\n",
      "WARNING: replacing module ColoringNames\n",
      "WARNING: Method definition rpad(Array{#T<:Any, 1}, Integer) in module ColoringNames at /home/ubuntu/.julia/v0.5/ColoringNames/src/util.jl:4 overwritten in module ColoringNames at /home/ubuntu/.julia/v0.5/ColoringNames/src/util.jl:4.\n",
      "WARNING: Method definition rpad(Array{#T<:Any, 1}, Integer, #T<:Any) in module ColoringNames at /home/ubuntu/.julia/v0.5/ColoringNames/src/util.jl:4 overwritten in module ColoringNames at /home/ubuntu/.julia/v0.5/ColoringNames/src/util.jl:4.\n",
      "WARNING: Method definition rstrip(Array{#T<:Any, 1}) in module ColoringNames at /home/ubuntu/.julia/v0.5/ColoringNames/src/util.jl:25 overwritten in module ColoringNames at /home/ubuntu/.julia/v0.5/ColoringNames/src/util.jl:25.\n",
      "WARNING: Method definition rstrip(Array{#T<:Any, 1}, #T<:Any) in module ColoringNames at /home/ubuntu/.julia/v0.5/ColoringNames/src/util.jl:25 overwritten in module ColoringNames at /home/ubuntu/.julia/v0.5/ColoringNames/src/util.jl:25.\n",
      "WARNING: replacing module ColoringNames\n",
      "WARNING: Method definition rpad(Array{#T<:Any, 1}, Integer) in module ColoringNames at /home/ubuntu/.julia/v0.5/ColoringNames/src/util.jl:4 overwritten in module ColoringNames at /home/ubuntu/.julia/v0.5/ColoringNames/src/util.jl:4.\n",
      "WARNING: Method definition rpad(Array{#T<:Any, 1}, Integer, #T<:Any) in module ColoringNames at /home/ubuntu/.julia/v0.5/ColoringNames/src/util.jl:4 overwritten in module ColoringNames at /home/ubuntu/.julia/v0.5/ColoringNames/src/util.jl:4.\n",
      "WARNING: Method definition rstrip(Array{#T<:Any, 1}) in module ColoringNames at /home/ubuntu/.julia/v0.5/ColoringNames/src/util.jl:25 overwritten in module ColoringNames at /home/ubuntu/.julia/v0.5/ColoringNames/src/util.jl:25.\n",
      "WARNING: Method definition rstrip(Array{#T<:Any, 1}, #T<:Any) in module ColoringNames at /home/ubuntu/.julia/v0.5/ColoringNames/src/util.jl:25 overwritten in module ColoringNames at /home/ubuntu/.julia/v0.5/ColoringNames/src/util.jl:25.\n"
     ]
    }
   ],
   "source": [
    "reload(\"TensorFlow\")\n",
    "reload(\"ColoringNames\")"
   ]
  },
  {
   "cell_type": "code",
   "execution_count": 2,
   "metadata": {
    "collapsed": false
   },
   "outputs": [
    {
     "data": {
      "text/plain": [
       "\"../models/extrapolate_validation/sib0.5/params.jld\""
      ]
     },
     "execution_count": 2,
     "metadata": {},
     "output_type": "execute_result"
    }
   ],
   "source": [
    "extrapo_path = \"../models/extrapolate_validation/sib0.5/params.jld\""
   ]
  },
  {
   "cell_type": "code",
   "execution_count": 19,
   "metadata": {
    "collapsed": false
   },
   "outputs": [
    {
     "data": {
      "text/plain": [
       "Dict{String,Any} with 18 entries:\n",
       "  \"embedding_dim\"         => 16\n",
       "  \"executing_file\"        => \"/mnt_volume/julia_dir/v0.5/ColoringNames/expr/run…\n",
       "  \"batch_size\"            => 1432\n",
       "  \"git_hash\"              => \"38f0238ea3645e73359339af22da5353ed16a9e7\"\n",
       "  \"model_path\"            => \"/home/ubuntu/.julia/v0.5/ColoringNames/models/ext…\n",
       "  \"encoding\"              => MLLabelUtils.LabelEnc.NativeLabels{SubString{Strin…\n",
       "  \"save_time\"             => 2017-05-24T05:57:44.916\n",
       "  \"max_tokens\"            => 4\n",
       "  \"dev_set_results\"       => Dict(:perp_uniform_baseline=>1432.0,:perp=>27.4435…\n",
       "  \"eval_texts\"            => Any[\"light bright green\",\"pale yellow-green\",\"viol…\n",
       "  \"splay_std_dev\"         => 0.0078125\n",
       "  \"learning_rate\"         => 0.5\n",
       "  \"output_res\"            => 64\n",
       "  \"splay_std_dev_in_bins\" => 0.5\n",
       "  \"hidden_layer_size\"     => 128\n",
       "  \"epochs\"                => 30\n",
       "  \"training_costs_o\"      => [12.4771,12.471,12.4621,12.4486,12.4307,12.4067,12…\n",
       "  \"log_path\"              => \"/home/ubuntu/.julia/v0.5/ColoringNames/models/ext…"
      ]
     },
     "execution_count": 19,
     "metadata": {},
     "output_type": "execute_result"
    }
   ],
   "source": [
    "extrapo_params = load(extrapo_path)"
   ]
  },
  {
   "cell_type": "code",
   "execution_count": 20,
   "metadata": {
    "collapsed": false
   },
   "outputs": [
    {
     "data": {
      "text/plain": [
       "7-element Array{Symbol,1}:\n",
       " :encoding         \n",
       " :max_tokens       \n",
       " :batch_size       \n",
       " :hidden_layer_size\n",
       " :embedding_dim    \n",
       " :output_res       \n",
       " :learning_rate    "
      ]
     },
     "execution_count": 20,
     "metadata": {},
     "output_type": "execute_result"
    }
   ],
   "source": [
    "@load(extrapo_path, encoding, max_tokens, batch_size, hidden_layer_size, embedding_dim, output_res, learning_rate)\n"
   ]
  },
  {
   "cell_type": "code",
   "execution_count": 23,
   "metadata": {
    "collapsed": false
   },
   "outputs": [
    {
     "name": "stdout",
     "output_type": "stream",
     "text": [
      "terms_emb = <Tensor terms_emb:1 shape=(4, ?, 16) dtype=Float32>\n",
      "input_dim = 4\n",
      "cell.hidden_size = 128\n",
      "N = 132\n",
      "get_input_dim(input,input_dim) + cell.hidden_size = 132\n",
      "input_dim = 4\n",
      "cell.hidden_size = 128\n",
      "N = 132\n",
      "get_input_dim(input,input_dim) + cell.hidden_size = 132\n"
     ]
    },
    {
     "data": {
      "text/plain": [
       "(Session(Ptr{Void} @0x00007fa877b28950),<Tensor Group:1 shape=unknown dtype=Any>)"
      ]
     },
     "execution_count": 23,
     "metadata": {},
     "output_type": "execute_result"
    }
   ],
   "source": [
    "sess, optimizer = ColoringNames.init_terms_to_color_dist_network_session(nlabel(encoding), max_tokens, batch_size, hidden_layer_size, embedding_dim, output_res, learning_rate)"
   ]
  },
  {
   "cell_type": "code",
   "execution_count": 41,
   "metadata": {
    "collapsed": false
   },
   "outputs": [],
   "source": [
    "mkdir(\"tmp\")"
   ]
  },
  {
   "cell_type": "code",
   "execution_count": 43,
   "metadata": {
    "collapsed": false
   },
   "outputs": [
    {
     "name": "stderr",
     "output_type": "stream",
     "text": [
      "\u001b[1m\u001b[31mWARNING: train.SummaryWriter is deprecated. Use summary.FileWriter instead.\u001b[0m\n",
      " in depwarn(::String, ::Symbol) at ./deprecated.jl:64\n",
      " in #SummaryWriter#48(::Array{Any,1}, ::Function, ::String, ::Vararg{String,N}) at /home/ubuntu/.julia/v0.5/TensorFlow/src/train.jl:412\n",
      " in SummaryWriter(::String, ::Vararg{String,N}) at /home/ubuntu/.julia/v0.5/TensorFlow/src/train.jl:412\n",
      " in include_string(::String, ::String) at ./loading.jl:441\n",
      " in execute_request(::ZMQ.Socket, ::IJulia.Msg) at /home/ubuntu/.julia/v0.5/IJulia/src/execute_request.jl:156\n",
      " in eventloop(::ZMQ.Socket) at /home/ubuntu/.julia/v0.5/IJulia/src/eventloop.jl:8\n",
      " in (::IJulia.##13#19)() at ./task.jl:360\n",
      "while loading In[43], in expression starting on line 1\n"
     ]
    }
   ],
   "source": [
    "summary_writer = ColoringNames.TensorFlow.train.SummaryWriter(\"tmp\")\n",
    "write(summary_writer, sess.graph)\n",
    "close(summary_writer)\n"
   ]
  },
  {
   "cell_type": "code",
   "execution_count": 35,
   "metadata": {
    "collapsed": false
   },
   "outputs": [
    {
     "data": {
      "text/plain": [
       "<Saver>"
      ]
     },
     "execution_count": 35,
     "metadata": {},
     "output_type": "execute_result"
    }
   ],
   "source": [
    "sver = ColoringNames.TensorFlow.train.Saver()"
   ]
  },
  {
   "cell_type": "code",
   "execution_count": 38,
   "metadata": {
    "collapsed": false
   },
   "outputs": [
    {
     "data": {
      "text/plain": [
       "21-element Array{Any,1}:\n",
       " TensorFlow.Variable(<Operation 'emb_table'>,<Operation 'emb_table/Assign'>)    \n",
       " TensorFlow.Variable(<Operation 'Wz'>,<Operation 'Wz/Assign'>)                  \n",
       " TensorFlow.Variable(<Operation 'Wr'>,<Operation 'Wr/Assign'>)                  \n",
       " TensorFlow.Variable(<Operation 'Wh'>,<Operation 'Wh/Assign'>)                  \n",
       " TensorFlow.Variable(<Operation 'Bias/Bz'>,<Operation 'Bias/Bz/Assign'>)        \n",
       " TensorFlow.Variable(<Operation 'Bias/Br'>,<Operation 'Bias/Br/Assign'>)        \n",
       " TensorFlow.Variable(<Operation 'Bias/Bh'>,<Operation 'Bias/Bh/Assign'>)        \n",
       " TensorFlow.Variable(<Operation 'RNN/Wz'>,<Operation 'RNN/Wz/Assign'>)          \n",
       " TensorFlow.Variable(<Operation 'RNN/Wr'>,<Operation 'RNN/Wr/Assign'>)          \n",
       " TensorFlow.Variable(<Operation 'RNN/Wh'>,<Operation 'RNN/Wh/Assign'>)          \n",
       " TensorFlow.Variable(<Operation 'RNN/Bias/Bz'>,<Operation 'RNN/Bias/Bz/Assign'>)\n",
       " TensorFlow.Variable(<Operation 'RNN/Bias/Br'>,<Operation 'RNN/Bias/Br/Assign'>)\n",
       " TensorFlow.Variable(<Operation 'RNN/Bias/Bh'>,<Operation 'RNN/Bias/Bh/Assign'>)\n",
       " TensorFlow.Variable(<Operation 'W1'>,<Operation 'W1/Assign'>)                  \n",
       " TensorFlow.Variable(<Operation 'B1'>,<Operation 'B1/Assign'>)                  \n",
       " TensorFlow.Variable(<Operation 'W_hue'>,<Operation 'W_hue/Assign'>)            \n",
       " TensorFlow.Variable(<Operation 'B_hue'>,<Operation 'B_hue/Assign'>)            \n",
       " TensorFlow.Variable(<Operation 'W_sat'>,<Operation 'W_sat/Assign'>)            \n",
       " TensorFlow.Variable(<Operation 'B_sat'>,<Operation 'B_sat/Assign'>)            \n",
       " TensorFlow.Variable(<Operation 'W_val'>,<Operation 'W_val/Assign'>)            \n",
       " TensorFlow.Variable(<Operation 'B_val'>,<Operation 'B_val/Assign'>)            "
      ]
     },
     "execution_count": 38,
     "metadata": {},
     "output_type": "execute_result"
    }
   ],
   "source": [
    "sver.var_list"
   ]
  },
  {
   "cell_type": "code",
   "execution_count": 36,
   "metadata": {
    "collapsed": false
   },
   "outputs": [
    {
     "data": {
      "text/plain": [
       "Dict{Any,Any} with 21 entries:\n",
       "  \"RNN/Bias/Bz\" => <Tensor placeholder_32:1 shape=unknown dtype=Float32>\n",
       "  \"B1\"          => <Tensor placeholder_36:1 shape=unknown dtype=Float32>\n",
       "  \"RNN/Bias/Bh\" => <Tensor placeholder_34:1 shape=unknown dtype=Float32>\n",
       "  \"W_sat\"       => <Tensor placeholder_39:1 shape=unknown dtype=Float32>\n",
       "  \"emb_table\"   => <Tensor placeholder_22:1 shape=unknown dtype=Float32>\n",
       "  \"Bias/Bh\"     => <Tensor placeholder_28:1 shape=unknown dtype=Float32>\n",
       "  \"Wh\"          => <Tensor placeholder_25:1 shape=unknown dtype=Float32>\n",
       "  \"RNN/Wz\"      => <Tensor placeholder_29:1 shape=unknown dtype=Float32>\n",
       "  \"RNN/Wh\"      => <Tensor placeholder_31:1 shape=unknown dtype=Float32>\n",
       "  \"RNN/Bias/Br\" => <Tensor placeholder_33:1 shape=unknown dtype=Float32>\n",
       "  \"W_hue\"       => <Tensor placeholder_37:1 shape=unknown dtype=Float32>\n",
       "  \"Wr\"          => <Tensor placeholder_24:1 shape=unknown dtype=Float32>\n",
       "  \"RNN/Wr\"      => <Tensor placeholder_30:1 shape=unknown dtype=Float32>\n",
       "  \"B_sat\"       => <Tensor placeholder_40:1 shape=unknown dtype=Float32>\n",
       "  \"W1\"          => <Tensor placeholder_35:1 shape=unknown dtype=Float32>\n",
       "  \"B_hue\"       => <Tensor placeholder_38:1 shape=unknown dtype=Float32>\n",
       "  \"B_val\"       => <Tensor placeholder_42:1 shape=unknown dtype=Float32>\n",
       "  \"Bias/Bz\"     => <Tensor placeholder_26:1 shape=unknown dtype=Float32>\n",
       "  \"Wz\"          => <Tensor placeholder_23:1 shape=unknown dtype=Float32>\n",
       "  \"Bias/Br\"     => <Tensor placeholder_27:1 shape=unknown dtype=Float32>\n",
       "  \"W_val\"       => <Tensor placeholder_41:1 shape=unknown dtype=Float32>"
      ]
     },
     "execution_count": 36,
     "metadata": {},
     "output_type": "execute_result"
    }
   ],
   "source": [
    "sver.placeholder_nodes"
   ]
  },
  {
   "cell_type": "code",
   "execution_count": 34,
   "metadata": {
    "collapsed": false
   },
   "outputs": [
    {
     "ename": "LoadError",
     "evalue": "Tensorflow error: Status: You must feed a value for placeholder tensor 'placeholder_2' with dtype float\n\t [[Node: placeholder_2 = Placeholder[_class=[], dtype=DT_FLOAT, shape=[], _device=\"/job:localhost/replica:0/task:0/cpu:0\"]()]]\n",
     "output_type": "error",
     "traceback": [
      "Tensorflow error: Status: You must feed a value for placeholder tensor 'placeholder_2' with dtype float\n\t [[Node: placeholder_2 = Placeholder[_class=[], dtype=DT_FLOAT, shape=[], _device=\"/job:localhost/replica:0/task:0/cpu:0\"]()]]\n",
      "",
      " in check_status at /home/ubuntu/.julia/v0.5/TensorFlow/src/core.jl:402 [inlined]",
      " in run(::TensorFlow.Session, ::Array{TensorFlow.Port,1}, ::Array{Any,1}, ::Array{TensorFlow.Port,1}, ::Array{Ptr{Void},1}) at /home/ubuntu/.julia/v0.5/TensorFlow/src/run.jl:100",
      " in run(::TensorFlow.Session, ::Array{Any,1}, ::Dict{Any,Any}) at /home/ubuntu/.julia/v0.5/TensorFlow/src/run.jl:169",
      " in restore(::TensorFlow.train.Saver, ::TensorFlow.Session, ::String) at /home/ubuntu/.julia/v0.5/TensorFlow/src/train.jl:259"
     ]
    }
   ],
   "source": [
    "md1 = ColoringNames.TensorFlow.train.restore(ColoringNames.TensorFlow.train.Saver(), sess, \"../models/extrapolate_validation/sib0.5/model.jld\")"
   ]
  },
  {
   "cell_type": "code",
   "execution_count": 18,
   "metadata": {
    "collapsed": false,
    "scrolled": true
   },
   "outputs": [
    {
     "name": "stdout",
     "output_type": "stream",
     "text": [
      "terms_emb = <Tensor terms_emb:1 shape=(4, ?, 16) dtype=Float32>\n",
      "input_dim = 4\n",
      "cell.hidden_size = 128\n",
      "N = 132\n",
      "get_input_dim(input,input_dim) + cell.hidden_size = 132\n",
      "input_dim = 4\n",
      "cell.hidden_size = 128\n",
      "N = 132\n",
      "get_input_dim(input,input_dim) + cell.hidden_size = 132\n"
     ]
    },
    {
     "name": "stderr",
     "output_type": "stream",
     "text": [
      "2017-05-25 08:01:51.799374: W tensorflow/core/framework/op_kernel.cc:1152] Invalid argument: You must feed a value for placeholder tensor 'placeholder_2' with dtype float\n",
      "\t [[Node: placeholder_2 = Placeholder[_class=[], dtype=DT_FLOAT, shape=[], _device=\"/job:localhost/replica:0/task:0/cpu:0\"]()]]\n",
      "2017-05-25 08:01:51.799686: W tensorflow/core/framework/op_kernel.cc:1152] Invalid argument: You must feed a value for placeholder tensor 'placeholder_2' with dtype float\n",
      "\t [[Node: placeholder_2 = Placeholder[_class=[], dtype=DT_FLOAT, shape=[], _device=\"/job:localhost/replica:0/task:0/cpu:0\"]()]]\n",
      "2017-05-25 08:01:51.799464: W tensorflow/core/framework/op_kernel.cc:1152] Invalid argument: You must feed a value for placeholder tensor 'placeholder_2' with dtype float\n",
      "\t [[Node: placeholder_2 = Placeholder[_class=[], dtype=DT_FLOAT, shape=[], _device=\"/job:localhost/replica:0/task:0/cpu:0\"]()]]\n",
      "2017-05-25 08:01:51.799868: W tensorflow/core/framework/op_kernel.cc:1152] Invalid argument: You must feed a value for placeholder tensor 'placeholder_2' with dtype float\n",
      "\t [[Node: placeholder_2 = Placeholder[_class=[], dtype=DT_FLOAT, shape=[], _device=\"/job:localhost/replica:0/task:0/cpu:0\"]()]]\n",
      "2017-05-25 08:01:51.799897: W tensorflow/core/framework/op_kernel.cc:1152] Invalid argument: You must feed a value for placeholder tensor 'placeholder_2' with dtype float\n",
      "\t [[Node: placeholder_2 = Placeholder[_class=[], dtype=DT_FLOAT, shape=[], _device=\"/job:localhost/replica:0/task:0/cpu:0\"]()]]\n",
      "2017-05-25 08:01:51.799379: W tensorflow/core/framework/op_kernel.cc:1152] Invalid argument: You must feed a value for placeholder tensor 'placeholder_2' with dtype float\n",
      "\t [[Node: placeholder_2 = Placeholder[_class=[], dtype=DT_FLOAT, shape=[], _device=\"/job:localhost/replica:0/task:0/cpu:0\"]()]]\n",
      "2017-05-25 08:01:51.799409: W tensorflow/core/framework/op_kernel.cc:1152] Invalid argument: You must feed a value for placeholder tensor 'placeholder_2' with dtype float\n",
      "\t [[Node: placeholder_2 = Placeholder[_class=[], dtype=DT_FLOAT, shape=[], _device=\"/job:localhost/replica:0/task:0/cpu:0\"]()]]\n",
      "2017-05-25 08:01:51.799409: W tensorflow/core/framework/op_kernel.cc:1152] Invalid argument: You must feed a value for placeholder tensor 'placeholder_2' with dtype float\n",
      "\t [[Node: placeholder_2 = Placeholder[_class=[], dtype=DT_FLOAT, shape=[], _device=\"/job:localhost/replica:0/task:0/cpu:0\"]()]]\n",
      "2017-05-25 08:01:51.799471: W tensorflow/core/framework/op_kernel.cc:1152] Invalid argument: You must feed a value for placeholder tensor 'placeholder_2' with dtype float\n",
      "\t [[Node: placeholder_2 = Placeholder[_class=[], dtype=DT_FLOAT, shape=[], _device=\"/job:localhost/replica:0/task:0/cpu:0\"]()]]\n",
      "2017-05-25 08:01:51.799488: W tensorflow/core/framework/op_kernel.cc:1152] Invalid argument: You must feed a value for placeholder tensor 'placeholder_2' with dtype float\n",
      "\t [[Node: placeholder_2 = Placeholder[_class=[], dtype=DT_FLOAT, shape=[], _device=\"/job:localhost/replica:0/task:0/cpu:0\"]()]]\n",
      "2017-05-25 08:01:51.799376: W tensorflow/core/framework/op_kernel.cc:1152] Invalid argument: You must feed a value for placeholder tensor 'placeholder_2' with dtype float\n",
      "\t [[Node: placeholder_2 = Placeholder[_class=[], dtype=DT_FLOAT, shape=[], _device=\"/job:localhost/replica:0/task:0/cpu:0\"]()]]\n",
      "2017-05-25 08:01:51.799379: W tensorflow/core/framework/op_kernel.cc:1152] Invalid argument: You must feed a value for placeholder tensor 'placeholder_2' with dtype float\n",
      "\t [[Node: placeholder_2 = Placeholder[_class=[], dtype=DT_FLOAT, shape=[], _device=\"/job:localhost/replica:0/task:0/cpu:0\"]()]]\n"
     ]
    },
    {
     "ename": "LoadError",
     "evalue": "Tensorflow error: Status: You must feed a value for placeholder tensor 'placeholder_2' with dtype float\n\t [[Node: placeholder_2 = Placeholder[_class=[], dtype=DT_FLOAT, shape=[], _device=\"/job:localhost/replica:0/task:0/cpu:0\"]()]]\n",
     "output_type": "error",
     "traceback": [
      "Tensorflow error: Status: You must feed a value for placeholder tensor 'placeholder_2' with dtype float\n\t [[Node: placeholder_2 = Placeholder[_class=[], dtype=DT_FLOAT, shape=[], _device=\"/job:localhost/replica:0/task:0/cpu:0\"]()]]\n",
      "",
      " in check_status at /home/ubuntu/.julia/v0.5/TensorFlow/src/core.jl:402 [inlined]",
      " in run(::TensorFlow.Session, ::Array{TensorFlow.Port,1}, ::Array{Any,1}, ::Array{TensorFlow.Port,1}, ::Array{Ptr{Void},1}) at /home/ubuntu/.julia/v0.5/TensorFlow/src/run.jl:100",
      " in run(::TensorFlow.Session, ::Array{Any,1}, ::Dict{Any,Any}) at /home/ubuntu/.julia/v0.5/TensorFlow/src/run.jl:169",
      " in restore(::TensorFlow.train.Saver, ::TensorFlow.Session, ::String) at /home/ubuntu/.julia/v0.5/TensorFlow/src/train.jl:259",
      " in restore(::Type{ColoringNames.TermToColorDistributionNetwork}, ::String, ::String) at /home/ubuntu/.julia/v0.5/ColoringNames/src/networks/term2col_dist.jl:42",
      " in restore(::Type{ColoringNames.TermToColorDistributionNetwork}, ::String) at /home/ubuntu/.julia/v0.5/ColoringNames/src/networks/term2col_dist.jl:39"
     ]
    }
   ],
   "source": [
    "extrapo_mdl = ColoringNames.restore(ColoringNames.TermToColorDistributionNetwork, extrapo_path)"
   ]
  },
  {
   "cell_type": "code",
   "execution_count": null,
   "metadata": {
    "collapsed": true
   },
   "outputs": [],
   "source": []
  },
  {
   "cell_type": "code",
   "execution_count": 6,
   "metadata": {
    "collapsed": false
   },
   "outputs": [
    {
     "data": {
      "text/plain": [
       "Dict{String,Any} with 10 entries:\n",
       "  \"W_sat\"     => Float32[-0.576073 -0.585144 … 0.0260149 0.0225819; 0.116772 0.…\n",
       "  \"emb_table\" => Float32[-0.00213875 0.0131856 … 0.0155955 0.0020278; 0.42256 -…\n",
       "  \"RNN\"       => Dict{String,Any}(Pair{String,Any}(\"Wh\",Float32[0.465513 -0.354…\n",
       "  \"W_hue\"     => Float32[0.136989 0.0388238 … 0.183891 0.178081; 0.00887643 0.0…\n",
       "  \"B1\"        => Float32[0.574266,0.0785041,0.416637,0.0314365,0.145041,0.03482…\n",
       "  \"B_sat\"     => Float32[-0.590732,-0.261997,-0.112477,-0.0222956,0.0112037,-0.…\n",
       "  \"W1\"        => Float32[-0.343296 0.0143258 … -0.175847 -1.69375; -0.00595001 …\n",
       "  \"W_val\"     => Float32[-1.10297 -0.828329 … 0.049163 0.037387; -3.02308 -3.31…\n",
       "  \"B_hue\"     => Float32[-0.308745,-0.316976,-0.13188,0.0935055,0.233075,0.2730…\n",
       "  \"B_val\"     => Float32[-1.2103,-0.784893,-0.379492,-0.079819,0.0651846,0.0974…"
      ]
     },
     "execution_count": 6,
     "metadata": {},
     "output_type": "execute_result"
    }
   ],
   "source": [
    "mdl_raw = load(\"../models/extrapolate_validation/sib0.5/model.jld\")"
   ]
  },
  {
   "cell_type": "code",
   "execution_count": null,
   "metadata": {
    "collapsed": true
   },
   "outputs": [],
   "source": [
    "<: AbstractFoo"
   ]
  },
  {
   "cell_type": "code",
   "execution_count": 11,
   "metadata": {
    "collapsed": false
   },
   "outputs": [
    {
     "data": {
      "text/plain": [
       "144×128 Array{Float32,2}:\n",
       "  0.841704   -0.270575   -0.0872615  -0.0844618   …   0.15095     -0.0582288\n",
       " -0.347925   -0.346464    0.0880986  -0.22998        -0.111347    -0.365123 \n",
       "  0.337624    0.245703    0.041677    0.175121        0.116831     0.529718 \n",
       " -0.0131494   0.370292    0.233711    0.326903       -0.0160828    0.517233 \n",
       "  0.28778     0.0702904   0.308746    0.115649       -0.00199119   0.234998 \n",
       " -0.225157    0.0625064   0.0502168   0.00920611  …   0.276876    -0.0133428\n",
       " -0.553211   -0.963858   -0.356455   -0.270827        0.188509    -0.0994627\n",
       "  0.381881    0.340251    0.294247    0.266999        0.158343     0.363352 \n",
       "  0.945023    0.453298   -0.132411   -0.0373708       0.743592    -0.049039 \n",
       " -0.246585    0.0132865   0.203105    0.0829881       0.0951757    0.249914 \n",
       "  0.339465    0.291218   -0.0919097  -0.00211444  …  -0.179637    -0.296782 \n",
       "  0.148549    0.0119807   0.155249    0.129353        0.381656     0.350102 \n",
       "  0.950364   -0.131904    0.228161    0.171129        0.87638      0.258668 \n",
       "  ⋮                                               ⋱                         \n",
       "  0.423854    0.230218   -0.233243   -0.147499        0.707183    -0.0955864\n",
       "  1.05321     0.251734    0.336795    0.0526818       1.0634       0.0450677\n",
       "  0.406496   -0.492025    0.689566    0.698241        0.581946     0.507672 \n",
       "  0.291541   -0.772243    0.963234    0.651204    …   0.426036     0.650245 \n",
       "  0.229126   -0.131135    0.318841    1.13036         0.344279     0.86188  \n",
       " -0.339859   -0.226402    0.363867    0.717021       -0.21799      0.325812 \n",
       " -0.421163   -0.227153    1.22683     0.769617        0.287019     1.02499  \n",
       "  0.644112    0.0411819   0.526934    0.520051        1.01637      0.0741967\n",
       " -0.0240699  -0.752534    0.754413    0.0559527   …   0.269799     0.748882 \n",
       "  0.530203   -0.39175     0.286771    0.332525        0.0313386    0.46887  \n",
       " -0.0870268   0.261655    1.30685     0.999601        0.689509     0.669556 \n",
       " -0.315463   -0.440529    0.324528    0.596376       -0.0805414    0.897032 "
      ]
     },
     "execution_count": 11,
     "metadata": {},
     "output_type": "execute_result"
    }
   ],
   "source": [
    "mdl_raw[\"RNN\"][\"Wr\"]"
   ]
  },
  {
   "cell_type": "code",
   "execution_count": 9,
   "metadata": {
    "collapsed": false
   },
   "outputs": [
    {
     "data": {
      "text/plain": [
       "16"
      ]
     },
     "execution_count": 9,
     "metadata": {},
     "output_type": "execute_result"
    }
   ],
   "source": [
    "144-128"
   ]
  },
  {
   "cell_type": "code",
   "execution_count": null,
   "metadata": {
    "collapsed": false,
    "scrolled": true
   },
   "outputs": [],
   "source": [
    "full_param_path = \"/mnt_obj/color/models/spread_validation_or_64/sib0.5/params.jld\"\n",
    "full_model_path = \"/mnt_obj/color/models/spread_validation_or_64/sib0.5/model.jld\"\n",
    "\n",
    "full_params = load(full_param_path)\n",
    "full_mdl = restore(TermToColorDistributionNetwork, full_param_path, full_model_path)"
   ]
  },
  {
   "cell_type": "code",
   "execution_count": null,
   "metadata": {
    "collapsed": false
   },
   "outputs": [],
   "source": [
    "@assert full_mdl.encoding.label == extrapo_mdl.encoding.label\n",
    "@assert full_mdl.embedding_dim==extrapo_mdl.embedding_dim\n",
    "@assert full_mdl.hidden_layer_size==extrapo_mdl.hidden_layer_size\n"
   ]
  },
  {
   "cell_type": "code",
   "execution_count": null,
   "metadata": {
    "collapsed": false
   },
   "outputs": [],
   "source": [
    "full_params[\"validation_set_results\"]"
   ]
  },
  {
   "cell_type": "code",
   "execution_count": 12,
   "metadata": {
    "collapsed": false
   },
   "outputs": [
    {
     "data": {
      "text/plain": [
       "Dict{Symbol,Float64} with 6 entries:\n",
       "  :perp_uniform_baseline => 1432.0\n",
       "  :perp                  => 27.4435\n",
       "  :mse_to_peak           => 88.6652\n",
       "  :perp_sat              => 42.2598\n",
       "  :perp_hue              => 15.5455\n",
       "  :perp_val              => 31.462"
      ]
     },
     "execution_count": 12,
     "metadata": {},
     "output_type": "execute_result"
    }
   ],
   "source": [
    "extrapo_params[\"dev_set_results\" ]"
   ]
  },
  {
   "cell_type": "code",
   "execution_count": null,
   "metadata": {
    "collapsed": false
   },
   "outputs": [],
   "source": [
    "full_cldata = load_monroe_data()\n",
    "extrapo_cldata = extrapolation_dataset(full_cldata, extrapo_params[\"eval_texts\"])"
   ]
  },
  {
   "cell_type": "code",
   "execution_count": null,
   "metadata": {
    "collapsed": false
   },
   "outputs": [],
   "source": [
    "12381/1432"
   ]
  },
  {
   "cell_type": "code",
   "execution_count": null,
   "metadata": {
    "collapsed": false
   },
   "outputs": [],
   "source": []
  },
  {
   "cell_type": "code",
   "execution_count": null,
   "metadata": {
    "collapsed": true
   },
   "outputs": [],
   "source": [
    "## full_mdl.batch_size\n"
   ]
  },
  {
   "cell_type": "code",
   "execution_count": null,
   "metadata": {
    "collapsed": false
   },
   "outputs": [],
   "source": [
    "length(extrapo_cldata.test.texts)"
   ]
  },
  {
   "cell_type": "code",
   "execution_count": null,
   "metadata": {
    "collapsed": false
   },
   "outputs": [],
   "source": [
    "evaluate(full_mdl, \n",
    "    repeat(extrapo_cldata.test.terms_padded, inner=(1,9)),\n",
    "    repeat(extrapo_cldata.test.colors, inner=(9,1)))"
   ]
  },
  {
   "cell_type": "code",
   "execution_count": null,
   "metadata": {
    "collapsed": false
   },
   "outputs": [],
   "source": [
    "extrapo_cldata.test.colors"
   ]
  },
  {
   "cell_type": "code",
   "execution_count": null,
   "metadata": {
    "collapsed": true
   },
   "outputs": [],
   "source": []
  }
 ],
 "metadata": {
  "kernelspec": {
   "display_name": "Julia 0.5.1",
   "language": "julia",
   "name": "julia-0.5"
  },
  "language_info": {
   "file_extension": ".jl",
   "mimetype": "application/julia",
   "name": "julia",
   "version": "0.5.1"
  }
 },
 "nbformat": 4,
 "nbformat_minor": 2
}
