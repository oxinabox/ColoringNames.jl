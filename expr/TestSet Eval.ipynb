{
 "cells": [
  {
   "cell_type": "code",
   "execution_count": 1,
   "metadata": {
    "collapsed": true
   },
   "outputs": [],
   "source": [
    "using ColoringNames\n",
    "using JLD\n",
    "using SwiftObjectStores"
   ]
  },
  {
   "cell_type": "code",
   "execution_count": 2,
   "metadata": {
    "collapsed": false
   },
   "outputs": [
    {
     "data": {
      "text/plain": [
       "ColoringNames.ColorDatasets{MLLabelUtils.LabelEnc.NativeLabels{SubString{String},311},ColoringNames.ColorDataset{Array{Any,1},Array{Int64,2},Array{Float32,2}}}(MLLabelUtils.LabelEnc.NativeLabels{SubString{String},311}(SubString{String}[\"acid\",\"green\",\"adobe\",\"algae\",\"almost\",\"black\",\"amber\",\"amethyst\",\"apple\",\"apricot\"  …  \"vivid\",\"vomit\",\"warm\",\"watermelon\",\"weird\",\"wheat\",\"wine\",\"wintergreen\",\"wisteria\",\"yuck\"],Dict(\"russet\"=>255,\"celery\"=>86,\"lipstick\"=>199,\"dull\"=>139,\"chocolate\"=>93,\"sepia\"=>263,\"fern\"=>152,\"sickly\"=>267,\"y\"=>44,\"heliotrope\"=>173…)),ColoringNames.ColorDataset{Array{Any,1},Array{Int64,2},Array{Float32,2}}(Any[\"acid green\",\"acid green\",\"acid green\",\"acid green\",\"acid green\",\"acid green\",\"acid green\",\"acid green\",\"acid green\",\"acid green\"  …  \"yuck\",\"yuck\",\"yuck\",\"yuck\",\"yuck\",\"yuck\",\"yuck\",\"yuck\",\"yuck\",\"yuck\"],[1 1 … 311 311; 2 2 … 0 0; 0 0 … 0 0; 0 0 … 0 0],Float32[0.328092 0.665272 0.937255; 0.241007 0.712821 0.764706; … ; 0.0540541 0.308333 0.941176; 0.125874 0.590909 0.94902]),ColoringNames.ColorDataset{Array{Any,1},Array{Int64,2},Array{Float32,2}}(Any[\"acid green\",\"acid green\",\"acid green\",\"acid green\",\"acid green\",\"acid green\",\"acid green\",\"acid green\",\"acid green\",\"acid green\"  …  \"yuck\",\"yuck\",\"yuck\",\"yuck\",\"yuck\",\"yuck\",\"yuck\",\"yuck\",\"yuck\",\"yuck\"],[1 1 … 311 311; 2 2 … 0 0; 0 0 … 0 0; 0 0 … 0 0],Float32[0.328092 0.665272 0.937255; 0.241007 0.712821 0.764706; … ; 0.0540541 0.308333 0.941176; 0.125874 0.590909 0.94902]),ColoringNames.ColorDataset{Array{Any,1},Array{Int64,2},Array{Float32,2}}(Any[\"acid green\",\"acid green\",\"acid green\",\"acid green\",\"acid green\",\"acid green\",\"acid green\",\"acid green\",\"acid green\",\"acid green\"  …  \"yuck\",\"yuck\",\"yuck\",\"yuck\",\"yuck\",\"yuck\",\"yuck\",\"yuck\",\"yuck\",\"yuck\"],[1 1 … 311 311; 2 2 … 0 0; 0 0 … 0 0; 0 0 … 0 0],Float32[0.302658 0.783654 0.815686; 0.227407 0.95339 0.92549; … ; 0.173333 0.628931 0.623529; 0.115257 0.943662 0.835294]))"
      ]
     },
     "execution_count": 2,
     "metadata": {},
     "output_type": "execute_result"
    }
   ],
   "source": [
    "const cldata = load_monroe_data(dev_as_train=true, dev_as_test=false)\n",
    "#Don't bother to load the actual training data, this is just the final test"
   ]
  },
  {
   "cell_type": "code",
   "execution_count": 12,
   "metadata": {
    "collapsed": false
   },
   "outputs": [
    {
     "data": {
      "text/plain": [
       "\"/mnt_volume/julia_dir/v0.5/ColoringNames/expr/TestSet Eval.ipynb\""
      ]
     },
     "execution_count": 12,
     "metadata": {},
     "output_type": "execute_result"
    }
   ],
   "source": []
  },
  {
   "cell_type": "code",
   "execution_count": 39,
   "metadata": {
    "collapsed": false
   },
   "outputs": [
    {
     "name": "stderr",
     "output_type": "stream",
     "text": [
      "WARNING: Method definition update_storage!(Any) in module Main at In[33]:3 overwritten at In[39]:3.\n",
      "\u001b[1m\u001b[31mWARNING: replacing docs for 'update_storage! :: Tuple{Any}' in module 'Main'.\u001b[0m\n"
     ]
    },
    {
     "data": {
      "text/plain": [
       "update_storage!"
      ]
     },
     "execution_count": 39,
     "metadata": {},
     "output_type": "execute_result"
    }
   ],
   "source": [
    "\"Does some basic book keeping, and \"\n",
    "function update_storage!(params)\n",
    "    params[\"final_testfile\"] = joinpath(pwd(), \"TestSet Eval.ipynb\")\n",
    "    params[\"final_git_hash\"] =  strip(readstring(`git rev-parse --verify HEAD`))\n",
    "    if haskey(params, \"training_costs_o\")\n",
    "        delete!(params, \"training_costs_o\") #This uses up so much unnesc memory.\n",
    "    end\n",
    "    \n",
    "    #Consistancy in naming\n",
    "    if haskey(params, \"mdl\")\n",
    "        #consistancy in naming\n",
    "        params[\"model\"] = params[\"mdl\"]\n",
    "        delete!(params, \"mdl\")\n",
    "    end\n",
    "    \n",
    "    if haskey(params, \"validation_set_results\")\n",
    "        #consistancy in naming\n",
    "        params[\"dev_set_results\"] = params[\"validation_set_results\"]\n",
    "        delete!(params, \"validation_set_results\")\n",
    "    end\n",
    "    params\n",
    "end"
   ]
  },
  {
   "cell_type": "markdown",
   "metadata": {},
   "source": [
    "# Full Task"
   ]
  },
  {
   "cell_type": "code",
   "execution_count": 25,
   "metadata": {
    "collapsed": false
   },
   "outputs": [
    {
     "data": {
      "text/plain": [
       "2"
      ]
     },
     "execution_count": 25,
     "metadata": {},
     "output_type": "execute_result"
    }
   ],
   "source": [
    "1+1"
   ]
  },
  {
   "cell_type": "code",
   "execution_count": 49,
   "metadata": {
    "collapsed": false
   },
   "outputs": [],
   "source": [
    "for filename in [\n",
    "        \"../models/good/1706031148_sib0.5/params.jld\",\n",
    "        \"../models/highdim/sib0.5/params.jld\"\n",
    "    ]\n",
    "    params = load(filename)\n",
    "    mdl = restore(TermToColorDistributionNetwork, filename)\n",
    "    update_storage!(params)\n",
    "    \n",
    "    params[\"test_set_results\"] = evaluate(mdl, cldata.test.terms_padded, cldata.test.colors)\n",
    "    save(joinpath(dirname(filename),\"final_\"*basename(filename)), params)\n",
    "end\n"
   ]
  },
  {
   "cell_type": "code",
   "execution_count": 50,
   "metadata": {
    "collapsed": false
   },
   "outputs": [],
   "source": [
    "for (filename) in [ \n",
    "    \"../models/noml/sib0.5_or64/emprical_model.jld\",\n",
    "    \"../models/noml/sib0.5_or64/smoothed_emprical_model.jld\",\n",
    "    \"../models/noml/sib0.5_or256/emprical_model.jld\",\n",
    "    \"../models/noml/sib0.5_or256/smoothed_emprical_model.jld\"\n",
    "    ]\n",
    "    params = load(filename)\n",
    "    update_storage!(params)\n",
    "    mdl = params[\"model\"]\n",
    "        \n",
    "    params[\"test_set_results\"] = evaluate(mdl, cldata.test.texts, cldata.test.colors)\n",
    "    save(joinpath(dirname(filename),\"final_\"*basename(filename)), params)\n",
    "end\n",
    " \n"
   ]
  },
  {
   "cell_type": "markdown",
   "metadata": {},
   "source": [
    "# Extrapolation"
   ]
  },
  {
   "cell_type": "code",
   "execution_count": 45,
   "metadata": {
    "collapsed": false
   },
   "outputs": [
    {
     "ename": "LoadError",
     "evalue": "UndefVarError: extrapo_params not defined",
     "output_type": "error",
     "traceback": [
      "UndefVarError: extrapo_params not defined",
      ""
     ]
    }
   ],
   "source": [
    "extrapo_texts = load(\"../models/good/extrapolate_sib0.5/params.jld\", \"eval_texts\") \n",
    "\n",
    "extrapo_cldata = extrapolation_dataset(cldata, extrapo_texts)"
   ]
  },
  {
   "cell_type": "code",
   "execution_count": 54,
   "metadata": {
    "collapsed": false
   },
   "outputs": [],
   "source": [
    "for filename in [\n",
    "        #\"../models/good/extrapolate_sib0.5/params.jld\",\n",
    "        #\"../models/good/1706031148_sib0.5/params.jld\",\n",
    "        \"../models/highdim/extrapolate_sib0.5/params.jld\"\n",
    "        #\"../models/highdim/sib0.5/params.jld\"\n",
    "    ]\n",
    "    params = load(filename)\n",
    "    mdl = restore(TermToColorDistributionNetwork, filename)\n",
    "    update_storage!(params)\n",
    "    delete!(params, \"dev_set_results\") #Dev set results may or may not have been on extrapolation data set, delete them\n",
    "    params[\"test_set_results\"] = evaluate(mdl, extrapo_cldata.test.terms_padded, extrapo_cldata.test.colors)\n",
    "    save(joinpath(dirname(filename),\"final_extrapolation_\"*basename(filename)), params)\n",
    "end"
   ]
  },
  {
   "cell_type": "code",
   "execution_count": 53,
   "metadata": {
    "collapsed": true
   },
   "outputs": [],
   "source": [
    "for filename in [\n",
    "        \"../models/noml/sib0.5_or64/final_smoothed_emprical_model.jld\",\n",
    "        \"../models/noml/sib0.5_or256/final_smoothed_emprical_model.jld\",\n",
    "    ]\n",
    "    params = load(filename)\n",
    "    update_storage!(params)\n",
    "    mdl = params[\"model\"]\n",
    "    delete!(params, \"dev_set_results\") #Dev set results may or may not have been on extrapolation data set, delete them\n",
    "    params[\"test_set_results\"] = evaluate(mdl, extrapo_cldata.test.texts, extrapo_cldata.test.colors)\n",
    "    save(joinpath(dirname(filename),\"final_extrapolation_\"*basename(filename)), params)\n",
    "end"
   ]
  },
  {
   "cell_type": "code",
   "execution_count": null,
   "metadata": {
    "collapsed": true
   },
   "outputs": [],
   "source": []
  }
 ],
 "metadata": {
  "kernelspec": {
   "display_name": "Julia 0.5.1",
   "language": "julia",
   "name": "julia-0.5"
  },
  "language_info": {
   "file_extension": ".jl",
   "mimetype": "application/julia",
   "name": "julia",
   "version": "0.5.1"
  }
 },
 "nbformat": 4,
 "nbformat_minor": 2
}
